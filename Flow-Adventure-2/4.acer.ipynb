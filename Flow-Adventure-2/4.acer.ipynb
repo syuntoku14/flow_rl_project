{
 "cells": [
  {
   "cell_type": "code",
   "execution_count": 1,
   "metadata": {},
   "outputs": [],
   "source": [
    "import math\n",
    "import random\n",
    "\n",
    "import gym\n",
    "import numpy as np\n",
    "\n",
    "import torch\n",
    "import torch.nn as nn\n",
    "import torch.optim as optim\n",
    "import torch.nn.functional as F\n",
    "from torch.distributions import Categorical"
   ]
  },
  {
   "cell_type": "code",
   "execution_count": 2,
   "metadata": {},
   "outputs": [],
   "source": [
    "from IPython.display import clear_output\n",
    "import matplotlib.pyplot as plt\n",
    "%matplotlib inline"
   ]
  },
  {
   "cell_type": "markdown",
   "metadata": {},
   "source": [
    "<h2>Use CUDA</h2>"
   ]
  },
  {
   "cell_type": "code",
   "execution_count": 3,
   "metadata": {},
   "outputs": [],
   "source": [
    "use_cuda = torch.cuda.is_available()\n",
    "device   = torch.device(\"cuda\" if use_cuda else \"cpu\")"
   ]
  },
  {
   "cell_type": "markdown",
   "metadata": {},
   "source": [
    "<h2>Episodic Replay Buffer</h2>"
   ]
  },
  {
   "cell_type": "code",
   "execution_count": 43,
   "metadata": {},
   "outputs": [],
   "source": [
    "from collections import deque\n",
    "\n",
    "class EpisodicReplayMemory(object):\n",
    "    def __init__(self, capacity, max_episode_length):\n",
    "        self.num_episodes = capacity // max_episode_length\n",
    "        self.buffer = deque(maxlen=self.num_episodes)\n",
    "        self.buffer.append([])\n",
    "        self.position = 0\n",
    "        \n",
    "    def push(self, state, action, reward, policy, mask, done):\n",
    "        self.buffer[self.position].append((state, action, reward, policy, mask))\n",
    "        if done:\n",
    "            self.buffer.append([])\n",
    "            self.position = min(self.position + 1, self.num_episodes - 1)\n",
    "            \n",
    "    def sample(self, batch_size, max_len=None):\n",
    "        min_len = 0\n",
    "        while min_len == 0:\n",
    "            rand_episodes = random.sample(self.buffer, batch_size)\n",
    "            min_len = min(len(episode) for episode in rand_episodes)\n",
    "            \n",
    "        if max_len:\n",
    "            max_len = min(max_len, min_len)\n",
    "        else:\n",
    "            max_len = min_len\n",
    "            \n",
    "        episodes = []\n",
    "        for episode in rand_episodes:\n",
    "            if len(episode) > max_len:\n",
    "                rand_idx = random.randint(0, len(episode) - max_len)\n",
    "            else:\n",
    "                rand_idx = 0\n",
    "\n",
    "            episodes.append(episode[rand_idx:rand_idx+max_len])\n",
    "            \n",
    "        return list(map(list, zip(*episodes)))\n",
    "    \n",
    "    def __len__(self):\n",
    "        return len(self.buffer)"
   ]
  },
  {
   "cell_type": "markdown",
   "metadata": {},
   "source": [
    "<h2>Neural Network</h2>"
   ]
  },
  {
   "cell_type": "code",
   "execution_count": 5,
   "metadata": {},
   "outputs": [],
   "source": [
    "class ActorCritic(nn.Module):\n",
    "    def __init__(self, num_inputs, num_actions, hidden_size=256):\n",
    "        super(ActorCritic, self).__init__()\n",
    "        \n",
    "        self.actor = nn.Sequential(\n",
    "            nn.Linear(num_inputs, hidden_size),\n",
    "            nn.Tanh(),\n",
    "            nn.Linear(hidden_size, num_actions),\n",
    "            nn.Softmax(dim=1)\n",
    "        )\n",
    "        \n",
    "        self.critic = nn.Sequential(\n",
    "            nn.Linear(num_inputs, hidden_size),\n",
    "            nn.Tanh(),\n",
    "            nn.Linear(hidden_size, num_actions)\n",
    "        )\n",
    "        \n",
    "        \n",
    "    def forward(self, x):\n",
    "        policy  = self.actor(x).clamp(max=1-1e-20)\n",
    "        q_value = self.critic(x)\n",
    "        value   = (policy * q_value).sum(-1, keepdim=True)\n",
    "        return policy, q_value, value"
   ]
  },
  {
   "cell_type": "code",
   "execution_count": 6,
   "metadata": {},
   "outputs": [],
   "source": [
    "def test_env(render=False):\n",
    "    state = env.reset()\n",
    "    done = False\n",
    "    total_reward = 0\n",
    "    if render: \n",
    "        env.render()\n",
    "    while not done:\n",
    "        state = torch.FloatTensor(state).unsqueeze(0).to(device)\n",
    "        policy, _, _ = model(state)\n",
    "        action = policy.multinomial(1)\n",
    "        next_state, reward, done, _ = env.step(action.item())\n",
    "        state = next_state\n",
    "        total_reward += reward\n",
    "        if render: \n",
    "            env.render()\n",
    "    return total_reward\n",
    "\n",
    "def plot(frame_idx, rewards):\n",
    "    clear_output(True)\n",
    "    plt.figure(figsize=(20,5))\n",
    "    plt.subplot(131)\n",
    "    plt.title('frame %s. reward: %s' % (frame_idx, rewards[-1]))\n",
    "    plt.plot(rewards)\n",
    "    plt.subplot(132)\n",
    "    plt.show()"
   ]
  },
  {
   "cell_type": "markdown",
   "metadata": {},
   "source": [
    "<h1>Sample Efficient Actor-Critic with Experience Replay</h1>\n",
    "<h2><a href=\"https://arxiv.org/abs/1611.01224\">Arxiv</a></h2>"
   ]
  },
  {
   "cell_type": "code",
   "execution_count": 7,
   "metadata": {},
   "outputs": [],
   "source": [
    "def compute_acer_loss(policies, q_values, values, actions, rewards, retrace, masks, behavior_policies, gamma=0.99, truncation_clip=10, entropy_weight=0.0001):\n",
    "    loss = 0\n",
    "    \n",
    "    for step in reversed(range(len(rewards))):\n",
    "        importance_weight = policies[step].detach() / behavior_policies[step].detach()\n",
    "\n",
    "        retrace = rewards[step] + gamma * retrace * masks[step]\n",
    "        advantage = retrace - values[step]\n",
    "\n",
    "        log_policy_action = policies[step].gather(1, actions[step]).log()\n",
    "        truncated_importance_weight = importance_weight.gather(1, actions[step]).clamp(max=truncation_clip)\n",
    "        actor_loss = -(truncated_importance_weight * log_policy_action * advantage.detach()).mean(0)\n",
    "\n",
    "        correction_weight = (1 - truncation_clip / importance_weight).clamp(min=0)\n",
    "        actor_loss -= (correction_weight * policies[step].log() * (q_values[step] - values[step]).detach()).sum(1).mean(0)\n",
    "        \n",
    "        entropy = entropy_weight * -(policies[step].log() * policies[step]).sum(1).mean(0)\n",
    "\n",
    "        q_value = q_values[step].gather(1, actions[step])\n",
    "        critic_loss = ((retrace - q_value) ** 2 / 2).mean(0)\n",
    "\n",
    "        truncated_rho = importance_weight.gather(1, actions[step]).clamp(max=1)\n",
    "        retrace = truncated_rho * (retrace - q_value.detach()) + values[step].detach()\n",
    "        \n",
    "        loss += actor_loss + critic_loss - entropy\n",
    "        \n",
    "    optimizer.zero_grad()\n",
    "    loss.backward()\n",
    "    optimizer.step()"
   ]
  },
  {
   "cell_type": "code",
   "execution_count": 28,
   "metadata": {},
   "outputs": [],
   "source": [
    "def off_policy_update(batch_size, replay_ratio=4):\n",
    "    if batch_size > len(replay_buffer) + 1:\n",
    "        return\n",
    "    \n",
    "    for _ in range(np.random.poisson(replay_ratio)):\n",
    "        trajs = replay_buffer.sample(batch_size)\n",
    "        state, action, reward, old_policy, mask = map(torch.stack, zip(*(map(torch.cat, zip(*traj)) for traj in trajs)))\n",
    "\n",
    "        q_values = []\n",
    "        values   = []\n",
    "        policies = []\n",
    "\n",
    "        for step in range(state.size(0)):\n",
    "            policy, q_value, value = model(state[step])\n",
    "            q_values.append(q_value)\n",
    "            policies.append(policy)\n",
    "            values.append(value)\n",
    "\n",
    "        _, _, retrace = model(state[-1])\n",
    "        retrace = retrace.detach()\n",
    "        compute_acer_loss(policies, q_values, values, action, reward, retrace, mask, old_policy)"
   ]
  },
  {
   "cell_type": "code",
   "execution_count": 57,
   "metadata": {},
   "outputs": [
    {
     "name": "stdout",
     "output_type": "stream",
     "text": [
      "\u001b[33mWARN: gym.spaces.Box autodetected dtype as <class 'numpy.float32'>. Please provide explicit dtype.\u001b[0m\n"
     ]
    }
   ],
   "source": [
    "env = gym.make(\"CartPole-v0\")\n",
    "model = ActorCritic(env.observation_space.shape[0], env.action_space.n).to(device)\n",
    "\n",
    "optimizer = optim.Adam(model.parameters())\n",
    "\n",
    "capacity = 1000000\n",
    "max_episode_length = 200\n",
    "replay_buffer = EpisodicReplayMemory(capacity, max_episode_length)"
   ]
  },
  {
   "cell_type": "code",
   "execution_count": 58,
   "metadata": {},
   "outputs": [
    {
     "data": {
      "image/png": "[encoded data removed]",
      "text/plain": [
       "<Figure size 1440x360 with 2 Axes>"
      ]
     },
     "metadata": {},
     "output_type": "display_data"
    }
   ],
   "source": [
    "frame_idx    = 0\n",
    "max_frames   = 10000\n",
    "num_steps    = 5\n",
    "log_interval = 100\n",
    "test_rewards = []\n",
    "state = env.reset()\n",
    "\n",
    "while frame_idx < max_frames:\n",
    "    \n",
    "    q_values = []\n",
    "    values   = []\n",
    "    policies = []\n",
    "    actions  = []\n",
    "    rewards  = []\n",
    "    masks    = []\n",
    "    \n",
    "    for step in range(num_steps):\n",
    "    \n",
    "        state = torch.FloatTensor(state).unsqueeze(0).to(device)\n",
    "        policy, q_value, value = model(state)\n",
    "        \n",
    "        action = policy.multinomial(1)\n",
    "        next_state, reward, done, _ = env.step(action.item())\n",
    "        \n",
    "        reward = torch.FloatTensor([reward]).unsqueeze(1).to(device)\n",
    "        mask   = torch.FloatTensor(1 - np.float32([done])).unsqueeze(1).to(device)\n",
    "        replay_buffer.push(state.detach(), action, reward, policy.detach(), mask, done)\n",
    "\n",
    "        q_values.append(q_value)\n",
    "        policies.append(policy)\n",
    "        actions.append(action)\n",
    "        rewards.append(reward)\n",
    "        values.append(value)\n",
    "        masks.append(mask)\n",
    "        \n",
    "        state = next_state\n",
    "        if done:\n",
    "            state = env.reset()\n",
    "    \n",
    "\n",
    "\n",
    "    \n",
    "    next_state = torch.FloatTensor(state).unsqueeze(0).to(device)\n",
    "    _, _, retrace = model(next_state)\n",
    "    retrace = retrace.detach()\n",
    "    compute_acer_loss(policies, q_values, values, actions, rewards, retrace, masks, policies)\n",
    "    \n",
    "    off_policy_update(128)\n",
    "    \n",
    "    if frame_idx % log_interval == 0:\n",
    "        test_rewards.append(np.mean([test_env() for _ in range(5)]))\n",
    "        plot(frame_idx, test_rewards)\n",
    "        \n",
    "    frame_idx += num_steps"
   ]
  },
  {
   "cell_type": "code",
   "execution_count": 59,
   "metadata": {},
   "outputs": [
    {
     "data": {
      "text/plain": [
       "200.0"
      ]
     },
     "execution_count": 59,
     "metadata": {},
     "output_type": "execute_result"
    }
   ],
   "source": [
    "test_env(True)"
   ]
  },
  {
   "cell_type": "code",
   "execution_count": null,
   "metadata": {},
   "outputs": [],
   "source": []
  }
 ],
 "metadata": {
  "kernelspec": {
   "display_name": "Python [conda env:pytorch4]",
   "language": "python",
   "name": "conda-env-pytorch4-py"
  },
  "language_info": {
   "codemirror_mode": {
    "name": "ipython",
    "version": 3
   },
   "file_extension": ".py",
   "mimetype": "text/x-python",
   "name": "python",
   "nbconvert_exporter": "python",
   "pygments_lexer": "ipython3",
   "version": "3.5.5"
  }
 },
 "nbformat": 4,
 "nbformat_minor": 2
}
