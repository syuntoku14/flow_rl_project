{
 "cells": [
  {
   "cell_type": "code",
   "execution_count": 18,
   "metadata": {},
   "outputs": [
    {
     "name": "stdout",
     "output_type": "stream",
     "text": [
      "benchmark: figureeight0\n"
     ]
    }
   ],
   "source": [
    "import gym, ray\n",
    "from ray.rllib.agents.ppo import PPOAgent, DEFAULT_CONFIG\n",
    "from ray.tune.registry import register_env\n",
    "from ray.tune.logger import pretty_print\n",
    "\n",
    "benchmark_name = 'figureeight0'\n",
    "print('benchmark: {}'.format(benchmark_name))"
   ]
  },
  {
   "cell_type": "code",
   "execution_count": 12,
   "metadata": {
    "scrolled": true
   },
   "outputs": [
    {
     "data": {
      "text/plain": [
       "{'batch_mode': 'truncate_episodes',\n",
       " 'callbacks': {'on_episode_end': None,\n",
       "  'on_episode_start': None,\n",
       "  'on_episode_step': None,\n",
       "  'on_sample_end': None,\n",
       "  'on_train_result': None},\n",
       " 'clip_actions': True,\n",
       " 'clip_param': 0.3,\n",
       " 'clip_rewards': None,\n",
       " 'collect_metrics_timeout': 180,\n",
       " 'compress_observations': False,\n",
       " 'custom_resources_per_worker': {},\n",
       " 'entropy_coeff': 0.0,\n",
       " 'env': None,\n",
       " 'env_config': {},\n",
       " 'gamma': 0.99,\n",
       " 'horizon': None,\n",
       " 'input': 'sampler',\n",
       " 'input_evaluation': None,\n",
       " 'kl_coeff': 0.2,\n",
       " 'kl_target': 0.01,\n",
       " 'lambda': 1.0,\n",
       " 'local_evaluator_tf_session_args': {'inter_op_parallelism_threads': 8,\n",
       "  'intra_op_parallelism_threads': 8},\n",
       " 'log_level': 'INFO',\n",
       " 'lr': 5e-05,\n",
       " 'lr_schedule': None,\n",
       " 'model': {'channel_major': False,\n",
       "  'conv_activation': 'relu',\n",
       "  'conv_filters': None,\n",
       "  'custom_model': None,\n",
       "  'custom_options': {},\n",
       "  'custom_preprocessor': None,\n",
       "  'dim': 84,\n",
       "  'fcnet_activation': 'tanh',\n",
       "  'fcnet_hiddens': [256, 256],\n",
       "  'framestack': True,\n",
       "  'free_log_std': False,\n",
       "  'grayscale': False,\n",
       "  'lstm_cell_size': 256,\n",
       "  'lstm_use_prev_action_reward': False,\n",
       "  'max_seq_len': 20,\n",
       "  'squash_to_range': False,\n",
       "  'use_lstm': False,\n",
       "  'zero_mean': True},\n",
       " 'monitor': False,\n",
       " 'multiagent': {'policies_to_train': None,\n",
       "  'policy_graphs': {},\n",
       "  'policy_mapping_fn': None},\n",
       " 'num_cpus_for_driver': 1,\n",
       " 'num_cpus_per_worker': 1,\n",
       " 'num_envs_per_worker': 1,\n",
       " 'num_gpus': 0,\n",
       " 'num_gpus_per_worker': 0,\n",
       " 'num_sgd_iter': 30,\n",
       " 'num_workers': 2,\n",
       " 'observation_filter': 'MeanStdFilter',\n",
       " 'optimizer': {},\n",
       " 'output': None,\n",
       " 'output_compress_columns': ['obs', 'new_obs'],\n",
       " 'output_max_file_size': 67108864,\n",
       " 'preprocessor_pref': 'deepmind',\n",
       " 'sample_async': False,\n",
       " 'sample_batch_size': 200,\n",
       " 'sgd_minibatch_size': 128,\n",
       " 'simple_optimizer': False,\n",
       " 'straggler_mitigation': False,\n",
       " 'synchronize_filters': True,\n",
       " 'tf_session_args': {'allow_soft_placement': True,\n",
       "  'device_count': {'CPU': 1},\n",
       "  'gpu_options': {'allow_growth': True},\n",
       "  'inter_op_parallelism_threads': 2,\n",
       "  'intra_op_parallelism_threads': 2,\n",
       "  'log_device_placement': False},\n",
       " 'train_batch_size': 4000,\n",
       " 'use_gae': True,\n",
       " 'vf_clip_param': 10.0,\n",
       " 'vf_loss_coeff': 1.0,\n",
       " 'vf_share_layers': False}"
      ]
     },
     "execution_count": 12,
     "metadata": {},
     "output_type": "execute_result"
    }
   ],
   "source": [
    "config = DEFAULT_CONFIG.copy()\n",
    "config"
   ]
  },
  {
   "cell_type": "code",
   "execution_count": 4,
   "metadata": {},
   "outputs": [
    {
     "name": "stderr",
     "output_type": "stream",
     "text": [
      "Process STDOUT and STDERR is being redirected to /tmp/ray/session_2019-04-17_02-11-43_426/logs.\n",
      "Waiting for redis server at 127.0.0.1:55546 to respond...\n",
      "Waiting for redis server at 127.0.0.1:65016 to respond...\n",
      "Starting the Plasma object store with 13.355121049 GB memory using /dev/shm.\n"
     ]
    },
    {
     "data": {
      "text/plain": [
       "{'node_ip_address': '169.237.32.118',\n",
       " 'object_store_addresses': ['/tmp/ray/session_2019-04-17_02-11-43_426/sockets/plasma_store'],\n",
       " 'raylet_socket_names': ['/tmp/ray/session_2019-04-17_02-11-43_426/sockets/raylet'],\n",
       " 'redis_address': '169.237.32.118:55546',\n",
       " 'webui_url': ''}"
      ]
     },
     "execution_count": 4,
     "metadata": {},
     "output_type": "execute_result"
    }
   ],
   "source": [
    "ray.init(num_cpus=3, include_webui=False, ignore_reinit_error=True)"
   ]
  },
  {
   "cell_type": "code",
   "execution_count": 6,
   "metadata": {},
   "outputs": [],
   "source": [
    "from flow.utils.registry import make_create_env\n",
    "benchmark = __import__(\n",
    "    \"flow.benchmarks.%s\" % benchmark_name, fromlist=[\"flow_params\"])\n",
    "flow_params = benchmark.flow_params\n",
    "HORIZON = flow_params['env'].horizon\n",
    "\n",
    "def make_env(create_env):\n",
    "    def _thunk():\n",
    "        env = create_env()\n",
    "        return env\n",
    "    return _thunk"
   ]
  },
  {
   "cell_type": "code",
   "execution_count": 8,
   "metadata": {},
   "outputs": [],
   "source": [
    "# Create Environment\n",
    "create_env, env_name = make_create_env(params=flow_params, version=0)"
   ]
  },
  {
   "cell_type": "code",
   "execution_count": 9,
   "metadata": {},
   "outputs": [],
   "source": [
    "register_env(\"figureeight0\", create_env)"
   ]
  },
  {
   "cell_type": "code",
   "execution_count": 17,
   "metadata": {},
   "outputs": [
    {
     "name": "stderr",
     "output_type": "stream",
     "text": [
      "Created LogSyncer for /headless/ray_results/PPO_figureeight0_2019-04-17_02-17-45h82alhce -> None\n",
      "2019-04-17 02:17:45,609\tWARNING ppo.py:137 -- By default, observations will be normalized with MeanStdFilter\n",
      " Starting SUMO on port 49295\n",
      "2019-04-17 02:17:46,722\tINFO policy_evaluator.py:262 -- Creating policy evaluation worker 0 on CPU (please ignore any CUDA init errors)\n",
      "/opt/conda/envs/flow/lib/python3.5/site-packages/tensorflow/python/ops/gradients_impl.py:108: UserWarning: Converting sparse IndexedSlices to a dense Tensor of unknown shape. This may consume a large amount of memory.\n",
      "  \"Converting sparse IndexedSlices to a dense Tensor of unknown shape. \"\n",
      "Exception ignored in: <bound method PolicyEvaluator.__del__ of <ray.rllib.evaluation.policy_evaluator.PolicyEvaluator object at 0x7f4c56c0f128>>\n",
      "Traceback (most recent call last):\n",
      "  File \"/opt/conda/envs/flow/lib/python3.5/site-packages/ray/rllib/evaluation/policy_evaluator.py\", line 583, in __del__\n",
      "    if isinstance(self.sampler, AsyncSampler):\n",
      "AttributeError: 'PolicyEvaluator' object has no attribute 'sampler'\n",
      "2019-04-17 02:17:47,995\tINFO multi_gpu_optimizer.py:74 -- LocalMultiGPUOptimizer devices ['/cpu:0']\n"
     ]
    }
   ],
   "source": [
    "agent = PPOAgent(config=config, env=\"figureeight0\")"
   ]
  },
  {
   "cell_type": "code",
   "execution_count": 20,
   "metadata": {},
   "outputs": [
    {
     "name": "stderr",
     "output_type": "stream",
     "text": [
      "/opt/conda/envs/flow/lib/python3.5/site-packages/ray/tune/logger.py:230: FutureWarning: Conversion of the second argument of issubdtype from `float` to `np.floating` is deprecated. In future, it will be treated as `np.float64 == np.dtype(float).type`.\n",
      "  if np.issubdtype(value, float):\n"
     ]
    },
    {
     "name": "stdout",
     "output_type": "stream",
     "text": [
      "custom_metrics: {}\n",
      "date: 2019-04-17_02-19-41\n",
      "done: false\n",
      "episode_len_mean: 1500.0\n",
      "episode_reward_max: 87.878411100539\n",
      "episode_reward_mean: 85.47048563024657\n",
      "episode_reward_min: 83.06256015995413\n",
      "episodes_this_iter: 2\n",
      "episodes_total: 2\n",
      "experiment_id: 7034fe78f6c64aaea184bf80e8b37e66\n",
      "hostname: kronos\n",
      "info:\n",
      "  default:\n",
      "    cur_kl_coeff: 0.19999995827674866\n",
      "    cur_lr: 4.999999873689376e-05\n",
      "    entropy: 1.430161714553833\n",
      "    kl: 0.013148869387805462\n",
      "    policy_loss: -0.014312928542494774\n",
      "    total_loss: 13.270851135253906\n",
      "    vf_explained_var: 0.7040198445320129\n",
      "    vf_loss: 13.282535552978516\n",
      "  grad_time_ms: 3516.545\n",
      "  load_time_ms: 44.743\n",
      "  num_steps_sampled: 4000\n",
      "  num_steps_trained: 4000\n",
      "  sample_time_ms: 11397.444\n",
      "  update_time_ms: 389.002\n",
      "iterations_since_restore: 1\n",
      "node_ip: 169.237.32.118\n",
      "num_metric_batches_dropped: 0\n",
      "pid: 426\n",
      "policy_reward_mean: {}\n",
      "time_since_restore: 15.392313480377197\n",
      "time_this_iter_s: 15.392313480377197\n",
      "time_total_s: 15.392313480377197\n",
      "timestamp: 1555467581\n",
      "timesteps_since_restore: 4000\n",
      "timesteps_this_iter: 4000\n",
      "timesteps_total: 4000\n",
      "training_iteration: 1\n",
      "\n",
      "custom_metrics: {}\n",
      "date: 2019-04-17_02-19-56\n",
      "done: false\n",
      "episode_len_mean: 1500.0\n",
      "episode_reward_max: 88.6720819210063\n",
      "episode_reward_mean: 86.021057946459\n",
      "episode_reward_min: 83.06256015995413\n",
      "episodes_this_iter: 2\n",
      "episodes_total: 4\n",
      "experiment_id: 7034fe78f6c64aaea184bf80e8b37e66\n",
      "hostname: kronos\n",
      "info:\n",
      "  default:\n",
      "    cur_kl_coeff: 0.19999995827674866\n",
      "    cur_lr: 4.999999873689376e-05\n",
      "    entropy: 1.4629119634628296\n",
      "    kl: 0.007036631926894188\n",
      "    policy_loss: -0.013134937733411789\n",
      "    total_loss: 3.242419958114624\n",
      "    vf_explained_var: 0.920924723148346\n",
      "    vf_loss: 3.254147529602051\n",
      "  grad_time_ms: 3322.075\n",
      "  load_time_ms: 23.29\n",
      "  num_steps_sampled: 8000\n",
      "  num_steps_trained: 8000\n",
      "  sample_time_ms: 11593.571\n",
      "  update_time_ms: 196.742\n",
      "iterations_since_restore: 2\n",
      "node_ip: 169.237.32.118\n",
      "num_metric_batches_dropped: 0\n",
      "pid: 426\n",
      "policy_reward_mean: {}\n",
      "time_since_restore: 30.32303786277771\n",
      "time_this_iter_s: 14.930724382400513\n",
      "time_total_s: 30.32303786277771\n",
      "timestamp: 1555467596\n",
      "timesteps_since_restore: 8000\n",
      "timesteps_this_iter: 4000\n",
      "timesteps_total: 8000\n",
      "training_iteration: 2\n",
      "\n"
     ]
    }
   ],
   "source": [
    "for i in range(2):\n",
    "    result = agent.train()\n",
    "    print(pretty_print(result))"
   ]
  },
  {
   "cell_type": "code",
   "execution_count": 21,
   "metadata": {},
   "outputs": [
    {
     "data": {
      "text/plain": [
       "{'default': array([-0.01931433, -0.08120036, -0.10339408, ..., -0.06568308,\n",
       "        -0.06512571,  0.04915985], dtype=float32)}"
      ]
     },
     "execution_count": 21,
     "metadata": {},
     "output_type": "execute_result"
    }
   ],
   "source": [
    "agent.get_weights()"
   ]
  },
  {
   "cell_type": "code",
   "execution_count": 24,
   "metadata": {},
   "outputs": [
    {
     "data": {
      "text/plain": [
       "{'default': {'cur_kl_coeff': 0.19999996,\n",
       "  'cur_lr': 4.999999873689376e-05,\n",
       "  'entropy': 1.462912,\n",
       "  'kl': 0.007036632,\n",
       "  'policy_loss': -0.013134938,\n",
       "  'total_loss': 3.24242,\n",
       "  'vf_explained_var': 0.9209247,\n",
       "  'vf_loss': 3.2541475},\n",
       " 'grad_time_ms': 3322.075,\n",
       " 'load_time_ms': 23.29,\n",
       " 'num_steps_sampled': 8000,\n",
       " 'num_steps_trained': 8000,\n",
       " 'sample_time_ms': 11593.571,\n",
       " 'update_time_ms': 196.742}"
      ]
     },
     "execution_count": 24,
     "metadata": {},
     "output_type": "execute_result"
    }
   ],
   "source": [
    "result[\"info\"]"
   ]
  },
  {
   "cell_type": "code",
   "execution_count": 26,
   "metadata": {},
   "outputs": [
    {
     "data": {
      "text/plain": [
       "'0.6.1'"
      ]
     },
     "execution_count": 26,
     "metadata": {},
     "output_type": "execute_result"
    }
   ],
   "source": [
    "ray.__version__"
   ]
  }
 ],
 "metadata": {
  "kernelspec": {
   "display_name": "Python 3",
   "language": "python",
   "name": "python3"
  },
  "language_info": {
   "codemirror_mode": {
    "name": "ipython",
    "version": 3
   },
   "file_extension": ".py",
   "mimetype": "text/x-python",
   "name": "python",
   "nbconvert_exporter": "python",
   "pygments_lexer": "ipython3",
   "version": "3.5.2"
  },
  "varInspector": {
   "cols": {
    "lenName": "50",
    "lenType": "50",
    "lenVar": "50"
   },
   "kernels_config": {
    "python": {
     "delete_cmd_postfix": "",
     "delete_cmd_prefix": "del ",
     "library": "var_list.py",
     "varRefreshCmd": "print(var_dic_list())"
    },
    "r": {
     "delete_cmd_postfix": ") ",
     "delete_cmd_prefix": "rm(",
     "library": "var_list.r",
     "varRefreshCmd": "cat(var_dic_list()) "
    }
   },
   "oldHeight": 467.89781800000003,
   "position": {
    "height": "489.716px",
    "left": "1387.27px",
    "right": "20px",
    "top": "170px",
    "width": "250px"
   },
   "types_to_exclude": [
    "module",
    "function",
    "builtin_function_or_method",
    "instance",
    "_Feature"
   ],
   "varInspector_section_display": "block",
   "window_display": false
  },
  "widgets": {
   "state": {},
   "version": "1.1.2"
  }
 },
 "nbformat": 4,
 "nbformat_minor": 2
}
