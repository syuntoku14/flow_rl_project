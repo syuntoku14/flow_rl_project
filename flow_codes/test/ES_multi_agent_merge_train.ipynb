{
 "cells": [
  {
   "cell_type": "code",
   "execution_count": 1,
   "metadata": {},
   "outputs": [],
   "source": [
    "from flow.multiagent_envs import MultiWaveAttenuationMergePOEnv\n",
    "from flow.scenarios import MergeScenario\n",
    "from flow.utils.registry import make_create_env\n",
    "from flow.utils.rllib import FlowParamsEncoder\n",
    "from ray.tune import run_experiments\n",
    "\n",
    "import gym, ray, json\n",
    "from ray.rllib.agents.es import ESAgent, DEFAULT_CONFIG\n",
    "from ray.tune.registry import register_env\n",
    "from ray.tune.logger import pretty_print\n",
    "\n",
    "benchmark_name = 'multi_merge'"
   ]
  },
  {
   "cell_type": "code",
   "execution_count": 2,
   "metadata": {},
   "outputs": [],
   "source": [
    "alg_run = \"ES\"\n",
    "num_rollouts = 1\n",
    "num_cpus = 3"
   ]
  },
  {
   "cell_type": "code",
   "execution_count": 3,
   "metadata": {},
   "outputs": [
    {
     "name": "stderr",
     "output_type": "stream",
     "text": [
      "Process STDOUT and STDERR is being redirected to /tmp/ray/session_2019-04-19_05-15-46_702/logs.\n",
      "Waiting for redis server at 127.0.0.1:47451 to respond...\n",
      "Waiting for redis server at 127.0.0.1:29135 to respond...\n",
      "Starting the Plasma object store with 13.355121049 GB memory using /dev/shm.\n"
     ]
    },
    {
     "data": {
      "text/plain": [
       "{'node_ip_address': '169.237.32.118',\n",
       " 'object_store_addresses': ['/tmp/ray/session_2019-04-19_05-15-46_702/sockets/plasma_store'],\n",
       " 'raylet_socket_names': ['/tmp/ray/session_2019-04-19_05-15-46_702/sockets/raylet'],\n",
       " 'redis_address': '169.237.32.118:47451',\n",
       " 'webui_url': ''}"
      ]
     },
     "execution_count": 3,
     "metadata": {},
     "output_type": "execute_result"
    }
   ],
   "source": [
    "ray.init(num_cpus=num_cpus, include_webui=False, ignore_reinit_error=True)"
   ]
  },
  {
   "cell_type": "code",
   "execution_count": 4,
   "metadata": {},
   "outputs": [],
   "source": [
    "benchmark = __import__(\n",
    "    \"flow.benchmarks.%s\" % benchmark_name, fromlist=[\"flow_params\"])\n",
    "flow_params = benchmark.flow_params\n",
    "horizon = flow_params['env'].horizon\n",
    "\n",
    "def make_env(create_env):\n",
    "    def _thunk():\n",
    "        env = create_env()\n",
    "        return env\n",
    "    return _thunk\n",
    "\n",
    "create_env, env_name = make_create_env(params=flow_params, version=0)"
   ]
  },
  {
   "cell_type": "code",
   "execution_count": 5,
   "metadata": {},
   "outputs": [],
   "source": [
    "config = DEFAULT_CONFIG.copy()"
   ]
  },
  {
   "cell_type": "code",
   "execution_count": 6,
   "metadata": {},
   "outputs": [],
   "source": [
    "config[\"num_workers\"] = min(num_cpus, num_rollouts)\n",
    "config[\"episodes_per_batch\"] = num_rollouts\n",
    "config[\"eval_prob\"] = 0.05\n",
    "# optimal parameters\n",
    "config[\"noise_stdev\"] = 0.02\n",
    "config[\"stepsize\"] = 0.02\n",
    "\n",
    "config[\"model\"][\"fcnet_hiddens\"] = [100, 50, 25]\n",
    "config['clip_actions'] = False  # FIXME(ev) temporary ray bug\n",
    "config[\"observation_filter\"] = \"NoFilter\"\n",
    "# save the flow params for replay\n",
    "flow_json = json.dumps(flow_params, cls=FlowParamsEncoder, sort_keys=True,\n",
    "                       indent=4)\n",
    "config['env_config']['flow_params'] = flow_json\n",
    "config['env_config']['run'] = alg_run"
   ]
  },
  {
   "cell_type": "code",
   "execution_count": 7,
   "metadata": {},
   "outputs": [],
   "source": [
    "# Register as rllib env\n",
    "register_env(env_name, create_env)"
   ]
  },
  {
   "cell_type": "code",
   "execution_count": 8,
   "metadata": {},
   "outputs": [
    {
     "name": "stderr",
     "output_type": "stream",
     "text": [
      "Created LogSyncer for /headless/ray_results/ES_MultiWaveAttenuationMergePOEnv-v0_2019-04-19_05-15-50zuv5qtm_ -> None\n",
      " Starting SUMO on port 43852\n",
      "2019-04-19 05:15:51,409\tINFO es.py:188 -- Creating shared noise table.\n",
      "2019-04-19 05:16:08,600\tINFO es.py:193 -- Creating actors.\n",
      "2019-04-19 05:16:08,649\tINFO es.py:307 -- Collected 0 episodes 0 timesteps so far this iter\n"
     ]
    },
    {
     "ename": "RayTaskError",
     "evalue": "\u001b[36mray_Worker:do_rollouts()\u001b[39m (pid=742, host=kronos)\n  File \"/opt/conda/envs/flow/lib/python3.5/site-packages/ray/rllib/agents/es/es.py\", line 144, in do_rollouts\n    rewards_pos, lengths_pos = self.rollout(timestep_limit)\n  File \"/opt/conda/envs/flow/lib/python3.5/site-packages/ray/rllib/agents/es/es.py\", line 113, in rollout\n    add_noise=add_noise)\n  File \"/opt/conda/envs/flow/lib/python3.5/site-packages/ray/rllib/agents/es/policies.py\", line 31, in rollout\n    ac = policy.compute(observation, add_noise=add_noise)[0]\n  File \"/opt/conda/envs/flow/lib/python3.5/site-packages/ray/rllib/agents/es/policies.py\", line 72, in compute\n    observation = self.observation_filter(observation[None], update=update)\nKeyError\n",
     "output_type": "error",
     "traceback": [
      "\u001b[0;31m---------------------------------------------------------------------------\u001b[0m",
      "\u001b[0;31mRayTaskError\u001b[0m                              Traceback (most recent call last)",
      "\u001b[0;32m<ipython-input-8-76c74739049e>\u001b[0m in \u001b[0;36m<module>\u001b[0;34m()\u001b[0m\n\u001b[1;32m      1\u001b[0m \u001b[0magent\u001b[0m \u001b[0;34m=\u001b[0m \u001b[0mESAgent\u001b[0m\u001b[0;34m(\u001b[0m\u001b[0mconfig\u001b[0m\u001b[0;34m=\u001b[0m\u001b[0mconfig\u001b[0m\u001b[0;34m,\u001b[0m \u001b[0menv\u001b[0m\u001b[0;34m=\u001b[0m\u001b[0menv_name\u001b[0m\u001b[0;34m)\u001b[0m\u001b[0;34m\u001b[0m\u001b[0m\n\u001b[0;32m----> 2\u001b[0;31m \u001b[0magent\u001b[0m\u001b[0;34m.\u001b[0m\u001b[0mtrain\u001b[0m\u001b[0;34m(\u001b[0m\u001b[0;34m)\u001b[0m\u001b[0;34m\u001b[0m\u001b[0m\n\u001b[0m",
      "\u001b[0;32m/opt/conda/envs/flow/lib/python3.5/site-packages/ray/rllib/agents/agent.py\u001b[0m in \u001b[0;36mtrain\u001b[0;34m(self)\u001b[0m\n\u001b[1;32m    277\u001b[0m                 self.local_evaluator.filters))\n\u001b[1;32m    278\u001b[0m \u001b[0;34m\u001b[0m\u001b[0m\n\u001b[0;32m--> 279\u001b[0;31m         \u001b[0mresult\u001b[0m \u001b[0;34m=\u001b[0m \u001b[0mTrainable\u001b[0m\u001b[0;34m.\u001b[0m\u001b[0mtrain\u001b[0m\u001b[0;34m(\u001b[0m\u001b[0mself\u001b[0m\u001b[0;34m)\u001b[0m\u001b[0;34m\u001b[0m\u001b[0m\n\u001b[0m\u001b[1;32m    280\u001b[0m         \u001b[0;32mif\u001b[0m \u001b[0mself\u001b[0m\u001b[0;34m.\u001b[0m\u001b[0mconfig\u001b[0m\u001b[0;34m[\u001b[0m\u001b[0;34m\"callbacks\"\u001b[0m\u001b[0;34m]\u001b[0m\u001b[0;34m.\u001b[0m\u001b[0mget\u001b[0m\u001b[0;34m(\u001b[0m\u001b[0;34m\"on_train_result\"\u001b[0m\u001b[0;34m)\u001b[0m\u001b[0;34m:\u001b[0m\u001b[0;34m\u001b[0m\u001b[0m\n\u001b[1;32m    281\u001b[0m             self.config[\"callbacks\"][\"on_train_result\"]({\n",
      "\u001b[0;32m/opt/conda/envs/flow/lib/python3.5/site-packages/ray/tune/trainable.py\u001b[0m in \u001b[0;36mtrain\u001b[0;34m(self)\u001b[0m\n\u001b[1;32m    144\u001b[0m \u001b[0;34m\u001b[0m\u001b[0m\n\u001b[1;32m    145\u001b[0m         \u001b[0mstart\u001b[0m \u001b[0;34m=\u001b[0m \u001b[0mtime\u001b[0m\u001b[0;34m.\u001b[0m\u001b[0mtime\u001b[0m\u001b[0;34m(\u001b[0m\u001b[0;34m)\u001b[0m\u001b[0;34m\u001b[0m\u001b[0m\n\u001b[0;32m--> 146\u001b[0;31m         \u001b[0mresult\u001b[0m \u001b[0;34m=\u001b[0m \u001b[0mself\u001b[0m\u001b[0;34m.\u001b[0m\u001b[0m_train\u001b[0m\u001b[0;34m(\u001b[0m\u001b[0;34m)\u001b[0m\u001b[0;34m\u001b[0m\u001b[0m\n\u001b[0m\u001b[1;32m    147\u001b[0m         \u001b[0;32massert\u001b[0m \u001b[0misinstance\u001b[0m\u001b[0;34m(\u001b[0m\u001b[0mresult\u001b[0m\u001b[0;34m,\u001b[0m \u001b[0mdict\u001b[0m\u001b[0;34m)\u001b[0m\u001b[0;34m,\u001b[0m \u001b[0;34m\"_train() needs to return a dict.\"\u001b[0m\u001b[0;34m\u001b[0m\u001b[0m\n\u001b[1;32m    148\u001b[0m \u001b[0;34m\u001b[0m\u001b[0m\n",
      "\u001b[0;32m/opt/conda/envs/flow/lib/python3.5/site-packages/ray/rllib/agents/es/es.py\u001b[0m in \u001b[0;36m_train\u001b[0;34m(self)\u001b[0m\n\u001b[1;32m    213\u001b[0m         \u001b[0;31m# policy weights.\u001b[0m\u001b[0;34m\u001b[0m\u001b[0;34m\u001b[0m\u001b[0m\n\u001b[1;32m    214\u001b[0m         results, num_episodes, num_timesteps = self._collect_results(\n\u001b[0;32m--> 215\u001b[0;31m             theta_id, config[\"episodes_per_batch\"], config[\"train_batch_size\"])\n\u001b[0m\u001b[1;32m    216\u001b[0m \u001b[0;34m\u001b[0m\u001b[0m\n\u001b[1;32m    217\u001b[0m         \u001b[0mall_noise_indices\u001b[0m \u001b[0;34m=\u001b[0m \u001b[0;34m[\u001b[0m\u001b[0;34m]\u001b[0m\u001b[0;34m\u001b[0m\u001b[0m\n",
      "\u001b[0;32m/opt/conda/envs/flow/lib/python3.5/site-packages/ray/rllib/agents/es/es.py\u001b[0m in \u001b[0;36m_collect_results\u001b[0;34m(self, theta_id, min_episodes, min_timesteps)\u001b[0m\n\u001b[1;32m    310\u001b[0m             ]\n\u001b[1;32m    311\u001b[0m             \u001b[0;31m# Get the results of the rollouts.\u001b[0m\u001b[0;34m\u001b[0m\u001b[0;34m\u001b[0m\u001b[0m\n\u001b[0;32m--> 312\u001b[0;31m             \u001b[0;32mfor\u001b[0m \u001b[0mresult\u001b[0m \u001b[0;32min\u001b[0m \u001b[0mray\u001b[0m\u001b[0;34m.\u001b[0m\u001b[0mget\u001b[0m\u001b[0;34m(\u001b[0m\u001b[0mrollout_ids\u001b[0m\u001b[0;34m)\u001b[0m\u001b[0;34m:\u001b[0m\u001b[0;34m\u001b[0m\u001b[0m\n\u001b[0m\u001b[1;32m    313\u001b[0m                 \u001b[0mresults\u001b[0m\u001b[0;34m.\u001b[0m\u001b[0mappend\u001b[0m\u001b[0;34m(\u001b[0m\u001b[0mresult\u001b[0m\u001b[0;34m)\u001b[0m\u001b[0;34m\u001b[0m\u001b[0m\n\u001b[1;32m    314\u001b[0m                 \u001b[0;31m# Update the number of episodes and the number of timesteps\u001b[0m\u001b[0;34m\u001b[0m\u001b[0;34m\u001b[0m\u001b[0m\n",
      "\u001b[0;32m/opt/conda/envs/flow/lib/python3.5/site-packages/ray/worker.py\u001b[0m in \u001b[0;36mget\u001b[0;34m(object_ids, worker)\u001b[0m\n\u001b[1;32m   2375\u001b[0m                 \u001b[0;32mif\u001b[0m \u001b[0misinstance\u001b[0m\u001b[0;34m(\u001b[0m\u001b[0mvalue\u001b[0m\u001b[0;34m,\u001b[0m \u001b[0mRayTaskError\u001b[0m\u001b[0;34m)\u001b[0m\u001b[0;34m:\u001b[0m\u001b[0;34m\u001b[0m\u001b[0m\n\u001b[1;32m   2376\u001b[0m                     \u001b[0mlast_task_error_raise_time\u001b[0m \u001b[0;34m=\u001b[0m \u001b[0mtime\u001b[0m\u001b[0;34m.\u001b[0m\u001b[0mtime\u001b[0m\u001b[0;34m(\u001b[0m\u001b[0;34m)\u001b[0m\u001b[0;34m\u001b[0m\u001b[0m\n\u001b[0;32m-> 2377\u001b[0;31m                     \u001b[0;32mraise\u001b[0m \u001b[0mvalue\u001b[0m\u001b[0;34m\u001b[0m\u001b[0m\n\u001b[0m\u001b[1;32m   2378\u001b[0m             \u001b[0;32mreturn\u001b[0m \u001b[0mvalues\u001b[0m\u001b[0;34m\u001b[0m\u001b[0m\n\u001b[1;32m   2379\u001b[0m         \u001b[0;32melse\u001b[0m\u001b[0;34m:\u001b[0m\u001b[0;34m\u001b[0m\u001b[0m\n",
      "\u001b[0;31mRayTaskError\u001b[0m: \u001b[36mray_Worker:do_rollouts()\u001b[39m (pid=742, host=kronos)\n  File \"/opt/conda/envs/flow/lib/python3.5/site-packages/ray/rllib/agents/es/es.py\", line 144, in do_rollouts\n    rewards_pos, lengths_pos = self.rollout(timestep_limit)\n  File \"/opt/conda/envs/flow/lib/python3.5/site-packages/ray/rllib/agents/es/es.py\", line 113, in rollout\n    add_noise=add_noise)\n  File \"/opt/conda/envs/flow/lib/python3.5/site-packages/ray/rllib/agents/es/policies.py\", line 31, in rollout\n    ac = policy.compute(observation, add_noise=add_noise)[0]\n  File \"/opt/conda/envs/flow/lib/python3.5/site-packages/ray/rllib/agents/es/policies.py\", line 72, in compute\n    observation = self.observation_filter(observation[None], update=update)\nKeyError\n"
     ]
    }
   ],
   "source": [
    "agent = ESAgent(config=config, env=env_name)"
   ]
  },
  {
   "cell_type": "code",
   "execution_count": 9,
   "metadata": {},
   "outputs": [
    {
     "name": "stderr",
     "output_type": "stream",
     "text": [
      " Starting SUMO on port 35229\n",
      " Starting SUMO on port 35229\n"
     ]
    }
   ],
   "source": [
    "env = create_env()\n",
    "state = env.reset()"
   ]
  },
  {
   "cell_type": "code",
   "execution_count": 10,
   "metadata": {},
   "outputs": [
    {
     "ename": "KeyError",
     "evalue": "None",
     "output_type": "error",
     "traceback": [
      "\u001b[0;31m---------------------------------------------------------------------------\u001b[0m",
      "\u001b[0;31mKeyError\u001b[0m                                  Traceback (most recent call last)",
      "\u001b[0;32m<ipython-input-10-ae083e5ade60>\u001b[0m in \u001b[0;36m<module>\u001b[0;34m()\u001b[0m\n\u001b[0;32m----> 1\u001b[0;31m \u001b[0magent\u001b[0m\u001b[0;34m.\u001b[0m\u001b[0mcompute_action\u001b[0m\u001b[0;34m(\u001b[0m\u001b[0mstate\u001b[0m\u001b[0;34m)\u001b[0m\u001b[0;34m\u001b[0m\u001b[0m\n\u001b[0m",
      "\u001b[0;32m/opt/conda/envs/flow/lib/python3.5/site-packages/ray/rllib/agents/es/es.py\u001b[0m in \u001b[0;36mcompute_action\u001b[0;34m(self, observation)\u001b[0m\n\u001b[1;32m    291\u001b[0m     \u001b[0;34m@\u001b[0m\u001b[0moverride\u001b[0m\u001b[0;34m(\u001b[0m\u001b[0mAgent\u001b[0m\u001b[0;34m)\u001b[0m\u001b[0;34m\u001b[0m\u001b[0m\n\u001b[1;32m    292\u001b[0m     \u001b[0;32mdef\u001b[0m \u001b[0mcompute_action\u001b[0m\u001b[0;34m(\u001b[0m\u001b[0mself\u001b[0m\u001b[0;34m,\u001b[0m \u001b[0mobservation\u001b[0m\u001b[0;34m)\u001b[0m\u001b[0;34m:\u001b[0m\u001b[0;34m\u001b[0m\u001b[0m\n\u001b[0;32m--> 293\u001b[0;31m         \u001b[0;32mreturn\u001b[0m \u001b[0mself\u001b[0m\u001b[0;34m.\u001b[0m\u001b[0mpolicy\u001b[0m\u001b[0;34m.\u001b[0m\u001b[0mcompute\u001b[0m\u001b[0;34m(\u001b[0m\u001b[0mobservation\u001b[0m\u001b[0;34m,\u001b[0m \u001b[0mupdate\u001b[0m\u001b[0;34m=\u001b[0m\u001b[0;32mFalse\u001b[0m\u001b[0;34m)\u001b[0m\u001b[0;34m[\u001b[0m\u001b[0;36m0\u001b[0m\u001b[0;34m]\u001b[0m\u001b[0;34m\u001b[0m\u001b[0m\n\u001b[0m\u001b[1;32m    294\u001b[0m \u001b[0;34m\u001b[0m\u001b[0m\n\u001b[1;32m    295\u001b[0m     \u001b[0;34m@\u001b[0m\u001b[0moverride\u001b[0m\u001b[0;34m(\u001b[0m\u001b[0mAgent\u001b[0m\u001b[0;34m)\u001b[0m\u001b[0;34m\u001b[0m\u001b[0m\n",
      "\u001b[0;32m/opt/conda/envs/flow/lib/python3.5/site-packages/ray/rllib/agents/es/policies.py\u001b[0m in \u001b[0;36mcompute\u001b[0;34m(self, observation, add_noise, update)\u001b[0m\n\u001b[1;32m     70\u001b[0m     \u001b[0;32mdef\u001b[0m \u001b[0mcompute\u001b[0m\u001b[0;34m(\u001b[0m\u001b[0mself\u001b[0m\u001b[0;34m,\u001b[0m \u001b[0mobservation\u001b[0m\u001b[0;34m,\u001b[0m \u001b[0madd_noise\u001b[0m\u001b[0;34m=\u001b[0m\u001b[0;32mFalse\u001b[0m\u001b[0;34m,\u001b[0m \u001b[0mupdate\u001b[0m\u001b[0;34m=\u001b[0m\u001b[0;32mTrue\u001b[0m\u001b[0;34m)\u001b[0m\u001b[0;34m:\u001b[0m\u001b[0;34m\u001b[0m\u001b[0m\n\u001b[1;32m     71\u001b[0m         \u001b[0mobservation\u001b[0m \u001b[0;34m=\u001b[0m \u001b[0mself\u001b[0m\u001b[0;34m.\u001b[0m\u001b[0mpreprocessor\u001b[0m\u001b[0;34m.\u001b[0m\u001b[0mtransform\u001b[0m\u001b[0;34m(\u001b[0m\u001b[0mobservation\u001b[0m\u001b[0;34m)\u001b[0m\u001b[0;34m\u001b[0m\u001b[0m\n\u001b[0;32m---> 72\u001b[0;31m         \u001b[0mobservation\u001b[0m \u001b[0;34m=\u001b[0m \u001b[0mself\u001b[0m\u001b[0;34m.\u001b[0m\u001b[0mobservation_filter\u001b[0m\u001b[0;34m(\u001b[0m\u001b[0mobservation\u001b[0m\u001b[0;34m[\u001b[0m\u001b[0;32mNone\u001b[0m\u001b[0;34m]\u001b[0m\u001b[0;34m,\u001b[0m \u001b[0mupdate\u001b[0m\u001b[0;34m=\u001b[0m\u001b[0mupdate\u001b[0m\u001b[0;34m)\u001b[0m\u001b[0;34m\u001b[0m\u001b[0m\n\u001b[0m\u001b[1;32m     73\u001b[0m         action = self.sess.run(\n\u001b[1;32m     74\u001b[0m             self.sampler, feed_dict={self.inputs: observation})\n",
      "\u001b[0;31mKeyError\u001b[0m: None"
     ]
    }
   ],
   "source": [
    "agent.compute_action(state)"
   ]
  },
  {
   "cell_type": "code",
   "execution_count": null,
   "metadata": {},
   "outputs": [],
   "source": [
    "agent.train()"
   ]
  },
  {
   "cell_type": "code",
   "execution_count": 8,
   "metadata": {},
   "outputs": [],
   "source": [
    "exp_tag = {\n",
    "    \"run\": alg_run,\n",
    "    \"env\": env_name,\n",
    "    \"config\": {\n",
    "        **config\n",
    "    },\n",
    "    \"checkpoint_freq\": 1,\n",
    "    \"max_failures\": 999,\n",
    "    \"stop\": {\n",
    "        \"training_iteration\": 3\n",
    "    },\n",
    "    \"num_samples\": 1,\n",
    "}"
   ]
  },
  {
   "cell_type": "code",
   "execution_count": null,
   "metadata": {
    "scrolled": true
   },
   "outputs": [
    {
     "name": "stderr",
     "output_type": "stream",
     "text": [
      "== Status ==\n",
      "Using FIFO scheduling algorithm.\n",
      "Resources requested: 0/3 CPUs, 0/1 GPUs\n",
      "Memory usage on this node: 4.2/33.4 GB\n",
      "\n",
      "Created LogSyncer for /headless/ray_results/multi_merge/ES_MultiWaveAttenuationMergePOEnv-v0_0_2019-04-19_04-07-006xgfgkj1 -> \n",
      "== Status ==\n",
      "Using FIFO scheduling algorithm.\n",
      "Resources requested: 2/3 CPUs, 0/1 GPUs\n",
      "Memory usage on this node: 4.2/33.4 GB\n",
      "Result logdir: /headless/ray_results/multi_merge\n",
      "RUNNING trials:\n",
      " - ES_MultiWaveAttenuationMergePOEnv-v0_0:\tRUNNING\n",
      "\n",
      "Error processing event.\n",
      "Traceback (most recent call last):\n",
      "  File \"/opt/conda/envs/flow/lib/python3.5/site-packages/ray/tune/trial_runner.py\", line 261, in _process_events\n",
      "    result = self.trial_executor.fetch_result(trial)\n",
      "  File \"/opt/conda/envs/flow/lib/python3.5/site-packages/ray/tune/ray_trial_executor.py\", line 211, in fetch_result\n",
      "    result = ray.get(trial_future[0])\n",
      "  File \"/opt/conda/envs/flow/lib/python3.5/site-packages/ray/worker.py\", line 2386, in get\n",
      "    raise value\n",
      "ray.worker.RayTaskError: \u001b[36mray_ESAgent:train()\u001b[39m (pid=163, host=kronos)\n",
      "  File \"/opt/conda/envs/flow/lib/python3.5/site-packages/ray/rllib/agents/agent.py\", line 279, in train\n",
      "    result = Trainable.train(self)\n",
      "  File \"/opt/conda/envs/flow/lib/python3.5/site-packages/ray/tune/trainable.py\", line 146, in train\n",
      "    result = self._train()\n",
      "  File \"/opt/conda/envs/flow/lib/python3.5/site-packages/ray/rllib/agents/es/es.py\", line 215, in _train\n",
      "    theta_id, config[\"episodes_per_batch\"], config[\"train_batch_size\"])\n",
      "  File \"/opt/conda/envs/flow/lib/python3.5/site-packages/ray/rllib/agents/es/es.py\", line 312, in _collect_results\n",
      "    for result in ray.get(rollout_ids):\n",
      "ray.worker.RayTaskError: \u001b[36mray_Worker:do_rollouts()\u001b[39m (pid=164, host=kronos)\n",
      "  File \"/opt/conda/envs/flow/lib/python3.5/site-packages/ray/rllib/agents/es/es.py\", line 144, in do_rollouts\n",
      "    rewards_pos, lengths_pos = self.rollout(timestep_limit)\n",
      "  File \"/opt/conda/envs/flow/lib/python3.5/site-packages/ray/rllib/agents/es/es.py\", line 113, in rollout\n",
      "    add_noise=add_noise)\n",
      "  File \"/opt/conda/envs/flow/lib/python3.5/site-packages/ray/rllib/agents/es/policies.py\", line 31, in rollout\n",
      "    ac = policy.compute(observation, add_noise=add_noise)[0]\n",
      "  File \"/opt/conda/envs/flow/lib/python3.5/site-packages/ray/rllib/agents/es/policies.py\", line 72, in compute\n",
      "    observation = self.observation_filter(observation[None], update=update)\n",
      "KeyError\n",
      "\n",
      "\n",
      "Worker ip unknown, skipping log sync for /headless/ray_results/multi_merge/ES_MultiWaveAttenuationMergePOEnv-v0_0_2019-04-19_04-07-006xgfgkj1\n",
      "Attempting to recover trial state from last checkpoint.\n",
      "== Status ==\n",
      "Using FIFO scheduling algorithm.\n",
      "Resources requested: 2/3 CPUs, 0/1 GPUs\n",
      "Memory usage on this node: 5.6/33.4 GB\n",
      "Result logdir: /headless/ray_results/multi_merge\n",
      "RUNNING trials:\n",
      " - ES_MultiWaveAttenuationMergePOEnv-v0_0:\tRUNNING, 1 failures: /headless/ray_results/multi_merge/ES_MultiWaveAttenuationMergePOEnv-v0_0_2019-04-19_04-07-006xgfgkj1/error_2019-04-19_04-07-42.txt\n",
      "\n",
      "Error processing event.\n",
      "Traceback (most recent call last):\n",
      "  File \"/opt/conda/envs/flow/lib/python3.5/site-packages/ray/tune/trial_runner.py\", line 261, in _process_events\n",
      "    result = self.trial_executor.fetch_result(trial)\n",
      "  File \"/opt/conda/envs/flow/lib/python3.5/site-packages/ray/tune/ray_trial_executor.py\", line 211, in fetch_result\n",
      "    result = ray.get(trial_future[0])\n",
      "  File \"/opt/conda/envs/flow/lib/python3.5/site-packages/ray/worker.py\", line 2386, in get\n",
      "    raise value\n",
      "ray.worker.RayTaskError: \u001b[36mray_ESAgent:train()\u001b[39m (pid=162, host=kronos)\n",
      "  File \"/opt/conda/envs/flow/lib/python3.5/site-packages/ray/rllib/agents/agent.py\", line 279, in train\n",
      "    result = Trainable.train(self)\n",
      "  File \"/opt/conda/envs/flow/lib/python3.5/site-packages/ray/tune/trainable.py\", line 146, in train\n",
      "    result = self._train()\n",
      "  File \"/opt/conda/envs/flow/lib/python3.5/site-packages/ray/rllib/agents/es/es.py\", line 215, in _train\n",
      "    theta_id, config[\"episodes_per_batch\"], config[\"train_batch_size\"])\n",
      "  File \"/opt/conda/envs/flow/lib/python3.5/site-packages/ray/rllib/agents/es/es.py\", line 312, in _collect_results\n",
      "    for result in ray.get(rollout_ids):\n",
      "ray.worker.RayTaskError: \u001b[36mray_Worker:do_rollouts()\u001b[39m (pid=277, host=kronos)\n",
      "  File \"/opt/conda/envs/flow/lib/python3.5/site-packages/ray/rllib/agents/es/es.py\", line 144, in do_rollouts\n",
      "    rewards_pos, lengths_pos = self.rollout(timestep_limit)\n",
      "  File \"/opt/conda/envs/flow/lib/python3.5/site-packages/ray/rllib/agents/es/es.py\", line 113, in rollout\n",
      "    add_noise=add_noise)\n",
      "  File \"/opt/conda/envs/flow/lib/python3.5/site-packages/ray/rllib/agents/es/policies.py\", line 31, in rollout\n",
      "    ac = policy.compute(observation, add_noise=add_noise)[0]\n",
      "  File \"/opt/conda/envs/flow/lib/python3.5/site-packages/ray/rllib/agents/es/policies.py\", line 72, in compute\n",
      "    observation = self.observation_filter(observation[None], update=update)\n",
      "KeyError\n",
      "\n",
      "\n",
      "Worker ip unknown, skipping log sync for /headless/ray_results/multi_merge/ES_MultiWaveAttenuationMergePOEnv-v0_0_2019-04-19_04-07-006xgfgkj1\n",
      "Attempting to recover trial state from last checkpoint.\n",
      "== Status ==\n",
      "Using FIFO scheduling algorithm.\n",
      "Resources requested: 2/3 CPUs, 0/1 GPUs\n",
      "Memory usage on this node: 6.6/33.4 GB\n",
      "Result logdir: /headless/ray_results/multi_merge\n",
      "RUNNING trials:\n",
      " - ES_MultiWaveAttenuationMergePOEnv-v0_0:\tRUNNING, 2 failures: /headless/ray_results/multi_merge/ES_MultiWaveAttenuationMergePOEnv-v0_0_2019-04-19_04-07-006xgfgkj1/error_2019-04-19_04-08-24.txt\n",
      "\n"
     ]
    }
   ],
   "source": [
    "trials = run_experiments({\n",
    "        flow_params[\"exp_tag\"]: exp_tag\n",
    "    })"
   ]
  },
  {
   "cell_type": "code",
   "execution_count": null,
   "metadata": {},
   "outputs": [],
   "source": []
  }
 ],
 "metadata": {
  "kernelspec": {
   "display_name": "Python 3",
   "language": "python",
   "name": "python3"
  },
  "language_info": {
   "codemirror_mode": {
    "name": "ipython",
    "version": 3
   },
   "file_extension": ".py",
   "mimetype": "text/x-python",
   "name": "python",
   "nbconvert_exporter": "python",
   "pygments_lexer": "ipython3",
   "version": "3.5.2"
  },
  "varInspector": {
   "cols": {
    "lenName": "50",
    "lenType": "50",
    "lenVar": "50"
   },
   "kernels_config": {
    "python": {
     "delete_cmd_postfix": "",
     "delete_cmd_prefix": "del ",
     "library": "var_list.py",
     "varRefreshCmd": "print(var_dic_list())"
    },
    "r": {
     "delete_cmd_postfix": ") ",
     "delete_cmd_prefix": "rm(",
     "library": "var_list.r",
     "varRefreshCmd": "cat(var_dic_list()) "
    }
   },
   "oldHeight": 467.89781800000003,
   "position": {
    "height": "489.716px",
    "left": "1387.27px",
    "right": "20px",
    "top": "170px",
    "width": "250px"
   },
   "types_to_exclude": [
    "module",
    "function",
    "builtin_function_or_method",
    "instance",
    "_Feature"
   ],
   "varInspector_section_display": "block",
   "window_display": false
  },
  "widgets": {
   "state": {},
   "version": "1.1.2"
  }
 },
 "nbformat": 4,
 "nbformat_minor": 2
}
