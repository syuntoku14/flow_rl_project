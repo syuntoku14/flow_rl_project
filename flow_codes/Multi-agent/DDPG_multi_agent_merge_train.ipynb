{
 "cells": [
  {
   "cell_type": "code",
   "execution_count": 1,
   "metadata": {},
   "outputs": [],
   "source": [
    "import numpy as np\n",
    "from flow.multiagent_envs import MultiWaveAttenuationMergePOEnv\n",
    "from flow.scenarios import MergeScenario\n",
    "from flow.utils.registry import make_create_env\n",
    "from flow.utils.rllib import FlowParamsEncoder\n",
    "from ray.tune import run_experiments\n",
    "\n",
    "import gym, ray\n",
    "from ray.rllib.agents.ddpg import DDPGAgent, DEFAULT_CONFIG\n",
    "from ray.tune.registry import register_env\n",
    "from ray.tune.logger import pretty_print\n",
    "\n",
    "benchmark_name = 'merge0'\n",
    "benchmark_name = 'multi_merge'"
   ]
  },
  {
   "cell_type": "code",
   "execution_count": 2,
   "metadata": {},
   "outputs": [],
   "source": [
    "alg_run = \"DDPG\"\n",
    "num_rollouts = 1\n",
    "num_cpus = 2\n",
    "gae_lambda = 0.97\n",
    "step_size = 5e-4"
   ]
  },
  {
   "cell_type": "code",
   "execution_count": 3,
   "metadata": {
    "scrolled": true
   },
   "outputs": [
    {
     "name": "stderr",
     "output_type": "stream",
     "text": [
      "Process STDOUT and STDERR is being redirected to /tmp/ray/session_2019-04-20_02-08-57_2053/logs.\n",
      "Waiting for redis server at 127.0.0.1:46813 to respond...\n",
      "Waiting for redis server at 127.0.0.1:56996 to respond...\n",
      "Starting the Plasma object store with 13.355121049 GB memory using /dev/shm.\n"
     ]
    },
    {
     "data": {
      "text/plain": [
       "{'node_ip_address': '169.237.32.118',\n",
       " 'object_store_addresses': ['/tmp/ray/session_2019-04-20_02-08-57_2053/sockets/plasma_store'],\n",
       " 'raylet_socket_names': ['/tmp/ray/session_2019-04-20_02-08-57_2053/sockets/raylet'],\n",
       " 'redis_address': '169.237.32.118:46813',\n",
       " 'webui_url': ''}"
      ]
     },
     "execution_count": 3,
     "metadata": {},
     "output_type": "execute_result"
    }
   ],
   "source": [
    "ray.init(num_cpus=num_cpus, include_webui=False, ignore_reinit_error=True)"
   ]
  },
  {
   "cell_type": "code",
   "execution_count": 8,
   "metadata": {},
   "outputs": [],
   "source": [
    "benchmark = __import__(\n",
    "    \"flow.benchmarks.%s\" % benchmark_name, fromlist=[\"flow_params\"])\n",
    "flow_params = benchmark.flow_params\n",
    "horizon = flow_params['env'].horizon\n",
    "sim_step = flow_params['sim'].sim_step\n",
    "\n",
    "def make_env(create_env):\n",
    "    def _thunk():\n",
    "        env = create_env()\n",
    "        return env\n",
    "    return _thunk\n",
    "\n",
    "create_env, env_name = make_create_env(params=flow_params, version=0)"
   ]
  },
  {
   "cell_type": "code",
   "execution_count": 9,
   "metadata": {},
   "outputs": [],
   "source": [
    "# Register as rllib env\n",
    "register_env(env_name, create_env)"
   ]
  },
  {
   "cell_type": "code",
   "execution_count": 10,
   "metadata": {},
   "outputs": [],
   "source": [
    "config = DEFAULT_CONFIG.copy()"
   ]
  },
  {
   "cell_type": "code",
   "execution_count": 11,
   "metadata": {},
   "outputs": [],
   "source": [
    "config[\"num_workers\"] = min(num_cpus, num_rollouts)\n",
    "config[\"train_batch_size\"] = horizon * num_rollouts\n",
    "config[\"horizon\"] = horizon\n",
    "config['timesteps_per_iteration'] = int(horizon / sim_step)\n",
    "config['clip_actions'] = False  # FIXME(ev) temporary ray bug\n",
    "config[\"model\"][\"fcnet_hiddens\"] = [100, 50, 25]\n",
    "config[\"observation_filter\"] = \"NoFilter\"\n",
    "\n",
    "# save the flow params for replay\n",
    "flow_json = json.dumps(\n",
    "    flow_params, cls=FlowParamsEncoder, sort_keys=True, indent=4)\n",
    "config['env_config']['flow_params'] = flow_json\n",
    "config['env_config']['run'] = alg_run"
   ]
  },
  {
   "cell_type": "code",
   "execution_count": 12,
   "metadata": {},
   "outputs": [],
   "source": [
    "exp_tag = {\n",
    "    \"run\": alg_run,\n",
    "    \"env\": env_name,\n",
    "    \"config\": {\n",
    "        **config\n",
    "    },\n",
    "    \"checkpoint_freq\": 25,\n",
    "    \"max_failures\": 999,\n",
    "    \"stop\": {\n",
    "        \"training_iteration\": 3\n",
    "    },\n",
    "    \"num_samples\": 1,\n",
    "}"
   ]
  },
  {
   "cell_type": "code",
   "execution_count": 13,
   "metadata": {},
   "outputs": [
    {
     "name": "stderr",
     "output_type": "stream",
     "text": [
      "== Status ==\n",
      "Using FIFO scheduling algorithm.\n",
      "Resources requested: 0/2 CPUs, 0/1 GPUs\n",
      "Memory usage on this node: 4.4/33.4 GB\n",
      "\n",
      "Created LogSyncer for /headless/ray_results/multi_merge/DDPG_MultiWaveAttenuationMergePOEnv-v0_0_2019-04-20_02-10-29tklxb4m0 -> \n",
      "== Status ==\n",
      "Using FIFO scheduling algorithm.\n",
      "Resources requested: 2/2 CPUs, 0/1 GPUs\n",
      "Memory usage on this node: 4.4/33.4 GB\n",
      "Result logdir: /headless/ray_results/multi_merge\n",
      "RUNNING trials:\n",
      " - DDPG_MultiWaveAttenuationMergePOEnv-v0_0:\tRUNNING\n",
      "\n",
      "Result for DDPG_MultiWaveAttenuationMergePOEnv-v0_0:\n",
      "  custom_metrics: {}\n",
      "  date: 2019-04-20_02-11-11\n",
      "  done: false\n",
      "  episode_len_mean: .nan\n",
      "  episode_reward_max: .nan\n",
      "  episode_reward_mean: .nan\n",
      "  episode_reward_min: .nan\n",
      "  episodes_this_iter: 0\n",
      "  episodes_total: 0\n",
      "  experiment_id: 4a68d09a9de641cba562acd145c43cf7\n",
      "  hostname: kronos\n",
      "  info:\n",
      "    grad_time_ms: .nan\n",
      "    learner: {}\n",
      "    max_exploration: 0.1\n",
      "    min_exploration: 0.1\n",
      "    num_steps_sampled: 1502\n",
      "    num_steps_trained: 0\n",
      "    num_target_updates: 269\n",
      "    opt_peak_throughput: 0.0\n",
      "    opt_samples: .nan\n",
      "    replay_time_ms: .nan\n",
      "    sample_time_ms: 34.441\n",
      "    update_time_ms: 10.854\n",
      "  iterations_since_restore: 1\n",
      "  node_ip: 169.237.32.118\n",
      "  num_metric_batches_dropped: 0\n",
      "  pid: 2094\n",
      "  policy_reward_mean: {}\n",
      "  time_since_restore: 26.97624707221985\n",
      "  time_this_iter_s: 26.97624707221985\n",
      "  time_total_s: 26.97624707221985\n",
      "  timestamp: 1555726271\n",
      "  timesteps_since_restore: 1502\n",
      "  timesteps_this_iter: 1502\n",
      "  timesteps_total: 1502\n",
      "  training_iteration: 1\n",
      "  \n",
      "== Status ==\n",
      "Using FIFO scheduling algorithm.\n",
      "Resources requested: 2/2 CPUs, 0/1 GPUs\n",
      "Memory usage on this node: 4.9/33.4 GB\n",
      "Result logdir: /headless/ray_results/multi_merge\n",
      "RUNNING trials:\n",
      " - DDPG_MultiWaveAttenuationMergePOEnv-v0_0:\tRUNNING [pid=2094], 26 s, 1 iter, 1502 ts, nan rew\n",
      "\n",
      "Result for DDPG_MultiWaveAttenuationMergePOEnv-v0_0:\n",
      "  custom_metrics: {}\n",
      "  date: 2019-04-20_02-12-26\n",
      "  done: false\n",
      "  episode_len_mean: 185.66666666666666\n",
      "  episode_reward_max: 164.67493339325273\n",
      "  episode_reward_mean: 109.72756145426551\n",
      "  episode_reward_min: 74.94794098086268\n",
      "  episodes_this_iter: 3\n",
      "  episodes_total: 3\n",
      "  experiment_id: 4a68d09a9de641cba562acd145c43cf7\n",
      "  hostname: kronos\n",
      "  info:\n",
      "    grad_time_ms: 66.153\n",
      "    learner: {}\n",
      "    max_exploration: 0.0852804\n",
      "    min_exploration: 0.0852804\n",
      "    num_steps_sampled: 3004\n",
      "    num_steps_trained: 254250\n",
      "    num_target_updates: 608\n",
      "    opt_peak_throughput: 11337.423\n",
      "    opt_samples: 750.0\n",
      "    replay_time_ms: 99.926\n",
      "    sample_time_ms: 32.062\n",
      "    update_time_ms: 10.007\n",
      "  iterations_since_restore: 2\n",
      "  node_ip: 169.237.32.118\n",
      "  num_metric_batches_dropped: 0\n",
      "  pid: 2094\n",
      "  policy_reward_mean: {}\n",
      "  time_since_restore: 101.89996290206909\n",
      "  time_this_iter_s: 74.92371582984924\n",
      "  time_total_s: 101.89996290206909\n",
      "  timestamp: 1555726346\n",
      "  timesteps_since_restore: 3004\n",
      "  timesteps_this_iter: 1502\n",
      "  timesteps_total: 3004\n",
      "  training_iteration: 2\n",
      "  \n",
      "== Status ==\n",
      "Using FIFO scheduling algorithm.\n",
      "Resources requested: 2/2 CPUs, 0/1 GPUs\n",
      "Memory usage on this node: 5.0/33.4 GB\n",
      "Result logdir: /headless/ray_results/multi_merge\n",
      "RUNNING trials:\n",
      " - DDPG_MultiWaveAttenuationMergePOEnv-v0_0:\tRUNNING [pid=2094], 101 s, 2 iter, 3004 ts, 110 rew\n",
      "\n",
      "Result for DDPG_MultiWaveAttenuationMergePOEnv-v0_0:\n",
      "  custom_metrics: {}\n",
      "  date: 2019-04-20_02-13-40\n",
      "  done: true\n",
      "  episode_len_mean: 226.75\n",
      "  episode_reward_max: 455.62093669787043\n",
      "  episode_reward_mean: 196.2009052651667\n",
      "  episode_reward_min: 74.94794098086268\n",
      "  episodes_this_iter: 1\n",
      "  episodes_total: 4\n",
      "  experiment_id: 4a68d09a9de641cba562acd145c43cf7\n",
      "  hostname: kronos\n",
      "  info:\n",
      "    grad_time_ms: 66.747\n",
      "    learner: {}\n",
      "    max_exploration: 0.0705608\n",
      "    min_exploration: 0.0705608\n",
      "    num_steps_sampled: 4509\n",
      "    num_steps_trained: 519000\n",
      "    num_target_updates: 961\n",
      "    opt_peak_throughput: 11236.384\n",
      "    opt_samples: 750.0\n",
      "    replay_time_ms: 99.254\n",
      "    sample_time_ms: 33.389\n",
      "    update_time_ms: 10.926\n",
      "  iterations_since_restore: 3\n",
      "  node_ip: 169.237.32.118\n",
      "  num_metric_batches_dropped: 0\n",
      "  pid: 2094\n",
      "  policy_reward_mean: {}\n",
      "  time_since_restore: 176.39556336402893\n",
      "  time_this_iter_s: 74.49560046195984\n",
      "  time_total_s: 176.39556336402893\n",
      "  timestamp: 1555726420\n",
      "  timesteps_since_restore: 4509\n",
      "  timesteps_this_iter: 1505\n",
      "  timesteps_total: 4509\n",
      "  training_iteration: 3\n",
      "  \n",
      "== Status ==\n",
      "Using FIFO scheduling algorithm.\n",
      "Resources requested: 0/2 CPUs, 0/1 GPUs\n",
      "Memory usage on this node: 5.1/33.4 GB\n",
      "Result logdir: /headless/ray_results/multi_merge\n",
      "TERMINATED trials:\n",
      " - DDPG_MultiWaveAttenuationMergePOEnv-v0_0:\tTERMINATED [pid=2094], 176 s, 3 iter, 4509 ts, 196 rew\n",
      "\n",
      "== Status ==\n",
      "Using FIFO scheduling algorithm.\n",
      "Resources requested: 0/2 CPUs, 0/1 GPUs\n",
      "Memory usage on this node: 5.1/33.4 GB\n",
      "Result logdir: /headless/ray_results/multi_merge\n",
      "TERMINATED trials:\n",
      " - DDPG_MultiWaveAttenuationMergePOEnv-v0_0:\tTERMINATED [pid=2094], 176 s, 3 iter, 4509 ts, 196 rew\n",
      "\n"
     ]
    }
   ],
   "source": [
    "trials = run_experiments({\n",
    "        flow_params[\"exp_tag\"]: exp_tag\n",
    "    })"
   ]
  },
  {
   "cell_type": "code",
   "execution_count": null,
   "metadata": {},
   "outputs": [],
   "source": []
  }
 ],
 "metadata": {
  "kernelspec": {
   "display_name": "Python 3",
   "language": "python",
   "name": "python3"
  },
  "varInspector": {
   "cols": {
    "lenName": "50",
    "lenType": "50",
    "lenVar": "50"
   },
   "kernels_config": {
    "python": {
     "delete_cmd_postfix": "",
     "delete_cmd_prefix": "del ",
     "library": "var_list.py",
     "varRefreshCmd": "print(var_dic_list())"
    },
    "r": {
     "delete_cmd_postfix": ") ",
     "delete_cmd_prefix": "rm(",
     "library": "var_list.r",
     "varRefreshCmd": "cat(var_dic_list()) "
    }
   },
   "oldHeight": 467.89781800000003,
   "position": {
    "height": "489.716px",
    "left": "1387.27px",
    "right": "20px",
    "top": "170px",
    "width": "250px"
   },
   "types_to_exclude": [
    "module",
    "function",
    "builtin_function_or_method",
    "instance",
    "_Feature"
   ],
   "varInspector_section_display": "block",
   "window_display": false
  },
  "widgets": {
   "state": {},
   "version": "1.1.2"
  }
 },
 "nbformat": 4,
 "nbformat_minor": 2
}
