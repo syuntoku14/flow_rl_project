{
 "cells": [
  {
   "cell_type": "code",
   "execution_count": 1,
   "metadata": {},
   "outputs": [],
   "source": [
    "import sys, os\n",
    "sys.path.append(os.path.join(os.getcwd(), '..'))\n",
    "sys.path = list(set(sys.path))\n",
    "from common.multiprocessing_env import SubprocVecEnv\n",
    "from common.utils import *\n",
    "from common.evaluate import *\n",
    "\n",
    "from flow.multiagent_envs import MultiWaveAttenuationPOEnv\n",
    "from flow.scenarios import LoopScenario\n",
    "from flow.utils.registry import make_create_env\n",
    "\n",
    "benchmark_name = 'multi_ringroad'"
   ]
  },
  {
   "cell_type": "code",
   "execution_count": 2,
   "metadata": {},
   "outputs": [],
   "source": [
    "benchmark = __import__(\n",
    "    \"flow.benchmarks.%s\" % benchmark_name, fromlist=[\"flow_params\"])\n",
    "flow_params = benchmark.flow_params\n",
    "HORIZON = flow_params['env'].horizon\n",
    "\n",
    "def make_env(create_env):\n",
    "    def _thunk():\n",
    "        env = create_env()\n",
    "        return env\n",
    "    return _thunk\n",
    "\n",
    "create_env, env_name = make_create_env(params=flow_params, version=0)"
   ]
  },
  {
   "cell_type": "code",
   "execution_count": 3,
   "metadata": {},
   "outputs": [],
   "source": [
    "env = create_env()"
   ]
  },
  {
   "cell_type": "code",
   "execution_count": 4,
   "metadata": {},
   "outputs": [
    {
     "name": "stdout",
     "output_type": "stream",
     "text": [
      "Could not connect to TraCI server at localhost:41258 [Errno 111] Connection refused\n",
      " Retrying in 1 seconds\n"
     ]
    }
   ],
   "source": [
    "env = make_vis_env(flow_params, MultiWaveAttenuationPOEnv, LoopScenario)"
   ]
  },
  {
   "cell_type": "code",
   "execution_count": 4,
   "metadata": {},
   "outputs": [
    {
     "data": {
      "text/plain": [
       "{'rl_0': array([0.        , 0.        , 0.01565934]),\n",
       " 'rl_1': array([0.        , 0.        , 0.01565934]),\n",
       " 'rl_2': array([0.        , 0.        , 0.01573077])}"
      ]
     },
     "execution_count": 4,
     "metadata": {},
     "output_type": "execute_result"
    }
   ],
   "source": [
    "env.reset()"
   ]
  },
  {
   "cell_type": "code",
   "execution_count": 6,
   "metadata": {},
   "outputs": [
    {
     "name": "stdout",
     "output_type": "stream",
     "text": [
      "2.802270488099539\n",
      "2.8156317860073328\n",
      "2.8298652205061012\n",
      "2.8442413416337127\n",
      "2.856171537609911\n",
      "2.8708437572565724\n",
      "2.8825507346084196\n",
      "2.894780631714808\n",
      "2.907849790722632\n",
      "2.9205198584359264\n",
      "2.9319467137687005\n",
      "2.944025484564704\n",
      "2.954637483954273\n",
      "2.966014562525357\n",
      "2.9782899769868125\n",
      "2.9888304391450826\n",
      "2.9991761619409827\n",
      "3.009035436371147\n",
      "3.0190713084981526\n",
      "3.029239673829506\n",
      "3.038498254594166\n",
      "3.0469016805721973\n",
      "3.0553252706795084\n",
      "3.064205234314338\n",
      "3.072494668368641\n",
      "3.081540087683954\n",
      "3.0891435690649214\n",
      "3.096368844325711\n",
      "3.1046405927207896\n",
      "3.110638018431767\n",
      "3.1159283007887817\n",
      "3.1231583752567422\n",
      "3.1291962975729555\n",
      "3.135278950272186\n",
      "3.143706945604685\n",
      "3.148846111240969\n",
      "3.155333138902645\n",
      "3.1623339768717385\n",
      "3.1696360274001596\n",
      "3.175849166768173\n",
      "3.1807724797472607\n",
      "3.1864582888358846\n",
      "3.1907835575483294\n",
      "3.196630207689619\n",
      "3.202677160413829\n",
      "3.208036485498045\n",
      "3.2138600363936076\n",
      "3.2180484040037975\n",
      "3.221480479900831\n",
      "3.225951873550092\n",
      "3.2319154529625616\n",
      "3.2356340959578302\n",
      "3.239646998236671\n",
      "3.2430392798746324\n",
      "3.2473252021983163\n",
      "3.251388262407601\n",
      "3.255905779328052\n",
      "3.2590543556945994\n",
      "3.2616783668970215\n",
      "3.26424938443716\n",
      "3.2667907855356297\n",
      "3.269283019029893\n",
      "3.27202832616061\n",
      "3.273452592334407\n",
      "3.2760150367097554\n",
      "3.279086488239696\n",
      "3.280480277017941\n",
      "3.28318201352113\n",
      "3.285437425748964\n",
      "3.2888043634566957\n",
      "3.2917209206803832\n",
      "3.293758552198677\n",
      "3.294352675321248\n",
      "3.295213274060212\n",
      "3.2965511970319747\n",
      "3.298931537234344\n",
      "3.3007975097842484\n",
      "3.3038484187672155\n",
      "3.3061546737885514\n",
      "3.306346457175379\n",
      "3.30591806204673\n",
      "3.3076936688974796\n",
      "3.307481383202341\n",
      "3.309662206634768\n",
      "3.3096956031772997\n",
      "3.3101253263112405\n",
      "3.309591746588821\n",
      "3.3109642351406094\n",
      "3.3117097989407354\n",
      "3.3125182227646874\n",
      "3.3129269437388347\n",
      "3.3131551315009604\n",
      "3.31365082292699\n",
      "3.313838844472187\n",
      "3.312331036892066\n",
      "3.3133361255091387\n",
      "3.3141872852401972\n",
      "3.3139084363200437\n",
      "3.3134713043570607\n",
      "3.313256929715699\n"
     ]
    }
   ],
   "source": [
    "for _ in range(100):\n",
    "    ids = env.k.vehicle.get_rl_ids()\n",
    "    actions = {}\n",
    "    for id_ in ids:\n",
    "        actions.update({id_: 0})\n",
    "    # print(actions)\n",
    "    _, rew, _, _ = env.step(actions)\n",
    "    print(rew)"
   ]
  }
 ],
 "metadata": {
  "kernelspec": {
   "display_name": "Python 3",
   "language": "python",
   "name": "python3"
  },
  "language_info": {
   "codemirror_mode": {
    "name": "ipython",
    "version": 3
   },
   "file_extension": ".py",
   "mimetype": "text/x-python",
   "name": "python",
   "nbconvert_exporter": "python",
   "pygments_lexer": "ipython3",
   "version": "3.5.2"
  },
  "varInspector": {
   "cols": {
    "lenName": "50",
    "lenType": "50",
    "lenVar": "50"
   },
   "kernels_config": {
    "python": {
     "delete_cmd_postfix": "",
     "delete_cmd_prefix": "del ",
     "library": "var_list.py",
     "varRefreshCmd": "print(var_dic_list())"
    },
    "r": {
     "delete_cmd_postfix": ") ",
     "delete_cmd_prefix": "rm(",
     "library": "var_list.r",
     "varRefreshCmd": "cat(var_dic_list()) "
    }
   },
   "types_to_exclude": [
    "module",
    "function",
    "builtin_function_or_method",
    "instance",
    "_Feature"
   ],
   "window_display": false
  },
  "widgets": {
   "state": {},
   "version": "1.1.2"
  }
 },
 "nbformat": 4,
 "nbformat_minor": 2
}
