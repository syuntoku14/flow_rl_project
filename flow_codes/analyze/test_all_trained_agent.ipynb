{
 "cells": [
  {
   "cell_type": "code",
   "execution_count": 3,
   "metadata": {},
   "outputs": [
    {
     "name": "stderr",
     "output_type": "stream",
     "text": [
      "Process STDOUT and STDERR is being redirected to /tmp/ray/session_2019-04-29_16-40-33_37136/logs.\n",
      "Waiting for redis server at 127.0.0.1:49515 to respond...\n",
      "Waiting for redis server at 127.0.0.1:53775 to respond...\n",
      "Warning: Capping object memory store to 20.0GB. To increase this further, specify `object_store_memory` when calling ray.init() or ray start.\n",
      "Starting the Plasma object store with 20.0 GB memory using /dev/shm.\n"
     ]
    },
    {
     "data": {
      "text/plain": [
       "{'node_ip_address': '10.138.0.2',\n",
       " 'object_store_addresses': ['/tmp/ray/session_2019-04-29_16-40-33_37136/sockets/plasma_store'],\n",
       " 'raylet_socket_names': ['/tmp/ray/session_2019-04-29_16-40-33_37136/sockets/raylet'],\n",
       " 'redis_address': '10.138.0.2:49515',\n",
       " 'webui_url': ''}"
      ]
     },
     "execution_count": 3,
     "metadata": {},
     "output_type": "execute_result"
    }
   ],
   "source": [
    "import os, sys, pickle\n",
    "from tqdm import tqdm_notebook as tqdm\n",
    "import numpy as np\n",
    "sys.path.append(os.path.join(os.getcwd(), '..'))\n",
    "sys.path = list(set(sys.path))\n",
    "import matplotlib.pyplot as plt\n",
    "\n",
    "from results_path import DDPG_PATH, PPO_PATH\n",
    "\n",
    "from common.evaluate import make_vis_env, test_env\n",
    "\n",
    "from flow.multiagent_envs import MultiWaveAttenuationMergePOEnv\n",
    "from flow.scenarios import MergeScenario\n",
    "from flow.utils.registry import make_create_env\n",
    "from flow.utils.rllib import FlowParamsEncoder\n",
    "from ray.tune import run_experiments\n",
    "\n",
    "import gym, ray\n",
    "from ray.rllib.agents.ppo import PPOAgent, DEFAULT_CONFIG\n",
    "from ray.rllib.agents.ddpg import DDPGAgent, DEFAULT_CONFIG\n",
    "from ray.tune.registry import register_env\n",
    "from ray.tune.logger import pretty_print\n",
    "\n",
    "exp_name = 'random_env'\n",
    "checkpoint = '200'\n",
    "try_6_times = True\n",
    "\n",
    "results_list = os.listdir('/headless/ray_results/' + exp_name)\n",
    "\n",
    "benchmark_name = 'multi_merge'\n",
    "benchmark = __import__(\n",
    "    \"flow.benchmarks.%s\" % benchmark_name, fromlist=[\"flow_params\"])\n",
    "flow_params = benchmark.buffered_obs_flow_params\n",
    "horizon = flow_params['env'].horizon\n",
    "create_env, env_name = make_create_env(params=flow_params, version=0)\n",
    "\n",
    "ray.init(num_cpus=1, include_webui=False, ignore_reinit_error=True)"
   ]
  },
  {
   "cell_type": "code",
   "execution_count": null,
   "metadata": {},
   "outputs": [
    {
     "name": "stderr",
     "output_type": "stream",
     "text": [
      "Created LogSyncer for /headless/ray_results/PPO_MultiWaveAttenuationMergePOEnvBufferedObs-v0_2019-04-29_16-40-36ks6026bb -> None\n",
      "2019-04-29 16:40:36,649\tWARNING ppo.py:137 -- By default, observations will be normalized with MeanStdFilter\n",
      " Starting SUMO on port 60059\n"
     ]
    },
    {
     "name": "stdout",
     "output_type": "stream",
     "text": [
      "AGENT_PATH: PPO_MultiWaveAttenuationMergePOEnvBufferedObs-v0_[eta1, eta2, eta3]:[1.0, 0.3, 0.3]_t_min:10.0_3_2019-04-29_12-57-01cqg7tupk\n"
     ]
    },
    {
     "name": "stderr",
     "output_type": "stream",
     "text": [
      "2019-04-29 16:40:37,773\tINFO policy_evaluator.py:262 -- Creating policy evaluation worker 0 on CPU (please ignore any CUDA init errors)\n",
      "/opt/conda/envs/flow/lib/python3.5/site-packages/tensorflow/python/ops/gradients_impl.py:108: UserWarning: Converting sparse IndexedSlices to a dense Tensor of unknown shape. This may consume a large amount of memory.\n",
      "  \"Converting sparse IndexedSlices to a dense Tensor of unknown shape. \"\n",
      " Starting SUMO on port 60059\n",
      "2019-04-29 16:40:42,992\tINFO multi_gpu_optimizer.py:74 -- LocalMultiGPUOptimizer devices ['/cpu:0']\n",
      "/opt/conda/envs/flow/lib/python3.5/site-packages/tensorflow/python/ops/gradients_impl.py:108: UserWarning: Converting sparse IndexedSlices to a dense Tensor of unknown shape. This may consume a large amount of memory.\n",
      "  \"Converting sparse IndexedSlices to a dense Tensor of unknown shape. \"\n",
      " Starting SUMO on port 59773\n",
      " Starting SUMO on port 59773\n",
      " Starting SUMO on port 59773\n",
      " Starting SUMO on port 59773\n",
      " Starting SUMO on port 59773\n",
      " Starting SUMO on port 59773\n",
      " Starting SUMO on port 59773\n",
      "Created LogSyncer for /headless/ray_results/PPO_MultiWaveAttenuationMergePOEnvBufferedObs-v0_2019-04-29_16-48-00ejw1o5kl -> None\n",
      "2019-04-29 16:48:00,086\tWARNING ppo.py:137 -- By default, observations will be normalized with MeanStdFilter\n"
     ]
    },
    {
     "name": "stdout",
     "output_type": "stream",
     "text": [
      "AGENT_PATH: PPO_MultiWaveAttenuationMergePOEnvBufferedObs-v0_[eta1, eta2, eta3]:[1.0, 0.1, 0.3]_t_min:10.0_1_2019-04-29_08-39-47rte95vru\n"
     ]
    },
    {
     "name": "stderr",
     "output_type": "stream",
     "text": [
      " Starting SUMO on port 60313\n",
      "2019-04-29 16:48:01,598\tINFO policy_evaluator.py:262 -- Creating policy evaluation worker 0 on CPU (please ignore any CUDA init errors)\n",
      "/opt/conda/envs/flow/lib/python3.5/site-packages/tensorflow/python/ops/gradients_impl.py:108: UserWarning: Converting sparse IndexedSlices to a dense Tensor of unknown shape. This may consume a large amount of memory.\n",
      "  \"Converting sparse IndexedSlices to a dense Tensor of unknown shape. \"\n",
      " Starting SUMO on port 60313\n",
      "2019-04-29 16:48:07,007\tINFO multi_gpu_optimizer.py:74 -- LocalMultiGPUOptimizer devices ['/cpu:0']\n",
      "/opt/conda/envs/flow/lib/python3.5/site-packages/tensorflow/python/ops/gradients_impl.py:108: UserWarning: Converting sparse IndexedSlices to a dense Tensor of unknown shape. This may consume a large amount of memory.\n",
      "  \"Converting sparse IndexedSlices to a dense Tensor of unknown shape. \"\n",
      " Starting SUMO on port 57287\n",
      " Starting SUMO on port 57287\n",
      " Starting SUMO on port 57287\n",
      " Starting SUMO on port 57287\n",
      " Starting SUMO on port 57287\n",
      " Starting SUMO on port 57287\n",
      " Starting SUMO on port 57287\n",
      "Created LogSyncer for /headless/ray_results/PPO_MultiWaveAttenuationMergePOEnvBufferedObs-v0_2019-04-29_16-55-404ti1aoo4 -> None\n",
      "2019-04-29 16:55:40,485\tWARNING ppo.py:137 -- By default, observations will be normalized with MeanStdFilter\n"
     ]
    },
    {
     "name": "stdout",
     "output_type": "stream",
     "text": [
      "AGENT_PATH: PPO_MultiWaveAttenuationMergePOEnvBufferedObs-v0_[eta1, eta2, eta3]:[1.0, 0.1, 0.1]_t_min:10.0_0_2019-04-29_06-30-44frj6v1dt\n"
     ]
    },
    {
     "name": "stderr",
     "output_type": "stream",
     "text": [
      " Starting SUMO on port 55635\n",
      "2019-04-29 16:55:42,202\tINFO policy_evaluator.py:262 -- Creating policy evaluation worker 0 on CPU (please ignore any CUDA init errors)\n",
      "/opt/conda/envs/flow/lib/python3.5/site-packages/tensorflow/python/ops/gradients_impl.py:108: UserWarning: Converting sparse IndexedSlices to a dense Tensor of unknown shape. This may consume a large amount of memory.\n",
      "  \"Converting sparse IndexedSlices to a dense Tensor of unknown shape. \"\n",
      " Starting SUMO on port 55635\n",
      "2019-04-29 16:55:47,787\tINFO multi_gpu_optimizer.py:74 -- LocalMultiGPUOptimizer devices ['/cpu:0']\n",
      "/opt/conda/envs/flow/lib/python3.5/site-packages/tensorflow/python/ops/gradients_impl.py:108: UserWarning: Converting sparse IndexedSlices to a dense Tensor of unknown shape. This may consume a large amount of memory.\n",
      "  \"Converting sparse IndexedSlices to a dense Tensor of unknown shape. \"\n",
      " Starting SUMO on port 46603\n",
      " Starting SUMO on port 46603\n",
      " Starting SUMO on port 46603\n",
      " Starting SUMO on port 46603\n",
      " Starting SUMO on port 46603\n",
      " Starting SUMO on port 46603\n",
      " Starting SUMO on port 46603\n",
      "Created LogSyncer for /headless/ray_results/PPO_MultiWaveAttenuationMergePOEnvBufferedObs-v0_2019-04-29_17-03-32m4qdvdwn -> None\n",
      "2019-04-29 17:03:32,058\tWARNING ppo.py:137 -- By default, observations will be normalized with MeanStdFilter\n"
     ]
    },
    {
     "name": "stdout",
     "output_type": "stream",
     "text": [
      "AGENT_PATH: PPO_MultiWaveAttenuationMergePOEnvBufferedObs-v0_[eta1, eta2, eta3]:[1.0, 0.3, 0.1]_t_min:10.0_2_2019-04-29_10-53-00mngyucc0\n"
     ]
    },
    {
     "name": "stderr",
     "output_type": "stream",
     "text": [
      " Starting SUMO on port 41479\n",
      "2019-04-29 17:03:33,982\tINFO policy_evaluator.py:262 -- Creating policy evaluation worker 0 on CPU (please ignore any CUDA init errors)\n",
      "/opt/conda/envs/flow/lib/python3.5/site-packages/tensorflow/python/ops/gradients_impl.py:108: UserWarning: Converting sparse IndexedSlices to a dense Tensor of unknown shape. This may consume a large amount of memory.\n",
      "  \"Converting sparse IndexedSlices to a dense Tensor of unknown shape. \"\n",
      " Starting SUMO on port 41479\n",
      "2019-04-29 17:03:40,291\tINFO multi_gpu_optimizer.py:74 -- LocalMultiGPUOptimizer devices ['/cpu:0']\n",
      "/opt/conda/envs/flow/lib/python3.5/site-packages/tensorflow/python/ops/gradients_impl.py:108: UserWarning: Converting sparse IndexedSlices to a dense Tensor of unknown shape. This may consume a large amount of memory.\n",
      "  \"Converting sparse IndexedSlices to a dense Tensor of unknown shape. \"\n",
      " Starting SUMO on port 44341\n",
      " Starting SUMO on port 44341\n",
      " Starting SUMO on port 44341\n",
      " Starting SUMO on port 44341\n",
      " Starting SUMO on port 44341\n",
      " Starting SUMO on port 44341\n",
      " Starting SUMO on port 44341\n"
     ]
    },
    {
     "name": "stdout",
     "output_type": "stream",
     "text": [
      "\n"
     ]
    }
   ],
   "source": [
    "register_env(env_name, create_env)\n",
    "\n",
    "for AGENT_PATH in tqdm(results_list, desc='Results'):\n",
    "    print('AGENT_PATH: {}'.format(AGENT_PATH))\n",
    "    \n",
    "    AGENT = AGENT_PATH[:AGENT_PATH.find('_')]\n",
    "    PATH = exp_name + '/' + AGENT_PATH\n",
    "    config_path = '/headless/rl_project/ray_results/' + PATH + '/params.pkl'\n",
    "    checkpoint_path = '/headless/rl_project/ray_results/' + PATH + '/checkpoint_{}/checkpoint-{}'.format(checkpoint, checkpoint)\n",
    "\n",
    "    with open(config_path, mode='rb') as f:\n",
    "        config = pickle.load(f)\n",
    "\n",
    "    if AGENT == 'PPO':\n",
    "        agent = PPOAgent(config=config, env=env_name)\n",
    "    elif AGENT == 'DDPG':\n",
    "        agent = DDPGAgent(config=config, env=env_name)\n",
    "        \n",
    "    try:\n",
    "        agent.restore(checkpoint_path)\n",
    "    except:\n",
    "        print(\"{} \\n checkpoint doesn't exist\".format(PATH + '/checkpoint_{}/checkpoint-{}'.format(checkpoint, checkpoint)))\n",
    "        pass\n",
    "    \n",
    "    env = create_env()\n",
    "    # calculate the space-time velocity map\n",
    "    left_length = env.k.scenario.edge_length('left')\n",
    "    car_length = 5.0\n",
    "    scale = 10\n",
    "    vel_lists = []\n",
    "    vel_map_lists = []\n",
    "    outflow_lists = []\n",
    "\n",
    "    num_iter = 6 if try_6_times else 1\n",
    "    \n",
    "    for _ in tqdm(range(num_iter), desc='Trials'):\n",
    "        state = env.reset()\n",
    "        vel = []\n",
    "        outflow = []\n",
    "        for i in tqdm(range(env.env_params.horizon), desc='env step'):\n",
    "            # record the mean velocity\n",
    "            v = np.mean(env.k.vehicle.get_speed(env.k.vehicle.get_ids()))\n",
    "            vel.append(v)\n",
    "            \n",
    "            # record the velocity map\n",
    "            ids = env.k.vehicle.get_ids()\n",
    "            vel_map_ = np.zeros(int(left_length)*scale)\n",
    "            for id_ in ids:\n",
    "                pos_ = np.round(env.k.vehicle.get_position(id_), decimals=1)\n",
    "                vel_ = env.k.vehicle.get_speed(id_)\n",
    "                pos_bottom = max(0, int((pos_-car_length/2.0)*scale))\n",
    "                pos_top = min(int(left_length)*scale, int((pos_+car_length/2.0)*scale))\n",
    "                vel_map_[pos_bottom:pos_top] = vel_            \n",
    "\n",
    "            # step the simulation\n",
    "            rl_ids = env.k.vehicle.get_rl_ids()\n",
    "            actions = {}\n",
    "            if AGENT != 'HUMAN':\n",
    "                for id_ in rl_ids:\n",
    "                    action = agent.compute_action(state[id_])\n",
    "                    actions.update({id_: action})\n",
    "            state, r, _, _ = env.step(actions)\n",
    "            outflow.append(env.k.vehicle.get_outflow_rate(600)) # measured by one min\n",
    "\n",
    "            if i == 0:\n",
    "                vel_map_list = vel_map_\n",
    "            else:\n",
    "                vel_map_list = np.vstack((vel_map_list, vel_map_))\n",
    "\n",
    "        outflow_lists.append(outflow[-500:])\n",
    "        vel_lists.append(vel)\n",
    "        vel_map_list[vel_map_list==0.0] = np.nan\n",
    "        vel_map_lists.append(vel_map_list)\n",
    "        \n",
    "    vel_fig, ax = plt.subplots(nrows=1, ncols=1)\n",
    "    for i in range(num_iter):\n",
    "        ax.plot(vel_lists[i])\n",
    "    title = AGENT + ' multi-agent mean velocity'\n",
    "    title = title + ' \\n mean velocity {:3f}'.format(np.mean(vel_lists))\n",
    "    title = title + ' \\n mean outflow rate {:3f}'.format(np.mean(outflow_lists))\n",
    "    ax.set_ylabel('system level mean velocity (m/s)')\n",
    "    ax.set_xlabel('step')\n",
    "    vel_fig.suptitle(title)\n",
    "    plt.subplots_adjust(top=0.8)\n",
    "    \n",
    "    \n",
    "    nrows = 2 if try_6_times else 1\n",
    "    ncols = 3 if try_6_times else 1\n",
    "    space_fig, axes = plt.subplots(nrows=nrows, ncols=ncols, figsize=(10, 6))\n",
    "    space_fig.tight_layout()\n",
    "\n",
    "    for i in range(num_iter):\n",
    "        # plt.subplot(2, 3, i+1)\n",
    "        x = np.arange(int(env.env_params.horizon))\n",
    "        y = np.arange(0, int(left_length), step=0.1)\n",
    "        xx, yy = np.meshgrid(x, y)\n",
    "        try:\n",
    "            im = axes[i%2, i%3].pcolormesh(xx, yy, vel_map_lists[i].T)\n",
    "            if i % 3 == 0:\n",
    "                axes[i%2, i%3].set_ylabel('Position (m)')\n",
    "            if int(i / 3.0) > 0:\n",
    "                axes[int(i/3), int(i/3)].set_xlabel('step')\n",
    "        except:\n",
    "            im = axes.pcolormesh(xx, yy, vel_map_lists[i].T)\n",
    "            if i % 3 == 0:\n",
    "                axes.set_ylabel('Position (m)')\n",
    "            if int(i / 3.0) > 0:\n",
    "                axes.set_xlabel('step')\n",
    "\n",
    "    try:\n",
    "        clb = space_fig.colorbar(im, ax=axes.ravel().tolist(), shrink=0.95)\n",
    "    except:\n",
    "        clb = space_fig.colorbar(im, ax=axes, shrink=0.95)\n",
    "\n",
    "    clb.set_clim(0, 30)\n",
    "    clb.set_label('Velocity (m/s)')\n",
    "    title = AGENT + ' Space-Time Diagram of 600 meter merge road'\n",
    "    space_fig.suptitle(title)   \n",
    "    plt.subplots_adjust(top=0.9, right=0.8)\n",
    "    \n",
    "    # save figures\n",
    "    filename = PATH[PATH.find('/') + 1:].replace(' ', '_') + '.png'\n",
    "    vel_dir = '../result/MultiMerge/' + AGENT + '/' + exp_name + '/mean_velocity/'\n",
    "    space_dir = '../result/MultiMerge/' + AGENT + '/' + exp_name + '/space_time_diagram/'\n",
    "    os.makedirs(vel_dir, exist_ok=True)\n",
    "    os.makedirs(space_dir, exist_ok=True)\n",
    "\n",
    "    vel_fig.savefig(vel_dir + filename)\n",
    "    space_fig.savefig(space_dir + filename)"
   ]
  },
  {
   "cell_type": "code",
   "execution_count": null,
   "metadata": {},
   "outputs": [],
   "source": []
  }
 ],
 "metadata": {
  "kernelspec": {
   "display_name": "Python 3",
   "language": "python",
   "name": "python3"
  },
  "language_info": {
   "codemirror_mode": {
    "name": "ipython",
    "version": 3
   },
   "file_extension": ".py",
   "mimetype": "text/x-python",
   "name": "python",
   "nbconvert_exporter": "python",
   "pygments_lexer": "ipython3",
   "version": "3.5.2"
  },
  "varInspector": {
   "cols": {
    "lenName": "50",
    "lenType": "50",
    "lenVar": "50"
   },
   "kernels_config": {
    "python": {
     "delete_cmd_postfix": "",
     "delete_cmd_prefix": "del ",
     "library": "var_list.py",
     "varRefreshCmd": "print(var_dic_list())"
    },
    "r": {
     "delete_cmd_postfix": ") ",
     "delete_cmd_prefix": "rm(",
     "library": "var_list.r",
     "varRefreshCmd": "cat(var_dic_list()) "
    }
   },
   "types_to_exclude": [
    "module",
    "function",
    "builtin_function_or_method",
    "instance",
    "_Feature"
   ],
   "window_display": false
  },
  "widgets": {
   "state": {
    "001c25e7d6b74af3b33abde59efecfac": {
     "views": []
    },
    "00687db7005f4412be396cd439192b6f": {
     "views": []
    },
    "00e82db895634eda8a35a296ddeaec6d": {
     "views": []
    },
    "01125e8d509941d39f47510beb938994": {
     "views": [
      {
       "cell_index": 1
      }
     ]
    },
    "01d5b4df9e6d4e7994b5952ddead7b3f": {
     "views": []
    },
    "01ffdffd320d411b9e4d3fa46274efff": {
     "views": []
    },
    "030d15bff5ce41c5972b99909f57b94a": {
     "views": []
    },
    "03762f3be9fb466a8842c7b25561304e": {
     "views": []
    },
    "0377b2a0364b4c409244e1f7c6437bd4": {
     "views": []
    },
    "045f4bdfbf4640f0b3cd865eae10accd": {
     "views": []
    },
    "04c0870a75284a1e876ac871c27519cf": {
     "views": []
    },
    "05ea58c634064299943fab57bd5a4afc": {
     "views": []
    },
    "06597e78f2bc4a03b51bb156274a3421": {
     "views": []
    },
    "077bfe00bd754984a4527e7a91db9d7c": {
     "views": []
    },
    "0810dcc01a6b43c2951b045d51f91d5d": {
     "views": []
    },
    "089b1864ce1f4b8fb09b307399df7bc1": {
     "views": []
    },
    "09116dccba9842558dddf6ed793b7111": {
     "views": [
      {
       "cell_index": 1
      }
     ]
    },
    "0914bf58f50341c7973dfdb9535e44d3": {
     "views": []
    },
    "091b5c3d066c4a7ea04fe7c48b25dace": {
     "views": []
    },
    "0986b702a333464d8b7e4a02076c9cb8": {
     "views": []
    },
    "09c9aa4d6ba5485785e574092075c044": {
     "views": []
    },
    "0a1cadbcc3c44dcfa7cabeb1254f7aa5": {
     "views": []
    },
    "0aae8cbc70034acfbc51f39f7ac44198": {
     "views": []
    },
    "0b07cd464aaf4775a9367b901bffdc61": {
     "views": []
    },
    "0b34fd38a0b24c168ce81e71a86d8284": {
     "views": []
    },
    "0c997e7cc0804a41a787cba460d44067": {
     "views": []
    },
    "0cddd1c324c14f02b8b976c1cda37416": {
     "views": []
    },
    "0e56e68822e949619c152379e42deda1": {
     "views": []
    },
    "101852a7839a42e3aaf6cc5128ca593b": {
     "views": []
    },
    "10c4f901498f43748cc8907a4fa5c61d": {
     "views": []
    },
    "10ffb693eedf4a1980ddfebcfc2778bc": {
     "views": []
    },
    "11f6b5fa8229447aa6a8d48af0ef744c": {
     "views": []
    },
    "1201f0d871224583a6396c8984a33371": {
     "views": [
      {
       "cell_index": 1
      }
     ]
    },
    "1242a4d2d5df4e87aa9804df481fce83": {
     "views": []
    },
    "13352b28df0d42a89a45bebdb6a468cd": {
     "views": []
    },
    "139fe8f514e94436be250a69b686cb01": {
     "views": []
    },
    "13a6d445e5dd42c0924ac0724cb5a86e": {
     "views": [
      {
       "cell_index": 1
      }
     ]
    },
    "160821e2b02140dd9dd90d619fa5f086": {
     "views": []
    },
    "163a7177e0c94e308d03f5b44a8cc3fc": {
     "views": [
      {
       "cell_index": 1
      }
     ]
    },
    "165150ffe09e4fdebe5a66eee3b74c76": {
     "views": []
    },
    "17a47187b0fe4dd3986c12407018f644": {
     "views": []
    },
    "197dd3f8aa2542a9b526c8f496d0b92a": {
     "views": []
    },
    "1a1186ee2a4a4e3c807d46a232bc9ee6": {
     "views": []
    },
    "1a6e64ccdc6440748fdfbdac2e3eef9a": {
     "views": []
    },
    "1af487e3083f4368ab73ad9d69cf88aa": {
     "views": []
    },
    "1bd38cad714c44428e02e82945e05093": {
     "views": []
    },
    "1cb03f5c17684efba70ea2f925507be4": {
     "views": []
    },
    "1cc3cab70bbd4bf8972e7263990d1b32": {
     "views": []
    },
    "1d71b07b8db64cb28d825998ce0a9937": {
     "views": []
    },
    "1e2ad9a9e9d44995b7867990f1427057": {
     "views": []
    },
    "1e381b98eb6b4a2b9be8207d18e9146f": {
     "views": []
    },
    "1e5e40a5df99424f81dad7911d91eb16": {
     "views": []
    },
    "1e6bd71d4f6e49b0997cae1e42b56f6e": {
     "views": []
    },
    "1eff60439e384c2d977aa9f390a25580": {
     "views": []
    },
    "1f40603f4a7c4821b29299f6c4399a35": {
     "views": [
      {
       "cell_index": 1
      }
     ]
    },
    "1f5f8aee704e4607891df6de8a233198": {
     "views": [
      {
       "cell_index": 1
      }
     ]
    },
    "1fc9a217403544418d980ee38a6c061e": {
     "views": []
    },
    "2059fdd689934fd685be57582762b940": {
     "views": []
    },
    "220ce3fe10d6439d8d6c6eb91d1883e5": {
     "views": []
    },
    "22434dded82d4f2da04aadccda9f78ff": {
     "views": []
    },
    "23f9b8d6da56416bb18ca72f9fe1db3e": {
     "views": []
    },
    "246e803ae7014fc2802819c6da65fa90": {
     "views": []
    },
    "254b238e2ebe4d1996a23c24c65ec874": {
     "views": []
    },
    "27dd6eabf55b411caef793f9e53c2e32": {
     "views": [
      {
       "cell_index": 1
      }
     ]
    },
    "27e262a645b949b28fff4f2f96c4b353": {
     "views": []
    },
    "28a7d9c8906345169b507bde608f23b4": {
     "views": []
    },
    "28ad4d887d3f4835aa7e37f6c0ea4355": {
     "views": []
    },
    "2a171f6808cb41f78c4eea1f18f88d93": {
     "views": []
    },
    "2a4d34e2e7e24cf6b6b41c3fa0bcc3db": {
     "views": []
    },
    "2aa6949682284315a5d9dd94fd482291": {
     "views": [
      {
       "cell_index": 1
      }
     ]
    },
    "2bc5ed0a5ed64833908cf004a71f6eac": {
     "views": []
    },
    "2c823685b7ee4dd0b70107cc8398c9b9": {
     "views": []
    },
    "2d240385435c449c9ed22c5de78d70ee": {
     "views": []
    },
    "2d28bfe91f424cf3a718a8611b0482dd": {
     "views": []
    },
    "2d3bbb8fabb74c8cbe2a50d4464b52e5": {
     "views": [
      {
       "cell_index": 1
      }
     ]
    },
    "2d90ffebe9f349c1b33b23d2316ab61f": {
     "views": []
    },
    "2f333ef433854756a8e451e49d935f0b": {
     "views": []
    },
    "2f52af003793413eb5d84bb42a3a99cb": {
     "views": []
    },
    "2f5bbc1a30d94a6082dc34926decd2b3": {
     "views": []
    },
    "30454941b2674b62a7b613f430973c40": {
     "views": []
    },
    "30d50e2f2de64e0784b48bd492e33b50": {
     "views": []
    },
    "30da4211fca741d2967c31f7b93798a4": {
     "views": []
    },
    "310c8ac4eef74a09b9ee429ea9a05bdd": {
     "views": []
    },
    "312678f8ece74c9cb2358580841e1ed2": {
     "views": [
      {
       "cell_index": 1
      }
     ]
    },
    "3179786edd25476ab6ef62a72424ac15": {
     "views": []
    },
    "32555dd503904c8d8cf4e6c416fd86bd": {
     "views": []
    },
    "35987a48e7d9477d9dc5431c449ab433": {
     "views": []
    },
    "35c1fe621fba494eb3ff617e0da08b7c": {
     "views": []
    },
    "3704659f7659432f8ea5fc1827673557": {
     "views": []
    },
    "37bddd288c404b838ebc6d3eb74f4289": {
     "views": []
    },
    "38124aca077f46dba10e0ab313273aa4": {
     "views": []
    },
    "396cc1ad23524bfaa30a4531c369c736": {
     "views": []
    },
    "3aca5bd195ec45ae9f14a52fd2483537": {
     "views": []
    },
    "3c2e35a00edf4e40bb6c787ca8950bcf": {
     "views": []
    },
    "3c399f18600d42dcab0be921fb38caa0": {
     "views": []
    },
    "3cfa6e5059f4483e9cff9b39143ad263": {
     "views": []
    },
    "3e157f4202db4653bf687fdef41afa98": {
     "views": [
      {
       "cell_index": 1
      }
     ]
    },
    "40f216b165524581b93d714f9423ae73": {
     "views": []
    },
    "40f3a91ac2784c3289f6226229beab61": {
     "views": []
    },
    "4179632e30094d5490f3fde45304b6c6": {
     "views": []
    },
    "41dcff5b016149e6b9be579ec3b1f076": {
     "views": []
    },
    "41df898a850746339f1ae40886af08c8": {
     "views": []
    },
    "4397b38637344a05a6cd48dda3577b22": {
     "views": []
    },
    "44bd08841649464193a94f6f4ca77217": {
     "views": []
    },
    "44ff2deaf4c24e42957fd1501c79c342": {
     "views": []
    },
    "452f49df508b449f9f296c4d4d3e027c": {
     "views": []
    },
    "461d8328551e4ea88f7f64263dd1afd9": {
     "views": []
    },
    "4655d2860e6f416483d02c9accc072d2": {
     "views": []
    },
    "46658a36bfd04300ad882dc46f6af192": {
     "views": []
    },
    "4674eef2bacb4d4e978a27d61e14e15f": {
     "views": [
      {
       "cell_index": 1
      }
     ]
    },
    "47ffb12b4b31477ba0ee06eff9ba556d": {
     "views": []
    },
    "48353a44ab77462ea0a650affcbb9d18": {
     "views": [
      {
       "cell_index": 1
      }
     ]
    },
    "4933a9befde14dff983e16a0d17d7968": {
     "views": [
      {
       "cell_index": 1
      }
     ]
    },
    "496474a4981e4e6aad07c065c0a568d7": {
     "views": []
    },
    "49e4e9ef99644a4caa0be68bacf552ef": {
     "views": []
    },
    "4b83d2667fed4d378a63c50e0d6da490": {
     "views": []
    },
    "4c515087d65c46ac8ab8627c3effdae3": {
     "views": []
    },
    "4d535fa716d84a2cbd9cae846ba06cd3": {
     "views": []
    },
    "4d9cd4ee68604ea692dfabb323ba49bc": {
     "views": []
    },
    "4e077c753aa343cd82f252b5b95dba27": {
     "views": []
    },
    "4f00734f1daa4fb5abccb3c4a210f45a": {
     "views": []
    },
    "4f2eeedc23874ec7bc037e799926831a": {
     "views": []
    },
    "51ec323e75394f3f8252ef0524133f06": {
     "views": []
    },
    "5410671fff6a49cfb0f2abb0a5ea610a": {
     "views": [
      {
       "cell_index": 1
      }
     ]
    },
    "54125eaba0cb4cafbb589f20da030d11": {
     "views": []
    },
    "543fb4cd9a8546b197867458c4d57e10": {
     "views": []
    },
    "54af4225347146dca819bf9b779a275b": {
     "views": []
    },
    "55558dacd40748aaa0e80c999d5ac807": {
     "views": []
    },
    "55c11d2fba7b4442ac2dc7443f3f74fb": {
     "views": []
    },
    "56407664689d4c52ad29557c554ae7a0": {
     "views": [
      {
       "cell_index": 1
      }
     ]
    },
    "573d94ffb70c4098992d996aa6b5ff8a": {
     "views": []
    },
    "58316d0feaf14b64bfc605cfc67c0c06": {
     "views": []
    },
    "59a39aa8e37247c38d0e32282b675799": {
     "views": []
    },
    "59d361f655a844e3b3a8caa365730afd": {
     "views": []
    },
    "59db24f458b9441484720140d1faf827": {
     "views": []
    },
    "5a06721855de434fbcec4a6a9d798d8a": {
     "views": []
    },
    "5ab23d8e6fe44b5a8757ed7cc0c2f43c": {
     "views": []
    },
    "5b4f2340ee0c434d98dbbce54a101a6b": {
     "views": []
    },
    "5b834b3bc4fd48a29f6d79d79e1aaa6b": {
     "views": []
    },
    "5e9aecbb040144d5b05d0af7f3c0b1a2": {
     "views": []
    },
    "5eb48fdaa2224391a963fb28544d5837": {
     "views": []
    },
    "5f89f49a02fa40f3b0db0b04d1857008": {
     "views": []
    },
    "603031f7ce7b46959335c1e2c99d9a3e": {
     "views": []
    },
    "6031797ddadd47f48e0d52802b510b11": {
     "views": []
    },
    "606b335cccbd44d5a693474fb61f088a": {
     "views": []
    },
    "608b301aa7b242829f0f85fc19991e24": {
     "views": [
      {
       "cell_index": 1
      }
     ]
    },
    "60afd3eac1d84ef5bce77633bbedba11": {
     "views": []
    },
    "62be446087c84d8ab04759e437ecb4e8": {
     "views": []
    },
    "6348dc341732495b8816bbeabac7e597": {
     "views": []
    },
    "63f5e5fa6156446d8e0abfc85c640b60": {
     "views": []
    },
    "64384b7bcbc24c428d51177b35321ed2": {
     "views": []
    },
    "643bac3d2b90475888b8799ef4970ce3": {
     "views": []
    },
    "6472b34f8302473298a69c2165d22eaf": {
     "views": [
      {
       "cell_index": 1
      }
     ]
    },
    "648d8c6dee024ebd8fddebd792112ac1": {
     "views": []
    },
    "64a15219720c485a91d8c065ada74c1e": {
     "views": []
    },
    "64aafae3178f486b9b202878b5634e68": {
     "views": []
    },
    "64aefa643aa64fe5ba5223ed32754caf": {
     "views": []
    },
    "65b50dc424834ad081b7def6e2c43b88": {
     "views": []
    },
    "662010ac093d457da9eeb6d3e91a2fe2": {
     "views": []
    },
    "67008ed12fdc487e8d66f0f01ea9cc13": {
     "views": []
    },
    "678f4eec7f1941298dc1dbd742dc5aa4": {
     "views": []
    },
    "6a19f37b97d7475291c3c1cfb6e0ad3e": {
     "views": []
    },
    "6a91ac262a2540ddba6790c1a81cf129": {
     "views": []
    },
    "6ba3f5c0c96342d18c2230e16eb143b5": {
     "views": []
    },
    "6bb214b4fca84fc9b22f233b3dab592f": {
     "views": []
    },
    "6c3efd525b1f4c7aaa9866a27bf15e41": {
     "views": []
    },
    "6cb7010b4b73428482c3f5fffbc294f2": {
     "views": []
    },
    "6d8f4d0558f84c9ab0fab1586c106f73": {
     "views": [
      {
       "cell_index": 1
      }
     ]
    },
    "6dc0809ac7a846bba7f6d3b1e81f2cba": {
     "views": []
    },
    "6ee1f4c8add045e593f532b04608ff61": {
     "views": []
    },
    "6f54b97d8ac0404d85a6ff619b9479a6": {
     "views": []
    },
    "700443d61d654a4d8b8ba1f378251647": {
     "views": [
      {
       "cell_index": 1
      }
     ]
    },
    "707a665fadbe4f2a81df54b2a13a2039": {
     "views": []
    },
    "707b90fb2625481cba4edf3058352db1": {
     "views": []
    },
    "70b4f83e553941f48df808ab3bc4885d": {
     "views": [
      {
       "cell_index": 1
      }
     ]
    },
    "7107fef217544432a3c10ba13119ae42": {
     "views": []
    },
    "713419931d034161be8709787bc31565": {
     "views": []
    },
    "722dd206a0084a2e984ff03ef9b27af7": {
     "views": []
    },
    "7257f698cc3e42f689d33639f72878c2": {
     "views": [
      {
       "cell_index": 1
      }
     ]
    },
    "73aaf992b054453f9c229c231d1f80af": {
     "views": []
    },
    "7536022e1cdf4a478a4a36bf1060e6b5": {
     "views": [
      {
       "cell_index": 1
      }
     ]
    },
    "78a9ab943a594503b2b12a08af1cdbd4": {
     "views": []
    },
    "78d15c0285af41599075939f17d5ad9e": {
     "views": []
    },
    "7d1b72c4f7634e03be2ff23f358b9440": {
     "views": []
    },
    "7d700485e2274d39bf44c3741952d95e": {
     "views": []
    },
    "7dd202d8c60d4fb08cbb1ff646afab52": {
     "views": []
    },
    "7e6aacd1fcca41d9917c06de5d8db5f0": {
     "views": []
    },
    "7e97a2905dff489f92bc2a2e04486e81": {
     "views": []
    },
    "7f061bcc975146e9b1c417a11e35d41f": {
     "views": []
    },
    "7f8049b050d048258d0c74a25a4dec6d": {
     "views": []
    },
    "8069339ee0af4a3ebf0bbf145063e945": {
     "views": []
    },
    "82464823855c4d0399297c81e9658463": {
     "views": []
    },
    "82da7456453e42258ecb78feb33306de": {
     "views": []
    },
    "83ea6065a82945a8825cd417b554bcf2": {
     "views": []
    },
    "8671e580b3e741c38344b8997e4a14c2": {
     "views": []
    },
    "86be01d3762548e6a8e66903ff953f59": {
     "views": []
    },
    "880ae0c6accb4e5b8e2d3ac84f3fc0fb": {
     "views": [
      {
       "cell_index": 1
      }
     ]
    },
    "88faad43c91649499f4ce80218bfdf50": {
     "views": []
    },
    "8a2cdc4535424a92ba1057c8b30f6611": {
     "views": []
    },
    "8a38d1b1e2ab40829ba3702b09a14572": {
     "views": []
    },
    "8b1d7a1233534da29b40cdf52855f431": {
     "views": []
    },
    "8bb3aa10270645579a893d5e1d27fad1": {
     "views": [
      {
       "cell_index": 1
      }
     ]
    },
    "8c5745eb53a64df593342d21e5212f89": {
     "views": []
    },
    "8fa00bdd1158496586012ea64312d927": {
     "views": []
    },
    "903aae637c364870a6f92c97cd319569": {
     "views": [
      {
       "cell_index": 1
      }
     ]
    },
    "90ece433eba24e999ffb596edb489863": {
     "views": []
    },
    "91bcaa1faca14e18b7bfdc8597e84b76": {
     "views": []
    },
    "93083e2a9d3147b0ac788c84da6bf2f2": {
     "views": []
    },
    "93670008c98b49168646eef635c82eab": {
     "views": []
    },
    "9435c452abcf43f89f8d94d15223d182": {
     "views": []
    },
    "94acea2e4aca4f80922c92689a53fe5b": {
     "views": []
    },
    "96fff887d7ae4ae6a56dd83d4372f5cf": {
     "views": []
    },
    "980ca15d759049f4893ad2c6e2b250f6": {
     "views": []
    },
    "9a4a789b877a4f96b5af6f150aa795f5": {
     "views": []
    },
    "9a83114f0a6d4e9cbfaebdda32b51771": {
     "views": [
      {
       "cell_index": 1
      }
     ]
    },
    "9af8aa5bec95401394792aa1d4cc5d40": {
     "views": []
    },
    "9bf5023c2de24e2789d9849098bec913": {
     "views": []
    },
    "9c8659d407d7482280c512c395e2205d": {
     "views": []
    },
    "9dd0ea9b98274263939b6b845f0e44e6": {
     "views": []
    },
    "9fcb03def85a4b87959857d2ec8f5150": {
     "views": []
    },
    "a01ef5d0b0824850941e7428fd1843f5": {
     "views": [
      {
       "cell_index": 1
      }
     ]
    },
    "a05317cfaa624853ae719b29e9a82d64": {
     "views": []
    },
    "a224a5cee02c432d9b3572dfb4dee30b": {
     "views": [
      {
       "cell_index": 1
      }
     ]
    },
    "a27101d9fd7d4e4fa0fef92a18375bb4": {
     "views": []
    },
    "a27338e787e94131b228793db9f4e84e": {
     "views": []
    },
    "a34ee759fed34f76a8f5c77720fd6540": {
     "views": []
    },
    "a381d659d4a14adda1390c2f81d24640": {
     "views": []
    },
    "a5e26753b9dd498587bd31ebf04d772e": {
     "views": []
    },
    "a6b225bb51f347ef9a30ffa5f9662e59": {
     "views": [
      {
       "cell_index": 1
      }
     ]
    },
    "a9eb1a16504441fda7f46eabbbf00780": {
     "views": []
    },
    "a9f15c15ef8140f6bb59beee7798f1c2": {
     "views": []
    },
    "aa2f55d282214f5d8bf962ecdaa9e7ce": {
     "views": []
    },
    "ac55a87901714626b4a555f404743801": {
     "views": []
    },
    "ac6f65fed7ba46a0ace8b204634b8d25": {
     "views": [
      {
       "cell_index": 1
      }
     ]
    },
    "ad92520765cd450ba1bd54161e1ba218": {
     "views": []
    },
    "ae661c13069f470a8f653a80997ff9aa": {
     "views": [
      {
       "cell_index": 1
      }
     ]
    },
    "ae976ea4f93d4978847cade35acaace3": {
     "views": []
    },
    "aee67dae91154994b8e1216fa2b212dc": {
     "views": []
    },
    "af4fef4c613a4c2f9fab5863c97a19f6": {
     "views": []
    },
    "b02db156553a4b259a941c86e3ada42b": {
     "views": []
    },
    "b1becc6a287d4af484759a17def395bf": {
     "views": [
      {
       "cell_index": 1
      }
     ]
    },
    "b3b8ed2915684943a961fd5359b89504": {
     "views": []
    },
    "b45988edd884420bb089c7dfeb1aa699": {
     "views": []
    },
    "b515b0b1544b49a69f0bbe3bce926e3b": {
     "views": []
    },
    "b5fc70ac40274454a902678294cf93f2": {
     "views": []
    },
    "b64092eb762b473bb28a2cad78d73652": {
     "views": []
    },
    "b7a494d1e99c40cab6c16c80510178aa": {
     "views": []
    },
    "b8366126975142d09c61a4b9147dd738": {
     "views": []
    },
    "ba0ae78173034e2493b818e70326f927": {
     "views": []
    },
    "bd881cb2acf24e7d81c94fce0534561c": {
     "views": [
      {
       "cell_index": 1
      }
     ]
    },
    "bf0ab1c7f45e4f8e9a111101168cc37b": {
     "views": []
    },
    "c0a47171b3d14259955e498764d5441f": {
     "views": []
    },
    "c13984f4b6ce40449dd94a61f2a05de1": {
     "views": []
    },
    "c21719c52bf0486496bb40481d7544e8": {
     "views": []
    },
    "c21a962ec9d447a29dc18b839a05dd1d": {
     "views": []
    },
    "c2ad93eeae7a4f6f8fd86b2d0a2567dd": {
     "views": []
    },
    "c2b2a3abdf164bcfa8eb0149cf0e8fdc": {
     "views": []
    },
    "c3c65836869346bd9f0af17b9482e2d7": {
     "views": []
    },
    "c4cb7d192a9c4eceac2c19c053687a62": {
     "views": []
    },
    "c529cb0f8cc34be1af6907429ad0d277": {
     "views": []
    },
    "c55e8a6a29a647a6b40c221694ee1206": {
     "views": []
    },
    "c68a17e0f0ea48fa95a5da038fa88bc6": {
     "views": []
    },
    "c6bd0b9439624c219c6def29b8f06de3": {
     "views": []
    },
    "c6c1feea774e425daf0753fe34590f7c": {
     "views": []
    },
    "c6e734a28a7d4e638f5a77608797d6bc": {
     "views": []
    },
    "c7aa39efc5304861aee3e7d1d484f63b": {
     "views": [
      {
       "cell_index": 1
      }
     ]
    },
    "c7b6a7b5b8de4c2392304ed2796eebf8": {
     "views": []
    },
    "c87bea20247d42499c7bc58d8c31796d": {
     "views": []
    },
    "c9792f70b8e046c5bacd33176082eeb8": {
     "views": []
    },
    "cb1977f3e8434a689e6a17d47a75ce83": {
     "views": []
    },
    "cc074355306c4e599793c995c6b1e181": {
     "views": []
    },
    "cc77d6c3e1d94c4a8961826247dc92fe": {
     "views": []
    },
    "cca54da2c8d3414ab1f9abc30e5e6c17": {
     "views": []
    },
    "cd2ecbff1c3f4f64967bb9b5df1496c6": {
     "views": []
    },
    "cd42d716a6a24fa5b693749d89d4d488": {
     "views": []
    },
    "cda537e198644767b8d81799c4487c38": {
     "views": []
    },
    "ce550c867862431b94d8a48d6e774328": {
     "views": [
      {
       "cell_index": 1
      }
     ]
    },
    "cf511c5d1b7447a5aa9f3cbf79982542": {
     "views": []
    },
    "d075910102264c8f85b5c0c4a35f2f26": {
     "views": []
    },
    "d0a1dedcb1b442d3be13a5c5dba47f2f": {
     "views": []
    },
    "d0f6adc79cb8403ca15fdd7a7cd14069": {
     "views": []
    },
    "d18e757be8fb4644be4b04b97420caec": {
     "views": []
    },
    "d1f6244dc9e6436592f5efbbc23c0c74": {
     "views": []
    },
    "d21cb3a24cfc4fad87db3e17c0fc595f": {
     "views": []
    },
    "d28a9dc7f4d84132a29cde5a1b80e82e": {
     "views": []
    },
    "d2d971c96950403e916c1f91eceba683": {
     "views": []
    },
    "d35f514857fc406abeb038546a5ec95d": {
     "views": []
    },
    "d444ae1ca90b474c8ff50056aedb58ce": {
     "views": [
      {
       "cell_index": 1
      }
     ]
    },
    "d45ad804b16241669a8d091e40066ee7": {
     "views": []
    },
    "d50795b837cb4e92861230aeb15fa8c6": {
     "views": []
    },
    "d535c4c0d9fc427cb95a5f8fd6da250e": {
     "views": []
    },
    "d5eebcb6944c43dc8b58bac92c1ec217": {
     "views": []
    },
    "d608307b0c354ac8996bc4b3789bbc4b": {
     "views": []
    },
    "d871d44645be4811a775b6103c3055ea": {
     "views": []
    },
    "d8ac6a2a74a44e4abc1fc3aa164af8a8": {
     "views": []
    },
    "d9097d7514cd412abb3bd77c0f94857f": {
     "views": []
    },
    "da4cf61657094c2dab45e52f9f16152f": {
     "views": [
      {
       "cell_index": 1
      }
     ]
    },
    "dc3c3947ccb945eba5d8ee78cd642a5b": {
     "views": []
    },
    "dc619211f46541fa89b211d7cb847c2a": {
     "views": []
    },
    "dcd975ccf8a64e1bb9424065a125aef4": {
     "views": []
    },
    "ddbd8612868141dda64c0b3bfe61193c": {
     "views": []
    },
    "dde9ede7e0ab4c5ebe885a5bd7b2e73b": {
     "views": []
    },
    "deb58e7ef21f4bbb98fca88d0e553ab3": {
     "views": []
    },
    "dfafc17360654adaaeaa981dad849b1d": {
     "views": []
    },
    "e035d7fc3bb640ba9a2d1788ccf66db5": {
     "views": [
      {
       "cell_index": 1
      }
     ]
    },
    "e0c0c36bec794d6eb63ec591904c2953": {
     "views": []
    },
    "e0cb3932b53f436986b49664b11a2480": {
     "views": []
    },
    "e18d56918f7d4072adc770a7374125b3": {
     "views": []
    },
    "e27f9758aa544f57b0e1c754d1eed083": {
     "views": []
    },
    "e3fc8e7ec3ad48b3901de1d800d810ec": {
     "views": []
    },
    "e5c10ec985bd41c8b4e1526560991405": {
     "views": []
    },
    "e70d4c140fb14055951eaab0d705334a": {
     "views": []
    },
    "e7ee206c00f443a5be7987d6b5937d8b": {
     "views": []
    },
    "e8f88dfbac00417997ce5aeb01a19a90": {
     "views": []
    },
    "e953417ba8f641eba1a636b300d6b321": {
     "views": []
    },
    "ea714e592f254eeab50575a2ead0e76e": {
     "views": []
    },
    "eada5e880cb2486c8e3d583d57a41561": {
     "views": []
    },
    "eb2b385e87044e688617641004278586": {
     "views": []
    },
    "ebe17d01105244f195791db93e914bd8": {
     "views": []
    },
    "ecb45a5a4cdc446390b9a1465c41bfa6": {
     "views": []
    },
    "ecfbac75c5d84dbcb7bb81785a14255b": {
     "views": []
    },
    "ed17cd57405c45a9ababb337d37cba6a": {
     "views": []
    },
    "ed4d9ca303a64d16af18f8aad00dfe07": {
     "views": []
    },
    "ed9e8bde4f1149828c7cf921e482e562": {
     "views": []
    },
    "ee7d093fcee649ec883d0518616effa1": {
     "views": []
    },
    "eec6d9b8c67e4d349b5cab808f59d500": {
     "views": []
    },
    "eee54784d4a145a49aab1b9fa58a7456": {
     "views": [
      {
       "cell_index": 1
      }
     ]
    },
    "f0abc333a8764ba48773dc75d991ea7d": {
     "views": []
    },
    "f0bbfac3b5f84c22a6ad438000184367": {
     "views": []
    },
    "f15feebb1ba5405faca89af93d7af920": {
     "views": []
    },
    "f1ed772b04714be0909f4896ce03ba1e": {
     "views": []
    },
    "f23b9e640e5f4491ac1b24e04451b8fd": {
     "views": []
    },
    "f24d3ce9ac6f48abbe9059b5aa9cd56a": {
     "views": []
    },
    "f2dbe6c7e748459eb755b69e1edd1f92": {
     "views": []
    },
    "f3f5ee5163364d2f813af77ae7460c21": {
     "views": []
    },
    "f428817bc5ba4a6c800862d469e02b63": {
     "views": []
    },
    "f45405b124b741beae2bc9d6bdcd7552": {
     "views": []
    },
    "f654af3b1c844739879a42f978f0da52": {
     "views": []
    },
    "f69ac494ddfc4be3b495c5ca35565e40": {
     "views": []
    },
    "f6ed586cd6ea4bbeb39ba5ae3aad6233": {
     "views": [
      {
       "cell_index": 1
      }
     ]
    },
    "f6ff3c11715b4dbab2d1372c75d723cc": {
     "views": []
    },
    "f74c865f9122431fba535fa267af8079": {
     "views": []
    },
    "f7c25892a5564ea9b78c5f981ab60010": {
     "views": []
    },
    "fa7bd065145847279c7b339f84c23f43": {
     "views": []
    },
    "fb94e80b081c4284951e56a90476533d": {
     "views": []
    },
    "fc71727232d740e19d49bf110512d4e0": {
     "views": []
    },
    "ff338d9d16d64a69a3c21be121c5130e": {
     "views": []
    },
    "fff0136174ac480781b4ae98e03ad248": {
     "views": [
      {
       "cell_index": 1
      }
     ]
    }
   },
   "version": "1.1.2"
  }
 },
 "nbformat": 4,
 "nbformat_minor": 2
}
