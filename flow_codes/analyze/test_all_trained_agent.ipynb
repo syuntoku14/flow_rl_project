{
 "cells": [
  {
   "cell_type": "code",
   "execution_count": 1,
   "metadata": {},
   "outputs": [
    {
     "name": "stderr",
     "output_type": "stream",
     "text": [
      "Process STDOUT and STDERR is being redirected to /tmp/ray/session_2019-04-26_22-31-09_6188/logs.\n",
      "Waiting for redis server at 127.0.0.1:23925 to respond...\n",
      "Waiting for redis server at 127.0.0.1:10784 to respond...\n",
      "Starting the Plasma object store with 13.355121049 GB memory using /dev/shm.\n"
     ]
    },
    {
     "data": {
      "text/plain": [
       "{'node_ip_address': '169.237.32.118',\n",
       " 'object_store_addresses': ['/tmp/ray/session_2019-04-26_22-31-09_6188/sockets/plasma_store'],\n",
       " 'raylet_socket_names': ['/tmp/ray/session_2019-04-26_22-31-09_6188/sockets/raylet'],\n",
       " 'redis_address': '169.237.32.118:23925',\n",
       " 'webui_url': ''}"
      ]
     },
     "execution_count": 1,
     "metadata": {},
     "output_type": "execute_result"
    }
   ],
   "source": [
    "import os, sys, pickle\n",
    "from tqdm import tqdm_notebook as tqdm\n",
    "import numpy as np\n",
    "sys.path.append(os.path.join(os.getcwd(), '..'))\n",
    "sys.path = list(set(sys.path))\n",
    "import matplotlib.pyplot as plt\n",
    "\n",
    "from results_path import DDPG_PATH, PPO_PATH\n",
    "\n",
    "from common.evaluate import make_vis_env, test_env\n",
    "\n",
    "from flow.multiagent_envs import MultiWaveAttenuationMergePOEnv\n",
    "from flow.scenarios import MergeScenario\n",
    "from flow.utils.registry import make_create_env\n",
    "from flow.utils.rllib import FlowParamsEncoder\n",
    "from ray.tune import run_experiments\n",
    "\n",
    "import gym, ray\n",
    "from ray.rllib.agents.ppo import PPOAgent, DEFAULT_CONFIG\n",
    "from ray.rllib.agents.ddpg import DDPGAgent, DEFAULT_CONFIG\n",
    "from ray.tune.registry import register_env\n",
    "from ray.tune.logger import pretty_print\n",
    "\n",
    "exp_name = '750s_multi_merge'\n",
    "checkpoint = '50'\n",
    "try_6_times = True\n",
    "\n",
    "results_list = os.listdir('/headless/ray_results/' + exp_name)\n",
    "\n",
    "benchmark_name = 'multi_merge'\n",
    "benchmark = __import__(\n",
    "    \"flow.benchmarks.%s\" % benchmark_name, fromlist=[\"flow_params\"])\n",
    "flow_params = benchmark.flow_params\n",
    "horizon = flow_params['env'].horizon\n",
    "create_env, env_name = make_create_env(params=flow_params, version=0)\n",
    "\n",
    "ray.init(num_cpus=1, include_webui=False, ignore_reinit_error=True)"
   ]
  },
  {
   "cell_type": "code",
   "execution_count": null,
   "metadata": {},
   "outputs": [
    {
     "name": "stderr",
     "output_type": "stream",
     "text": [
      "Created LogSyncer for /headless/ray_results/PPO_MultiWaveAttenuationMergePOEnv-v0_2019-04-26_22-31-105ksth1lf -> None\n",
      " Starting SUMO on port 36072\n"
     ]
    },
    {
     "name": "stdout",
     "output_type": "stream",
     "text": [
      "AGENT_PATH: PPO_MultiWaveAttenuationMergePOEnv-v0_[eta1, eta2]:[1.0, 3.0]_t_min:5.0_5_2019-04-26_10-36-57elyon8bb\n"
     ]
    },
    {
     "name": "stderr",
     "output_type": "stream",
     "text": [
      "2019-04-26 22:31:11,563\tINFO policy_evaluator.py:262 -- Creating policy evaluation worker 0 on CPU (please ignore any CUDA init errors)\n",
      "/opt/conda/envs/flow/lib/python3.5/site-packages/tensorflow/python/ops/gradients_impl.py:108: UserWarning: Converting sparse IndexedSlices to a dense Tensor of unknown shape. This may consume a large amount of memory.\n",
      "  \"Converting sparse IndexedSlices to a dense Tensor of unknown shape. \"\n",
      " Starting SUMO on port 36072\n",
      "2019-04-26 22:31:16,216\tINFO multi_gpu_optimizer.py:74 -- LocalMultiGPUOptimizer devices ['/cpu:0']\n",
      "/opt/conda/envs/flow/lib/python3.5/site-packages/tensorflow/python/ops/gradients_impl.py:108: UserWarning: Converting sparse IndexedSlices to a dense Tensor of unknown shape. This may consume a large amount of memory.\n",
      "  \"Converting sparse IndexedSlices to a dense Tensor of unknown shape. \"\n",
      " Starting SUMO on port 51288\n",
      " Starting SUMO on port 51288\n",
      " Starting SUMO on port 51288\n",
      " Starting SUMO on port 51288\n",
      " Starting SUMO on port 51288\n",
      " Starting SUMO on port 51288\n",
      " Starting SUMO on port 51288\n",
      "Created LogSyncer for /headless/ray_results/PPO_MultiWaveAttenuationMergePOEnv-v0_2019-04-26_22-38-15wwemr5cd -> None\n",
      " Starting SUMO on port 40845\n"
     ]
    },
    {
     "name": "stdout",
     "output_type": "stream",
     "text": [
      "AGENT_PATH: PPO_MultiWaveAttenuationMergePOEnv-v0_[eta1, eta2]:[1.0, 5.0]_t_min:10.0_0_2019-04-26_08-08-56c7bfy7yr\n"
     ]
    },
    {
     "name": "stderr",
     "output_type": "stream",
     "text": [
      "2019-04-26 22:38:17,312\tINFO policy_evaluator.py:262 -- Creating policy evaluation worker 0 on CPU (please ignore any CUDA init errors)\n",
      "/opt/conda/envs/flow/lib/python3.5/site-packages/tensorflow/python/ops/gradients_impl.py:108: UserWarning: Converting sparse IndexedSlices to a dense Tensor of unknown shape. This may consume a large amount of memory.\n",
      "  \"Converting sparse IndexedSlices to a dense Tensor of unknown shape. \"\n",
      " Starting SUMO on port 40845\n",
      "2019-04-26 22:38:22,241\tINFO multi_gpu_optimizer.py:74 -- LocalMultiGPUOptimizer devices ['/cpu:0']\n",
      "/opt/conda/envs/flow/lib/python3.5/site-packages/tensorflow/python/ops/gradients_impl.py:108: UserWarning: Converting sparse IndexedSlices to a dense Tensor of unknown shape. This may consume a large amount of memory.\n",
      "  \"Converting sparse IndexedSlices to a dense Tensor of unknown shape. \"\n",
      " Starting SUMO on port 45638\n",
      " Starting SUMO on port 45638\n",
      " Starting SUMO on port 45638\n",
      " Starting SUMO on port 45638\n"
     ]
    }
   ],
   "source": [
    "register_env(env_name, create_env)\n",
    "\n",
    "for AGENT_PATH in tqdm(results_list, desc='Results'):\n",
    "    print('AGENT_PATH: {}'.format(AGENT_PATH))\n",
    "    \n",
    "    AGENT = AGENT_PATH[:AGENT_PATH.find('_')]\n",
    "    PATH = exp_name + '/' + AGENT_PATH\n",
    "    config_path = '/headless/rl_project/ray_results/' + PATH + '/params.pkl'\n",
    "    checkpoint_path = '/headless/rl_project/ray_results/' + PATH + '/checkpoint_{}/checkpoint-{}'.format(checkpoint, checkpoint)\n",
    "\n",
    "    with open(config_path, mode='rb') as f:\n",
    "        config = pickle.load(f)\n",
    "\n",
    "    if AGENT == 'PPO':\n",
    "        agent = PPOAgent(config=config, env=env_name)\n",
    "    elif AGENT == 'DDPG':\n",
    "        agent = DDPGAgent(config=config, env=env_name)\n",
    "        \n",
    "    try:\n",
    "        agent.restore(checkpoint_path)\n",
    "    except:\n",
    "        print(\"{} \\n checkpoint doesn't exist\".format(PATH + '/checkpoint_{}/checkpoint-{}'.format(checkpoint, checkpoint)))\n",
    "        pass\n",
    "    \n",
    "    env = create_env()\n",
    "    # calculate the space-time velocity map\n",
    "    left_length = env.k.scenario.edge_length('left')\n",
    "    car_length = 5.0\n",
    "    scale = 10\n",
    "    vel_lists = []\n",
    "    vel_map_lists = []\n",
    "    outflow_lists = []\n",
    "\n",
    "    num_iter = 6 if try_6_times else 1\n",
    "    \n",
    "    for _ in tqdm(range(num_iter), desc='Trials'):\n",
    "        state = env.reset()\n",
    "        vel = []\n",
    "        outflow = []\n",
    "        for i in tqdm(range(env.env_params.horizon), desc='env step'):\n",
    "            # record the mean velocity\n",
    "            v = np.mean(env.k.vehicle.get_speed(env.k.vehicle.get_ids()))\n",
    "            vel.append(v)\n",
    "            \n",
    "            # record the velocity map\n",
    "            ids = env.k.vehicle.get_ids()\n",
    "            vel_map_ = np.zeros(int(left_length)*scale)\n",
    "            for id_ in ids:\n",
    "                pos_ = np.round(env.k.vehicle.get_position(id_), decimals=1)\n",
    "                vel_ = env.k.vehicle.get_speed(id_)\n",
    "                pos_bottom = max(0, int((pos_-car_length/2.0)*scale))\n",
    "                pos_top = min(int(left_length)*scale, int((pos_+car_length/2.0)*scale))\n",
    "                vel_map_[pos_bottom:pos_top] = vel_            \n",
    "\n",
    "            # step the simulation\n",
    "            rl_ids = env.k.vehicle.get_rl_ids()\n",
    "            actions = {}\n",
    "            if AGENT != 'HUMAN':\n",
    "                for id_ in rl_ids:\n",
    "                    action = agent.compute_action(state[id_])\n",
    "                    actions.update({id_: action})\n",
    "            state, r, _, _ = env.step(actions)\n",
    "            outflow.append(env.k.vehicle.get_outflow_rate(600)) # measured by one min\n",
    "\n",
    "            if i == 0:\n",
    "                vel_map_list = vel_map_\n",
    "            else:\n",
    "                vel_map_list = np.vstack((vel_map_list, vel_map_))\n",
    "\n",
    "        outflow_lists.append(outflow[-500:])\n",
    "        vel_lists.append(vel)\n",
    "        vel_map_list[vel_map_list==0.0] = np.nan\n",
    "        vel_map_lists.append(vel_map_list)\n",
    "        \n",
    "    vel_fig, ax = plt.subplots(nrows=1, ncols=1)\n",
    "    for i in range(num_iter):\n",
    "        ax.plot(vel_lists[i])\n",
    "    title = AGENT + ' multi-agent mean velocity'\n",
    "    title = title + ' \\n mean velocity {:3f}'.format(np.mean(vel_lists))\n",
    "    title = title + ' \\n mean outflow rate {:3f}'.format(np.mean(outflow_lists))\n",
    "    ax.set_ylabel('system level mean velocity (m/s)')\n",
    "    ax.set_xlabel('step')\n",
    "    vel_fig.suptitle(title)\n",
    "    plt.subplots_adjust(top=0.8)\n",
    "    \n",
    "    \n",
    "    nrows = 2 if try_6_times else 1\n",
    "    ncols = 3 if try_6_times else 1\n",
    "    space_fig, axes = plt.subplots(nrows=nrows, ncols=ncols, figsize=(10, 6))\n",
    "    space_fig.tight_layout()\n",
    "\n",
    "    for i in range(num_iter):\n",
    "        # plt.subplot(2, 3, i+1)\n",
    "        x = np.arange(int(env.env_params.horizon))\n",
    "        y = np.arange(0, int(left_length), step=0.1)\n",
    "        xx, yy = np.meshgrid(x, y)\n",
    "        try:\n",
    "            im = axes[i%2, i%3].pcolormesh(xx, yy, vel_map_lists[i].T)\n",
    "            if i % 3 == 0:\n",
    "                axes[i%2, i%3].set_ylabel('Position (m)')\n",
    "            if int(i / 3.0) > 0:\n",
    "                axes[int(i/3), int(i/3)].set_xlabel('step')\n",
    "        except:\n",
    "            im = axes.pcolormesh(xx, yy, vel_map_lists[i].T)\n",
    "            if i % 3 == 0:\n",
    "                axes.set_ylabel('Position (m)')\n",
    "            if int(i / 3.0) > 0:\n",
    "                axes.set_xlabel('step')\n",
    "\n",
    "    try:\n",
    "        clb = space_fig.colorbar(im, ax=axes.ravel().tolist(), shrink=0.95)\n",
    "    except:\n",
    "        clb = space_fig.colorbar(im, ax=axes, shrink=0.95)\n",
    "\n",
    "    clb.set_clim(0, 30)\n",
    "    clb.set_label('Velocity (m/s)')\n",
    "    title = AGENT + ' Space-Time Diagram of 600 meter merge road'\n",
    "    space_fig.suptitle(title)   \n",
    "    plt.subplots_adjust(top=0.9, right=0.8)\n",
    "    \n",
    "    # save figures\n",
    "    filename = PATH[PATH.find('/') + 1:].replace(' ', '_') + '.png'\n",
    "    vel_dir = '../result/MultiMerge/' + AGENT + '/' + exp_name + '/mean_velocity/'\n",
    "    space_dir = '../result/MultiMerge/' + AGENT + '/' + exp_name + '/space_time_diagram/'\n",
    "    os.makedirs(vel_dir, exist_ok=True)\n",
    "    os.makedirs(space_dir, exist_ok=True)\n",
    "\n",
    "    vel_fig.savefig(vel_dir + filename)\n",
    "    space_fig.savefig(space_dir + filename)"
   ]
  },
  {
   "cell_type": "code",
   "execution_count": null,
   "metadata": {},
   "outputs": [],
   "source": []
  }
 ],
 "metadata": {
  "kernelspec": {
   "display_name": "Python 3",
   "language": "python",
   "name": "python3"
  },
  "language_info": {
   "codemirror_mode": {
    "name": "ipython",
    "version": 3
   },
   "file_extension": ".py",
   "mimetype": "text/x-python",
   "name": "python",
   "nbconvert_exporter": "python",
   "pygments_lexer": "ipython3",
   "version": "3.5.2"
  },
  "varInspector": {
   "cols": {
    "lenName": "50",
    "lenType": "50",
    "lenVar": "50"
   },
   "kernels_config": {
    "python": {
     "delete_cmd_postfix": "",
     "delete_cmd_prefix": "del ",
     "library": "var_list.py",
     "varRefreshCmd": "print(var_dic_list())"
    },
    "r": {
     "delete_cmd_postfix": ") ",
     "delete_cmd_prefix": "rm(",
     "library": "var_list.r",
     "varRefreshCmd": "cat(var_dic_list()) "
    }
   },
   "types_to_exclude": [
    "module",
    "function",
    "builtin_function_or_method",
    "instance",
    "_Feature"
   ],
   "window_display": false
  },
  "widgets": {
   "state": {
    "035b1bfae7e2412ea14483f6dbfc25f9": {
     "views": [
      {
       "cell_index": 1
      }
     ]
    },
    "050605ad06c54223b7c38b2948fae951": {
     "views": []
    },
    "0ba1d9405b8e4aa7828987311a9e6d83": {
     "views": []
    },
    "0c54e7380ace419d857a1e424cc4bf36": {
     "views": []
    },
    "1ac86d1a2dd2403ead334a00d43ee846": {
     "views": []
    },
    "2211b375d7f04adc9ae68220aba48581": {
     "views": [
      {
       "cell_index": 1
      }
     ]
    },
    "25ad294119f0455fbc6363f0ea63f722": {
     "views": []
    },
    "263207f7327f42d183a22ec8ad59f62f": {
     "views": []
    },
    "26b1ef57394f4cdc89d3354a457b3de8": {
     "views": []
    },
    "3714a01a90794838a21555653df62428": {
     "views": []
    },
    "39d7755e196e45b48fb4ea2fa50302a5": {
     "views": []
    },
    "3c545f3658b3416ba7c04864790492d3": {
     "views": [
      {
       "cell_index": 1
      }
     ]
    },
    "3e7099a4d43242d39df1806d18ba375d": {
     "views": []
    },
    "3e851043f0d642f1aaa82e87becda171": {
     "views": []
    },
    "4b0f704a76504cf88b7af8256887cf6f": {
     "views": []
    },
    "4e1317835e6f4643877d5780c81d2ebd": {
     "views": []
    },
    "5684a2e051904292979015d0e320a69d": {
     "views": []
    },
    "62a68fbdf5804f83956c08251140d9dd": {
     "views": []
    },
    "636e88c4c92f463a9b6ac5a04517701f": {
     "views": []
    },
    "63e347f93e5c465287c0454a838e9c97": {
     "views": []
    },
    "6598b2f5085e4cf39b098a8b79eeb5f8": {
     "views": []
    },
    "6828104567a943deae2578166ce74f72": {
     "views": []
    },
    "690f67fed3314650a5e09c06027c9ab7": {
     "views": []
    },
    "6f0e060af3934798b85bf3584f4ee034": {
     "views": []
    },
    "842d0b05015a429f85e456ede3f711b0": {
     "views": []
    },
    "84cf544d54ac4dfe8c51e7e59bed8348": {
     "views": [
      {
       "cell_index": 1
      }
     ]
    },
    "8b51c43dac464c78bdf4e88cdfca7f5f": {
     "views": []
    },
    "8caf1f8cf16547f2ac5036b24b85901a": {
     "views": []
    },
    "9027f2aae9fc4af28fbfd3eb8d714b5e": {
     "views": []
    },
    "9548fcdc71cd47c09a831f41f29d5fc3": {
     "views": []
    },
    "9559ee705e614b688f668bc41e2769c6": {
     "views": []
    },
    "98bda1e2757d4da2aea446a2c80211eb": {
     "views": [
      {
       "cell_index": 1
      }
     ]
    },
    "9c48503784134d01926feba13d4af2d0": {
     "views": []
    },
    "9ec77a22170e40478d817ae4fd4e5f1c": {
     "views": []
    },
    "a5446b2bf1fe44b09744304d45f1bd03": {
     "views": []
    },
    "b1f76a557a054eb69d5b684542019085": {
     "views": [
      {
       "cell_index": 1
      }
     ]
    },
    "b36fc0f4af8f4a8ca52e4ae24cb687fc": {
     "views": []
    },
    "b38e31c3b01c409fa657daa2b1dc472f": {
     "views": [
      {
       "cell_index": 1
      }
     ]
    },
    "b3a87ba64380461f8093d99f704bf3e6": {
     "views": []
    },
    "b4ccacba798f4ac0a12f82abe72bbeaa": {
     "views": []
    },
    "b7c05f70605742679a12ffdc1b9f7a06": {
     "views": []
    },
    "ba68742e70094b5c976e90b659081223": {
     "views": []
    },
    "bff4b4fa73b447a5b76bd2b490b56bfd": {
     "views": []
    },
    "c09125743a7b442f86a38ac28b30d5ea": {
     "views": []
    },
    "c2cb287ffa934398ad53ec05fcc6e42b": {
     "views": []
    },
    "c7eb550514774e399a4b7881ce22321c": {
     "views": []
    },
    "c8855e4a84624af395a2a7368fa993df": {
     "views": [
      {
       "cell_index": 1
      }
     ]
    },
    "cb6bafb0bdb449e0940ed04a4fb9d730": {
     "views": [
      {
       "cell_index": 1
      }
     ]
    },
    "cc73c5493f8b464f91e302a3e985ebed": {
     "views": [
      {
       "cell_index": 1
      }
     ]
    },
    "cfd127b6ec5b42b3945656ae39ad7003": {
     "views": []
    },
    "d2eeef5cce484373b07347ffe61f9831": {
     "views": []
    },
    "d53fcd61686745579de9f29e47377470": {
     "views": []
    },
    "d59a5556da1d4e759d76567dca8e1cee": {
     "views": []
    },
    "d6179a74c31b4098a305ff98ed03d9f7": {
     "views": []
    },
    "da5422ca35684df49b0359cafc232e26": {
     "views": []
    },
    "dd4213757d7845758ab96222241883ce": {
     "views": [
      {
       "cell_index": 1
      }
     ]
    },
    "df1c9e0182b540d195448398b43440d4": {
     "views": []
    },
    "df4c860302454c8abd6b43cf865c694c": {
     "views": []
    },
    "e71b35d704fb412c9a137abd4be45b97": {
     "views": []
    },
    "e7db119eb5b64ad992b9d0a4a65f1679": {
     "views": []
    },
    "e9ba56c092234fc489d2c01ffba130cf": {
     "views": []
    },
    "ea6ccc89fdb24f3184603122c3af2dd0": {
     "views": []
    },
    "eeb6a7977ecc4a21b433a2d9a1da8c90": {
     "views": []
    },
    "eee98b48af694e0190cd403d27b5391a": {
     "views": []
    },
    "eeeaadd3ad2d4756957285dda0626604": {
     "views": []
    },
    "f501f0f8ce74467fbee14d0aeb5c597b": {
     "views": []
    },
    "f68cb3bc155e49bbae9fae5f08abb943": {
     "views": []
    },
    "f8ad7502c79543088f3e8af567186403": {
     "views": [
      {
       "cell_index": 1
      }
     ]
    },
    "f9094a31b46d4e8ca4401de1c2516fc6": {
     "views": []
    },
    "f9e138f8049d49ddbefa1d247cb41d80": {
     "views": []
    },
    "fc7a1afed8f14b7ba8f395913ee2ffdf": {
     "views": []
    },
    "ff4d40bba0c94863a302e60c507cc74c": {
     "views": []
    }
   },
   "version": "1.1.2"
  }
 },
 "nbformat": 4,
 "nbformat_minor": 2
}
