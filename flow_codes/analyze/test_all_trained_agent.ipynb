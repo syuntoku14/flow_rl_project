{
 "cells": [
  {
   "cell_type": "code",
   "execution_count": 1,
   "metadata": {},
   "outputs": [
    {
     "name": "stderr",
     "output_type": "stream",
     "text": [
      "Process STDOUT and STDERR is being redirected to /tmp/ray/session_2019-04-27_17-17-19_30987/logs.\n",
      "Waiting for redis server at 127.0.0.1:11514 to respond...\n",
      "Waiting for redis server at 127.0.0.1:40874 to respond...\n",
      "Warning: Capping object memory store to 20.0GB. To increase this further, specify `object_store_memory` when calling ray.init() or ray start.\n",
      "Starting the Plasma object store with 20.0 GB memory using /dev/shm.\n"
     ]
    },
    {
     "data": {
      "text/plain": [
       "{'node_ip_address': '10.138.0.2',\n",
       " 'object_store_addresses': ['/tmp/ray/session_2019-04-27_17-17-19_30987/sockets/plasma_store'],\n",
       " 'raylet_socket_names': ['/tmp/ray/session_2019-04-27_17-17-19_30987/sockets/raylet'],\n",
       " 'redis_address': '10.138.0.2:11514',\n",
       " 'webui_url': ''}"
      ]
     },
     "execution_count": 1,
     "metadata": {},
     "output_type": "execute_result"
    }
   ],
   "source": [
    "import os, sys, pickle\n",
    "from tqdm import tqdm_notebook as tqdm\n",
    "import numpy as np\n",
    "sys.path.append(os.path.join(os.getcwd(), '..'))\n",
    "sys.path = list(set(sys.path))\n",
    "import matplotlib.pyplot as plt\n",
    "\n",
    "from results_path import DDPG_PATH, PPO_PATH\n",
    "\n",
    "from common.evaluate import make_vis_env, test_env\n",
    "\n",
    "from flow.multiagent_envs import MultiWaveAttenuationMergePOEnv\n",
    "from flow.scenarios import MergeScenario\n",
    "from flow.utils.registry import make_create_env\n",
    "from flow.utils.rllib import FlowParamsEncoder\n",
    "from ray.tune import run_experiments\n",
    "\n",
    "import gym, ray\n",
    "from ray.rllib.agents.ppo import PPOAgent, DEFAULT_CONFIG\n",
    "from ray.rllib.agents.ddpg import DDPGAgent, DEFAULT_CONFIG\n",
    "from ray.tune.registry import register_env\n",
    "from ray.tune.logger import pretty_print\n",
    "\n",
    "exp_name = 'obs_outflow_multi_merge'\n",
    "checkpoint = '50'\n",
    "try_6_times = True\n",
    "\n",
    "results_list = os.listdir('/headless/ray_results/' + exp_name)\n",
    "\n",
    "benchmark_name = 'multi_merge'\n",
    "benchmark = __import__(\n",
    "    \"flow.benchmarks.%s\" % benchmark_name, fromlist=[\"flow_params\"])\n",
    "flow_params = benchmark.outflow_rew_flow_params\n",
    "horizon = flow_params['env'].horizon\n",
    "create_env, env_name = make_create_env(params=flow_params, version=0)\n",
    "\n",
    "ray.init(num_cpus=1, include_webui=False, ignore_reinit_error=True)"
   ]
  },
  {
   "cell_type": "code",
   "execution_count": null,
   "metadata": {},
   "outputs": [
    {
     "name": "stderr",
     "output_type": "stream",
     "text": [
      "Widget Javascript not detected.  It may not be installed properly. Did you enable the widgetsnbextension? If not, then run \"jupyter nbextension enable --py --sys-prefix widgetsnbextension\"\n",
      "Created LogSyncer for /headless/ray_results/PPO_MultiWaveAttenuationMergePOEnvOutFlowRew-v0_2019-04-27_17-17-205whjh5np -> None\n",
      " Starting SUMO on port 45135\n"
     ]
    },
    {
     "name": "stdout",
     "output_type": "stream",
     "text": [
      "AGENT_PATH: PPO_MultiWaveAttenuationMergePOEnvOutFlowRew-v0_[eta1, eta2, eta3]:[1.0, 0.1, 0.1]_t_min:10.0_3_2019-04-27_09-36-17rkhqbl3x\n"
     ]
    },
    {
     "name": "stderr",
     "output_type": "stream",
     "text": [
      "2019-04-27 17:17:21,710\tINFO policy_evaluator.py:262 -- Creating policy evaluation worker 0 on CPU (please ignore any CUDA init errors)\n",
      "/opt/conda/envs/flow/lib/python3.5/site-packages/tensorflow/python/ops/gradients_impl.py:108: UserWarning: Converting sparse IndexedSlices to a dense Tensor of unknown shape. This may consume a large amount of memory.\n",
      "  \"Converting sparse IndexedSlices to a dense Tensor of unknown shape. \"\n",
      " Starting SUMO on port 45135\n",
      "2019-04-27 17:17:27,062\tINFO multi_gpu_optimizer.py:74 -- LocalMultiGPUOptimizer devices ['/cpu:0']\n",
      "/opt/conda/envs/flow/lib/python3.5/site-packages/tensorflow/python/ops/gradients_impl.py:108: UserWarning: Converting sparse IndexedSlices to a dense Tensor of unknown shape. This may consume a large amount of memory.\n",
      "  \"Converting sparse IndexedSlices to a dense Tensor of unknown shape. \"\n",
      " Starting SUMO on port 59923\n",
      "Widget Javascript not detected.  It may not be installed properly. Did you enable the widgetsnbextension? If not, then run \"jupyter nbextension enable --py --sys-prefix widgetsnbextension\"\n",
      " Starting SUMO on port 59923\n",
      "Widget Javascript not detected.  It may not be installed properly. Did you enable the widgetsnbextension? If not, then run \"jupyter nbextension enable --py --sys-prefix widgetsnbextension\"\n",
      " Starting SUMO on port 59923\n",
      "Widget Javascript not detected.  It may not be installed properly. Did you enable the widgetsnbextension? If not, then run \"jupyter nbextension enable --py --sys-prefix widgetsnbextension\"\n",
      " Starting SUMO on port 59923\n",
      "Widget Javascript not detected.  It may not be installed properly. Did you enable the widgetsnbextension? If not, then run \"jupyter nbextension enable --py --sys-prefix widgetsnbextension\"\n",
      " Starting SUMO on port 59923\n",
      "Widget Javascript not detected.  It may not be installed properly. Did you enable the widgetsnbextension? If not, then run \"jupyter nbextension enable --py --sys-prefix widgetsnbextension\"\n",
      " Starting SUMO on port 59923\n",
      "Widget Javascript not detected.  It may not be installed properly. Did you enable the widgetsnbextension? If not, then run \"jupyter nbextension enable --py --sys-prefix widgetsnbextension\"\n",
      " Starting SUMO on port 59923\n",
      "Widget Javascript not detected.  It may not be installed properly. Did you enable the widgetsnbextension? If not, then run \"jupyter nbextension enable --py --sys-prefix widgetsnbextension\"\n",
      "Created LogSyncer for /headless/ray_results/PPO_MultiWaveAttenuationMergePOEnvOutFlowRew-v0_2019-04-27_17-25-25owr7hmku -> None\n"
     ]
    },
    {
     "name": "stdout",
     "output_type": "stream",
     "text": [
      "AGENT_PATH: PPO_MultiWaveAttenuationMergePOEnvOutFlowRew-v0_[eta1, eta2, eta3]:[1.0, 5.0, 0.1]_t_min:5.0_14_2019-04-27_15-15-348f84of3l\n"
     ]
    },
    {
     "name": "stderr",
     "output_type": "stream",
     "text": [
      " Starting SUMO on port 50337\n",
      "2019-04-27 17:25:27,309\tINFO policy_evaluator.py:262 -- Creating policy evaluation worker 0 on CPU (please ignore any CUDA init errors)\n",
      "/opt/conda/envs/flow/lib/python3.5/site-packages/tensorflow/python/ops/gradients_impl.py:108: UserWarning: Converting sparse IndexedSlices to a dense Tensor of unknown shape. This may consume a large amount of memory.\n",
      "  \"Converting sparse IndexedSlices to a dense Tensor of unknown shape. \"\n",
      " Starting SUMO on port 50337\n",
      "2019-04-27 17:25:34,128\tINFO multi_gpu_optimizer.py:74 -- LocalMultiGPUOptimizer devices ['/cpu:0']\n",
      "/opt/conda/envs/flow/lib/python3.5/site-packages/tensorflow/python/ops/gradients_impl.py:108: UserWarning: Converting sparse IndexedSlices to a dense Tensor of unknown shape. This may consume a large amount of memory.\n",
      "  \"Converting sparse IndexedSlices to a dense Tensor of unknown shape. \"\n",
      " Starting SUMO on port 32783\n",
      "Widget Javascript not detected.  It may not be installed properly. Did you enable the widgetsnbextension? If not, then run \"jupyter nbextension enable --py --sys-prefix widgetsnbextension\"\n",
      " Starting SUMO on port 32783\n",
      "Widget Javascript not detected.  It may not be installed properly. Did you enable the widgetsnbextension? If not, then run \"jupyter nbextension enable --py --sys-prefix widgetsnbextension\"\n",
      " Starting SUMO on port 32783\n",
      "Widget Javascript not detected.  It may not be installed properly. Did you enable the widgetsnbextension? If not, then run \"jupyter nbextension enable --py --sys-prefix widgetsnbextension\"\n",
      " Starting SUMO on port 32783\n",
      "Widget Javascript not detected.  It may not be installed properly. Did you enable the widgetsnbextension? If not, then run \"jupyter nbextension enable --py --sys-prefix widgetsnbextension\"\n",
      " Starting SUMO on port 32783\n",
      "Widget Javascript not detected.  It may not be installed properly. Did you enable the widgetsnbextension? If not, then run \"jupyter nbextension enable --py --sys-prefix widgetsnbextension\"\n",
      " Starting SUMO on port 32783\n",
      "Widget Javascript not detected.  It may not be installed properly. Did you enable the widgetsnbextension? If not, then run \"jupyter nbextension enable --py --sys-prefix widgetsnbextension\"\n",
      " Starting SUMO on port 32783\n",
      "Widget Javascript not detected.  It may not be installed properly. Did you enable the widgetsnbextension? If not, then run \"jupyter nbextension enable --py --sys-prefix widgetsnbextension\"\n",
      "Created LogSyncer for /headless/ray_results/PPO_MultiWaveAttenuationMergePOEnvOutFlowRew-v0_2019-04-27_17-33-3977oj8ms7 -> None\n"
     ]
    },
    {
     "name": "stdout",
     "output_type": "stream",
     "text": [
      "AGENT_PATH: PPO_MultiWaveAttenuationMergePOEnvOutFlowRew-v0_[eta1, eta2, eta3]:[1.0, 5.0, 0.0]_t_min:5.0_12_2019-04-27_14-13-49nd72kggt\n"
     ]
    },
    {
     "name": "stderr",
     "output_type": "stream",
     "text": [
      " Starting SUMO on port 35807\n",
      "2019-04-27 17:33:40,530\tINFO policy_evaluator.py:262 -- Creating policy evaluation worker 0 on CPU (please ignore any CUDA init errors)\n",
      "/opt/conda/envs/flow/lib/python3.5/site-packages/tensorflow/python/ops/gradients_impl.py:108: UserWarning: Converting sparse IndexedSlices to a dense Tensor of unknown shape. This may consume a large amount of memory.\n",
      "  \"Converting sparse IndexedSlices to a dense Tensor of unknown shape. \"\n",
      " Starting SUMO on port 35807\n",
      "2019-04-27 17:33:45,945\tINFO multi_gpu_optimizer.py:74 -- LocalMultiGPUOptimizer devices ['/cpu:0']\n",
      "/opt/conda/envs/flow/lib/python3.5/site-packages/tensorflow/python/ops/gradients_impl.py:108: UserWarning: Converting sparse IndexedSlices to a dense Tensor of unknown shape. This may consume a large amount of memory.\n",
      "  \"Converting sparse IndexedSlices to a dense Tensor of unknown shape. \"\n",
      " Starting SUMO on port 57897\n",
      "Widget Javascript not detected.  It may not be installed properly. Did you enable the widgetsnbextension? If not, then run \"jupyter nbextension enable --py --sys-prefix widgetsnbextension\"\n",
      " Starting SUMO on port 57897\n",
      "Widget Javascript not detected.  It may not be installed properly. Did you enable the widgetsnbextension? If not, then run \"jupyter nbextension enable --py --sys-prefix widgetsnbextension\"\n",
      " Starting SUMO on port 57897\n",
      "Widget Javascript not detected.  It may not be installed properly. Did you enable the widgetsnbextension? If not, then run \"jupyter nbextension enable --py --sys-prefix widgetsnbextension\"\n",
      " Starting SUMO on port 57897\n",
      "Widget Javascript not detected.  It may not be installed properly. Did you enable the widgetsnbextension? If not, then run \"jupyter nbextension enable --py --sys-prefix widgetsnbextension\"\n",
      " Starting SUMO on port 57897\n",
      "Widget Javascript not detected.  It may not be installed properly. Did you enable the widgetsnbextension? If not, then run \"jupyter nbextension enable --py --sys-prefix widgetsnbextension\"\n",
      " Starting SUMO on port 57897\n",
      "Widget Javascript not detected.  It may not be installed properly. Did you enable the widgetsnbextension? If not, then run \"jupyter nbextension enable --py --sys-prefix widgetsnbextension\"\n",
      " Starting SUMO on port 57897\n",
      "Widget Javascript not detected.  It may not be installed properly. Did you enable the widgetsnbextension? If not, then run \"jupyter nbextension enable --py --sys-prefix widgetsnbextension\"\n",
      "Created LogSyncer for /headless/ray_results/PPO_MultiWaveAttenuationMergePOEnvOutFlowRew-v0_2019-04-27_17-42-18sysii3z6 -> None\n"
     ]
    },
    {
     "name": "stdout",
     "output_type": "stream",
     "text": [
      "AGENT_PATH: PPO_MultiWaveAttenuationMergePOEnvOutFlowRew-v0_[eta1, eta2, eta3]:[1.0, 0.5, 0.1]_t_min:10.0_7_2019-04-27_11-38-31xzyjmfdp\n"
     ]
    },
    {
     "name": "stderr",
     "output_type": "stream",
     "text": [
      " Starting SUMO on port 53969\n",
      "2019-04-27 17:42:19,682\tINFO policy_evaluator.py:262 -- Creating policy evaluation worker 0 on CPU (please ignore any CUDA init errors)\n",
      "/opt/conda/envs/flow/lib/python3.5/site-packages/tensorflow/python/ops/gradients_impl.py:108: UserWarning: Converting sparse IndexedSlices to a dense Tensor of unknown shape. This may consume a large amount of memory.\n",
      "  \"Converting sparse IndexedSlices to a dense Tensor of unknown shape. \"\n",
      " Starting SUMO on port 53969\n",
      "2019-04-27 17:42:24,870\tINFO multi_gpu_optimizer.py:74 -- LocalMultiGPUOptimizer devices ['/cpu:0']\n",
      "/opt/conda/envs/flow/lib/python3.5/site-packages/tensorflow/python/ops/gradients_impl.py:108: UserWarning: Converting sparse IndexedSlices to a dense Tensor of unknown shape. This may consume a large amount of memory.\n",
      "  \"Converting sparse IndexedSlices to a dense Tensor of unknown shape. \"\n",
      " Starting SUMO on port 57497\n",
      "Widget Javascript not detected.  It may not be installed properly. Did you enable the widgetsnbextension? If not, then run \"jupyter nbextension enable --py --sys-prefix widgetsnbextension\"\n",
      " Starting SUMO on port 57497\n",
      "Widget Javascript not detected.  It may not be installed properly. Did you enable the widgetsnbextension? If not, then run \"jupyter nbextension enable --py --sys-prefix widgetsnbextension\"\n",
      " Starting SUMO on port 57497\n",
      "Widget Javascript not detected.  It may not be installed properly. Did you enable the widgetsnbextension? If not, then run \"jupyter nbextension enable --py --sys-prefix widgetsnbextension\"\n",
      " Starting SUMO on port 57497\n",
      "Widget Javascript not detected.  It may not be installed properly. Did you enable the widgetsnbextension? If not, then run \"jupyter nbextension enable --py --sys-prefix widgetsnbextension\"\n",
      " Starting SUMO on port 57497\n",
      "Widget Javascript not detected.  It may not be installed properly. Did you enable the widgetsnbextension? If not, then run \"jupyter nbextension enable --py --sys-prefix widgetsnbextension\"\n",
      " Starting SUMO on port 57497\n",
      "Widget Javascript not detected.  It may not be installed properly. Did you enable the widgetsnbextension? If not, then run \"jupyter nbextension enable --py --sys-prefix widgetsnbextension\"\n",
      " Starting SUMO on port 57497\n",
      "Widget Javascript not detected.  It may not be installed properly. Did you enable the widgetsnbextension? If not, then run \"jupyter nbextension enable --py --sys-prefix widgetsnbextension\"\n",
      "Created LogSyncer for /headless/ray_results/PPO_MultiWaveAttenuationMergePOEnvOutFlowRew-v0_2019-04-27_17-50-14afa4lrji -> None\n"
     ]
    },
    {
     "name": "stdout",
     "output_type": "stream",
     "text": [
      "AGENT_PATH: PPO_MultiWaveAttenuationMergePOEnvOutFlowRew-v0_[eta1, eta2, eta3]:[1.0, 1.0, 0.0]_t_min:5.0_8_2019-04-27_12-09-32a4sf4jm2\n"
     ]
    },
    {
     "name": "stderr",
     "output_type": "stream",
     "text": [
      " Starting SUMO on port 47177\n",
      "2019-04-27 17:50:16,502\tINFO policy_evaluator.py:262 -- Creating policy evaluation worker 0 on CPU (please ignore any CUDA init errors)\n",
      "/opt/conda/envs/flow/lib/python3.5/site-packages/tensorflow/python/ops/gradients_impl.py:108: UserWarning: Converting sparse IndexedSlices to a dense Tensor of unknown shape. This may consume a large amount of memory.\n",
      "  \"Converting sparse IndexedSlices to a dense Tensor of unknown shape. \"\n",
      " Starting SUMO on port 47177\n",
      "2019-04-27 17:50:23,428\tINFO multi_gpu_optimizer.py:74 -- LocalMultiGPUOptimizer devices ['/cpu:0']\n",
      "/opt/conda/envs/flow/lib/python3.5/site-packages/tensorflow/python/ops/gradients_impl.py:108: UserWarning: Converting sparse IndexedSlices to a dense Tensor of unknown shape. This may consume a large amount of memory.\n",
      "  \"Converting sparse IndexedSlices to a dense Tensor of unknown shape. \"\n",
      " Starting SUMO on port 44777\n",
      "Widget Javascript not detected.  It may not be installed properly. Did you enable the widgetsnbextension? If not, then run \"jupyter nbextension enable --py --sys-prefix widgetsnbextension\"\n",
      " Starting SUMO on port 44777\n",
      "Widget Javascript not detected.  It may not be installed properly. Did you enable the widgetsnbextension? If not, then run \"jupyter nbextension enable --py --sys-prefix widgetsnbextension\"\n",
      " Starting SUMO on port 44777\n",
      "Widget Javascript not detected.  It may not be installed properly. Did you enable the widgetsnbextension? If not, then run \"jupyter nbextension enable --py --sys-prefix widgetsnbextension\"\n",
      " Starting SUMO on port 44777\n",
      "Widget Javascript not detected.  It may not be installed properly. Did you enable the widgetsnbextension? If not, then run \"jupyter nbextension enable --py --sys-prefix widgetsnbextension\"\n",
      " Starting SUMO on port 44777\n",
      "Widget Javascript not detected.  It may not be installed properly. Did you enable the widgetsnbextension? If not, then run \"jupyter nbextension enable --py --sys-prefix widgetsnbextension\"\n",
      " Starting SUMO on port 44777\n",
      "Widget Javascript not detected.  It may not be installed properly. Did you enable the widgetsnbextension? If not, then run \"jupyter nbextension enable --py --sys-prefix widgetsnbextension\"\n",
      " Starting SUMO on port 44777\n",
      "Widget Javascript not detected.  It may not be installed properly. Did you enable the widgetsnbextension? If not, then run \"jupyter nbextension enable --py --sys-prefix widgetsnbextension\"\n",
      "Created LogSyncer for /headless/ray_results/PPO_MultiWaveAttenuationMergePOEnvOutFlowRew-v0_2019-04-27_17-58-41rkahl0ds -> None\n"
     ]
    },
    {
     "name": "stdout",
     "output_type": "stream",
     "text": [
      "AGENT_PATH: PPO_MultiWaveAttenuationMergePOEnvOutFlowRew-v0_[eta1, eta2, eta3]:[1.0, 0.5, 0.0]_t_min:10.0_5_2019-04-27_10-36-40207v0e0e\n"
     ]
    },
    {
     "name": "stderr",
     "output_type": "stream",
     "text": [
      " Starting SUMO on port 37885\n",
      "2019-04-27 17:58:43,055\tINFO policy_evaluator.py:262 -- Creating policy evaluation worker 0 on CPU (please ignore any CUDA init errors)\n",
      "/opt/conda/envs/flow/lib/python3.5/site-packages/tensorflow/python/ops/gradients_impl.py:108: UserWarning: Converting sparse IndexedSlices to a dense Tensor of unknown shape. This may consume a large amount of memory.\n",
      "  \"Converting sparse IndexedSlices to a dense Tensor of unknown shape. \"\n",
      " Starting SUMO on port 37885\n",
      "2019-04-27 17:58:49,231\tINFO multi_gpu_optimizer.py:74 -- LocalMultiGPUOptimizer devices ['/cpu:0']\n",
      "/opt/conda/envs/flow/lib/python3.5/site-packages/tensorflow/python/ops/gradients_impl.py:108: UserWarning: Converting sparse IndexedSlices to a dense Tensor of unknown shape. This may consume a large amount of memory.\n",
      "  \"Converting sparse IndexedSlices to a dense Tensor of unknown shape. \"\n",
      " Starting SUMO on port 51853\n",
      "Widget Javascript not detected.  It may not be installed properly. Did you enable the widgetsnbextension? If not, then run \"jupyter nbextension enable --py --sys-prefix widgetsnbextension\"\n",
      " Starting SUMO on port 51853\n",
      "Widget Javascript not detected.  It may not be installed properly. Did you enable the widgetsnbextension? If not, then run \"jupyter nbextension enable --py --sys-prefix widgetsnbextension\"\n",
      " Starting SUMO on port 51853\n",
      "Widget Javascript not detected.  It may not be installed properly. Did you enable the widgetsnbextension? If not, then run \"jupyter nbextension enable --py --sys-prefix widgetsnbextension\"\n",
      " Starting SUMO on port 51853\n",
      "Widget Javascript not detected.  It may not be installed properly. Did you enable the widgetsnbextension? If not, then run \"jupyter nbextension enable --py --sys-prefix widgetsnbextension\"\n",
      " Starting SUMO on port 51853\n",
      "Widget Javascript not detected.  It may not be installed properly. Did you enable the widgetsnbextension? If not, then run \"jupyter nbextension enable --py --sys-prefix widgetsnbextension\"\n",
      " Starting SUMO on port 51853\n",
      "Widget Javascript not detected.  It may not be installed properly. Did you enable the widgetsnbextension? If not, then run \"jupyter nbextension enable --py --sys-prefix widgetsnbextension\"\n",
      " Starting SUMO on port 51853\n",
      "Widget Javascript not detected.  It may not be installed properly. Did you enable the widgetsnbextension? If not, then run \"jupyter nbextension enable --py --sys-prefix widgetsnbextension\"\n"
     ]
    }
   ],
   "source": [
    "register_env(env_name, create_env)\n",
    "\n",
    "for AGENT_PATH in tqdm(results_list, desc='Results'):\n",
    "    print('AGENT_PATH: {}'.format(AGENT_PATH))\n",
    "    \n",
    "    AGENT = AGENT_PATH[:AGENT_PATH.find('_')]\n",
    "    PATH = exp_name + '/' + AGENT_PATH\n",
    "    config_path = '/headless/rl_project/ray_results/' + PATH + '/params.pkl'\n",
    "    checkpoint_path = '/headless/rl_project/ray_results/' + PATH + '/checkpoint_{}/checkpoint-{}'.format(checkpoint, checkpoint)\n",
    "\n",
    "    with open(config_path, mode='rb') as f:\n",
    "        config = pickle.load(f)\n",
    "\n",
    "    if AGENT == 'PPO':\n",
    "        agent = PPOAgent(config=config, env=env_name)\n",
    "    elif AGENT == 'DDPG':\n",
    "        agent = DDPGAgent(config=config, env=env_name)\n",
    "        \n",
    "    try:\n",
    "        agent.restore(checkpoint_path)\n",
    "    except:\n",
    "        print(\"{} \\n checkpoint doesn't exist\".format(PATH + '/checkpoint_{}/checkpoint-{}'.format(checkpoint, checkpoint)))\n",
    "        pass\n",
    "    \n",
    "    env = create_env()\n",
    "    # calculate the space-time velocity map\n",
    "    left_length = env.k.scenario.edge_length('left')\n",
    "    car_length = 5.0\n",
    "    scale = 10\n",
    "    vel_lists = []\n",
    "    vel_map_lists = []\n",
    "    outflow_lists = []\n",
    "\n",
    "    num_iter = 6 if try_6_times else 1\n",
    "    \n",
    "    for _ in tqdm(range(num_iter), desc='Trials'):\n",
    "        state = env.reset()\n",
    "        vel = []\n",
    "        outflow = []\n",
    "        for i in tqdm(range(env.env_params.horizon), desc='env step'):\n",
    "            # record the mean velocity\n",
    "            v = np.mean(env.k.vehicle.get_speed(env.k.vehicle.get_ids()))\n",
    "            vel.append(v)\n",
    "            \n",
    "            # record the velocity map\n",
    "            ids = env.k.vehicle.get_ids()\n",
    "            vel_map_ = np.zeros(int(left_length)*scale)\n",
    "            for id_ in ids:\n",
    "                pos_ = np.round(env.k.vehicle.get_position(id_), decimals=1)\n",
    "                vel_ = env.k.vehicle.get_speed(id_)\n",
    "                pos_bottom = max(0, int((pos_-car_length/2.0)*scale))\n",
    "                pos_top = min(int(left_length)*scale, int((pos_+car_length/2.0)*scale))\n",
    "                vel_map_[pos_bottom:pos_top] = vel_            \n",
    "\n",
    "            # step the simulation\n",
    "            rl_ids = env.k.vehicle.get_rl_ids()\n",
    "            actions = {}\n",
    "            if AGENT != 'HUMAN':\n",
    "                for id_ in rl_ids:\n",
    "                    action = agent.compute_action(state[id_])\n",
    "                    actions.update({id_: action})\n",
    "            state, r, _, _ = env.step(actions)\n",
    "            outflow.append(env.k.vehicle.get_outflow_rate(600)) # measured by one min\n",
    "\n",
    "            if i == 0:\n",
    "                vel_map_list = vel_map_\n",
    "            else:\n",
    "                vel_map_list = np.vstack((vel_map_list, vel_map_))\n",
    "\n",
    "        outflow_lists.append(outflow[-500:])\n",
    "        vel_lists.append(vel)\n",
    "        vel_map_list[vel_map_list==0.0] = np.nan\n",
    "        vel_map_lists.append(vel_map_list)\n",
    "        \n",
    "    vel_fig, ax = plt.subplots(nrows=1, ncols=1)\n",
    "    for i in range(num_iter):\n",
    "        ax.plot(vel_lists[i])\n",
    "    title = AGENT + ' multi-agent mean velocity'\n",
    "    title = title + ' \\n mean velocity {:3f}'.format(np.mean(vel_lists))\n",
    "    title = title + ' \\n mean outflow rate {:3f}'.format(np.mean(outflow_lists))\n",
    "    ax.set_ylabel('system level mean velocity (m/s)')\n",
    "    ax.set_xlabel('step')\n",
    "    vel_fig.suptitle(title)\n",
    "    plt.subplots_adjust(top=0.8)\n",
    "    \n",
    "    \n",
    "    nrows = 2 if try_6_times else 1\n",
    "    ncols = 3 if try_6_times else 1\n",
    "    space_fig, axes = plt.subplots(nrows=nrows, ncols=ncols, figsize=(10, 6))\n",
    "    space_fig.tight_layout()\n",
    "\n",
    "    for i in range(num_iter):\n",
    "        # plt.subplot(2, 3, i+1)\n",
    "        x = np.arange(int(env.env_params.horizon))\n",
    "        y = np.arange(0, int(left_length), step=0.1)\n",
    "        xx, yy = np.meshgrid(x, y)\n",
    "        try:\n",
    "            im = axes[i%2, i%3].pcolormesh(xx, yy, vel_map_lists[i].T)\n",
    "            if i % 3 == 0:\n",
    "                axes[i%2, i%3].set_ylabel('Position (m)')\n",
    "            if int(i / 3.0) > 0:\n",
    "                axes[int(i/3), int(i/3)].set_xlabel('step')\n",
    "        except:\n",
    "            im = axes.pcolormesh(xx, yy, vel_map_lists[i].T)\n",
    "            if i % 3 == 0:\n",
    "                axes.set_ylabel('Position (m)')\n",
    "            if int(i / 3.0) > 0:\n",
    "                axes.set_xlabel('step')\n",
    "\n",
    "    try:\n",
    "        clb = space_fig.colorbar(im, ax=axes.ravel().tolist(), shrink=0.95)\n",
    "    except:\n",
    "        clb = space_fig.colorbar(im, ax=axes, shrink=0.95)\n",
    "\n",
    "    clb.set_clim(0, 30)\n",
    "    clb.set_label('Velocity (m/s)')\n",
    "    title = AGENT + ' Space-Time Diagram of 600 meter merge road'\n",
    "    space_fig.suptitle(title)   \n",
    "    plt.subplots_adjust(top=0.9, right=0.8)\n",
    "    \n",
    "    # save figures\n",
    "    filename = PATH[PATH.find('/') + 1:].replace(' ', '_') + '.png'\n",
    "    vel_dir = '../result/MultiMerge/' + AGENT + '/' + exp_name + '/mean_velocity/'\n",
    "    space_dir = '../result/MultiMerge/' + AGENT + '/' + exp_name + '/space_time_diagram/'\n",
    "    os.makedirs(vel_dir, exist_ok=True)\n",
    "    os.makedirs(space_dir, exist_ok=True)\n",
    "\n",
    "    vel_fig.savefig(vel_dir + filename)\n",
    "    space_fig.savefig(space_dir + filename)"
   ]
  },
  {
   "cell_type": "code",
   "execution_count": null,
   "metadata": {},
   "outputs": [],
   "source": []
  }
 ],
 "metadata": {
  "kernelspec": {
   "display_name": "Python 3",
   "language": "python",
   "name": "python3"
  },
  "language_info": {
   "codemirror_mode": {
    "name": "ipython",
    "version": 3
   },
   "file_extension": ".py",
   "mimetype": "text/x-python",
   "name": "python",
   "nbconvert_exporter": "python",
   "pygments_lexer": "ipython3",
   "version": "3.5.2"
  },
  "varInspector": {
   "cols": {
    "lenName": "50",
    "lenType": "50",
    "lenVar": "50"
   },
   "kernels_config": {
    "python": {
     "delete_cmd_postfix": "",
     "delete_cmd_prefix": "del ",
     "library": "var_list.py",
     "varRefreshCmd": "print(var_dic_list())"
    },
    "r": {
     "delete_cmd_postfix": ") ",
     "delete_cmd_prefix": "rm(",
     "library": "var_list.r",
     "varRefreshCmd": "cat(var_dic_list()) "
    }
   },
   "types_to_exclude": [
    "module",
    "function",
    "builtin_function_or_method",
    "instance",
    "_Feature"
   ],
   "window_display": false
  },
  "widgets": {
   "state": {
    "0192c0b7c78e479095723ace53694757": {
     "views": [
      {
       "cell_index": 1
      }
     ]
    },
    "029ce6799e7c4d649fde6abcfcf8fa21": {
     "views": []
    },
    "02e8762e4701482ea83a828ee58b413c": {
     "views": []
    },
    "053147f2ccf34c7bba1b53069f53ab4b": {
     "views": []
    },
    "054f8771ea06451eab5e68a778f80aed": {
     "views": []
    },
    "0732d1aec71d44928abf03ce51a3762b": {
     "views": []
    },
    "07571198d62f41ec872e69301f63a9dd": {
     "views": []
    },
    "0a4727722ba84e3fb11cc06d4e21b10b": {
     "views": [
      {
       "cell_index": 1
      }
     ]
    },
    "0a638f27378f4309bbe14c6327e2018c": {
     "views": []
    },
    "0a6c7f87d0694ada859c4514670b9c7c": {
     "views": []
    },
    "0aba8ef5dd36484e8c6c4e5c04b93bbc": {
     "views": []
    },
    "0b9eb7b6fd794cf6b86df4a8fb8de004": {
     "views": []
    },
    "0ba9e734389e4605a4ee7fd2b2972ac3": {
     "views": []
    },
    "0bc6409d6d4b47d0a68adb3353507d74": {
     "views": [
      {
       "cell_index": 1
      }
     ]
    },
    "0d0d9ccc008845e68905c602405e6839": {
     "views": []
    },
    "0d36754a79674676b4980d8e24c74e5e": {
     "views": []
    },
    "0e2bd56a87514d6bb6b192352a229bd0": {
     "views": []
    },
    "0ef62d7b13b34edd93352a8cfd365e4a": {
     "views": []
    },
    "10355ff74f5f48ae8327070ad4a3a266": {
     "views": []
    },
    "1102440b40c54b45a342cf6bec783fd1": {
     "views": []
    },
    "111c7870c11a40f49676fbe2d526945c": {
     "views": []
    },
    "13e3ec6be4814e5eab5dd73675ec5482": {
     "views": []
    },
    "145aae9a6cea4e1dab40fb2aae674443": {
     "views": []
    },
    "1716bb020c9246d49d90ec3064597354": {
     "views": []
    },
    "18f7f1b900fe4b3c91e90ba441fd7308": {
     "views": [
      {
       "cell_index": 1
      }
     ]
    },
    "1b80a5eef00f473f9bea6d22f9628089": {
     "views": []
    },
    "1bbe98a0c5534949a9a2ac6268b7cb67": {
     "views": []
    },
    "1decdc0979e04c298b0951b24603fe12": {
     "views": []
    },
    "1e6544f4451049708bbeada06adff66a": {
     "views": [
      {
       "cell_index": 1
      }
     ]
    },
    "227aaec56cc44939bd510e5c542e9022": {
     "views": [
      {
       "cell_index": 1
      }
     ]
    },
    "23c4ab5d74ce4332aa1c0d4cadb1cf7e": {
     "views": []
    },
    "24831b73e7e64808ba14edd2c1e0f9b8": {
     "views": [
      {
       "cell_index": 1
      }
     ]
    },
    "24f83562560040b1ac12a1472e301eec": {
     "views": []
    },
    "26230d7c5f7f4a89823a721a9fc17676": {
     "views": []
    },
    "2638f9bdefdf4d45a60936c157f411d5": {
     "views": []
    },
    "293743c58bb245eb8cd7d00c75229726": {
     "views": []
    },
    "2c7ce69dd1b14cceb85b56f5c6fed745": {
     "views": []
    },
    "2d578bdb65a043d68f340f5950796965": {
     "views": []
    },
    "2e18b7d79f834b5aa92f2d36e145eb94": {
     "views": []
    },
    "2e776b5336644009b35e024fb4b6c640": {
     "views": []
    },
    "2ec4e00389f14a0485391386ee8a5c55": {
     "views": []
    },
    "2ee31b22e2c14630a3cb609f7a6ab394": {
     "views": []
    },
    "2f964d2ea64f418eaaab8b053d294cfa": {
     "views": []
    },
    "3093b0adbcf44ad4af41e70f3b901907": {
     "views": []
    },
    "319822fc01f944e28e62651fe3d797a0": {
     "views": []
    },
    "32c994908c6943fa80d6d8583a14e41a": {
     "views": []
    },
    "32c9d19025ed437f987d63ac3f45402d": {
     "views": []
    },
    "3320fd23057e499fba98daa98ba8d6dc": {
     "views": []
    },
    "347574041c5e472c81da5d6526673a7f": {
     "views": [
      {
       "cell_index": 1
      }
     ]
    },
    "347e1a73ec5848c7be79e381369c982a": {
     "views": [
      {
       "cell_index": 1
      }
     ]
    },
    "34e33db0eee84936a101bf59f7678665": {
     "views": []
    },
    "3521221aa7fa4d30b0364ba677ac7bfc": {
     "views": []
    },
    "39d27d63e37c417fae09938b9fddc465": {
     "views": []
    },
    "3a1e8cad8fe6472aac4e81425ea217b8": {
     "views": []
    },
    "3a4f570ef9b849b2a677ec304b8fabdf": {
     "views": []
    },
    "3a84f9e85a8a425cacf4ff3239cf525a": {
     "views": [
      {
       "cell_index": 1
      }
     ]
    },
    "3a9830e3984344a9b77762aeae663e4c": {
     "views": []
    },
    "3ad8f6d77a7248ecb407986f2415b36c": {
     "views": []
    },
    "3bad04ae8c4446328f1aac3778405fa8": {
     "views": [
      {
       "cell_index": 1
      }
     ]
    },
    "3c18100eb1324afcb259f8e697c3dda1": {
     "views": []
    },
    "3d3c00986c284342b15f2592f30bc97e": {
     "views": []
    },
    "3dbf1fd7ebf84859b0f24f4de2796f6f": {
     "views": [
      {
       "cell_index": 1
      }
     ]
    },
    "3e1a0da1d2f64d6e8a92acc25da1eaf0": {
     "views": []
    },
    "3e364d16fd8940649dfc99c333d711f2": {
     "views": []
    },
    "3f620bf2c5e44574a81e326ff0e9dbb6": {
     "views": []
    },
    "3f676d87e7804729b8ac41c6258ed0e1": {
     "views": []
    },
    "412b214738074d7eb38c2f3429e86161": {
     "views": []
    },
    "4401aa29583c4a8182be7ef55389c35b": {
     "views": []
    },
    "442e8cd1b2764ffd8d6a79a68501a3dc": {
     "views": []
    },
    "449e071960d544c59454f8fd9ecd1603": {
     "views": []
    },
    "4597f67303f649598a426df571573c2c": {
     "views": [
      {
       "cell_index": 1
      }
     ]
    },
    "49c3e74102e2461f8019204da30e82ab": {
     "views": []
    },
    "4a0fd050dab148e6b3f001e80c992943": {
     "views": []
    },
    "4c50299ddd2c42f9b9698b63d6099582": {
     "views": []
    },
    "4d744c264b9e4f95a8be3746c96bf9c5": {
     "views": []
    },
    "4d77b350705c47168d3759b8c0f3f074": {
     "views": []
    },
    "4ded3378abfe439591709bc9f51814e7": {
     "views": []
    },
    "4e9a0ccbd89f4ad195c4e8df62d309b0": {
     "views": []
    },
    "4f7a63d8b7e64454bd26b6004fc8df96": {
     "views": []
    },
    "50629944ada94e3a88205f86b8646cbb": {
     "views": []
    },
    "51a572f69277428395f525e38295fc15": {
     "views": [
      {
       "cell_index": 1
      }
     ]
    },
    "51df1b7f40f54a0888a3c95a50e106c1": {
     "views": []
    },
    "51f61fa668a747d28007b1f599da9239": {
     "views": []
    },
    "5276ae7079a94cfc94c6bc3a45fb64a4": {
     "views": [
      {
       "cell_index": 1
      }
     ]
    },
    "56c7660644394fd5a7c2c9aaffb452b8": {
     "views": []
    },
    "576d1d3da3d848918aae7ce8593c4f14": {
     "views": []
    },
    "59a98f643d3a4c929a5c1fdc4f5a68e8": {
     "views": []
    },
    "59fef0176c3f419281aee0b3e5669035": {
     "views": []
    },
    "5aaaf5a99bc24a5396fc797b01ad2bad": {
     "views": []
    },
    "5ce3b6fc070d4ecd8c46b112412ee720": {
     "views": []
    },
    "5cf5f94168f04136a1e306ab4a968c4b": {
     "views": [
      {
       "cell_index": 1
      }
     ]
    },
    "5d06eb01773a4a0a9e6496e4d5db4f74": {
     "views": []
    },
    "5d0888fce9ed43e89676f5bb19b9ea3c": {
     "views": []
    },
    "5d5b1471f8b4458092ae1ffc1a505739": {
     "views": [
      {
       "cell_index": 1
      }
     ]
    },
    "5f4cfdfbb35c4de786ef7ae9ba2383f9": {
     "views": [
      {
       "cell_index": 1
      }
     ]
    },
    "5f7dd18e78ef44b6b35945fcf7111ff0": {
     "views": []
    },
    "5fed4a83af5a4cc0bd76e0eada9b4604": {
     "views": []
    },
    "60a371e01b124a479430eee2595566a4": {
     "views": []
    },
    "615b5921e6b341e59fedeb8ff7b0383d": {
     "views": []
    },
    "61da3aa450974d6d89dec1b892d78c33": {
     "views": []
    },
    "6238238bba3d4f28b36a00bc0f9706d1": {
     "views": []
    },
    "62a635db6cde428b9dee5254bc4e4984": {
     "views": []
    },
    "63810a91bb1440a6aff20607bf2fbcb9": {
     "views": [
      {
       "cell_index": 1
      }
     ]
    },
    "65598a0ed43040e2931a767fb5d1af08": {
     "views": []
    },
    "6583223df16d4095924accb00f044f0e": {
     "views": []
    },
    "661ac54ee8234978b53581d04018329c": {
     "views": []
    },
    "674b41e547db43d4bb034ea5713b618e": {
     "views": []
    },
    "67a6fb5075f843c4b6a290cd58776597": {
     "views": []
    },
    "68c3f01d4c284aeeb282d25354128f96": {
     "views": []
    },
    "6d0d62944aed4019b4cea55dac2ac0c4": {
     "views": []
    },
    "6d52d64e54ca4dbe9b3ba430217b2c29": {
     "views": []
    },
    "702581f775e643a4a5dba29fdb755560": {
     "views": []
    },
    "705de1c4aed04122b80198b04c562ed6": {
     "views": []
    },
    "716f228a40a0494ba1298d16d3d9287d": {
     "views": []
    },
    "72fbff78c89a4e06b04f197bf906f400": {
     "views": []
    },
    "73cb8ae49c274d15844a3f5aa5ade459": {
     "views": [
      {
       "cell_index": 1
      }
     ]
    },
    "7606b74b90d84290b2d61f10ced08548": {
     "views": []
    },
    "78262513aaab4742b61a77911f344184": {
     "views": []
    },
    "7c11fcc333334957a47a9041eeae8661": {
     "views": []
    },
    "7d9b7d27fa2544a4a4af500868c9c655": {
     "views": []
    },
    "7e939c4f735a47a4be389121017ebeb6": {
     "views": []
    },
    "7e93d814e91a4eb5820b1dfcce5a09ab": {
     "views": []
    },
    "7eb8beab58824c6fbf5c1132b2f0dc38": {
     "views": [
      {
       "cell_index": 1
      }
     ]
    },
    "7fe5ffd2671c40259883d6489a0eecf3": {
     "views": []
    },
    "80ca0ea7ce634f0f8fd52b12bc785af3": {
     "views": []
    },
    "81fe4108f09b4eaaaa3feeaef3a71c18": {
     "views": []
    },
    "849b418951364b7eb67b2aed049566d2": {
     "views": [
      {
       "cell_index": 1
      }
     ]
    },
    "84d5f147367b4d19b56a5f68287d1e8f": {
     "views": []
    },
    "86030ac44be349e483cccc81f92acb5d": {
     "views": []
    },
    "868abbbdf1b24115a93d5063a9dd7ddf": {
     "views": []
    },
    "8887dbfe46844c5190fcc1d3131c99f3": {
     "views": []
    },
    "89ce7df89cce46c28973eb7639474a80": {
     "views": []
    },
    "89d2d5cc98384381903d89839f526dee": {
     "views": []
    },
    "8e97012f761d4c1c8b736bfd6f8d8104": {
     "views": []
    },
    "8f8b6cdfab05435caa2e0faf28d84a4b": {
     "views": [
      {
       "cell_index": 1
      }
     ]
    },
    "8f9bde2d60eb43d88d25bfcdbd1c78e4": {
     "views": []
    },
    "9102b2a4ff12481bbfa93308f372a8b8": {
     "views": []
    },
    "91493a8d0eaa4b008319e76f4a8acb7f": {
     "views": [
      {
       "cell_index": 1
      }
     ]
    },
    "929e00d7cfff4c90a72144b9770bfaab": {
     "views": []
    },
    "92bd8645445a43d38f37a16be84039ca": {
     "views": [
      {
       "cell_index": 1
      }
     ]
    },
    "92f7dae9430c4c279cb6f81e6d89fe3b": {
     "views": []
    },
    "93e989fa982a4c1fa222bb8f65b02787": {
     "views": [
      {
       "cell_index": 1
      }
     ]
    },
    "95196628a2e14bc190a016653c694761": {
     "views": []
    },
    "96229d4cf221486c9ca53326c76b77ec": {
     "views": []
    },
    "96c06de439f1432fb15bd18f6070227c": {
     "views": []
    },
    "973421fe156a4bd595cf385638b9a0af": {
     "views": []
    },
    "9796b9c98bfb4ba38b41b4a4377b1b77": {
     "views": []
    },
    "9800d7933da54a42b99b7784adab3ae5": {
     "views": []
    },
    "980b26d4a9bc4810b9b3af676df4eb01": {
     "views": []
    },
    "98c0185d946644649df56d7fb80f4244": {
     "views": []
    },
    "9b0d8f28578547c5a39271cc51043299": {
     "views": []
    },
    "9d7f137b1b574a908d8921a1f9aaf873": {
     "views": []
    },
    "9da5917914004934a73468d47232ae11": {
     "views": []
    },
    "9defe23d992a48129c6c2ef64025088c": {
     "views": []
    },
    "9e8469f9af174b62a253fddb65bc2674": {
     "views": []
    },
    "9fe2d25ca8684bcb81bfe8dc0c64b5d2": {
     "views": []
    },
    "a083aac02011492d86ccdc504f5abb8a": {
     "views": []
    },
    "a14d71f7af2d448da10d576904ef7f60": {
     "views": []
    },
    "a16072a51f7e4e19b92529b405ca072f": {
     "views": []
    },
    "a1ad99324db14e219cf7c37ee2015f56": {
     "views": []
    },
    "a3b94689345843f0a910fa99096690d8": {
     "views": []
    },
    "a3d0009f231a4666be4841450e32fc95": {
     "views": []
    },
    "a3faf9dbf9754f6bae1a6eae11247c05": {
     "views": [
      {
       "cell_index": 1
      }
     ]
    },
    "a40ed04665b04fdb925fe6d7c44441ea": {
     "views": []
    },
    "a4bd9defa5df4add858eef33269cf0e0": {
     "views": []
    },
    "a4d5afa58f51424d89543c08f10a8924": {
     "views": [
      {
       "cell_index": 1
      }
     ]
    },
    "a503030508f34624b10aab6e0de80105": {
     "views": []
    },
    "a55da0696ed84023bdbc3103bfcf9e45": {
     "views": [
      {
       "cell_index": 1
      }
     ]
    },
    "a823324eb5ff43688dd63620eea986db": {
     "views": [
      {
       "cell_index": 1
      }
     ]
    },
    "aa241c34d3084a64b72cdc0a84efc33a": {
     "views": []
    },
    "ad3b04736bc94114a43f69419ae748c1": {
     "views": []
    },
    "ad670baa7ef446abaae2cf494143fc3b": {
     "views": []
    },
    "ada62abc71434cbd914873af561349a8": {
     "views": []
    },
    "aef3aba14d5a45928670e2bc47992547": {
     "views": []
    },
    "b102bb36b1584eb381f8bfb8eee0a5b6": {
     "views": []
    },
    "b1266cdb1d2e447a8b95940fb6a76089": {
     "views": []
    },
    "b26d6db5cbff4aa6b6a01af5f9a578e8": {
     "views": []
    },
    "b27efba74ee3494996084f9218d74f9e": {
     "views": []
    },
    "b2836a50008d4f6db50cee1063bc82a9": {
     "views": []
    },
    "b2edfc5add9b4e5e89f507005fc860bb": {
     "views": []
    },
    "b45f0862745a4257a88f80e2b8c4157b": {
     "views": []
    },
    "b5a5914709154435ae67cbc4e77fcf11": {
     "views": []
    },
    "b5a8f742b58a44e8b3b2d23195671835": {
     "views": [
      {
       "cell_index": 1
      }
     ]
    },
    "b5c3859f620c4383be1c184a9cbf8b52": {
     "views": [
      {
       "cell_index": 1
      }
     ]
    },
    "b75ce9364e4d4d148f6388855921c9fe": {
     "views": []
    },
    "b88c9fe40c7d4367a7271f1488e41cfe": {
     "views": []
    },
    "bc14c3e3d48b4d84a3da31edf3969823": {
     "views": []
    },
    "bcd1fe9948c94818b708b417fb06ac95": {
     "views": []
    },
    "bd9e93f67dff44f0b4677136bb219e13": {
     "views": [
      {
       "cell_index": 1
      }
     ]
    },
    "bfa01edbc09f462184983e6e46affa32": {
     "views": []
    },
    "c075963aa91341389c6c5fb1cece1825": {
     "views": []
    },
    "c105d10f5b3c41d88ce0a8b1a441d500": {
     "views": []
    },
    "c1631a1274194ae4aef141774db5fa78": {
     "views": []
    },
    "c186af2f3a0c43f09fb4727ea05f5019": {
     "views": [
      {
       "cell_index": 1
      }
     ]
    },
    "c1a51be19801476cbda6a4e510d5623e": {
     "views": []
    },
    "c27f3cea62be4fa18eeea059c3693f48": {
     "views": []
    },
    "c3c2bdbe730b4fc9992eecaf9947b46f": {
     "views": []
    },
    "c4388f5efc6a4ea0b2170cb6dccbb3e9": {
     "views": []
    },
    "c4a12a776e224194890a4dce17c104d9": {
     "views": [
      {
       "cell_index": 1
      }
     ]
    },
    "c55abb3209b9454d8366c49ca4da86a3": {
     "views": []
    },
    "c61aa6dc532445c3864dcdf7ed4d1429": {
     "views": []
    },
    "c636a1b86a714f6b9f21171256121455": {
     "views": []
    },
    "c7e5adb4685e45eaa93bc64004ea4672": {
     "views": []
    },
    "c8a934c844cd4b21a8d962cf0dd1a629": {
     "views": [
      {
       "cell_index": 1
      }
     ]
    },
    "c94aa3d328a4475ca63749e7d57344e0": {
     "views": []
    },
    "c99b2fef77774f1aa9f863fba8f55b3d": {
     "views": []
    },
    "ca3a169be0764b03992dd64335a8c841": {
     "views": []
    },
    "cace57778c6b4df3ab770ed2a870879b": {
     "views": []
    },
    "cea48dc58aa84904965390c9a4c58ac0": {
     "views": []
    },
    "ced8161d8a514162adb8cd9fcfbef7bc": {
     "views": []
    },
    "cfd5c42236d24fa3a5f21a43adb72abb": {
     "views": []
    },
    "d019f4fba030476da7306225e6c15fe9": {
     "views": []
    },
    "d0440501ea4246e48a89e9969f472308": {
     "views": []
    },
    "d14d9e0168a84dc8a4263a2ddf559af7": {
     "views": []
    },
    "d193cafaab3c461eba5c418aad636352": {
     "views": []
    },
    "d1e8334a7dc94524ada7f0c7b4525b52": {
     "views": []
    },
    "d67ec40f8f904f30a6e96814dcf4708a": {
     "views": []
    },
    "d7d1999ae15b44a39a923d74e413e5f0": {
     "views": []
    },
    "d8ee7db93c0c4b89a87bb72121fa1446": {
     "views": []
    },
    "da595085501e476c8729e6a20dc1a138": {
     "views": []
    },
    "dae1b7a17278455d8305744a409ae29d": {
     "views": []
    },
    "dbddfd46eb7742eb88417c9a6dbbad2d": {
     "views": []
    },
    "dc275fdb25594e778310a5db942765a0": {
     "views": []
    },
    "dc4bfe0036e7420cae20aef1857c5b38": {
     "views": []
    },
    "dda3165bb1094f4b868769001dac34ea": {
     "views": []
    },
    "dfc2175d63424b4f8b4290db4f865334": {
     "views": []
    },
    "e05b8cd064534626ac06e9d71f548c77": {
     "views": []
    },
    "e2e1a0289c2947afb2f2f134cb054292": {
     "views": []
    },
    "e368edc7ef1c432ebf507b0237482402": {
     "views": []
    },
    "e473fbf4109e4961a8456f5cbb80aaf5": {
     "views": []
    },
    "e99c227fb4344c1ca966fa35d37ade43": {
     "views": [
      {
       "cell_index": 1
      }
     ]
    },
    "e9ac331c3b3f47ffb76b7a14f41e3634": {
     "views": []
    },
    "e9cdd80061eb42ba9b2efb5fc029c61d": {
     "views": []
    },
    "ea09778ced4a425789ac9b7fad7e7917": {
     "views": []
    },
    "ee1d574e578243e789bd4be40b59db74": {
     "views": []
    },
    "ee1d98d44cb041ebb469042557e70a3f": {
     "views": []
    },
    "ef0356f9cebc43d0959abf774ea42fed": {
     "views": [
      {
       "cell_index": 1
      }
     ]
    },
    "f176ebf14c2d4fbdaaa8bc3dc73a6d46": {
     "views": []
    },
    "f18c0880068040bfa77da8e64f62f1a6": {
     "views": []
    },
    "f1f773f91d4848fe90694b5351159e9b": {
     "views": []
    },
    "f2078a6f50564bbf8d1506824fc140eb": {
     "views": [
      {
       "cell_index": 1
      }
     ]
    },
    "f27df806e77d4b58a14b5940848552ee": {
     "views": [
      {
       "cell_index": 1
      }
     ]
    },
    "f474ce051a914ccc9de92e9ed0d2eb31": {
     "views": []
    },
    "f49058e138474911b0b41da23c3a0006": {
     "views": []
    },
    "f4cddf0f77d14deebf866f421ae9ecb5": {
     "views": []
    },
    "f517449f992b4aeb932c4a67fbdb82fc": {
     "views": []
    },
    "f518bf1e28fb4307b31c1d55841d6c76": {
     "views": [
      {
       "cell_index": 1
      }
     ]
    },
    "f5917ef58c554ec3a1043997c2e51d16": {
     "views": [
      {
       "cell_index": 1
      }
     ]
    },
    "f5b5bc59fead4fa2b4b003226c9e6966": {
     "views": []
    },
    "f5cd140fba344d23b5d063178c79995a": {
     "views": []
    },
    "f608caf45f544073b2f4f0308883bc00": {
     "views": []
    },
    "f6791e77ee714d0cb804e6351c611814": {
     "views": []
    },
    "f85091d29fa1425591226760e3a5c628": {
     "views": []
    },
    "fbf0660ebfdb45d689f036f816a52c5c": {
     "views": [
      {
       "cell_index": 1
      }
     ]
    },
    "fc513410e130467387d695eba2dc3dc7": {
     "views": []
    },
    "fd65d0c627dc4bbe8860c00135e6391d": {
     "views": []
    },
    "feefe787f8d646bf92c8a04a467f074d": {
     "views": []
    },
    "ff027630ba7745b483eca8b0cbcc63c4": {
     "views": []
    }
   },
   "version": "1.1.2"
  }
 },
 "nbformat": 4,
 "nbformat_minor": 2
}
