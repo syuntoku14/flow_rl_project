{
 "cells": [
  {
   "cell_type": "code",
   "execution_count": 1,
   "metadata": {},
   "outputs": [
    {
     "name": "stderr",
     "output_type": "stream",
     "text": [
      "Process STDOUT and STDERR is being redirected to /tmp/ray/session_2019-05-01_16-27-52_1186/logs.\n",
      "Waiting for redis server at 127.0.0.1:42268 to respond...\n",
      "Waiting for redis server at 127.0.0.1:13938 to respond...\n",
      "Starting the Plasma object store with 13.355121049 GB memory using /dev/shm.\n"
     ]
    },
    {
     "data": {
      "text/plain": [
       "{'node_ip_address': '169.237.32.118',\n",
       " 'object_store_addresses': ['/tmp/ray/session_2019-05-01_16-27-52_1186/sockets/plasma_store'],\n",
       " 'raylet_socket_names': ['/tmp/ray/session_2019-05-01_16-27-52_1186/sockets/raylet'],\n",
       " 'redis_address': '169.237.32.118:42268',\n",
       " 'webui_url': ''}"
      ]
     },
     "execution_count": 1,
     "metadata": {},
     "output_type": "execute_result"
    }
   ],
   "source": [
    "import os, sys, pickle\n",
    "import numpy as np\n",
    "from tqdm import tqdm_notebook as tqdm\n",
    "sys.path.append(os.path.join(os.getcwd(), '..'))\n",
    "sys.path = list(set(sys.path))\n",
    "import matplotlib.pyplot as plt\n",
    "%matplotlib inline\n",
    "\n",
    "from results_path import DDPG_PATH, PPO_PATH\n",
    "\n",
    "from common.evaluate import make_vis_env, test_env\n",
    "\n",
    "from flow.multiagent_envs import MultiWaveAttenuationMergePOEnv\n",
    "from flow.scenarios import MergeScenario\n",
    "from flow.utils.registry import make_create_env\n",
    "from flow.utils.rllib import FlowParamsEncoder\n",
    "from flow.core.params import InFlows\n",
    "from ray.tune import run_experiments\n",
    "\n",
    "import gym, ray\n",
    "from ray.rllib.agents.ppo import PPOAgent, DEFAULT_CONFIG\n",
    "from ray.rllib.agents.ddpg import DDPGAgent, DEFAULT_CONFIG\n",
    "from ray.tune.registry import register_env\n",
    "from ray.tune.logger import pretty_print\n",
    "\n",
    "benchmark_name = 'multi_merge'\n",
    "exp_name = 'random_env'\n",
    "results_list = os.listdir('/headless/ray_results/' + exp_name)\n",
    "AGENT = 'PPO' # 'PPO' or 'DDPG' or 'HUMAN'\n",
    "checkpoint = '200'\n",
    "\n",
    "benchmark = __import__(\n",
    "    \"flow.benchmarks.%s\" % benchmark_name, fromlist=[\"flow_params\"])\n",
    "flow_params = benchmark.buffered_obs_flow_params\n",
    "\n",
    "ray.init(num_cpus=1, include_webui=False, ignore_reinit_error=True)"
   ]
  },
  {
   "cell_type": "code",
   "execution_count": 2,
   "metadata": {},
   "outputs": [],
   "source": [
    "# inflow = InFlows()\n",
    "# inflow.add(\n",
    "#     veh_type=\"human\",\n",
    "#     edge=\"inflow_highway\",\n",
    "#     vehs_per_hour=2035,\n",
    "#     #probability=FLOW_PROB,\n",
    "#     departLane=\"free\",\n",
    "#     departSpeed=10)\n",
    "# inflow.add(\n",
    "#     veh_type=\"rl\",\n",
    "#     edge=\"inflow_highway\",\n",
    "#     vehs_per_hour=113,\n",
    "#     #probability=FLOW_PROB_MERGE,\n",
    "#     departLane=\"free\",\n",
    "#     departSpeed=10)\n",
    "# inflow.add(\n",
    "#     veh_type=\"human\",\n",
    "#     edge=\"inflow_merge\",\n",
    "#     vehs_per_hour=0.175,\n",
    "#     #probability=FLOW_PROB_RL,\n",
    "#     departLane=\"free\",\n",
    "#     departSpeed=7.5)\n",
    "# \n",
    "# # generate new flow_params\n",
    "# net = flow_params['net']\n",
    "# net.inflows = inflow\n",
    "horizon = flow_params['env'].horizon\n",
    "create_env, env_name = make_create_env(params=flow_params, version=0)\n",
    "\n",
    "# Register as rllib env\n",
    "register_env(env_name, create_env)"
   ]
  },
  {
   "cell_type": "code",
   "execution_count": 3,
   "metadata": {},
   "outputs": [],
   "source": [
    "PPO_PATH = 'PPO_MultiWaveAttenuationMergePOEnvBufferedObs-v0_[eta1, eta2, eta3]:[1.0, 0.1, 0.1]_t_min:10.0_0_2019-04-29_06-30-44frj6v1dt'"
   ]
  },
  {
   "cell_type": "code",
   "execution_count": 4,
   "metadata": {},
   "outputs": [],
   "source": [
    "PATH = ''\n",
    "if AGENT == 'PPO':\n",
    "    PATH = exp_name + '/' + PPO_PATH\n",
    "    \n",
    "if AGENT == 'DDPG':\n",
    "    PATH = exp_name + '/' + DDPG_PATH"
   ]
  },
  {
   "cell_type": "code",
   "execution_count": 5,
   "metadata": {},
   "outputs": [
    {
     "name": "stderr",
     "output_type": "stream",
     "text": [
      "Created LogSyncer for /headless/ray_results/PPO_MultiWaveAttenuationMergePOEnvBufferedObs-v0_2019-05-01_16-27-53r2_vomh3 -> None\n",
      "2019-05-01 16:27:53,659\tWARNING ppo.py:137 -- By default, observations will be normalized with MeanStdFilter\n",
      " Starting SUMO on port 60060\n",
      "2019-05-01 16:27:54,752\tINFO policy_evaluator.py:262 -- Creating policy evaluation worker 0 on CPU (please ignore any CUDA init errors)\n",
      "/opt/conda/envs/flow/lib/python3.5/site-packages/tensorflow/python/ops/gradients_impl.py:108: UserWarning: Converting sparse IndexedSlices to a dense Tensor of unknown shape. This may consume a large amount of memory.\n",
      "  \"Converting sparse IndexedSlices to a dense Tensor of unknown shape. \"\n",
      " Starting SUMO on port 60060\n",
      "2019-05-01 16:27:59,590\tINFO multi_gpu_optimizer.py:74 -- LocalMultiGPUOptimizer devices ['/cpu:0']\n",
      "/opt/conda/envs/flow/lib/python3.5/site-packages/tensorflow/python/ops/gradients_impl.py:108: UserWarning: Converting sparse IndexedSlices to a dense Tensor of unknown shape. This may consume a large amount of memory.\n",
      "  \"Converting sparse IndexedSlices to a dense Tensor of unknown shape. \"\n"
     ]
    }
   ],
   "source": [
    "if not AGENT == 'HUMAN':\n",
    "    config_path = '/headless/rl_project/ray_results/' + PATH + '/params.pkl'\n",
    "    checkpoint_path = '/headless/rl_project/ray_results/' + PATH + '/checkpoint_{}/checkpoint-{}'.format(checkpoint, checkpoint)\n",
    "\n",
    "    with open(config_path, mode='rb') as f:\n",
    "        config = pickle.load(f)\n",
    "\n",
    "    if AGENT == 'PPO':\n",
    "        agent = PPOAgent(config=config, env=env_name)\n",
    "    elif AGENT == 'DDPG':\n",
    "        agent = DDPGAgent(config=config, env=env_name)\n",
    "    agent.restore(checkpoint_path)"
   ]
  },
  {
   "cell_type": "code",
   "execution_count": 6,
   "metadata": {},
   "outputs": [
    {
     "name": "stderr",
     "output_type": "stream",
     "text": [
      " Starting SUMO on port 43053\n"
     ]
    }
   ],
   "source": [
    "render = False\n",
    "env = None\n",
    "if render:\n",
    "    env = make_vis_env(flow_params, MultiWaveAttenuationMergePOEnv, MergeScenario)\n",
    "else: \n",
    "    env = create_env()"
   ]
  },
  {
   "cell_type": "code",
   "execution_count": 7,
   "metadata": {
    "scrolled": true
   },
   "outputs": [
    {
     "name": "stderr",
     "output_type": "stream",
     "text": [
      " Starting SUMO on port 43053\n",
      " Starting SUMO on port 43053\n",
      " Starting SUMO on port 43053\n",
      " Starting SUMO on port 43053\n",
      " Starting SUMO on port 43053\n",
      " Starting SUMO on port 43053\n",
      " Starting SUMO on port 43053\n",
      " Starting SUMO on port 43053\n",
      " Starting SUMO on port 43053\n",
      " Starting SUMO on port 43053\n",
      " Starting SUMO on port 43053\n",
      " Starting SUMO on port 43053\n",
      " Starting SUMO on port 43053\n",
      " Starting SUMO on port 43053\n",
      " Starting SUMO on port 43053\n",
      " Starting SUMO on port 43053\n",
      " Starting SUMO on port 43053\n",
      " Starting SUMO on port 43053\n",
      " Starting SUMO on port 43053\n",
      " Starting SUMO on port 43053\n",
      " Starting SUMO on port 43053\n",
      " Starting SUMO on port 43053\n",
      " Starting SUMO on port 43053\n",
      " Starting SUMO on port 43053\n",
      " Starting SUMO on port 43053\n",
      " Starting SUMO on port 43053\n",
      " Starting SUMO on port 43053\n",
      " Starting SUMO on port 43053\n",
      " Starting SUMO on port 43053\n",
      " Starting SUMO on port 43053\n",
      " Starting SUMO on port 43053\n",
      " Starting SUMO on port 43053\n",
      " Starting SUMO on port 43053\n",
      " Starting SUMO on port 43053\n",
      " Starting SUMO on port 43053\n",
      " Starting SUMO on port 43053\n",
      " Starting SUMO on port 43053\n",
      " Starting SUMO on port 43053\n",
      " Starting SUMO on port 43053\n",
      " Starting SUMO on port 43053\n",
      " Starting SUMO on port 43053\n",
      " Starting SUMO on port 43053\n",
      " Starting SUMO on port 43053\n",
      " Starting SUMO on port 43053\n",
      " Starting SUMO on port 43053\n",
      " Starting SUMO on port 43053\n",
      " Starting SUMO on port 43053\n",
      " Starting SUMO on port 43053\n",
      " Starting SUMO on port 43053\n",
      " Starting SUMO on port 43053\n",
      " Starting SUMO on port 43053\n",
      " Starting SUMO on port 43053\n",
      " Starting SUMO on port 43053\n",
      " Starting SUMO on port 43053\n",
      " Starting SUMO on port 43053\n",
      " Starting SUMO on port 43053\n",
      " Starting SUMO on port 43053\n",
      " Starting SUMO on port 43053\n",
      " Starting SUMO on port 43053\n",
      " Starting SUMO on port 43053\n",
      " Starting SUMO on port 43053\n",
      " Starting SUMO on port 43053\n",
      " Starting SUMO on port 43053\n",
      " Starting SUMO on port 43053\n",
      " Starting SUMO on port 43053\n",
      " Starting SUMO on port 43053\n",
      " Starting SUMO on port 43053\n",
      " Starting SUMO on port 43053\n",
      " Starting SUMO on port 43053\n",
      " Starting SUMO on port 43053\n",
      " Starting SUMO on port 43053\n",
      " Starting SUMO on port 43053\n",
      " Starting SUMO on port 43053\n",
      " Starting SUMO on port 43053\n",
      " Starting SUMO on port 43053\n",
      " Starting SUMO on port 43053\n",
      " Starting SUMO on port 43053\n",
      " Starting SUMO on port 43053\n",
      " Starting SUMO on port 43053\n",
      " Starting SUMO on port 43053\n",
      " Starting SUMO on port 43053\n",
      " Starting SUMO on port 43053\n",
      " Starting SUMO on port 43053\n",
      " Starting SUMO on port 43053\n",
      " Starting SUMO on port 43053\n",
      " Starting SUMO on port 43053\n",
      " Starting SUMO on port 43053\n",
      " Starting SUMO on port 43053\n",
      " Starting SUMO on port 43053\n",
      " Starting SUMO on port 43053\n",
      " Starting SUMO on port 43053\n",
      " Starting SUMO on port 43053\n",
      " Starting SUMO on port 43053\n",
      " Starting SUMO on port 43053\n",
      " Starting SUMO on port 43053\n",
      " Starting SUMO on port 43053\n",
      " Starting SUMO on port 43053\n",
      " Starting SUMO on port 43053\n",
      " Starting SUMO on port 43053\n",
      " Starting SUMO on port 43053\n"
     ]
    },
    {
     "name": "stdout",
     "output_type": "stream",
     "text": [
      "\n"
     ]
    }
   ],
   "source": [
    "# calculate the space-time velocity map\n",
    "left_length = env.k.scenario.edge_length('left')\n",
    "car_length = 5.0\n",
    "scale = 10\n",
    "vel_lists = []\n",
    "vel_map_lists = []\n",
    "outflow_lists = []\n",
    "\n",
    "num_iter = 1 if render else 6\n",
    "for _ in tqdm(range(100)):\n",
    "    state = env.reset()\n",
    "    vel = []\n",
    "    outflow = []\n",
    "    for i in tqdm(range(env.env_params.horizon)):\n",
    "        # record the mean velocity\n",
    "        v = np.mean(env.k.vehicle.get_speed(env.k.vehicle.get_ids()))\n",
    "        vel.append(v)\n",
    "\n",
    "        # record the velocity map\n",
    "        ids = env.k.vehicle.get_ids()\n",
    "        vel_map_ = np.zeros(int(left_length)*scale)\n",
    "        for id_ in ids:\n",
    "            pos_ = np.round(env.k.vehicle.get_position(id_), decimals=1)\n",
    "            vel_ = env.k.vehicle.get_speed(id_)\n",
    "            pos_bottom = max(0, int((pos_-car_length/2.0)*scale))\n",
    "            pos_top = min(int(left_length)*scale, int((pos_+car_length/2.0)*scale))\n",
    "            vel_map_[pos_bottom:pos_top] = vel_            \n",
    "\n",
    "        # step the simulation\n",
    "        rl_ids = env.k.vehicle.get_rl_ids()\n",
    "        actions = {}\n",
    "        if AGENT != 'HUMAN':\n",
    "            for id_ in rl_ids:\n",
    "                action = agent.compute_action(state[id_])\n",
    "                actions.update({id_: action})\n",
    "        state, r, _, _ = env.step(actions)\n",
    "        outflow.append(env.k.vehicle.get_outflow_rate(600)) # measured by one min\n",
    "\n",
    "        if i == 0:\n",
    "            vel_map_list = vel_map_\n",
    "        else:\n",
    "            vel_map_list = np.vstack((vel_map_list, vel_map_))\n",
    "\n",
    "    outflow_lists.append(outflow[-500:])\n",
    "    vel_lists.append(vel)\n",
    "    vel_map_list[vel_map_list==0.0] = np.nan\n",
    "    vel_map_lists.append(vel_map_list)"
   ]
  },
  {
   "cell_type": "code",
   "execution_count": 8,
   "metadata": {},
   "outputs": [],
   "source": [
    "vel_lists = np.array(vel_lists)\n",
    "vel_mean_lists = np.mean(vel_lists, axis=0)"
   ]
  },
  {
   "cell_type": "code",
   "execution_count": 17,
   "metadata": {},
   "outputs": [
    {
     "data": {
      "image/png": "[encoded data removed]",
      "text/plain": [
       "<Figure size 432x288 with 1 Axes>"
      ]
     },
     "metadata": {},
     "output_type": "display_data"
    }
   ],
   "source": [
    "vel_fig, ax = plt.subplots(nrows=1, ncols=1)\n",
    "ax.plot(vel_mean_lists)\n",
    "title = AGENT + ' multi-agent mean velocity 100 trials'\n",
    "title = title + ' \\n 100 trials mean velocity {:3f}'.format(np.mean(vel_lists))\n",
    "title = title + ' \\n 100 trials mean outflow rate {:3f}'.format(np.mean(outflow_lists))\n",
    "ax.set_ylim((0, 25))\n",
    "ax.set_ylabel('system level mean velocity (m/s)')\n",
    "ax.set_xlabel('step')\n",
    "vel_fig.suptitle(title)\n",
    "plt.subplots_adjust(top=0.8)"
   ]
  },
  {
   "cell_type": "code",
   "execution_count": 30,
   "metadata": {},
   "outputs": [
    {
     "data": {
      "image/png": "[encoded data removed]",
      "text/plain": [
       "<Figure size 432x288 with 1 Axes>"
      ]
     },
     "metadata": {},
     "output_type": "display_data"
    }
   ],
   "source": [
    "vel_fig, ax = plt.subplots(nrows=1, ncols=1)\n",
    "ax.plot(vel_mean_lists)\n",
    "ax.plot(human_vel_mean)\n",
    "title = AGENT + ' multi-agent mean velocity 100 trials'\n",
    "title = title + ' \\n mean velocity [human: {:3f}, rl: {:3f}]'.format(np.mean(human_vel_mean), np.mean(vel_lists))\n",
    "title = title + ' \\n mean outflow rate [human: {:3f}, rl: {:3f}]'.format(np.mean(human_outflow), np.mean(outflow_lists))\n",
    "ax.set_ylim((0, 25))\n",
    "ax.set_ylabel('system level mean velocity (m/s)')\n",
    "ax.set_xlabel('step')\n",
    "vel_fig.suptitle(title)\n",
    "plt.subplots_adjust(top=0.8)"
   ]
  },
  {
   "cell_type": "code",
   "execution_count": 31,
   "metadata": {},
   "outputs": [],
   "source": [
    "if not render:\n",
    "    filename = 'compare_trained_human_100.png'\n",
    "    vel_dir = '../result/MultiMerge/' + AGENT + '/' + exp_name + '/mean_velocity/'\n",
    "    os.makedirs(vel_dir, exist_ok=True)\n",
    "\n",
    "    vel_fig.savefig(vel_dir + filename)"
   ]
  },
  {
   "cell_type": "code",
   "execution_count": 21,
   "metadata": {},
   "outputs": [],
   "source": [
    "np.save('trained_100.npy', vel_mean_lists)\n",
    "np.save('trained_100_outflow.npy', outflow_lists)"
   ]
  },
  {
   "cell_type": "code",
   "execution_count": 22,
   "metadata": {},
   "outputs": [],
   "source": [
    "human_vel_mean = np.load('human_100.npy')\n",
    "human_outflow = np.load('human_100_outflow.npy')"
   ]
  }
 ],
 "metadata": {
  "kernelspec": {
   "display_name": "Python 3",
   "language": "python",
   "name": "python3"
  },
  "language_info": {
   "codemirror_mode": {
    "name": "ipython",
    "version": 3
   },
   "file_extension": ".py",
   "mimetype": "text/x-python",
   "name": "python",
   "nbconvert_exporter": "python",
   "pygments_lexer": "ipython3",
   "version": "3.5.2"
  },
  "varInspector": {
   "cols": {
    "lenName": "50",
    "lenType": "50",
    "lenVar": "50"
   },
   "kernels_config": {
    "python": {
     "delete_cmd_postfix": "",
     "delete_cmd_prefix": "del ",
     "library": "var_list.py",
     "varRefreshCmd": "print(var_dic_list())"
    },
    "r": {
     "delete_cmd_postfix": ") ",
     "delete_cmd_prefix": "rm(",
     "library": "var_list.r",
     "varRefreshCmd": "cat(var_dic_list()) "
    }
   },
   "types_to_exclude": [
    "module",
    "function",
    "builtin_function_or_method",
    "instance",
    "_Feature"
   ],
   "window_display": false
  },
  "widgets": {
   "state": {
    "002ef9b164a648579955cadcdba65b2b": {
     "views": []
    },
    "00775bc9c5a14d63a5cd78a40b66569c": {
     "views": []
    },
    "008a2fa12d044da485e627f8fe40a4e6": {
     "views": []
    },
    "0095bd44ae3a4c1383a9249bd18e535f": {
     "views": [
      {
       "cell_index": 6
      }
     ]
    },
    "00f7a9dca5434c0c894cb1464034cc56": {
     "views": []
    },
    "011f37b3b91d40c599926953b74a9ff6": {
     "views": []
    },
    "01a1a34d4e5c439d85f2d6b43cfcb1bd": {
     "views": [
      {
       "cell_index": 6
      }
     ]
    },
    "022236c973f54476adad3ad2f76191a6": {
     "views": []
    },
    "025faa7fd93948478887e7033cbb9ae7": {
     "views": []
    },
    "02aafaf17240458a9d3453edc218e94b": {
     "views": []
    },
    "035686f095c44f22a0f5815a4c4b26d0": {
     "views": [
      {
       "cell_index": 6
      }
     ]
    },
    "0365d5faf69a471eaddb6dfb1ae0fc28": {
     "views": []
    },
    "0407ce06d7954d72a3e1e21c0bda2e9b": {
     "views": []
    },
    "04163034d34f485994beb710ae32cd7d": {
     "views": []
    },
    "049597b2b07d477588f823851f54a574": {
     "views": []
    },
    "04c413278cd242d09d3bbaf85304428b": {
     "views": [
      {
       "cell_index": 6
      }
     ]
    },
    "05fa6963a90f453e9fc4d7abf13de4fe": {
     "views": []
    },
    "0708db7e6bb546afa1e04b22ed1b65ec": {
     "views": [
      {
       "cell_index": 6
      }
     ]
    },
    "074375241e3e470a8f12ad8a4945e01d": {
     "views": []
    },
    "079b6a6746f94fa48f23000e8e770500": {
     "views": [
      {
       "cell_index": 6
      }
     ]
    },
    "07c124dd91964d70abdd32c3a7957239": {
     "views": []
    },
    "087892483aa14284b5a615062bae8138": {
     "views": []
    },
    "0a7fe1e606ad4ee4b73497f54b01d437": {
     "views": []
    },
    "0af13c962ddf441681934cd6a75a7163": {
     "views": []
    },
    "0b17148ebe3a46388fd14d81697058a1": {
     "views": []
    },
    "0bee7b1833154a9689690a9769ed5623": {
     "views": []
    },
    "0c05248f237a439eb37c8f503c2f8193": {
     "views": []
    },
    "0ccc7b22fa714b779f4e9b242349e417": {
     "views": []
    },
    "0d0dff2ae8cc405e92b674a534944d80": {
     "views": []
    },
    "0d33691f811946dca23a9b02e077f969": {
     "views": []
    },
    "0d865d4751f845f99fd2f0970c13d98d": {
     "views": []
    },
    "0d86f162ff6845dea20041f89825e339": {
     "views": []
    },
    "0ed355e00ebf47aaa32b475259001566": {
     "views": [
      {
       "cell_index": 6
      }
     ]
    },
    "0f708fe4c3b34b649bd666ffe2e68938": {
     "views": []
    },
    "100fc87124354c299d42f57efbeedaff": {
     "views": []
    },
    "1026a51e466e466fb87d2d22e5e3b620": {
     "views": []
    },
    "109e7a02db344362b3959e10bb8bee6e": {
     "views": []
    },
    "10a86645fc584931a348253b1f21fa32": {
     "views": []
    },
    "10baac9bec534497ad25134329e843e7": {
     "views": []
    },
    "10bb8eae7c60457d88990d31f7c1cddc": {
     "views": []
    },
    "110ec572e3344eafbe386ad97198bb8c": {
     "views": []
    },
    "1159e2f6306e457bbd7416c75415f434": {
     "views": []
    },
    "11b0007d81574ef3a4ace104033d01b3": {
     "views": []
    },
    "126d497a8b83421280fd98bc6b5c2855": {
     "views": [
      {
       "cell_index": 6
      }
     ]
    },
    "1307bf4563bb4a08ae756f9aa2b46d33": {
     "views": [
      {
       "cell_index": 6
      }
     ]
    },
    "143868f574b34c6da1a664b7cce88bd3": {
     "views": []
    },
    "1461ecbc83064e8d8574f0444b4d98d9": {
     "views": []
    },
    "150157b80659467c977130dd4b5358ae": {
     "views": []
    },
    "15c6ea4ea43a4f4a848e59c9112bd127": {
     "views": []
    },
    "16d8b52b95e5454d9f831368541b161b": {
     "views": []
    },
    "1721d4c97bdc4763a876022e2db27dbb": {
     "views": []
    },
    "1731f03f5076420f83cbf2f682cea7aa": {
     "views": []
    },
    "173d99aec7b04962b64b1c6933b11b3a": {
     "views": []
    },
    "173f17f6bb8c40a3a897476a94a56ee1": {
     "views": []
    },
    "175a8076432d429bb6d62bc439f6e53e": {
     "views": []
    },
    "17cf502961a545cdad7c3d53398fb9b8": {
     "views": []
    },
    "18a421c975e34b8888812fd19d93deb4": {
     "views": []
    },
    "18f57b7e76494098a71b3d1846ed799b": {
     "views": []
    },
    "199951e9fa4742a5a13cb00a459063da": {
     "views": []
    },
    "1999a7c7b1af442b8446c99686060d4b": {
     "views": []
    },
    "19a8c8397d1c4e238fc7c7ca2a84aba4": {
     "views": []
    },
    "1a38d98f84bf474f908ceb551fdb51fd": {
     "views": []
    },
    "1a97f27084b14335a76c41f7be308f57": {
     "views": []
    },
    "1abd767e1e8b4a77ab7b376c53f1185e": {
     "views": []
    },
    "1afb61192fa845259a91234c906fce78": {
     "views": []
    },
    "1c5a611aace1465da33e6a92ff38c89d": {
     "views": [
      {
       "cell_index": 6
      }
     ]
    },
    "1c74e7cc0e034340ac0faa186db360fb": {
     "views": []
    },
    "1d8821af74964ff0acb8699d163198fd": {
     "views": []
    },
    "1e56abae444f4dc2ba81aac95d7565e8": {
     "views": []
    },
    "1f576b8e98aa4e3381f87b18b7c2ab99": {
     "views": []
    },
    "1f86bc95ebf144909ade2bb3e129dc16": {
     "views": []
    },
    "1fa4b819e62d408e8be545b4f8c3fe1a": {
     "views": []
    },
    "1ffd8d59ce3d49f89f257ac05360ebda": {
     "views": []
    },
    "20068e96279742e5930f3bc00aaa3afa": {
     "views": []
    },
    "2072f818fe6d4ac3b32cea38c99a80b2": {
     "views": [
      {
       "cell_index": 6
      }
     ]
    },
    "20eb6dc8727a48e4ad0873db98706e9c": {
     "views": []
    },
    "20f2e46a3ee74700bc0dc5e4fc5ee7a2": {
     "views": []
    },
    "21004f2636af4f33875392feaf77614c": {
     "views": []
    },
    "216800d5c3d14872aa5be070e593bd34": {
     "views": []
    },
    "21f42437e3cc4942a53a0460ef6f594d": {
     "views": []
    },
    "222f8e34cce14925b10f4b0776cfe469": {
     "views": []
    },
    "22333ae15b164340b4121ab371a31a7b": {
     "views": [
      {
       "cell_index": 6
      }
     ]
    },
    "22376deba158404ba71a6b5386c00ebb": {
     "views": []
    },
    "227c4267f4314a76b94ddfd1fc3f1fb7": {
     "views": []
    },
    "22f196a4976148e9b8e1de83b1833df8": {
     "views": []
    },
    "232eb406e6bf4be497dfdf4a949da758": {
     "views": [
      {
       "cell_index": 6
      }
     ]
    },
    "2346c26354284fc9923cecae4b69fa23": {
     "views": []
    },
    "237c4043d50947398e461fbd4399ff94": {
     "views": []
    },
    "238e972877c844a894cad8ed1b9b3cda": {
     "views": []
    },
    "2497614d0f5b43b28a7dd6632debe5ef": {
     "views": []
    },
    "24dc0f13e44748a2a12b756d2f96a942": {
     "views": []
    },
    "253dbef0b5434729b2af1c7f8fdb798d": {
     "views": []
    },
    "256222625e5f470dad9edec8a4875ae9": {
     "views": []
    },
    "266815111e5a48f3bd056a8becd00bea": {
     "views": []
    },
    "2723f1b488a2474381a7985206d1525e": {
     "views": []
    },
    "27a5b47c65654379906ccf23743ec7ac": {
     "views": []
    },
    "27e0194ac28a4cf7abb5fa3db4e27020": {
     "views": []
    },
    "283cf0280dd6418aa87abe2c08a88b96": {
     "views": []
    },
    "28e14ecf25004a59931dee0f4a3f2258": {
     "views": []
    },
    "29052fc00c5e408497806aa2df908fc6": {
     "views": []
    },
    "2972b01b8a4745ab8153efc3a3898604": {
     "views": [
      {
       "cell_index": 6
      }
     ]
    },
    "29c5b9f12531466ebd1561d70dc5c993": {
     "views": []
    },
    "29d72266167a425da703c778631dcd34": {
     "views": []
    },
    "2a2efdf7a33147249f3640240d0fced7": {
     "views": []
    },
    "2a681571228144edb44687a57366fc44": {
     "views": []
    },
    "2b594f594c0a488ea93d0b0d6e650864": {
     "views": []
    },
    "2b71a02c79ad45b7969df61746f5e931": {
     "views": []
    },
    "2b9dc645e4a34459bac30b2031ba52ca": {
     "views": []
    },
    "2c95ef019e644dc8ba171bab5756e029": {
     "views": []
    },
    "2ca953a7df7843ff938697b7576b27c5": {
     "views": []
    },
    "2dd6370add774d65848327e45a928016": {
     "views": []
    },
    "2df5a502a3cd4e0b9c6941392487e883": {
     "views": []
    },
    "2e7738c5852c431085108ed726f71a80": {
     "views": []
    },
    "2e77fb29641d42a09decb6e3d7cc96c0": {
     "views": []
    },
    "2ec7e82f425947b0964878c3f1fc246a": {
     "views": [
      {
       "cell_index": 6
      }
     ]
    },
    "2eedee3c395f46088376f2aa294ba6f9": {
     "views": []
    },
    "2f4d1e36fec6437f9037481e8e704a3a": {
     "views": []
    },
    "3040e89455f047558efbf59760b80e0c": {
     "views": []
    },
    "305600e24a954595a4c7ddcccde3cc0d": {
     "views": []
    },
    "312d69b0a54b44de9d00c66a63e0b398": {
     "views": []
    },
    "31884eff4f704b26b7a5d9f0d3c9fe70": {
     "views": []
    },
    "31f0caaa37b94568b82563dfcd56a44a": {
     "views": []
    },
    "3225da29ada94238ad385d2272ae8028": {
     "views": []
    },
    "32af1b9896004e4889d5f2cf01afe75e": {
     "views": []
    },
    "3314132447824ea09d29bddc9eb35dc1": {
     "views": []
    },
    "3403bb20d5eb46be84a3d363fc162ac2": {
     "views": []
    },
    "3551020a7ad346d1b183007b32af5785": {
     "views": []
    },
    "35842ec5b6bd40878d60033ba5f63ebc": {
     "views": []
    },
    "36363e379208420b914af21515d07743": {
     "views": []
    },
    "3757b0bb0cc147bd9fc310441c48b5c3": {
     "views": [
      {
       "cell_index": 6
      }
     ]
    },
    "38fc57294b3f4274aa36efb1257eae2d": {
     "views": []
    },
    "390e31c694f446268f17e7e94125af72": {
     "views": []
    },
    "39125e691b3f46afa9cb222f4abf704b": {
     "views": [
      {
       "cell_index": 6
      }
     ]
    },
    "391694f3d33f4ab5ba0febe32986ba21": {
     "views": []
    },
    "3950ba4c930b42ada4060b8ff7974e03": {
     "views": [
      {
       "cell_index": 6
      }
     ]
    },
    "3a229f4127b344499c76cde25ff9a1c1": {
     "views": []
    },
    "3a2cc07c5a7b4c77a064018e5011b79d": {
     "views": []
    },
    "3acf74d4daa443d397853a7bdf39b9fe": {
     "views": []
    },
    "3b615b3b25ae43e1994f112a2977b2b2": {
     "views": []
    },
    "3bd1481faadd4c009735a2372ae9c67a": {
     "views": []
    },
    "3bd8689986b04c5ab36f223339f6b33a": {
     "views": []
    },
    "3d612a658b9b4fcaa002c9f7298631ef": {
     "views": []
    },
    "3d824c61202b4610a5e26c0cf67b57e4": {
     "views": []
    },
    "3d8c167e6e5a4d4f984f267bbca65742": {
     "views": []
    },
    "3ea04125a7cd41cd83df83195951e9b1": {
     "views": []
    },
    "3ea48ccc0d5a4a3ebf79b87abc811674": {
     "views": []
    },
    "3fade70bc1be4b2ea0e5c356c173b2a1": {
     "views": [
      {
       "cell_index": 6
      }
     ]
    },
    "4007b38b8d764229a1e3230537ad9575": {
     "views": [
      {
       "cell_index": 6
      }
     ]
    },
    "40a8cb4b469446c4ac77e4ca107ce117": {
     "views": []
    },
    "41037791d97548c881249fbe93945e4c": {
     "views": []
    },
    "41d5589b4865415b85176d87b80d2126": {
     "views": []
    },
    "41f3e2b8278041418424e4da0a3598da": {
     "views": []
    },
    "42a79936974f46cdbd4a9da74a8db4d9": {
     "views": [
      {
       "cell_index": 6
      }
     ]
    },
    "432d611607d94bfda5bd522aca77d928": {
     "views": []
    },
    "433fb0acb3d54f808a0b17bfe9693761": {
     "views": []
    },
    "436cba81f5804f5aaaa4dbad4d41f119": {
     "views": []
    },
    "44531aa7eb9b4d949f44119764dbe141": {
     "views": []
    },
    "448fb0fad8fe463383e4ee8b8bbe5b09": {
     "views": []
    },
    "44e5df0f96504e53a60a0c5aaf820564": {
     "views": []
    },
    "44e81c7856f0427ca5f7ee2793cfd1b8": {
     "views": [
      {
       "cell_index": 6
      }
     ]
    },
    "47081f212c274538990be603205720d2": {
     "views": []
    },
    "4713a06b14994bdc806e9528812a3796": {
     "views": []
    },
    "471a4541ee4d44a78388c9eb8815d29a": {
     "views": []
    },
    "473d28a4958e47608339ce851a2472d6": {
     "views": []
    },
    "479469db4b6c453a86b59ee0aa6bfc19": {
     "views": []
    },
    "486039faddda4972b0d0b58af520f6f7": {
     "views": []
    },
    "495f08cb2f2c4760a9bd5b8c3f4ba0cb": {
     "views": []
    },
    "49f77b720c0940a4b8820891f86d7962": {
     "views": []
    },
    "4a6ebaa96f5744569e24725d36c9bc5f": {
     "views": []
    },
    "4af13bbb56024712849f431d8fe8db70": {
     "views": []
    },
    "4b0e9f1279ed4354b1c42f2e7d36d96b": {
     "views": [
      {
       "cell_index": 6
      }
     ]
    },
    "4b5e3bdf708d4651820f503349d02f06": {
     "views": [
      {
       "cell_index": 6
      }
     ]
    },
    "4bf5cb4a89c6427c94efe1c8817fe2ab": {
     "views": []
    },
    "4bf9d53fa581486fb51acf5e7b7ae66a": {
     "views": []
    },
    "4ce96465ce13417b9d5241949364f9ef": {
     "views": []
    },
    "4cec33b5c9104d6296415dea31dcf84b": {
     "views": []
    },
    "4d00e29a97a544139ca1dfe19963e6fe": {
     "views": []
    },
    "4da3088f80194d90b62d60f4deb46adb": {
     "views": []
    },
    "4e7b99efc65c4277b0802961628fa040": {
     "views": []
    },
    "4ea7b5707b924a4eae799fa79170aa9a": {
     "views": [
      {
       "cell_index": 6
      }
     ]
    },
    "4fc089bdfc094d2e8d279a4fc05315a7": {
     "views": []
    },
    "4fd8025be4674ec18d713d0b0e9bbdfe": {
     "views": []
    },
    "5031b7e8f550478e9cd4d9af7eca62bf": {
     "views": [
      {
       "cell_index": 6
      }
     ]
    },
    "508f9b23a42f41cd8a5f7017b5310c1e": {
     "views": []
    },
    "50a5b737b4244ac595541c0e4875e81a": {
     "views": []
    },
    "514051a48a674942922f93b220ed0f9f": {
     "views": [
      {
       "cell_index": 6
      }
     ]
    },
    "51dff4d8aa34486682ceab1538760da5": {
     "views": []
    },
    "521897265a6f4187b5d0063b9987ea59": {
     "views": []
    },
    "526fd0f95e3a4623a6df8466811cfc98": {
     "views": [
      {
       "cell_index": 6
      }
     ]
    },
    "52addf88aa2f4a988f99ef514ce0098f": {
     "views": []
    },
    "533741789b494063bdd81a9cea783a6d": {
     "views": []
    },
    "5395d89e7fa7480882dd8672f90f2ab1": {
     "views": []
    },
    "5435644cee6242e886b4bab3a979ea32": {
     "views": [
      {
       "cell_index": 6
      }
     ]
    },
    "54d28d74ece74955a00d4321636d4034": {
     "views": []
    },
    "557a30fa4df9479ba8526705a47467ff": {
     "views": []
    },
    "55fc7799888145f880f6707a0ce7889c": {
     "views": []
    },
    "5677f5501dbc4f4f82a3d27df37e0b6b": {
     "views": [
      {
       "cell_index": 6
      }
     ]
    },
    "5842572d6b584050950f0896b8c8670c": {
     "views": []
    },
    "58b7e153976f43a9938a1295525d64d4": {
     "views": []
    },
    "58c842fc7b0e4a31aa6be3f6d7fd6265": {
     "views": [
      {
       "cell_index": 6
      }
     ]
    },
    "58ff186237ae464693c4968e18307f85": {
     "views": []
    },
    "593afe5c5d73471d9c162f897503b973": {
     "views": [
      {
       "cell_index": 6
      }
     ]
    },
    "597e5164f2b04819a88b948385881fe4": {
     "views": []
    },
    "5a147c47971a43659102c61de2ca5a5f": {
     "views": []
    },
    "5a1b37e7ca114a989860eb78431799da": {
     "views": [
      {
       "cell_index": 6
      }
     ]
    },
    "5af423cf81b74c8b9403bd27514790ab": {
     "views": []
    },
    "5c364be8ac184dd5bc9019cac69665b1": {
     "views": []
    },
    "5c3857fc50cb4c5aa7a18ed5a488d0b6": {
     "views": []
    },
    "5c5d9dcf9a9147dc883d339e2f7bfafc": {
     "views": []
    },
    "5c87b872069340dba4558ffabb2a3264": {
     "views": []
    },
    "5cb5393588aa44cf8270dd7e338159a9": {
     "views": []
    },
    "5ceb8292482248bb8fadb3195812e4d5": {
     "views": [
      {
       "cell_index": 6
      }
     ]
    },
    "5d314d0bd7b149f7baf216ccc7df071f": {
     "views": []
    },
    "5d586963d1054a368c061b5bee0a5c0d": {
     "views": [
      {
       "cell_index": 6
      }
     ]
    },
    "5d6b2ffc4d89499a93c3b0962eb44523": {
     "views": []
    },
    "5d71c0737c9a438488233103f016bf8f": {
     "views": []
    },
    "5df43df26afa4044885e5a13314d189c": {
     "views": []
    },
    "5e3ff294a62f4be49c84e1dec2435ca5": {
     "views": []
    },
    "5eb3212f5c734729a8485ece6f7b745d": {
     "views": []
    },
    "5ec3fe7f78c94cb08a5683e27c032071": {
     "views": []
    },
    "5ecde570b2b34d7a83b61f695510e78b": {
     "views": []
    },
    "5ee051c9403f4ca8a752ae9473798060": {
     "views": []
    },
    "5f015dd9ac614517a671dee900743c2b": {
     "views": []
    },
    "5f5078ce687c46ceb6b93ed6d12cfe77": {
     "views": []
    },
    "5f97da901013435a94f7cdbadd0d44bb": {
     "views": []
    },
    "6025a381d3664315a2cd95e15662db86": {
     "views": []
    },
    "60c0cab7e1774f4e8f6d9f85a0ec696b": {
     "views": []
    },
    "60d153473244497aa919676f51d7eb4f": {
     "views": [
      {
       "cell_index": 6
      }
     ]
    },
    "619050d522714cbcb7971b20aebd98a4": {
     "views": []
    },
    "61cc864efce543b8b18343f3e843457d": {
     "views": []
    },
    "61e68589791447fd96db68195119995c": {
     "views": []
    },
    "61feed6763a2473b980e78418f7f807a": {
     "views": []
    },
    "62a713f9baff441896fa6f9f8605acf4": {
     "views": []
    },
    "62e68ffafa784524a28c9b0eb5de0708": {
     "views": []
    },
    "63bb44c5bdb24d4a8b9fc0c7aba74a93": {
     "views": [
      {
       "cell_index": 6
      }
     ]
    },
    "63cb1fbf441641208e6350d6fc7596bb": {
     "views": []
    },
    "6488124783a447e9ab60c06a9ebf381a": {
     "views": [
      {
       "cell_index": 6
      }
     ]
    },
    "64deb1861bb548d0a4d6f34b57df14e3": {
     "views": []
    },
    "6505bab1aacf40b8b8eca8fcd34cbf70": {
     "views": []
    },
    "65bcb83654c748478736cf1b758eefed": {
     "views": []
    },
    "65e33ddfa4eb491eb8db7d3286632719": {
     "views": []
    },
    "676b1712ad0c4ddbb2129a2a6d1445a5": {
     "views": []
    },
    "6775f22d82324724942f8f6a5f46edab": {
     "views": []
    },
    "67cd780374864c4eb73f4589daa4e9c7": {
     "views": []
    },
    "683352e3c9754a5198d32de8ed7491a9": {
     "views": [
      {
       "cell_index": 6
      }
     ]
    },
    "6892ba381fca4878827ade222be4aac3": {
     "views": []
    },
    "68a2a6fa0b39462e9b735a2189124fad": {
     "views": []
    },
    "68f42bef011448a5af538d4a9887ae78": {
     "views": []
    },
    "695dff67efd84ced89b2a4d7069af2c5": {
     "views": [
      {
       "cell_index": 6
      }
     ]
    },
    "69a10524edc64880b1a3a8311f091e17": {
     "views": []
    },
    "69bb0eb544294a7cb3d2ffdcd0a988f7": {
     "views": []
    },
    "6a3ae55e9b8f498ba27867f2d92ced0c": {
     "views": []
    },
    "6a435b36b543490987faf21c38bb00ff": {
     "views": []
    },
    "6a70ed9bfe2e4936a8702a234d724069": {
     "views": [
      {
       "cell_index": 6
      }
     ]
    },
    "6acae15d7dcb4ca398795073edf5c91a": {
     "views": []
    },
    "6bef52161a4f451e86c6ba49375800d6": {
     "views": []
    },
    "6ca7d4a3fec54bfd8f0c10687fe03f66": {
     "views": [
      {
       "cell_index": 6
      }
     ]
    },
    "6d0306ad917742f188ba3a90cbe9d670": {
     "views": []
    },
    "6d2569ce79bb472d9256369be88751f8": {
     "views": [
      {
       "cell_index": 6
      }
     ]
    },
    "6d7592ddcdc24f99b80f604fb5ae9936": {
     "views": []
    },
    "6d96abb11f6944238a5e982575c0d175": {
     "views": [
      {
       "cell_index": 6
      }
     ]
    },
    "6e352b8dea974d99b4336ff56058e849": {
     "views": []
    },
    "6e57e9debdec47c6aad438c7167545e8": {
     "views": [
      {
       "cell_index": 6
      }
     ]
    },
    "6f9754cbe06f4e6d9a29af824dd5fb0e": {
     "views": []
    },
    "6fa3d10de0db4769986a4302623ee144": {
     "views": [
      {
       "cell_index": 6
      }
     ]
    },
    "6fbada8ac0474447bd05aa649782a798": {
     "views": []
    },
    "700ca3386cd245cc9050575771730ba6": {
     "views": []
    },
    "7076b1687eef4082816af563f79cb1ca": {
     "views": [
      {
       "cell_index": 6
      }
     ]
    },
    "70a712d6e1464ca19be4592f90299ea5": {
     "views": []
    },
    "70fa624e01894c2098844928029bf558": {
     "views": []
    },
    "71d45d537b7b4aecb793c89eaf7f672b": {
     "views": []
    },
    "71dc9ddc219744baa063c6e0f6384f02": {
     "views": [
      {
       "cell_index": 6
      }
     ]
    },
    "735e206fa4804346ac4fb3a25978bcef": {
     "views": [
      {
       "cell_index": 6
      }
     ]
    },
    "73accc5e213b49ceb0bebcec8d035509": {
     "views": []
    },
    "743c6a0ddab74727b5e58df7ce053e82": {
     "views": [
      {
       "cell_index": 6
      }
     ]
    },
    "74ace1c1117f41da8308add53ddde6d7": {
     "views": [
      {
       "cell_index": 6
      }
     ]
    },
    "74bd43ee8ed642de884322fbde46b88e": {
     "views": [
      {
       "cell_index": 6
      }
     ]
    },
    "759bafa9f9324fdc8cc1667c541c7c21": {
     "views": []
    },
    "779be8996d9f406bbd06490d46ab7f91": {
     "views": []
    },
    "77a048b6c3af4125822cd1ebd6052d2f": {
     "views": []
    },
    "77d201a48aa2443095e117a563f0ab61": {
     "views": []
    },
    "78556dcdeb2045dc99a43f9055051126": {
     "views": []
    },
    "787c228ab16649e9b90c8ad9d6c28b31": {
     "views": [
      {
       "cell_index": 6
      }
     ]
    },
    "78bcbba8d6c6407b94451b4bf56df6a5": {
     "views": []
    },
    "78f36395b0f64acabd886372d4358179": {
     "views": []
    },
    "792741f6d9fb4566bb2c63b89e435310": {
     "views": []
    },
    "79489a1f6bf744d3ac870c7514886989": {
     "views": []
    },
    "794c298ffc1b49af86b83e43f945e833": {
     "views": []
    },
    "7a29f8dc3c354fe5b7c65dc152dde485": {
     "views": []
    },
    "7a4db0e24b444937922d70f71a91b86f": {
     "views": []
    },
    "7abf47786c36447aad937e85a2a79fc9": {
     "views": []
    },
    "7adddbc79a32487dbdff7674fd4031ca": {
     "views": []
    },
    "7af88bfd40624abb942445ffb207d94b": {
     "views": []
    },
    "7bf3b27906c54c93a874f7b8d801c358": {
     "views": []
    },
    "7c07b74a896b41c2aba02e0402892571": {
     "views": []
    },
    "7cb8b8805f984a9e8b64f189d274de93": {
     "views": []
    },
    "7cd8d68e157d42e180e83f8ca3d41db5": {
     "views": [
      {
       "cell_index": 6
      }
     ]
    },
    "7dc4df12600545a68d0e5edc6e085c92": {
     "views": []
    },
    "7e0169f957b54ad785025fc615d9b81c": {
     "views": [
      {
       "cell_index": 6
      }
     ]
    },
    "7e1abc52bbab4c14aed0a766721b335b": {
     "views": []
    },
    "7e228142b67b4cf6b705ee07a992f88f": {
     "views": []
    },
    "7ed92ebd567d4f91adc381978d72bd29": {
     "views": [
      {
       "cell_index": 6
      }
     ]
    },
    "7eecb36580e54fffbf17c077f863e70b": {
     "views": []
    },
    "8015459688984e8f821bcf6da3fe7264": {
     "views": [
      {
       "cell_index": 6
      }
     ]
    },
    "801db42b57d2485cbb073d206104a6ab": {
     "views": []
    },
    "811a8d9e5af6410e9f40ba1b2b1a9838": {
     "views": []
    },
    "82bd77f00c52442aaed5eae8ca2f1f88": {
     "views": []
    },
    "8300549b4ba24d6a842a82919d9c1abb": {
     "views": []
    },
    "83257b40879140e3ad55bbef0b847567": {
     "views": []
    },
    "83528b79fc134c58917c9024712d90f6": {
     "views": []
    },
    "8358dd14c1304ad0b00d5c4d76c4ce80": {
     "views": []
    },
    "84267df8d297458ba04220aafbb61f21": {
     "views": []
    },
    "84abc10e96c4477c99cca76ce9eda0aa": {
     "views": []
    },
    "84daa672332d45329a305fe5faeb122d": {
     "views": [
      {
       "cell_index": 6
      }
     ]
    },
    "84fa3bbac6b34bf6b9eec2417b3a84e3": {
     "views": []
    },
    "85422dafb82e48dab3f73488cd0f405a": {
     "views": []
    },
    "854d8ba49f1e4bdba6886a03098f3ac3": {
     "views": []
    },
    "856f8aa96c534c0183859cf2e4911de7": {
     "views": []
    },
    "857e6ef459464e77997f09426d2b15c9": {
     "views": []
    },
    "861e23ea2cde485badc9eab89e12e9c9": {
     "views": []
    },
    "86c3bd84162a4c1cbcbc57e8572da130": {
     "views": []
    },
    "87276204d18242edb7f248cefbfefa7f": {
     "views": []
    },
    "8744f75e2f1c4516994e085c047555d3": {
     "views": []
    },
    "87fc0378bea84dcf8e0e618a918856a9": {
     "views": [
      {
       "cell_index": 6
      }
     ]
    },
    "88176cb7738e4f4b84e4777eff2504e6": {
     "views": []
    },
    "89599c931b1b487da2437799da3dba63": {
     "views": []
    },
    "8967bcdaa2aa4fbfb14a7b511c9cac3c": {
     "views": []
    },
    "89c174c5efc2438699a8be02741d8a6f": {
     "views": []
    },
    "89d95dc32e944d63a74794a4eedb6f9c": {
     "views": []
    },
    "89f0817def8641e388aa417874386b99": {
     "views": []
    },
    "89f5cae89fd84b62b3fea1684f31d318": {
     "views": []
    },
    "8a25211d1cf5447daa9faf6f6e80b50e": {
     "views": []
    },
    "8a26ee0bff9f4622bcdf954316f306c0": {
     "views": []
    },
    "8b353cff713a4562a8f3b248b93ea1fb": {
     "views": []
    },
    "8baf8c552fb0420dad8575c1ad8f3704": {
     "views": []
    },
    "8c7724bf47074cd4b66c00eeff4b4838": {
     "views": []
    },
    "8cabb3a510c74704a32eb83284d1eee8": {
     "views": []
    },
    "8cd9c4f9760b4df2a60a2497219d102b": {
     "views": []
    },
    "8d2605da950e4bef8ebd74f9dbee260c": {
     "views": []
    },
    "8d2dec7997b148c7a7d9ec6a48992991": {
     "views": []
    },
    "8d479105aabe49879c868a403451999f": {
     "views": []
    },
    "8dab1f3d387b4745bb03b40523eecb17": {
     "views": []
    },
    "8dd232fa1f4949e0af55f9641ec52056": {
     "views": []
    },
    "8dfadb8c9325458a8f4e2a401fd46f0d": {
     "views": []
    },
    "8edc036a20ef4f7f90deea96bf8257c3": {
     "views": []
    },
    "8f880a31a56c4e69abec6570b4342d82": {
     "views": [
      {
       "cell_index": 6
      }
     ]
    },
    "8f977a68bb0e4407a3806c5ab0f817ef": {
     "views": []
    },
    "8f9fb9b81a564db8b1f4f7dc953f3fdb": {
     "views": []
    },
    "8fdcd7814b854e429df36521e7580a95": {
     "views": []
    },
    "8ff42470ee6c4b50ad5134c321e63588": {
     "views": []
    },
    "902485b20a8e4a42bb3e63b1cc6b4e0f": {
     "views": []
    },
    "90c5888bd84d48a0803f7dd92f487a4c": {
     "views": []
    },
    "91a110b5afbd498ab35df12709af20e6": {
     "views": [
      {
       "cell_index": 6
      }
     ]
    },
    "920fa5d7e7d8497fbd036891f49e3df4": {
     "views": []
    },
    "93934b6011d8432c9165d9c27facb07c": {
     "views": []
    },
    "949bf37f566141f5abc8d4315d6df09e": {
     "views": []
    },
    "94b3b7908d4b4c6d83c8cfcf76bd9a82": {
     "views": []
    },
    "94b52438ab4343a9bdc2dbd071faa94e": {
     "views": []
    },
    "9510a4a6c8044f6b92e88ebf641c905b": {
     "views": []
    },
    "95436765178544e68ff207091697abb7": {
     "views": []
    },
    "9565303cbd3143e58716f6d3db8d16b4": {
     "views": []
    },
    "95ae10bd93b1421da7ad3c6cea0b2fc1": {
     "views": []
    },
    "960974a36ad4424a8b18257f62a4dd65": {
     "views": []
    },
    "96c3e02a23b745d58aed443ddacd4421": {
     "views": []
    },
    "9713295465c849cf90cdbe57cc5d4912": {
     "views": [
      {
       "cell_index": 6
      }
     ]
    },
    "971d5ff30018438dacbcfb318a7e2412": {
     "views": [
      {
       "cell_index": 6
      }
     ]
    },
    "972be4dea59a4cff9279a4877b6bc646": {
     "views": []
    },
    "975fa202a0374fb997a0fce6ba3bc8b3": {
     "views": []
    },
    "97b47cefd9d14a9f99851b83c5748612": {
     "views": []
    },
    "98025ca9828a4ddcb3ff5a996066b2c1": {
     "views": []
    },
    "983bbf3911a64394b447f51789c7e0d5": {
     "views": [
      {
       "cell_index": 6
      }
     ]
    },
    "9844a07fd15f466f9620e2c5b691ce21": {
     "views": []
    },
    "9848aed680a14150b1fdafddc73371e8": {
     "views": []
    },
    "98c5da91e99348b1ac629e9078d37e47": {
     "views": []
    },
    "98eb145276ba477389b6d44653427c13": {
     "views": []
    },
    "994457494e84478f93101cf4ca95cfce": {
     "views": []
    },
    "99515221267d487f9714552735787739": {
     "views": []
    },
    "995d2d8a723246dfb16a353294a9c397": {
     "views": []
    },
    "9a76c2601791495a82ad49f21c87f625": {
     "views": []
    },
    "9c2dfde0dbf646a294ad9cfe71958f20": {
     "views": []
    },
    "9c53f819cb3d410989e13ab2243d00ff": {
     "views": []
    },
    "9c8cf0bc279548c7ae2b912b31bfabb7": {
     "views": []
    },
    "9d233cc9af3a4d0da0cadb776b6f7b43": {
     "views": []
    },
    "9d5fc3b94aaa4689a9aa5658e0b8c449": {
     "views": []
    },
    "9d7ed1fc83a448dea5fe6c24b8f251ec": {
     "views": []
    },
    "9dc6cf314733494cb87fe4c310b56270": {
     "views": []
    },
    "9e2f2e57403644c39500f1c0f5e84744": {
     "views": []
    },
    "9ec86377d116410691f57cdc2a00cc53": {
     "views": []
    },
    "9f11c389101b4748b70cee0f88d8bf89": {
     "views": [
      {
       "cell_index": 6
      }
     ]
    },
    "9f1983eba87a44d9a1de73509a1f9186": {
     "views": []
    },
    "9f26f2a5a517440a965852726cc96bd8": {
     "views": []
    },
    "9f9c810c5da14f028da8e88645f68c71": {
     "views": []
    },
    "9fa6fd4250384aa69e70adc246f49a32": {
     "views": []
    },
    "a163eae488324c0ca0cfa209f7c38c22": {
     "views": []
    },
    "a1648e3dc7e24e18a89e6da76b9b9186": {
     "views": []
    },
    "a3256dd6aa5746569a3407452da9b118": {
     "views": []
    },
    "a379c38848e2453a91701405dd5640e6": {
     "views": [
      {
       "cell_index": 6
      }
     ]
    },
    "a3bd9f22e52f460da33f8af83867f516": {
     "views": [
      {
       "cell_index": 6
      }
     ]
    },
    "a3f74f31f87c47a29817df6766177b88": {
     "views": []
    },
    "a450b0556260412d90e33154adf2945e": {
     "views": []
    },
    "a4f269a8da4d4974aeb8128299b188ff": {
     "views": [
      {
       "cell_index": 6
      }
     ]
    },
    "a525a24340e544efa408affb2411c150": {
     "views": []
    },
    "a57088ca6ea74ad1b8c6e34a271e5238": {
     "views": []
    },
    "a5c4fa7f8c424b499aec608421e185ed": {
     "views": []
    },
    "a5fb8d4c302c45f39d5e69fef5446d86": {
     "views": []
    },
    "a6042449e3364a979ecb5afada9a1c5d": {
     "views": []
    },
    "a62e3b342f524f88bfa62d9d55cff82e": {
     "views": []
    },
    "a6b5140d6313485189aaf57a0d4327ef": {
     "views": []
    },
    "a83873572d4547f49065960aa5ae9fbd": {
     "views": []
    },
    "a87a8920d81240148e70e279d4180ea9": {
     "views": []
    },
    "a896670cf83246b7ab51342878eade60": {
     "views": []
    },
    "a8e761cc55e742b381b0c3dbf187b13c": {
     "views": []
    },
    "a947a46c01a04db3b2492d98120ed419": {
     "views": []
    },
    "a9f14dc7f62b44ccb83dddd39694e344": {
     "views": [
      {
       "cell_index": 6
      }
     ]
    },
    "aa46487e4a9e4562aa34c3dfc5da713a": {
     "views": [
      {
       "cell_index": 6
      }
     ]
    },
    "aa60e3252b06409480d207f47c4ba996": {
     "views": []
    },
    "aa994c533a3d4f25be5efb6ab0b6aac5": {
     "views": []
    },
    "aaf4f0f4813c4c9db768882650d98304": {
     "views": []
    },
    "ab2dfe394c98437785297454fc9e92d8": {
     "views": []
    },
    "ab43a857f3b24ebc82d9156727165542": {
     "views": []
    },
    "abc3e17322e941539e50c0df7d69274a": {
     "views": []
    },
    "ac421ce9d67c483695ce4684ae9bba0b": {
     "views": [
      {
       "cell_index": 6
      }
     ]
    },
    "acc574014d8c44558f4a68f6cba3d96a": {
     "views": []
    },
    "ad504e6fb82e4c16967fb9a29857cc0d": {
     "views": []
    },
    "adb8660e1f1c4da29289da469bfec7c8": {
     "views": []
    },
    "ae72b2db58a6408c9f2dbf86477b86b5": {
     "views": []
    },
    "af500a9120e749e7b34f77502fcde285": {
     "views": []
    },
    "af8d6caf6d714713b7c8c4743842f95c": {
     "views": []
    },
    "b049edd226a2447cb167fd739ca1cdb6": {
     "views": []
    },
    "b04bbaee8ae14c6998189b744b6df025": {
     "views": [
      {
       "cell_index": 6
      }
     ]
    },
    "b0a4731a411b4d8c86e9858bdcea9f73": {
     "views": [
      {
       "cell_index": 6
      }
     ]
    },
    "b0a76f8280d44e5082f968c0d2db2caf": {
     "views": []
    },
    "b0e594040a0b4741ae49c85e9673e668": {
     "views": []
    },
    "b11adfa3de8e4d0ab47acea92efa7724": {
     "views": []
    },
    "b1743a486bfd45d29c9574b7c99c484e": {
     "views": []
    },
    "b190e363711b451cb3aa17fd8a1a170f": {
     "views": []
    },
    "b24c6428b28c479aa912d74a510ddb03": {
     "views": []
    },
    "b278e8ee024440e68fb001ce8a10f567": {
     "views": []
    },
    "b3f83877affa4e52a7091a26f6861c36": {
     "views": []
    },
    "b45eade6207c43688f2bbc3a5890bd60": {
     "views": []
    },
    "b51afcb59ee244fd8d92fffbe9704937": {
     "views": []
    },
    "b53ba2ce77f64d408f484c4258957f8d": {
     "views": []
    },
    "b6ed1274837248289a9f98250e74d335": {
     "views": []
    },
    "b756fce66b644837a1a989df0d7ae0db": {
     "views": []
    },
    "b8649227dcc34077ab9a6c7b332e472c": {
     "views": []
    },
    "b8b7a14693c24d97af864c4dd319610d": {
     "views": []
    },
    "b8e0d4d78cd4490e8fff0440a34bb62e": {
     "views": []
    },
    "b8e96d03b03b4830a84c32117785f3db": {
     "views": []
    },
    "b8fd9ecb2722478790851735fffa6800": {
     "views": []
    },
    "b9232eccae5b4bd6be39280b33a1c000": {
     "views": []
    },
    "b928ed24ee1d4f11bc06febd1c46238a": {
     "views": []
    },
    "b93e0e7a488f4c60be41d1f2321522a1": {
     "views": []
    },
    "b96c07618e4a473487c99ec7a35d8220": {
     "views": []
    },
    "b9efe44c9fe8445c8720abfd20cd169b": {
     "views": [
      {
       "cell_index": 6
      }
     ]
    },
    "b9f24d4313f24565afb5efce81e1da5f": {
     "views": []
    },
    "ba3de0a6f6a04cc4b4ee5a39a6e3ef34": {
     "views": []
    },
    "baad731273d848e7aa3bc4153d8091a1": {
     "views": []
    },
    "bb349b6a5e354d038e6e9d3e6add6294": {
     "views": []
    },
    "bb6a90f6d95f4f9f9a522546bd7f8904": {
     "views": []
    },
    "bbbaa0aacd674da883acd088dd320da7": {
     "views": []
    },
    "bccc140954384c21bfd9ee18fe178534": {
     "views": []
    },
    "bcffc3f33b6e41cc977ec86fb9cfd13b": {
     "views": []
    },
    "bddf5b32264c49c1ab20621f0dcdcb84": {
     "views": []
    },
    "be6f4e0df24d4bf3a4780280e35854ac": {
     "views": []
    },
    "beee89f032c34598a2009120bf0a0938": {
     "views": []
    },
    "bf7acd3d502f473397c9d7ea2a785061": {
     "views": []
    },
    "c066f28c78ce43c497709941207b5bb7": {
     "views": []
    },
    "c082f6502cb0469d8ee2bf4d26dc2928": {
     "views": []
    },
    "c0e3729ca41c43cebb6d32cea241ebdf": {
     "views": []
    },
    "c1da9b8f375f4e4aa9d05b5beded0c77": {
     "views": []
    },
    "c36862abce94466a9131c7c2f13b49fa": {
     "views": [
      {
       "cell_index": 6
      }
     ]
    },
    "c3ba22953aef4b528ec9b2b20557617c": {
     "views": []
    },
    "c4193691884944c98a3236aa199163e5": {
     "views": []
    },
    "c438cb26712d48438be8fc0047e5d35a": {
     "views": []
    },
    "c46e7420fef64d17b4f307d3c9e615a7": {
     "views": []
    },
    "c4fe97fb257a4721aa558e38c89a625f": {
     "views": []
    },
    "c532238da17241fa9e74d95f9da81009": {
     "views": []
    },
    "c59915da45194039bd138ede72608af4": {
     "views": []
    },
    "c5a3b6baa8c44121bd566c5c1ff58845": {
     "views": [
      {
       "cell_index": 6
      }
     ]
    },
    "c5bafeac3e154fcb84d34e9a6c94c42e": {
     "views": [
      {
       "cell_index": 6
      }
     ]
    },
    "c60fd9d256314ad6a4e8d80d5930e2e7": {
     "views": []
    },
    "c7220e8e1af044d089a4f81210b9e6d1": {
     "views": []
    },
    "c78741e0211d48e79e800785244f16c9": {
     "views": []
    },
    "c7f7273550584c8c951d1ba38bd0f62c": {
     "views": [
      {
       "cell_index": 6
      }
     ]
    },
    "c7fc8a4294aa4505854b2bd1ab685dd2": {
     "views": []
    },
    "c80abb4506694299b6bbd51ccb30551a": {
     "views": []
    },
    "c8b13cf5399740d7b17e6817316b4365": {
     "views": [
      {
       "cell_index": 6
      }
     ]
    },
    "c8c36992e8114532aa51d35f3113bfd0": {
     "views": [
      {
       "cell_index": 6
      }
     ]
    },
    "c8eb7004bc5243f28049497994a1bef1": {
     "views": []
    },
    "c92be6a7907e400f90a1087c678b46b9": {
     "views": []
    },
    "c9710898c2b9415aade0f3fb6755141a": {
     "views": []
    },
    "c9840213129f4f19ba76ec429cb10948": {
     "views": []
    },
    "c989d2c7929a45bab7cca4641d79ead5": {
     "views": []
    },
    "ca059c8329e0403d8702fedc56e5a95e": {
     "views": []
    },
    "ca21e21e274c4cfcaebd65849f2be655": {
     "views": [
      {
       "cell_index": 6
      }
     ]
    },
    "cac806fdf65645f9beab9fd969cf355e": {
     "views": []
    },
    "cbcac8e25f6246ad9984cb9739cc9d83": {
     "views": []
    },
    "cbcea8784df64470a9b79ff62c860bc0": {
     "views": [
      {
       "cell_index": 6
      }
     ]
    },
    "cc4b9c1a24c44881889017ec1298d51d": {
     "views": []
    },
    "cc8b365530044b54b016444076146e44": {
     "views": []
    },
    "cd073c17002845e9aaef34c459d04128": {
     "views": []
    },
    "cd17fc1e4a96410485e9a7e434f4b8db": {
     "views": []
    },
    "cd48a5f2fef14f12a250a0dde105b150": {
     "views": []
    },
    "cea7d8f8ee634b1f8c9e5bd2bf7751d1": {
     "views": []
    },
    "cf279e46fa33481e8cf089c2a83c9833": {
     "views": []
    },
    "cf40078f908c4daeac3e472129b383ae": {
     "views": [
      {
       "cell_index": 6
      }
     ]
    },
    "cf800ad8ff2b4299a9c5bb4d28ec7156": {
     "views": [
      {
       "cell_index": 6
      }
     ]
    },
    "cf8a6a45a9194fb7b033b4cc30b5a235": {
     "views": []
    },
    "cff600d8a15d464aba72b1f191b651ce": {
     "views": []
    },
    "d050c5378e1145a2a59d5893567a1949": {
     "views": []
    },
    "d0d78db6f6ff4edb8e746d9940265134": {
     "views": []
    },
    "d13d5e441c68493695004b97a5f0cde3": {
     "views": []
    },
    "d1a03167bc9444f58d0790502d167b0d": {
     "views": []
    },
    "d24a33b126a34259a8fe1dce88bbcb14": {
     "views": []
    },
    "d253ef575974471bad06dc1f4d143bba": {
     "views": []
    },
    "d359369d11734af897c9ae64bd512b8f": {
     "views": []
    },
    "d3d21f7eec5042d4aec6b1020dac4938": {
     "views": []
    },
    "d3fab62f0bf9400ea906e0f82aee2ffc": {
     "views": []
    },
    "d5fe5aaba01a46909014b7d49f9a1079": {
     "views": []
    },
    "d83ea54d40ec44ac8623473ed2dc39a0": {
     "views": []
    },
    "d91947879f504719be2b4784755d2fcb": {
     "views": []
    },
    "d96e81ff1b57493a8b9dad19cf707d99": {
     "views": []
    },
    "da6409a3f07f411badf17d196423622e": {
     "views": []
    },
    "db691becea6345c6a4f7daa2038a8ea4": {
     "views": []
    },
    "dbc19d39ed7c4f929f5e7ef27b195d66": {
     "views": [
      {
       "cell_index": 6
      }
     ]
    },
    "dc24b23f805a4eb89f6706c70591526b": {
     "views": []
    },
    "dc8cb9eadc2447c794d89d74be17e278": {
     "views": []
    },
    "dca3895468cf4119b14cd1f75a4ca256": {
     "views": [
      {
       "cell_index": 6
      }
     ]
    },
    "dcb265c70bd24e0d82888e66c001a85f": {
     "views": []
    },
    "dcc2c2b9108c447cb515aa059064b23b": {
     "views": []
    },
    "dd6aac124533417484e1c09cedbc16b4": {
     "views": []
    },
    "ddade8ca3aa74c94b2cca222f633406a": {
     "views": [
      {
       "cell_index": 6
      }
     ]
    },
    "ddfaea9b29a04fbbb9c2793a6be96498": {
     "views": []
    },
    "de285b309a9746b1b2d60cea4ab733e8": {
     "views": []
    },
    "df7a327ef63c40478333426cf5dce249": {
     "views": []
    },
    "dfd065593df74c23bb133a5e6b9aaaff": {
     "views": []
    },
    "e03f9a3ef5cd4968881e468ed907c3aa": {
     "views": []
    },
    "e04e141d378c4451b3fec4f79f728508": {
     "views": [
      {
       "cell_index": 6
      }
     ]
    },
    "e0f7c2ac4ef241a69d938164bae99bea": {
     "views": []
    },
    "e1633438cbf94acda350c0d0122e59c3": {
     "views": []
    },
    "e1a8b113a2be47dfa9ebe73adf51dfa2": {
     "views": []
    },
    "e1ff343052804b9c9bcb9d6ac17d5a4c": {
     "views": [
      {
       "cell_index": 6
      }
     ]
    },
    "e3a51328d55445bba19d433319ef9d3e": {
     "views": []
    },
    "e43b5304303c48a2852a99d42b404d59": {
     "views": []
    },
    "e45a741b3bc34a50a26b2ddf621adff2": {
     "views": []
    },
    "e45db78fd80f4547ad5119af30dc3af4": {
     "views": []
    },
    "e4f0ccf978234bfea674ac46553ad274": {
     "views": []
    },
    "e5922c32558e4e2a964cbad740eddcef": {
     "views": []
    },
    "e5b7bdc9ecf949c8bfc2acec65829e54": {
     "views": []
    },
    "e5bb59eb85084c989a2b7a8bc483a1b3": {
     "views": []
    },
    "e5e776394a184c609bc96fefa5abbad8": {
     "views": []
    },
    "e694f060fb2243c89ddd96533419c072": {
     "views": []
    },
    "e6ba0f0346f14af982d28856e9ff8041": {
     "views": []
    },
    "e6bcb148d48b470e8c25da35c46f4c6d": {
     "views": []
    },
    "e6da14abdf07412cac74a0f09a94836b": {
     "views": []
    },
    "e6f2f8e923454bf3bb6fac1a2af77c06": {
     "views": []
    },
    "e8830ed7968d46aeadc37c9ee22c8713": {
     "views": []
    },
    "e8a5ffd71ef0409bb823aa42ff7dfcf2": {
     "views": []
    },
    "e8ec6b20a88445b2a23acbedf286244e": {
     "views": []
    },
    "e9206d7f055c478592d1324c52719ca5": {
     "views": []
    },
    "e961ae678fc74b2ab85fae3a5ae2c62b": {
     "views": []
    },
    "e97d3820da7249238c51c28a8b1ee6d4": {
     "views": [
      {
       "cell_index": 6
      }
     ]
    },
    "e9afa0cfffac4eea93a004239fb403f1": {
     "views": []
    },
    "ea4b2456eb154ef592deb7448966b6f1": {
     "views": []
    },
    "ea89aecdade24b0b803022df6cdb7bd7": {
     "views": [
      {
       "cell_index": 6
      }
     ]
    },
    "eacd44631750411593e340022eaf6b33": {
     "views": []
    },
    "eb4482d8fac04e81a93457c16ab7cb4d": {
     "views": []
    },
    "eb9dfeefd69645b6b3743d0ec5284bc7": {
     "views": []
    },
    "ec413212ced34c5abd1d211df2f26644": {
     "views": []
    },
    "ec87b525c27f4df5a3bed5cdc1f0283b": {
     "views": []
    },
    "ec9e5f2c94254e06a1aa24139f579874": {
     "views": []
    },
    "eccfbd0f42694bddb7cde0eebaa284ae": {
     "views": []
    },
    "ecd65a45b85246fabc0cb7438481aa0c": {
     "views": []
    },
    "ed22865da87f40c59cd8210c2bc59b56": {
     "views": []
    },
    "eda94300358d46b8bc57c12fecec4a33": {
     "views": []
    },
    "eeda06e0840e4fd4b0b9cf04786a0225": {
     "views": []
    },
    "ef1c8cade7774475a2612a3de2058646": {
     "views": [
      {
       "cell_index": 6
      }
     ]
    },
    "ef29e3049c9648dd8b5033892ee6e4e6": {
     "views": []
    },
    "f27281f4f8994073a8f6109f539c492b": {
     "views": []
    },
    "f42c8bb687a54bbba7ca5758c91007d3": {
     "views": []
    },
    "f48ac1e77b934420b1ae9aa312053124": {
     "views": []
    },
    "f48b9d93b92e46568f7acc40c2bf144e": {
     "views": []
    },
    "f5720e65fce44329a94188f868681242": {
     "views": []
    },
    "f57d7046da5b4287afb4044bf3fa3847": {
     "views": []
    },
    "f5c786ec775a449c96cef22615a994fe": {
     "views": []
    },
    "f670be58b711446ab8937b7f47eeb48d": {
     "views": [
      {
       "cell_index": 6
      }
     ]
    },
    "f68d09eac69640608caf8b07f8d1b0d7": {
     "views": []
    },
    "f6bcc351d9754ddf9d7bc495343feef5": {
     "views": []
    },
    "f6eb6d7b44b249f0a0a925f9034ead28": {
     "views": []
    },
    "f78a5b102f8e4efcaa983b11c42cb1f6": {
     "views": [
      {
       "cell_index": 6
      }
     ]
    },
    "f83206e9d5744c539b536c23113e1066": {
     "views": [
      {
       "cell_index": 6
      }
     ]
    },
    "f8398110b0ac4fcaa8e1ad83bb85ab17": {
     "views": []
    },
    "f958a9e768dc459c8ce11cf0018c52c1": {
     "views": [
      {
       "cell_index": 6
      }
     ]
    },
    "f986bc24a7124c9a9b24b7d9fa5a2414": {
     "views": []
    },
    "f98a0f5304444776acef5c4e3976b7b2": {
     "views": []
    },
    "f9ac180287eb4adb929079d60ece45af": {
     "views": []
    },
    "f9c9c85a097e4da0bbd2c032834563df": {
     "views": []
    },
    "fa872e22164346149df630067111b35b": {
     "views": []
    },
    "fab4be70a0cb44bdac7c8a2f37d26278": {
     "views": [
      {
       "cell_index": 6
      }
     ]
    },
    "fac65f8868b842b994e6ebd4c4d39f12": {
     "views": [
      {
       "cell_index": 6
      }
     ]
    },
    "fb58b4604a1c43c7b9d47c06ba8a7a76": {
     "views": []
    },
    "fb9f3f3a782f4637bfdf79fdedd93753": {
     "views": [
      {
       "cell_index": 6
      }
     ]
    },
    "fcadf7f7293c4eef8c5132eec2f85424": {
     "views": []
    },
    "fe26716959f2404f821c712758e53511": {
     "views": []
    },
    "ff0b6b6d54d84d798199d43f3da72204": {
     "views": [
      {
       "cell_index": 6
      }
     ]
    },
    "ff6be58500fe43149115f6df292cb500": {
     "views": [
      {
       "cell_index": 6
      }
     ]
    }
   },
   "version": "1.1.2"
  }
 },
 "nbformat": 4,
 "nbformat_minor": 2
}
