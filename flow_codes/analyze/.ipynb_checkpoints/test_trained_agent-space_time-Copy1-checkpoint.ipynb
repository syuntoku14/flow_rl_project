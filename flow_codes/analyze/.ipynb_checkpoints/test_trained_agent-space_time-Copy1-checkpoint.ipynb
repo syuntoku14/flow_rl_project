{
 "cells": [
  {
   "cell_type": "code",
   "execution_count": null,
   "metadata": {},
   "outputs": [],
   "source": [
    "import os, sys, pickle\n",
    "import numpy as np\n",
    "sys.path.append(os.path.join(os.getcwd(), '..'))\n",
    "sys.path = list(set(sys.path))\n",
    "import matplotlib.pyplot as plt\n",
    "%matplotlib inline\n",
    "\n",
    "from results_path import DDPG_PATH, PPO_PATH\n",
    "\n",
    "from common.evaluate import make_vis_env, test_env\n",
    "\n",
    "from flow.multiagent_envs import MultiWaveAttenuationMergePOEnv\n",
    "from flow.scenarios import MergeScenario\n",
    "from flow.utils.registry import make_create_env\n",
    "from flow.utils.rllib import FlowParamsEncoder\n",
    "from ray.tune import run_experiments\n",
    "\n",
    "import gym, ray\n",
    "from ray.rllib.agents.ppo import PPOAgent, DEFAULT_CONFIG\n",
    "from ray.rllib.agents.ddpg import DDPGAgent, DEFAULT_CONFIG\n",
    "from ray.tune.registry import register_env\n",
    "from ray.tune.logger import pretty_print\n",
    "\n",
    "benchmark_name = 'multi_merge'\n",
    "AGENT = 'PPO' # 'PPO' or 'DDPG' or 'HUMAN'\n",
    "checkpoint = '50'"
   ]
  },
  {
   "cell_type": "code",
   "execution_count": null,
   "metadata": {},
   "outputs": [],
   "source": [
    "print(PPO_PATH)\n",
    "print(DDPG_PATH)"
   ]
  },
  {
   "cell_type": "code",
   "execution_count": null,
   "metadata": {},
   "outputs": [],
   "source": [
    "PPO_PATH = 'PPO_MultiWaveAttenuationMergePOEnvMeanVelRew-v0_[eta1, eta2]:[1.0, 0.1]_scale:1.0_t_min:5.0_1_2019-04-25_18-47-33o6yj2t_n'"
   ]
  },
  {
   "cell_type": "code",
   "execution_count": null,
   "metadata": {},
   "outputs": [],
   "source": [
    "ray.init(num_cpus=1, include_webui=False, ignore_reinit_error=True)"
   ]
  },
  {
   "cell_type": "code",
   "execution_count": null,
   "metadata": {},
   "outputs": [],
   "source": [
    "benchmark = __import__(\n",
    "    \"flow.benchmarks.%s\" % benchmark_name, fromlist=[\"flow_params\"])\n",
    "flow_params = benchmark.flow_params\n",
    "horizon = flow_params['env'].horizon\n",
    "\n",
    "def make_env(create_env):\n",
    "    def _thunk():\n",
    "        env = create_env()\n",
    "        return env\n",
    "    return _thunk\n",
    "\n",
    "create_env, env_name = make_create_env(params=flow_params, version=0)"
   ]
  },
  {
   "cell_type": "code",
   "execution_count": null,
   "metadata": {},
   "outputs": [],
   "source": [
    "# Register as rllib env\n",
    "register_env(env_name, create_env)"
   ]
  },
  {
   "cell_type": "code",
   "execution_count": null,
   "metadata": {},
   "outputs": [],
   "source": [
    "if AGENT == 'HUMAN':\n",
    "    PATH = ''\n",
    "else:\n",
    "    if AGENT == 'PPO':\n",
    "        PATH = PPO_PATH\n",
    "    if AGENT == 'DDPG':\n",
    "        PATH = DDPG_PATH\n",
    "\n",
    "    config_path = '/headless/rl_project/ray_results/t_min_multi_merge/' + PATH + '/params.pkl'\n",
    "    checkpoint_path = '/headless/rl_project/ray_results/t_min_multi_merge/' + PATH + '/checkpoint_{}/checkpoint-{}'.format(checkpoint, checkpoint)\n",
    "\n",
    "    with open(config_path, mode='rb') as f:\n",
    "        config = pickle.load(f)\n",
    "\n",
    "    if AGENT == 'PPO':\n",
    "        agent = PPOAgent(config=config, env=env_name)\n",
    "    elif AGENT == 'DDPG':\n",
    "        agent = DDPGAgent(config=config, env=env_name)\n",
    "        \n",
    "    agent.restore(checkpoint_path)"
   ]
  },
  {
   "cell_type": "code",
   "execution_count": null,
   "metadata": {},
   "outputs": [],
   "source": [
    "# env = make_vis_env(flow_params, MultiWaveAttenuationMergePOEnv, MergeScenario)\n",
    "env = create_env()"
   ]
  },
  {
   "cell_type": "code",
   "execution_count": null,
   "metadata": {},
   "outputs": [],
   "source": [
    "# calculate the space-time velocity map\n",
    "left_length = env.k.scenario.edge_length('left')\n",
    "car_length = 5.0\n",
    "scale = 10\n",
    "vel_lists = []\n",
    "vel_map_lists = []\n",
    "\n",
    "for _ in range(6):\n",
    "    state = env.reset()\n",
    "    vel = []\n",
    "    for i in range(env.env_params.horizon):\n",
    "        # record the mean velocity\n",
    "        v = np.mean(env.k.vehicle.get_speed(env.k.vehicle.get_ids()))\n",
    "        vel.append(v)\n",
    "\n",
    "        # record the velocity map\n",
    "        ids = env.k.vehicle.get_ids()\n",
    "        vel_map_ = np.zeros(int(left_length)*scale)\n",
    "        for id_ in ids:\n",
    "            pos_ = np.round(env.k.vehicle.get_position(id_), decimals=1)\n",
    "            vel_ = env.k.vehicle.get_speed(id_)\n",
    "            pos_bottom = max(0, int((pos_-car_length/2.0)*scale))\n",
    "            pos_top = min(int(left_length)*scale, int((pos_+car_length/2.0)*scale))\n",
    "            vel_map_[pos_bottom:pos_top] = vel_            \n",
    "\n",
    "        # step the simulation\n",
    "        rl_ids = env.k.vehicle.get_rl_ids()\n",
    "        actions = {}\n",
    "        if AGENT != 'HUMAN':\n",
    "            for id_ in rl_ids:\n",
    "                action = agent.compute_action(state[id_])\n",
    "                actions.update({id_: action})\n",
    "        state, r, _, _ = env.step(actions)\n",
    "\n",
    "        if i == 0:\n",
    "            vel_map_list = vel_map_\n",
    "        else:\n",
    "            vel_map_list = np.vstack((vel_map_list, vel_map_))\n",
    "\n",
    "    vel_lists.append(vel)\n",
    "    vel_map_list[vel_map_list==0.0] = np.nan\n",
    "    vel_map_lists.append(vel_map_list)"
   ]
  },
  {
   "cell_type": "code",
   "execution_count": null,
   "metadata": {},
   "outputs": [],
   "source": [
    "fig, ax = plt.subplots(nrows=1, ncols=1)\n",
    "for i in range(6):\n",
    "    ax.plot(vel_lists[i])\n",
    "title = AGENT + ' multi-agent mean velocity'\n",
    "savepath = '../result/MultiAgent/' + AGENT + '/' + (title + ' ' + PATH).replace(' ', '_') + '.png'\n",
    "title = title + ' \\n episode_mean {:3f}'.format(np.mean(vel_lists))\n",
    "ax.set_ylabel('system level mean velocity (m/s)')\n",
    "ax.set_xlabel('step')\n",
    "fig.suptitle(title)"
   ]
  },
  {
   "cell_type": "code",
   "execution_count": null,
   "metadata": {},
   "outputs": [],
   "source": [
    "fig.savefig(savepath)"
   ]
  },
  {
   "cell_type": "code",
   "execution_count": null,
   "metadata": {},
   "outputs": [],
   "source": [
    "fig, axes = plt.subplots(nrows=2, ncols=3, figsize=(10, 6))\n",
    "fig.tight_layout()\n",
    "\n",
    "for i in range(6):\n",
    "    # plt.subplot(2, 3, i+1)\n",
    "    x = np.arange(int(env.env_params.horizon))\n",
    "    y = np.arange(0, int(left_length), step=0.1)\n",
    "    xx, yy = np.meshgrid(x, y)\n",
    "    im = axes[i%2, i%3].pcolormesh(xx, yy, vel_map_lists[i].T)\n",
    "    if i % 3 == 0:\n",
    "        axes[i%2, i%3].set_ylabel('Position (m)')\n",
    "    if int(i / 3.0) > 0:\n",
    "        axes[int(i/3), int(i/3)].set_xlabel('step')\n",
    "        \n",
    "clb = fig.colorbar(im, ax=axes.ravel().tolist(), shrink=0.95)\n",
    "clb.set_clim(0, 30)\n",
    "clb.set_label('Velocity (m/s)')\n",
    "title = AGENT + ' Space-Time Diagram of 600 meter merge road'\n",
    "fig.suptitle(title)   \n",
    "plt.subplots_adjust(top=0.9, right=0.8)\n",
    "savepath = '../result/MultiAgent/' + AGENT + '/' + (title + ' ' + PATH).replace(' ', '_') + '.png'"
   ]
  },
  {
   "cell_type": "code",
   "execution_count": null,
   "metadata": {},
   "outputs": [],
   "source": [
    "fig.savefig(savepath)"
   ]
  },
  {
   "cell_type": "code",
   "execution_count": null,
   "metadata": {},
   "outputs": [],
   "source": []
  }
 ],
 "metadata": {
  "kernelspec": {
   "display_name": "Python 3",
   "language": "python",
   "name": "python3"
  },
  "language_info": {
   "codemirror_mode": {
    "name": "ipython",
    "version": 3
   },
   "file_extension": ".py",
   "mimetype": "text/x-python",
   "name": "python",
   "nbconvert_exporter": "python",
   "pygments_lexer": "ipython3",
   "version": "3.5.2"
  },
  "varInspector": {
   "cols": {
    "lenName": "50",
    "lenType": "50",
    "lenVar": "50"
   },
   "kernels_config": {
    "python": {
     "delete_cmd_postfix": "",
     "delete_cmd_prefix": "del ",
     "library": "var_list.py",
     "varRefreshCmd": "print(var_dic_list())"
    },
    "r": {
     "delete_cmd_postfix": ") ",
     "delete_cmd_prefix": "rm(",
     "library": "var_list.r",
     "varRefreshCmd": "cat(var_dic_list()) "
    }
   },
   "types_to_exclude": [
    "module",
    "function",
    "builtin_function_or_method",
    "instance",
    "_Feature"
   ],
   "window_display": false
  },
  "widgets": {
   "state": {},
   "version": "1.1.2"
  }
 },
 "nbformat": 4,
 "nbformat_minor": 2
}
