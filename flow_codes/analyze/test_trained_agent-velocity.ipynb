{
 "cells": [
  {
   "cell_type": "code",
   "execution_count": 1,
   "metadata": {},
   "outputs": [],
   "source": [
    "import os, sys, pickle\n",
    "import numpy as np\n",
    "sys.path.append(os.path.join(os.getcwd(), '..'))\n",
    "sys.path = list(set(sys.path))\n",
    "import matplotlib.pyplot as plt\n",
    "%matplotlib inline\n",
    "\n",
    "from common.evaluate import make_vis_env, test_env\n",
    "from results_path import DDPG_PATH, PPO_PATH\n",
    "\n",
    "from flow.multiagent_envs import MultiWaveAttenuationMergePOEnv\n",
    "from flow.scenarios import MergeScenario\n",
    "from flow.utils.registry import make_create_env\n",
    "from flow.utils.rllib import FlowParamsEncoder\n",
    "from ray.tune import run_experiments\n",
    "\n",
    "import gym, ray\n",
    "from ray.rllib.agents.ppo import PPOAgent, DEFAULT_CONFIG\n",
    "from ray.rllib.agents.ddpg import DDPGAgent, DEFAULT_CONFIG\n",
    "from ray.tune.registry import register_env\n",
    "from ray.tune.logger import pretty_print\n",
    "\n",
    "benchmark_name = 'multi_merge'\n",
    "AGENT = 'PPO'"
   ]
  },
  {
   "cell_type": "code",
   "execution_count": 2,
   "metadata": {},
   "outputs": [
    {
     "name": "stderr",
     "output_type": "stream",
     "text": [
      "Process STDOUT and STDERR is being redirected to /tmp/ray/session_2019-04-20_05-55-33_60839/logs.\n",
      "Waiting for redis server at 127.0.0.1:24428 to respond...\n",
      "Waiting for redis server at 127.0.0.1:46345 to respond...\n",
      "Warning: Capping object memory store to 20.0GB. To increase this further, specify `object_store_memory` when calling ray.init() or ray start.\n",
      "Starting the Plasma object store with 20.0 GB memory using /dev/shm.\n"
     ]
    },
    {
     "data": {
      "text/plain": [
       "{'node_ip_address': '10.138.0.2',\n",
       " 'object_store_addresses': ['/tmp/ray/session_2019-04-20_05-55-33_60839/sockets/plasma_store'],\n",
       " 'raylet_socket_names': ['/tmp/ray/session_2019-04-20_05-55-33_60839/sockets/raylet'],\n",
       " 'redis_address': '10.138.0.2:24428',\n",
       " 'webui_url': ''}"
      ]
     },
     "execution_count": 2,
     "metadata": {},
     "output_type": "execute_result"
    }
   ],
   "source": [
    "ray.init(num_cpus=1, include_webui=False, ignore_reinit_error=True)"
   ]
  },
  {
   "cell_type": "code",
   "execution_count": 3,
   "metadata": {},
   "outputs": [],
   "source": [
    "benchmark = __import__(\n",
    "    \"flow.benchmarks.%s\" % benchmark_name, fromlist=[\"flow_params\"])\n",
    "flow_params = benchmark.flow_params\n",
    "horizon = flow_params['env'].horizon\n",
    "\n",
    "def make_env(create_env):\n",
    "    def _thunk():\n",
    "        env = create_env()\n",
    "        return env\n",
    "    return _thunk\n",
    "\n",
    "create_env, env_name = make_create_env(params=flow_params, version=0)"
   ]
  },
  {
   "cell_type": "code",
   "execution_count": 4,
   "metadata": {},
   "outputs": [],
   "source": [
    "# Register as rllib env\n",
    "register_env(env_name, create_env)"
   ]
  },
  {
   "cell_type": "code",
   "execution_count": 5,
   "metadata": {},
   "outputs": [],
   "source": [
    "checkpoint = '500'"
   ]
  },
  {
   "cell_type": "code",
   "execution_count": 6,
   "metadata": {},
   "outputs": [],
   "source": [
    "config_path = '/headless/rl_project/ray_results/multi_merge/' + DDPG_PATH + '/params.pkl'\n",
    "checkpoint_path = '/headless/rl_project/ray_results/multi_merge/' + DDPG_PATH + '/checkpoint_{}/checkpoint-{}'.format(checkpoint, checkpoint)"
   ]
  },
  {
   "cell_type": "code",
   "execution_count": 7,
   "metadata": {},
   "outputs": [],
   "source": [
    "with open(config_path, mode='rb') as f:\n",
    "    config = pickle.load(f)"
   ]
  },
  {
   "cell_type": "code",
   "execution_count": 8,
   "metadata": {},
   "outputs": [
    {
     "name": "stderr",
     "output_type": "stream",
     "text": [
      "Created LogSyncer for /headless/ray_results/DDPG_MultiWaveAttenuationMergePOEnv-v0_2019-04-20_05-55-33yg3_vc8g -> None\n",
      " Starting SUMO on port 54123\n",
      "2019-04-20 05:55:34,963\tINFO policy_evaluator.py:262 -- Creating policy evaluation worker 0 on CPU (please ignore any CUDA init errors)\n"
     ]
    },
    {
     "name": "stdout",
     "output_type": "stream",
     "text": [
      "WARNING:tensorflow:VARIABLES collection name is deprecated, please use GLOBAL_VARIABLES instead; VARIABLES will be removed after 2017-03-02.\n"
     ]
    },
    {
     "name": "stderr",
     "output_type": "stream",
     "text": [
      "VARIABLES collection name is deprecated, please use GLOBAL_VARIABLES instead; VARIABLES will be removed after 2017-03-02.\n",
      " Starting SUMO on port 54123\n"
     ]
    }
   ],
   "source": [
    "agent = DDPGAgent(config=config, env=env_name)"
   ]
  },
  {
   "cell_type": "code",
   "execution_count": 9,
   "metadata": {},
   "outputs": [],
   "source": [
    "agent.restore(checkpoint_path)"
   ]
  },
  {
   "cell_type": "code",
   "execution_count": 10,
   "metadata": {},
   "outputs": [
    {
     "name": "stderr",
     "output_type": "stream",
     "text": [
      " Starting SUMO on port 45189\n"
     ]
    }
   ],
   "source": [
    "# env = make_vis_env(flow_params, MultiWaveAttenuationMergePOEnv, MergeScenario)\n",
    "env = create_env()"
   ]
  },
  {
   "cell_type": "code",
   "execution_count": 14,
   "metadata": {},
   "outputs": [
    {
     "name": "stderr",
     "output_type": "stream",
     "text": [
      " Starting SUMO on port 45189\n",
      " Starting SUMO on port 45189\n"
     ]
    },
    {
     "name": "stdout",
     "output_type": "stream",
     "text": [
      "19.35335730667154\n"
     ]
    },
    {
     "name": "stderr",
     "output_type": "stream",
     "text": [
      " Starting SUMO on port 45189\n"
     ]
    },
    {
     "name": "stdout",
     "output_type": "stream",
     "text": [
      "9.071429871615779\n"
     ]
    },
    {
     "name": "stderr",
     "output_type": "stream",
     "text": [
      " Starting SUMO on port 45189\n"
     ]
    },
    {
     "name": "stdout",
     "output_type": "stream",
     "text": [
      "9.937454704948813\n"
     ]
    },
    {
     "name": "stderr",
     "output_type": "stream",
     "text": [
      " Starting SUMO on port 45189\n"
     ]
    },
    {
     "name": "stdout",
     "output_type": "stream",
     "text": [
      "7.928135897993825\n",
      "8.813699918187877\n"
     ]
    }
   ],
   "source": [
    "for i in range(5):\n",
    "    vel = []\n",
    "    state = env.reset()\n",
    "    for _ in range(env.env_params.horizon):\n",
    "        v = np.mean(env.k.vehicle.get_speed(env.k.vehicle.get_ids()))\n",
    "        if v < 0:  # if there is car teleportation\n",
    "            v = vel[-1]\n",
    "        vel.append(v)\n",
    "        ids = env.k.vehicle.get_controlled_ids()\n",
    "        actions = {}\n",
    "        for id_ in ids:\n",
    "            action = agent.compute_action(state[id_])\n",
    "            actions.update({id_: action})\n",
    "        state, r, _, _ = env.step(actions)\n",
    "    print(np.mean(vel))\n",
    "    if i == 0:\n",
    "        vels = np.array(vel)\n",
    "    else:\n",
    "        vels = np.vstack((vels, np.array(vel)))"
   ]
  },
  {
   "cell_type": "code",
   "execution_count": 15,
   "metadata": {},
   "outputs": [
    {
     "data": {
      "image/png": "[encoded data removed]",
      "text/plain": [
       "<Figure size 432x288 with 1 Axes>"
      ]
     },
     "metadata": {},
     "output_type": "display_data"
    }
   ],
   "source": [
    "title = 'DDPG multi-agent mean velocity'\n",
    "savepath = '../result/MultiAgent/' + title.replace(' ', '_') + '.png'\n",
    "\n",
    "fig = plt.figure()\n",
    "fig.clf()\n",
    "plt.title(title)\n",
    "plt.ylabel('system level mean velocity')\n",
    "plt.xlabel('step')\n",
    "for vel in vels:\n",
    "    plt.plot(vel)"
   ]
  },
  {
   "cell_type": "code",
   "execution_count": 13,
   "metadata": {},
   "outputs": [
    {
     "data": {
      "text/plain": [
       "<Figure size 432x288 with 0 Axes>"
      ]
     },
     "metadata": {},
     "output_type": "display_data"
    }
   ],
   "source": [
    "plt.savefig(savepath)"
   ]
  }
 ],
 "metadata": {
  "kernelspec": {
   "display_name": "Python 3",
   "language": "python",
   "name": "python3"
  },
  "language_info": {
   "codemirror_mode": {
    "name": "ipython",
    "version": 3
   },
   "file_extension": ".py",
   "mimetype": "text/x-python",
   "name": "python",
   "nbconvert_exporter": "python",
   "pygments_lexer": "ipython3",
   "version": "3.5.2"
  },
  "varInspector": {
   "cols": {
    "lenName": "50",
    "lenType": "50",
    "lenVar": "50"
   },
   "kernels_config": {
    "python": {
     "delete_cmd_postfix": "",
     "delete_cmd_prefix": "del ",
     "library": "var_list.py",
     "varRefreshCmd": "print(var_dic_list())"
    },
    "r": {
     "delete_cmd_postfix": ") ",
     "delete_cmd_prefix": "rm(",
     "library": "var_list.r",
     "varRefreshCmd": "cat(var_dic_list()) "
    }
   },
   "types_to_exclude": [
    "module",
    "function",
    "builtin_function_or_method",
    "instance",
    "_Feature"
   ],
   "window_display": false
  },
  "widgets": {
   "state": {},
   "version": "1.1.2"
  }
 },
 "nbformat": 4,
 "nbformat_minor": 2
}
