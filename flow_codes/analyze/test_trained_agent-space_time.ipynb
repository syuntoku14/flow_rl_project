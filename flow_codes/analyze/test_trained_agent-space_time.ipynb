{
 "cells": [
  {
   "cell_type": "code",
   "execution_count": 10,
   "metadata": {},
   "outputs": [
    {
     "name": "stderr",
     "output_type": "stream",
     "text": [
      "Calling ray.init() again after it has already been called.\n"
     ]
    }
   ],
   "source": [
    "import os, sys, pickle\n",
    "import numpy as np\n",
    "from tqdm import tqdm_notebook as tqdm\n",
    "sys.path.append(os.path.join(os.getcwd(), '..'))\n",
    "sys.path = list(set(sys.path))\n",
    "import matplotlib.pyplot as plt\n",
    "%matplotlib inline\n",
    "\n",
    "from results_path import DDPG_PATH, PPO_PATH\n",
    "\n",
    "from common.evaluate import make_vis_env, test_env\n",
    "\n",
    "from flow.envs import WaveAttenuationMergePOEnv\n",
    "from flow.multiagent_envs import MultiWaveAttenuationMergePOEnv\n",
    "from flow.scenarios import MergeScenario\n",
    "from flow.utils.registry import make_create_env\n",
    "from flow.utils.rllib import FlowParamsEncoder\n",
    "from flow.core.params import InFlows\n",
    "from ray.tune import run_experiments\n",
    "\n",
    "import gym, ray\n",
    "from ray.rllib.agents.ppo import PPOAgent, DEFAULT_CONFIG\n",
    "from ray.rllib.agents.ddpg import DDPGAgent, DEFAULT_CONFIG\n",
    "from ray.tune.registry import register_env\n",
    "from ray.tune.logger import pretty_print\n",
    "\n",
    "benchmark_name = 'multi_merge'\n",
    "exp_name = 'v2v_benchmark'\n",
    "results_list = os.listdir('/headless/ray_results/' + exp_name)\n",
    "AGENT = 'PPO' # 'PPO' or 'DDPG' or 'HUMAN'\n",
    "checkpoint = '100'\n",
    "\n",
    "benchmark = __import__(\n",
    "    \"flow.benchmarks.%s\" % benchmark_name, fromlist=[\"flow_params\"])\n",
    "flow_params = benchmark.flow_params\n",
    "\n",
    "ray.init(num_cpus=1, include_webui=False, ignore_reinit_error=True)"
   ]
  },
  {
   "cell_type": "code",
   "execution_count": 11,
   "metadata": {},
   "outputs": [],
   "source": [
    "horizon = flow_params['env'].horizon\n",
    "create_env, env_name = make_create_env(params=flow_params, version=0)\n",
    "\n",
    "# Register as rllib env\n",
    "register_env(env_name, create_env)"
   ]
  },
  {
   "cell_type": "code",
   "execution_count": 12,
   "metadata": {},
   "outputs": [],
   "source": [
    "PPO_PATH = 'PPO_MultiWaveAttenuationMergePOEnv-v0outflow_[eta1, eta2, eta3]:[1.0, 0.05, 0.0]_t_min:5.0_buf_len: 1_2_2019-05-20_15-42-06dxmhb7gp'"
   ]
  },
  {
   "cell_type": "code",
   "execution_count": 13,
   "metadata": {},
   "outputs": [],
   "source": [
    "PATH = ''\n",
    "if AGENT == 'PPO':\n",
    "    PATH = exp_name + '/' + PPO_PATH\n",
    "    \n",
    "if AGENT == 'DDPG':\n",
    "    PATH = exp_name + '/' + DDPG_PATH"
   ]
  },
  {
   "cell_type": "code",
   "execution_count": 14,
   "metadata": {},
   "outputs": [
    {
     "name": "stderr",
     "output_type": "stream",
     "text": [
      "Created LogSyncer for /headless/ray_results/PPO_MultiWaveAttenuationMergePOEnv-v0_2019-05-20_16-33-092ybbj9rl -> None\n",
      "2019-05-20 16:33:09,285\tWARNING ppo.py:137 -- By default, observations will be normalized with MeanStdFilter\n",
      " Starting SUMO on port 47755\n",
      "2019-05-20 16:33:10,412\tINFO policy_evaluator.py:262 -- Creating policy evaluation worker 0 on CPU (please ignore any CUDA init errors)\n",
      "/opt/conda/envs/flow/lib/python3.5/site-packages/tensorflow/python/ops/gradients_impl.py:108: UserWarning: Converting sparse IndexedSlices to a dense Tensor of unknown shape. This may consume a large amount of memory.\n",
      "  \"Converting sparse IndexedSlices to a dense Tensor of unknown shape. \"\n",
      " Starting SUMO on port 47755\n",
      "2019-05-20 16:33:14,733\tINFO multi_gpu_optimizer.py:74 -- LocalMultiGPUOptimizer devices ['/cpu:0']\n",
      "/opt/conda/envs/flow/lib/python3.5/site-packages/tensorflow/python/ops/gradients_impl.py:108: UserWarning: Converting sparse IndexedSlices to a dense Tensor of unknown shape. This may consume a large amount of memory.\n",
      "  \"Converting sparse IndexedSlices to a dense Tensor of unknown shape. \"\n"
     ]
    }
   ],
   "source": [
    "if not AGENT == 'HUMAN':\n",
    "    config_path = '/headless/rl_project/ray_results/' + PATH + '/params.pkl'\n",
    "    checkpoint_path = '/headless/rl_project/ray_results/' + PATH + '/checkpoint_{}/checkpoint-{}'.format(checkpoint, checkpoint)\n",
    "\n",
    "    with open(config_path, mode='rb') as f:\n",
    "        config = pickle.load(f)\n",
    "\n",
    "    if AGENT == 'PPO':\n",
    "        agent = PPOAgent(config=config, env=env_name)\n",
    "    elif AGENT == 'DDPG':\n",
    "        agent = DDPGAgent(config=config, env=env_name)\n",
    "    agent.restore(checkpoint_path)"
   ]
  },
  {
   "cell_type": "code",
   "execution_count": 35,
   "metadata": {},
   "outputs": [
    {
     "name": "stderr",
     "output_type": "stream",
     "text": [
      " Starting SUMO on port 46879\n"
     ]
    }
   ],
   "source": [
    "render = False\n",
    "env = None\n",
    "if render:\n",
    "    env = make_vis_env(flow_params, MultiWaveAttenuationMergePOEnv, MergeScenario)\n",
    "else: \n",
    "    env = create_env()"
   ]
  },
  {
   "cell_type": "code",
   "execution_count": 49,
   "metadata": {},
   "outputs": [],
   "source": [
    "AGENT = 'PPO'"
   ]
  },
  {
   "cell_type": "code",
   "execution_count": 53,
   "metadata": {
    "scrolled": true
   },
   "outputs": [
    {
     "name": "stderr",
     "output_type": "stream",
     "text": [
      " Starting SUMO on port 46879\n",
      " Starting SUMO on port 46879\n",
      " Starting SUMO on port 46879\n",
      " Starting SUMO on port 46879\n",
      " Starting SUMO on port 46879\n",
      " Starting SUMO on port 46879\n"
     ]
    }
   ],
   "source": [
    "# calculate the space-time velocity map\n",
    "left_length = env.k.scenario.edge_length('left')\n",
    "car_length = 5.0\n",
    "scale = 10\n",
    "vel_lists = []\n",
    "vel_map_lists = []\n",
    "outflow_lists = []\n",
    "\n",
    "num_iter = 1 if render else 6\n",
    "for _ in tqdm(range(num_iter)):\n",
    "    state = env.reset(False)\n",
    "    vel = []\n",
    "    outflow = []\n",
    "    for i in tqdm(range(1500)):\n",
    "        # record the mean velocity\n",
    "        v = np.mean(env.k.vehicle.get_speed(env.k.vehicle.get_ids()))\n",
    "        vel.append(v)\n",
    "\n",
    "        # record the velocity map\n",
    "        ids = env.k.vehicle.get_ids_by_edge('left')\n",
    "        vel_map_ = np.zeros(int(left_length)*scale)\n",
    "        for id_ in ids:\n",
    "            pos_ = np.round(env.k.vehicle.get_position(id_), decimals=1)\n",
    "            vel_ = max(env.k.vehicle.get_speed(id_), 0)\n",
    "            pos_bottom = max(0, int((pos_-car_length/2.0)*scale))\n",
    "            pos_top = min(int(left_length)*scale, int((pos_+car_length/2.0)*scale))\n",
    "            vel_map_[pos_bottom:pos_top] = vel_            \n",
    "\n",
    "        # step the simulation\n",
    "        rl_ids = env.k.vehicle.get_rl_ids()\n",
    "        actions = {}\n",
    "        if AGENT != 'HUMAN':\n",
    "            for id_ in rl_ids:\n",
    "                current_edge = env.k.vehicle.get_edge(id_)\n",
    "                # if 'inflow' in current_edge:\n",
    "                #     continue\n",
    "                \n",
    "                action = agent.compute_action(state[id_])\n",
    "                actions.update({id_: action})\n",
    "        # actions = agent.compute_action(state)\n",
    "        state, r, _, _ = env.step(actions)\n",
    "        outflow.append(env.k.vehicle.get_outflow_rate(600)) # measured by one min\n",
    "\n",
    "        if i == 0:\n",
    "            vel_map_list = vel_map_\n",
    "        else:\n",
    "            vel_map_list = np.vstack((vel_map_list, vel_map_))\n",
    "\n",
    "    outflow_lists.append(outflow[-500:])\n",
    "    vel_lists.append(vel)\n",
    "    vel_map_list[vel_map_list==0.0] = np.nan\n",
    "    vel_map_lists.append(vel_map_list)"
   ]
  },
  {
   "cell_type": "code",
   "execution_count": 55,
   "metadata": {},
   "outputs": [
    {
     "data": {
      "image/png": "[encoded data removed]",
      "text/plain": [
       "<Figure size 432x288 with 1 Axes>"
      ]
     },
     "metadata": {},
     "output_type": "display_data"
    }
   ],
   "source": [
    "vel_fig, ax = plt.subplots(nrows=1, ncols=1)\n",
    "for i in range(num_iter):\n",
    "    ax.plot(vel_lists[i])\n",
    "title = AGENT + ' multi-agent mean velocity'\n",
    "title = title + ' \\n mean velocity {:3f}'.format(np.mean(vel_lists))\n",
    "title = title + ' \\n mean outflow rate {:3f}'.format(np.mean(outflow_lists))\n",
    "ax.set_ylabel('system level mean velocity (m/s)')\n",
    "ax.set_xlabel('step')\n",
    "vel_fig.suptitle(title)\n",
    "plt.subplots_adjust(top=0.8)"
   ]
  },
  {
   "cell_type": "code",
   "execution_count": 56,
   "metadata": {},
   "outputs": [
    {
     "data": {
      "image/png": "[encoded data removed]",
      "text/plain": [
       "<Figure size 720x432 with 7 Axes>"
      ]
     },
     "metadata": {},
     "output_type": "display_data"
    }
   ],
   "source": [
    "nrows = 1 if render else 2\n",
    "ncols = 1 if render else 3\n",
    "space_fig, axes = plt.subplots(nrows=nrows, ncols=ncols, figsize=(10, 6))\n",
    "space_fig.tight_layout()\n",
    "\n",
    "for i in range(num_iter):\n",
    "    # plt.subplot(2, 3, i+1)\n",
    "    x = np.arange(int(1500))\n",
    "    y = np.arange(0, int(left_length), step=0.1)\n",
    "    xx, yy = np.meshgrid(x, y)\n",
    "    try:\n",
    "        im = axes[i%2, i%3].pcolormesh(xx, yy, vel_map_lists[i].T)\n",
    "        if i % 3 == 0:\n",
    "            axes[i%2, i%3].set_ylabel('Position (m)')\n",
    "        if int(i / 3.0) > 0:\n",
    "            axes[int(i/3), int(i/3)].set_xlabel('step')\n",
    "    except:\n",
    "        im = axes.pcolormesh(xx, yy, vel_map_lists[i].T)\n",
    "        if i % 3 == 0:\n",
    "            axes.set_ylabel('Position (m)')\n",
    "        if int(i / 3.0) > 0:\n",
    "            axes.set_xlabel('step')\n",
    "        \n",
    "try:\n",
    "    clb = space_fig.colorbar(im, ax=axes.ravel().tolist(), shrink=0.95)\n",
    "except:\n",
    "    clb = space_fig.colorbar(im, ax=axes, shrink=0.95)\n",
    "    \n",
    "clb.set_clim(0, 30)\n",
    "clb.set_label('Velocity (m/s)')\n",
    "title = AGENT + ' Space-Time Diagram of 300 meter merge road'\n",
    "space_fig.suptitle(title)   \n",
    "plt.subplots_adjust(top=0.9, right=0.8)"
   ]
  },
  {
   "cell_type": "code",
   "execution_count": 19,
   "metadata": {},
   "outputs": [],
   "source": [
    "if not render:\n",
    "    if AGENT == 'HUMAN':\n",
    "        filename = 'HUMAN.png'\n",
    "        vel_dir = '../result/MultiMerge/' + AGENT + '/mean_velocity/'\n",
    "        space_dir = '../result/MultiMerge/' + AGENT + '/space_time_diagram/'\n",
    "    else:\n",
    "        filename = PATH[PATH.find('/') + 1:].replace(' ', '_') + '.png'\n",
    "        vel_dir = '../result/MultiMerge/' + AGENT + '/' + exp_name + '/mean_velocity/'\n",
    "        space_dir = '../result/MultiMerge/' + AGENT + '/' + exp_name + '/space_time_diagram/'\n",
    "    os.makedirs(vel_dir, exist_ok=True)\n",
    "    os.makedirs(space_dir, exist_ok=True)\n",
    "\n",
    "    vel_fig.savefig(vel_dir + filename)\n",
    "    space_fig.savefig(space_dir + filename)"
   ]
  },
  {
   "cell_type": "code",
   "execution_count": null,
   "metadata": {},
   "outputs": [],
   "source": []
  }
 ],
 "metadata": {
  "kernelspec": {
   "display_name": "Python 3",
   "language": "python",
   "name": "python3"
  },
  "language_info": {
   "codemirror_mode": {
    "name": "ipython",
    "version": 3
   },
   "file_extension": ".py",
   "mimetype": "text/x-python",
   "name": "python",
   "nbconvert_exporter": "python",
   "pygments_lexer": "ipython3",
   "version": "3.5.2"
  },
  "varInspector": {
   "cols": {
    "lenName": "50",
    "lenType": "50",
    "lenVar": "50"
   },
   "kernels_config": {
    "python": {
     "delete_cmd_postfix": "",
     "delete_cmd_prefix": "del ",
     "library": "var_list.py",
     "varRefreshCmd": "print(var_dic_list())"
    },
    "r": {
     "delete_cmd_postfix": ") ",
     "delete_cmd_prefix": "rm(",
     "library": "var_list.r",
     "varRefreshCmd": "cat(var_dic_list()) "
    }
   },
   "types_to_exclude": [
    "module",
    "function",
    "builtin_function_or_method",
    "instance",
    "_Feature"
   ],
   "window_display": false
  },
  "widgets": {
   "state": {
    "00d683264b4c45f3ae051800f4a5a436": {
     "views": []
    },
    "01b6a22ee7b543239d73f46a488f7c4c": {
     "views": []
    },
    "0213f57e07d14282af9e7dbc8121ad9a": {
     "views": []
    },
    "0343a4ec51c949afb219a8682df5596e": {
     "views": []
    },
    "04a5921b796a4d44839820e197d1fca9": {
     "views": []
    },
    "063a430bd1bf4e818d6b8a449b043389": {
     "views": []
    },
    "06cb0320439d43989cd14fcfbbce6b09": {
     "views": []
    },
    "071a466c228e4c6b8b96ca6bcd0a1659": {
     "views": []
    },
    "086caf7ce9a64b8fb8628fe4d1189a2b": {
     "views": []
    },
    "08f97f6baf604f31b98188493a5de41c": {
     "views": [
      {
       "cell_index": 7
      }
     ]
    },
    "09048dd9ed234a158a10edd9f2b19784": {
     "views": []
    },
    "092af648f84e4e55a68c171cadbdff32": {
     "views": []
    },
    "093c9fb8b5b847699d1fb20b2374bdb9": {
     "views": []
    },
    "096c69fa4c0744de871a7cefe3785cea": {
     "views": []
    },
    "0b0d9b1b2948487bbc3ba9dccc6ec463": {
     "views": []
    },
    "0bdd5dd0a6634f9e88dd3fe9114adf14": {
     "views": []
    },
    "0c43eedbd9494ccf9be2b980aec9dd04": {
     "views": []
    },
    "0c99a50ab51c446bbeeaec99f77349d5": {
     "views": []
    },
    "0fe331dc784741e99ee401d269149d31": {
     "views": []
    },
    "109a564071fd485d9f0203e0a5eaaed5": {
     "views": []
    },
    "11946968c823494a95664df7cb1ce728": {
     "views": []
    },
    "122d5b9e17394472919c65d0d9812bec": {
     "views": []
    },
    "12bf96d118d94b678461602e4e1d12ed": {
     "views": []
    },
    "12ca7de44f64459f880920dfdf2dd8db": {
     "views": [
      {
       "cell_index": 7
      }
     ]
    },
    "12e01131ac9c425ea950fb0442032556": {
     "views": []
    },
    "1354a51567bd4bdab1d2eb33a7df30f9": {
     "views": []
    },
    "13af3c45b19a44f6bcb82ee809137e24": {
     "views": []
    },
    "13c7a476307b4c9d9fd8b6bba0a5c7f4": {
     "views": []
    },
    "13e50ae4477741a696e4ad536a3942b2": {
     "views": []
    },
    "142a8b4b04994fbca6965ca3702bfa29": {
     "views": []
    },
    "145620b417334985a2fcae8bf1b52489": {
     "views": []
    },
    "149d8c36ae404d76824108740f11f761": {
     "views": []
    },
    "14b40570cd064d0eb0edb8ef4a11ce06": {
     "views": []
    },
    "150346e320e847ee985f73c0199a04d1": {
     "views": []
    },
    "1520ff9188a344f18f917ba13185bd2a": {
     "views": []
    },
    "161b9a8761654604b5d8279835c3e895": {
     "views": []
    },
    "181fd231fd504e66aeafde11cde81f1a": {
     "views": []
    },
    "19a5cd6ad2a44d469e0ce19aa631f0a3": {
     "views": []
    },
    "1a43b2c0e8b84270bb8987303db90487": {
     "views": []
    },
    "1a8cae0414134010b3039a9405578e0c": {
     "views": []
    },
    "1aad34f682a943cc8ecee075dde50003": {
     "views": []
    },
    "1af74e3bdd164dec92507ba39921c7ad": {
     "views": []
    },
    "1b30f97857cd4f0d97edce31aebcc278": {
     "views": []
    },
    "1b94d3182c824bb8a6b9ec35d2c5fbac": {
     "views": []
    },
    "1d9f1a8c64b641198512b3fed5276c1c": {
     "views": []
    },
    "1df352f7cd8e44b2aa1352d45a1969d4": {
     "views": []
    },
    "1fdc1b27e65149b1a876130da32f80ef": {
     "views": [
      {
       "cell_index": 7
      }
     ]
    },
    "1ff6796a73144f728d0d50f37d4b6785": {
     "views": []
    },
    "20404a9b5b1b4bfca7628f3234f89296": {
     "views": []
    },
    "2052c0d1e2b3417b88a0625c521a46a2": {
     "views": []
    },
    "214194405e1049188562e058ec48fce0": {
     "views": []
    },
    "21965ed4bee14f129c6b9aff8e669173": {
     "views": []
    },
    "21b97e781be943ccb9fd254fd2df6bd5": {
     "views": []
    },
    "2274b65d82da4259bf7cc6413eb9eb56": {
     "views": [
      {
       "cell_index": 7
      }
     ]
    },
    "227517a7e1604f0db34cd63b474e6a95": {
     "views": []
    },
    "25005f4f71f2491db7dfa38f5b4cc539": {
     "views": []
    },
    "2537294040a54bbf8627d369eb4af81a": {
     "views": []
    },
    "25477eba0d8147859698f8c67c21a8e6": {
     "views": [
      {
       "cell_index": 7
      }
     ]
    },
    "25818a84191045c4af6e8f749fcf3b1b": {
     "views": []
    },
    "28170912655043f5998a4b9f0ec5c442": {
     "views": []
    },
    "2880127675e8417993db92a08aac50ce": {
     "views": []
    },
    "28a7fe2413b3465ebaaf356cbe8b6e31": {
     "views": []
    },
    "2908d0f1d6044286bd7acdb0ab96cb56": {
     "views": []
    },
    "2950fa8f0e5b42028ba75b560779de33": {
     "views": []
    },
    "295a12119b1a42afa89b1acbe8e9014c": {
     "views": []
    },
    "295bfce5443b4ea188210b7e7d8d985e": {
     "views": []
    },
    "2a1fd16f351f44c58485f1b004d78aa4": {
     "views": [
      {
       "cell_index": 7
      }
     ]
    },
    "2a3545be207645bd9671b67615375fe2": {
     "views": []
    },
    "2b56386fdfd349e9ae2c186d2fdb1a0f": {
     "views": []
    },
    "2c05f9faeb164bd893f4cdb271e4086d": {
     "views": []
    },
    "2c12249a0f5442ef8a5f6c27e9f734ef": {
     "views": []
    },
    "2cddf9dae88e429081f990bf392586b3": {
     "views": []
    },
    "2db0aa4d0527498385b467432a05f632": {
     "views": []
    },
    "2ddcf5fae43d4340abff3e595ea29b4a": {
     "views": []
    },
    "2e2678afb0ed41e9a9f1af1c22b90c3d": {
     "views": []
    },
    "2f7529c8b3314cba8517ecb732367b79": {
     "views": []
    },
    "2fbca530f16340d3af107ca555b9e9fa": {
     "views": []
    },
    "311b31f2654e4d8ebc4fcba94c69c600": {
     "views": []
    },
    "315b7d78807b4ffe836ef4140c6575fb": {
     "views": []
    },
    "317af62bf34e4b1cad2dee83264a36f7": {
     "views": []
    },
    "31ad94d7c0d644838bc2299e547476a3": {
     "views": []
    },
    "323075c4d4fe4d4a96d0ce3c39841a0a": {
     "views": []
    },
    "329c673d6c8e41b2abd9fd660886fe4f": {
     "views": []
    },
    "33c56d4ab3a04f659b549de976f53ec9": {
     "views": []
    },
    "33d51af2fc0240d2957f6cfbea43877b": {
     "views": []
    },
    "354a35fb921748908e38b9fcc15ca4df": {
     "views": []
    },
    "35666b9a6ea447d1b7e833d69c1bd028": {
     "views": []
    },
    "357ea8148f924203b584fd2229fea44c": {
     "views": []
    },
    "35d91739826e4cc6a5a0e5fb4a84a4ea": {
     "views": [
      {
       "cell_index": 7
      }
     ]
    },
    "36a490dbbef148698f531ae6b90545a9": {
     "views": []
    },
    "36b93adc2f0945349490654ee97e05e7": {
     "views": []
    },
    "37ea47900545419ba609a499300861b6": {
     "views": []
    },
    "393e536f7bf54e7f80dea40ba5dca8f7": {
     "views": []
    },
    "3aea20c6e25448a4b33517cbbfa5aeb4": {
     "views": [
      {
       "cell_index": 7
      }
     ]
    },
    "3c24bf8977aa4ea8a10a58989179f9c4": {
     "views": []
    },
    "3dbb45844a13447899e54187e35139f9": {
     "views": []
    },
    "3dfd43389e6744eb88a651d7c80af8e3": {
     "views": []
    },
    "3fc2f071f4a1418e995e3f2da33cab1e": {
     "views": []
    },
    "42268f41f5624a798497c24106d9352e": {
     "views": []
    },
    "425b159229e241a8bea2fb23008b33e9": {
     "views": []
    },
    "42beadbfe3fe4cbba0717687c248558a": {
     "views": []
    },
    "4302afa0bbfd48d196082f7b01b842dc": {
     "views": []
    },
    "4309c0e671434827941404f0a7ccc803": {
     "views": []
    },
    "4424e4b31475430fac1f76e865c13c9a": {
     "views": []
    },
    "448feebc70f44d78a11f9e1e68f0030e": {
     "views": []
    },
    "450e0a9cec9545a18ddda84dce7ceafe": {
     "views": []
    },
    "45ca7f99d9e947a18673eddad7cda005": {
     "views": []
    },
    "45fc8508962441a88c04d208bd7f5f49": {
     "views": []
    },
    "461a0a8470e8483486105c2dce7408ed": {
     "views": [
      {
       "cell_index": 7
      }
     ]
    },
    "467a224948f348e3a7e9d14108a63e61": {
     "views": []
    },
    "46b1f2fe6b354815ae839ef96644d898": {
     "views": []
    },
    "4887b163806e4805a8051cdea0f00cc4": {
     "views": []
    },
    "490e4903418a474eb5ba352c4e42b15b": {
     "views": []
    },
    "491e2966222e459090f7fe9bbdba36e8": {
     "views": [
      {
       "cell_index": 7
      }
     ]
    },
    "495392cfd1f5453ea3197380c48f16ea": {
     "views": []
    },
    "4987e6cf35424e2d849255216b3e3088": {
     "views": []
    },
    "4a40ee3ae43b465e829b0c3066f85361": {
     "views": []
    },
    "4b4015b37534447fa378646d5eca4879": {
     "views": []
    },
    "4c171aa1f05d4fe3bb13db0ca3122074": {
     "views": []
    },
    "4d51533b80cd4913902cf0c26cf83ffc": {
     "views": []
    },
    "4de0c17247054dceb04359b603a73159": {
     "views": [
      {
       "cell_index": 7
      }
     ]
    },
    "4de72d4e319e4c0d927dc043a98ab83c": {
     "views": []
    },
    "4e0250fbf3134bb3bc5aee966717f143": {
     "views": []
    },
    "4e3259edf1b044639caea7d418fadc4a": {
     "views": []
    },
    "4e40f4b072394dacafc9fe0b245a7808": {
     "views": []
    },
    "4f5106b4daf9415897c1212d66305b75": {
     "views": []
    },
    "4faa048f70894aac8eba34662d7a2dc4": {
     "views": []
    },
    "4fc97c54f4764e74a583c2f4d3fba816": {
     "views": []
    },
    "504fd6a89f3a47e1a7801d994a83b8cd": {
     "views": []
    },
    "50ee8f55fc2449808389462cfd619e08": {
     "views": []
    },
    "5287c87cb659458a99d2e30838fafc45": {
     "views": []
    },
    "528da3d4fa79430594d109b9b1d0bbfb": {
     "views": []
    },
    "52b3c13ecdef41cd85b5587b1e9e056c": {
     "views": []
    },
    "52e640214d2f482f9e4900f9263932ff": {
     "views": []
    },
    "5343b2850d174c319b967bc013410880": {
     "views": []
    },
    "54123437e13449959614ae52d624cd9d": {
     "views": [
      {
       "cell_index": 7
      }
     ]
    },
    "54628f8e1d2c45e1b547fb1144657d4a": {
     "views": []
    },
    "54e5c4c24e0141d2a8651b211500fa91": {
     "views": []
    },
    "55a8eff5ec6b49cc846911e2370fc092": {
     "views": []
    },
    "563efccfd17c4edf97ffe6314c5bb5b6": {
     "views": []
    },
    "5644f766d79043a29fb0b174a862a29f": {
     "views": []
    },
    "56d31a59289c4b489ce6479cf0112531": {
     "views": []
    },
    "5726cce520f54620ae8e58aebc027836": {
     "views": []
    },
    "576479ccedf24b2f8a8af9949c4fa554": {
     "views": []
    },
    "58284afef4e2494ab9ddeb711dab1cfc": {
     "views": []
    },
    "59d356356ed847229c054f39778a37ac": {
     "views": []
    },
    "5a19ceaf19eb4758b08cedf8c95f175e": {
     "views": []
    },
    "5ba5b77ccc8b46859f56b19a4f122d32": {
     "views": []
    },
    "5c3ebc09fa724ba3b101880c30dfcf1e": {
     "views": []
    },
    "5c76faa5b15947349fdae12631d0e28a": {
     "views": []
    },
    "5e4ab5ae6d8f49d38a1b071435d1fc94": {
     "views": []
    },
    "5eba7c7d800b45cea8614e13120c28a6": {
     "views": [
      {
       "cell_index": 7
      }
     ]
    },
    "5ff86c1d83374fc391893064518b6a7c": {
     "views": []
    },
    "6084886ac36a482984a0ac66dcf26e06": {
     "views": []
    },
    "60aba06f6ba243d4ab67d1a0c5eca22d": {
     "views": []
    },
    "60b24781e5494bfe9fabff4c390a13fc": {
     "views": [
      {
       "cell_index": 7
      }
     ]
    },
    "61b67627647c4d498bd0d57d92511dca": {
     "views": []
    },
    "61bd89fa0d144296922bda8ad3c04c1c": {
     "views": []
    },
    "62c4722b37ca44f2919b6c5afec6a744": {
     "views": []
    },
    "62f9e4ddb5854f9f91d4f91792493798": {
     "views": [
      {
       "cell_index": 7
      }
     ]
    },
    "63dc8208a8b74f5fbbc01cb2c6a6f067": {
     "views": []
    },
    "6541a46bc33444d48facf810ab653cef": {
     "views": []
    },
    "65fe0375d7dd40078fe32d371813a1d2": {
     "views": []
    },
    "67278d42a33b4c4da8500820758156c6": {
     "views": [
      {
       "cell_index": 7
      }
     ]
    },
    "67922623f3d84385a8bb86500df1d142": {
     "views": []
    },
    "67f49a980a144840bdfb1e174e0c64c2": {
     "views": []
    },
    "6813cbd276ab45548f9fee6a6fc097b2": {
     "views": []
    },
    "6912b312ea1b44bc975de214ec594124": {
     "views": []
    },
    "699653a0a9664d4c82e57b244065e921": {
     "views": []
    },
    "69a1a7c4d37b43289f148c5f4aa13bbb": {
     "views": []
    },
    "6a61da7270a2473ea5421901ee7b8fc9": {
     "views": []
    },
    "6c1676900d3a407d9093edb173cbd59b": {
     "views": []
    },
    "6ce2e1c784c546689e6e049269fa483a": {
     "views": []
    },
    "6df077e2a8084eda9774481f09cbcc32": {
     "views": []
    },
    "6df6888ef54a488f8f5f02e856bb60d8": {
     "views": []
    },
    "6e25ee1f458a450c9af21c63555d8702": {
     "views": []
    },
    "6fc42a5ab7db4803bd50f985612eebed": {
     "views": []
    },
    "6fcc90b9d5ed499da4e46bd9cfa11655": {
     "views": []
    },
    "70d7ba9a327d40b0bc7484643260e725": {
     "views": []
    },
    "70fdd93b3c6e479484a645b6dc286ad0": {
     "views": []
    },
    "719479ff46034c19b5ddd07afe8656e9": {
     "views": []
    },
    "71f47fbadd6f4feab2ce911416ca4249": {
     "views": []
    },
    "72b16414eb2b4e108f1049901a5d86fa": {
     "views": []
    },
    "732d3c9eeb92479bba98ff37aea9a1e3": {
     "views": []
    },
    "73c24506a2584f51803406f0a5c25596": {
     "views": []
    },
    "74dde8cf8852466e82567b638460c674": {
     "views": [
      {
       "cell_index": 7
      }
     ]
    },
    "756c961f8a9d41ea90aaa85b93c14ae0": {
     "views": []
    },
    "7620909eac9b410aa366084aad356f13": {
     "views": []
    },
    "76e86fd20867444b8e902cc6f3541a7d": {
     "views": []
    },
    "7773e0f71291480996e28ba2fd222edc": {
     "views": []
    },
    "7871727f46e34e17bf3e005b87e85ebb": {
     "views": []
    },
    "7a1945031ec4469caec10f6204fc79a0": {
     "views": []
    },
    "7a889a6baf4e473ab16359ab2fb8c3b1": {
     "views": []
    },
    "7ab757449cda4d7c803d85ede6e23c03": {
     "views": []
    },
    "7b86df74230e46e8b9e20d628beb5d07": {
     "views": []
    },
    "7c4050ab7bb045d48a6d3ce58f4444f7": {
     "views": []
    },
    "7d375ad61dcf4027869b719149025ed5": {
     "views": []
    },
    "7db010a2b75f42ceb3cb1825b90fe20b": {
     "views": []
    },
    "7dbd0b31ad534a80a9b0058930cf2f5f": {
     "views": []
    },
    "7e52183075b94187ae29a55c72dcd954": {
     "views": []
    },
    "7e7872ab40f243e79a9d71a160b875b6": {
     "views": []
    },
    "7e8c54c32e164741a7d9dc8f1ddde73e": {
     "views": []
    },
    "7f09ee8fd3b8478f95a831aee1b1a253": {
     "views": []
    },
    "7f9409c0e2dd4f9ab26c3dbbbed416b2": {
     "views": []
    },
    "801c52936b5e42cf814fac1e4ae117aa": {
     "views": []
    },
    "804f0aa73f63427b981267d63da8e438": {
     "views": []
    },
    "814fb9c4c8264acb86ab4a885e8afacb": {
     "views": []
    },
    "81f1fd0bb0974031b3d9d546578151dc": {
     "views": []
    },
    "8234247778174c628fa7250c248272bc": {
     "views": []
    },
    "823e4d065edc45ddafa01636d7b1dca2": {
     "views": []
    },
    "82b3fa21e1ef4662ba5a6a48962aa56c": {
     "views": [
      {
       "cell_index": 7
      }
     ]
    },
    "84058ee2416a4aac9dfefdd8f682fbae": {
     "views": []
    },
    "84210311c68741ce9ba28d4ad4ef810a": {
     "views": []
    },
    "855457b210a74a1e8ea6270df675c92f": {
     "views": []
    },
    "858bccd30243433e82e0ff8e6d0bca11": {
     "views": []
    },
    "85eefe28fc62474f930df06536221c02": {
     "views": [
      {
       "cell_index": 7
      }
     ]
    },
    "87e8af0037034d2ab86dc8cc75a34d11": {
     "views": []
    },
    "8847515bc30342bbb04b252f17521b0f": {
     "views": []
    },
    "8902a3c79a62460faaf2861fa6a6466b": {
     "views": []
    },
    "8a0a3298b84c4441bc252afb9bb4db44": {
     "views": []
    },
    "8b1f427fdeaa4fdf9f7d5daebdad4ae6": {
     "views": []
    },
    "8bf83afc975a401bab3df30de6ed4028": {
     "views": []
    },
    "8d11d143831342eeb39c605c4924cc52": {
     "views": []
    },
    "8d91024724ff48308b885626b775b6b9": {
     "views": []
    },
    "8dd717c730144acf83dee3e4c63bac1e": {
     "views": []
    },
    "8e20d90e37e541619803c94681435744": {
     "views": []
    },
    "8e527072b8a146d3a1d9490fa9b06c3c": {
     "views": []
    },
    "8ed4698633b04cbfbe1776ad31416505": {
     "views": []
    },
    "8ee1bf0db1994d74aea1a48e282ff0d2": {
     "views": []
    },
    "8f4712876eb1476688a9812be4edfb92": {
     "views": []
    },
    "905b4707fd584e3b842f07e504363916": {
     "views": []
    },
    "91bb56dd5e314581b331b8014c181fc7": {
     "views": []
    },
    "92d5ce30f96a4254a3ab7b1bc907dfdf": {
     "views": []
    },
    "93d2bee190af4f7783b73314feb90f7a": {
     "views": []
    },
    "944feba50175434d8ff193b7062fd4a4": {
     "views": []
    },
    "9514f4a3e55f4e8fa576550acb903df8": {
     "views": []
    },
    "9524a9a425e742d29e7e4b244ea2c585": {
     "views": []
    },
    "9591bdf4de9d4c39b02b131b2899b1a7": {
     "views": []
    },
    "960ab8ec2feb4c6d90aee790071a8453": {
     "views": []
    },
    "9699e52190ed473a90ee6e9e90e4df64": {
     "views": []
    },
    "96d5f95d9e1f4263a5ead33c72b976f6": {
     "views": []
    },
    "98187734d1d5442ebe212fcdb0279cb4": {
     "views": []
    },
    "98e98ef1bf73406fae8869e7c84cc8d2": {
     "views": []
    },
    "99599b54fdb948779f3bfc591ed93c79": {
     "views": []
    },
    "997644e09aa048839400bb01c4461fb5": {
     "views": []
    },
    "9af28fb27b314702ba5d67bdfe4a7c77": {
     "views": []
    },
    "9b28c0bdffb748cd88819c431f922254": {
     "views": []
    },
    "9b8083180f224c5abfffb9e008c85215": {
     "views": []
    },
    "9cbeda48a7564e98922101cf2f7e6a93": {
     "views": []
    },
    "9ccb9d4768484227bf58975a1a875b35": {
     "views": []
    },
    "9d000b83211d48c59a3b9010cefeb407": {
     "views": []
    },
    "a2b7774f3bbd4157b9a177374f3a3f70": {
     "views": []
    },
    "a2eac97969b64a30ac2757dd87f7c61f": {
     "views": []
    },
    "a35854bdbe9d4c11a404ea1287b2cba0": {
     "views": [
      {
       "cell_index": 7
      }
     ]
    },
    "a48b2272d391420fbbcd6aa9fa50f130": {
     "views": []
    },
    "a5dc8db80c79414ebc05cdb3c1304ce5": {
     "views": []
    },
    "a60b8b1e21014a908139b0123432ee71": {
     "views": []
    },
    "a68f794e544943dfbd2894f68d023849": {
     "views": []
    },
    "a6a7f2fedbfa4360a08cc92ee93498f8": {
     "views": []
    },
    "a99706271e464f8f9a19dfa587cd1062": {
     "views": [
      {
       "cell_index": 7
      }
     ]
    },
    "ab298aacaf354975b71fc6fbde129403": {
     "views": []
    },
    "ac2695ac4c1b44c69a69217ffb326268": {
     "views": []
    },
    "ac78b5bda21a46a08cbef8c601e11010": {
     "views": []
    },
    "acfdb0c240304fc6862f826835bb6b71": {
     "views": []
    },
    "ae946f50e4484230b60a78a5ecdd1ac1": {
     "views": []
    },
    "aeca2149a6e4461590ba53c9b96878bd": {
     "views": []
    },
    "b02d31066d464d588b9aa70fc5dc772c": {
     "views": []
    },
    "b12e4a09b42046068666ec1e74c35269": {
     "views": []
    },
    "b2851e5c65e2428cac02560a1de5aa81": {
     "views": []
    },
    "b3c985687ed7451e91a68de1ce697c03": {
     "views": []
    },
    "b4394aaf0415468c87e246bc61e5aad5": {
     "views": []
    },
    "b45f757086004bb0a912d483e44011ea": {
     "views": []
    },
    "b462e7430ce64e8bbe16f99cff5110be": {
     "views": []
    },
    "b506c747aacd47088262c2c8ac0af5fb": {
     "views": []
    },
    "b6369bfe563a4525830d84443609717d": {
     "views": []
    },
    "b6909d4b399d41fba48e157e2a669596": {
     "views": [
      {
       "cell_index": 7
      }
     ]
    },
    "b755bd5e32394cfa8b848bcded6616f0": {
     "views": []
    },
    "b7a0bb1b1cfe4ca0994616014a0802b4": {
     "views": []
    },
    "b7a9d7096f7d473fa323132a6e6430a9": {
     "views": []
    },
    "b7dc6cbc81664d3982d7940adc5b34f9": {
     "views": []
    },
    "b88eac0fdb3a481bb6a8e3f4f7d9cafc": {
     "views": []
    },
    "b9467dfbd94f44d5927b2c4bc8debeb5": {
     "views": []
    },
    "b949b3e5f71f44d7bb6b7cf2b1acbf6f": {
     "views": [
      {
       "cell_index": 7
      }
     ]
    },
    "b9a5793d14374f6994f1ba3bda538bcc": {
     "views": []
    },
    "bb2282e4f8d74967a47a7bbe64d972e7": {
     "views": []
    },
    "bc64dbb159494648972330294726e51f": {
     "views": []
    },
    "bcb49ebb67b44fe8aa21cb3d2cc15e42": {
     "views": [
      {
       "cell_index": 7
      }
     ]
    },
    "bcf6ae6d2f564e71bb9398fbb49dee6f": {
     "views": []
    },
    "bd70c20f84904c568adf06d1ee1bdfc5": {
     "views": []
    },
    "bd9654a6383a4c14bcc57a1067865cab": {
     "views": []
    },
    "be317b11606341df9ac384cc7d92e0fd": {
     "views": []
    },
    "beeacd1bec5f4c41b2051e73de5e2c65": {
     "views": []
    },
    "bf1d1465081045c1a332e98ce37da525": {
     "views": []
    },
    "bf252cdcb7ff4d5698d4f77add291ceb": {
     "views": []
    },
    "bf9badf45e5446449810496b7dba44e6": {
     "views": []
    },
    "bfdb49b0363f49598c45934d22c1a437": {
     "views": []
    },
    "c09c25467a764318aa40694f7f9471e1": {
     "views": []
    },
    "c11ec58c28a24321a34bbd08baf46962": {
     "views": []
    },
    "c1a52b1f19bb489e97f6392e7c479428": {
     "views": []
    },
    "c1b5e643577b4c949ebdca272397fe51": {
     "views": []
    },
    "c33d6cb80e674480a6490011216da5db": {
     "views": [
      {
       "cell_index": 7
      }
     ]
    },
    "c45cbe19a0864ff19d0ab7f15639a719": {
     "views": []
    },
    "c475a1c93c4e4a8ba2691fe234c219ab": {
     "views": []
    },
    "c4d206c80ab74db5b11616b832d7cd05": {
     "views": []
    },
    "c5952ebd7b904e349bfce311f11fb43f": {
     "views": []
    },
    "c5c2bfa32e694e52a47970f7fecabc62": {
     "views": []
    },
    "c63b8f0b1b344dd7a75b72b568c92898": {
     "views": []
    },
    "c75d24660a9b461d928f3d3e88a57e33": {
     "views": []
    },
    "c764ebaf59154d9881b75358751beeb3": {
     "views": []
    },
    "c7667708881b4561a0780e2f0f063bf5": {
     "views": []
    },
    "c83239cb2f2b4cd4b693b55a9ce051dc": {
     "views": [
      {
       "cell_index": 7
      }
     ]
    },
    "c856b5d422274585bc7704624d000793": {
     "views": [
      {
       "cell_index": 7
      }
     ]
    },
    "c92125e1df1f44119ea733360d9f949f": {
     "views": []
    },
    "c92271a9a48f450daa632494cba91fef": {
     "views": []
    },
    "c926a1a392af41e6821f6f0bd24b505a": {
     "views": []
    },
    "c94fbf229f824df998beb01cec089596": {
     "views": []
    },
    "c9a10327420a487b8dfebdc5c125eaee": {
     "views": []
    },
    "c9dfa10908364fc5b66566a631abc20b": {
     "views": []
    },
    "ca6f0ea5bca5406480be4555a8953714": {
     "views": []
    },
    "cb26163529714475a520a9928b9c43c8": {
     "views": []
    },
    "cb4ebcf1a4824907850da33492f53199": {
     "views": []
    },
    "cb719a47e08344b88a2eb352ba8190bc": {
     "views": []
    },
    "cbe01f0d88494dabb0a09bd471c76a19": {
     "views": []
    },
    "cc604e33d28b421b99cab9d0bdea48af": {
     "views": []
    },
    "ccf593865aa74a78b00901bfecce113b": {
     "views": []
    },
    "cd67ab0b0f204602a063ef1ce8541de4": {
     "views": []
    },
    "cfaea74385aa4cafbb8397c3d440c01a": {
     "views": []
    },
    "d04dca06e2cb41bda19d100fdde8cd6b": {
     "views": []
    },
    "d258d9a776ab418f861ece52955a6538": {
     "views": []
    },
    "d2d9d0e819204fc4a9c367c8683e1e71": {
     "views": []
    },
    "d34336d3da12408f8319038d8dbffa79": {
     "views": []
    },
    "d5f7b9d0ab2f45f5b154dfe549ed104e": {
     "views": []
    },
    "d68d6f5e0cb34d37bc607171d1d20560": {
     "views": [
      {
       "cell_index": 7
      }
     ]
    },
    "d6953bdf0f344fb6909c6ac22b1da78a": {
     "views": []
    },
    "d6bc8b662083480da8f37c5e724d3573": {
     "views": []
    },
    "d86f6a2d89b94ec08f6e8d219169c3fa": {
     "views": []
    },
    "d8c4237f4a7e45d4aaedc5896c0d5b5b": {
     "views": []
    },
    "d93cfd6439ef49eca3088435cebc3315": {
     "views": []
    },
    "d9f071c19e514447ae2495c8e8c779be": {
     "views": []
    },
    "db0edb3953e2417098737f1f04b42c26": {
     "views": []
    },
    "db56a259175e43e0a928da62bcb483a6": {
     "views": []
    },
    "dcb1ddfb8b30412fb8a0de8a94184254": {
     "views": []
    },
    "dcd07e749cac4cb18fcd3e07b010b47c": {
     "views": []
    },
    "de2a20b3ff5543a0a08a75f070319bf9": {
     "views": []
    },
    "de9796ad158e47b49b18725acb427f84": {
     "views": []
    },
    "df72c886e2ef4dde92a80efbe4c8dbd6": {
     "views": []
    },
    "e02a0fdcf6914cc4a92d77e3e5df3acf": {
     "views": []
    },
    "e1d0d1fcf2a84aa3ad9a5812d871fbbc": {
     "views": []
    },
    "e2cb5349d426414095b6fc76401317f6": {
     "views": []
    },
    "e3253df2d7744584bf1c1924b9314757": {
     "views": []
    },
    "e3590e351177454985b151df3da36e88": {
     "views": []
    },
    "e3d15745cece4fea989b5f0b723f30e3": {
     "views": []
    },
    "e4cc1fc414ab4543bca122c657551e22": {
     "views": []
    },
    "e4d27d8712624c3c9c8f78e72b913f85": {
     "views": []
    },
    "e4de21d967be456798626967dccd88b4": {
     "views": []
    },
    "e5a68e5520304e98b374cf30c89f1eeb": {
     "views": []
    },
    "e5afc7577e4b4786aca3aa632d2024fa": {
     "views": []
    },
    "e5d1087e2ca64e6999213948348cb1ef": {
     "views": []
    },
    "e60cde4d9b6b4241840cef76260a3e3c": {
     "views": []
    },
    "e68feffbfbad428baa9d4678a5be2f44": {
     "views": []
    },
    "e6f290a8dca64ed98c9ba5ab61307ffd": {
     "views": []
    },
    "e72fb519ed9d475a9179255ef4000074": {
     "views": []
    },
    "e74ac6e932df4446bb62f16662423ea6": {
     "views": []
    },
    "e75b758ee0724db6af82d7132b1a9503": {
     "views": []
    },
    "e7a582f6b7d743d6b53d15e9fe4edf5c": {
     "views": []
    },
    "e8ca4493dadb44dfb537061ab1ffe8ae": {
     "views": []
    },
    "e8e96ce851954dab8a1da70b2da8828d": {
     "views": []
    },
    "e963a5286e9248bc95027ea61d52033a": {
     "views": []
    },
    "e9c25432a44f4b06bd7a21f9b63681e5": {
     "views": []
    },
    "ea1fa0d9e0b34329bb2e36ada1b91d2c": {
     "views": []
    },
    "ea614ef14907423abd8cb6fb57eee8d8": {
     "views": []
    },
    "ea9e1cb01da14e36afa91d18322e2b0e": {
     "views": []
    },
    "eae595418288496ba2d6c8c56da70f09": {
     "views": []
    },
    "eaffb526e7c649e29400dcd0ab5e36e9": {
     "views": []
    },
    "eb2d38e1073d46f9aba324e9b79041a2": {
     "views": []
    },
    "ebf84d0899a04451976d3c9af19d0397": {
     "views": []
    },
    "edc61fbc80a1435faab4daa8f9a99d3c": {
     "views": []
    },
    "ef00511a2645419fa069e6633600f72a": {
     "views": [
      {
       "cell_index": 7
      }
     ]
    },
    "ef69a32cb7b445979bb28ea437e6d1fe": {
     "views": []
    },
    "f0407dd43ca042dd904e88c8efd712d0": {
     "views": []
    },
    "f2132bd8abfb481eb1f60066fa707a25": {
     "views": []
    },
    "f25abbba15dc41b5b5671fcd6dfa961b": {
     "views": []
    },
    "f25f2c291452495c981e90542b627aaa": {
     "views": []
    },
    "f41861df15ce4cebac39233145ed8e6d": {
     "views": []
    },
    "f444428cc6fa4003a0aa7572c9190d7e": {
     "views": []
    },
    "f4b4139739b842778f6bf3f79b71ef67": {
     "views": []
    },
    "f562110655a24ebdbf543a7e5a11b835": {
     "views": []
    },
    "f5cd46b22abc44b3bf28a37338ff7876": {
     "views": []
    },
    "f5f51469e5144f05b982da45b34bd217": {
     "views": [
      {
       "cell_index": 7
      }
     ]
    },
    "f6422c2715254e9aa2343ec63aca10db": {
     "views": []
    },
    "f737d1eecbbd49fe9cf4fa23343ed7c4": {
     "views": []
    },
    "f73e6c078b6f42169077502a12cda904": {
     "views": []
    },
    "f76ef10b79c04eb3850147d31c455220": {
     "views": []
    },
    "f7b0b0c4b05840a29a957befa73bdac1": {
     "views": [
      {
       "cell_index": 7
      }
     ]
    },
    "f924e5e61932456db7cd34d108c135e8": {
     "views": []
    },
    "f9c8f248ef6746988a261071722e1caf": {
     "views": [
      {
       "cell_index": 7
      }
     ]
    },
    "faa5f60bdbfa4e10a42eeac2ab4eb2db": {
     "views": [
      {
       "cell_index": 7
      }
     ]
    },
    "faf1a6d3f8e5412990bc401e0ea585bc": {
     "views": []
    },
    "fb251bb6997c4c11a6d28400b3912ee5": {
     "views": []
    },
    "fb66e019a1474146b4b70e89aa8653a6": {
     "views": []
    },
    "fc097a22884b425fb614ee71e9dd2a8c": {
     "views": []
    },
    "fca22ddf598040369ce3d482ff173cb4": {
     "views": []
    },
    "fcede6a1d65140c68fb2bd5beb6d167f": {
     "views": []
    },
    "fda784a19b1b4ff591e5dbb011a19dcb": {
     "views": []
    },
    "fdb3118a400640cdada683cc776bbd1b": {
     "views": []
    },
    "fe1e30727bdb49c18135b43003ea5344": {
     "views": []
    },
    "ff30b47fca9741a5a7e1e7130345e45e": {
     "views": []
    },
    "ffa2ef20096a416aababec89899ee569": {
     "views": []
    }
   },
   "version": "1.1.2"
  }
 },
 "nbformat": 4,
 "nbformat_minor": 2
}
