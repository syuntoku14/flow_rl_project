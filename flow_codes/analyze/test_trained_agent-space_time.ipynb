{
 "cells": [
  {
   "cell_type": "code",
   "execution_count": 1,
   "metadata": {},
   "outputs": [
    {
     "name": "stderr",
     "output_type": "stream",
     "text": [
      "Process STDOUT and STDERR is being redirected to /tmp/ray/session_2019-04-28_17-45-51_53791/logs.\n",
      "Waiting for redis server at 127.0.0.1:55754 to respond...\n",
      "Waiting for redis server at 127.0.0.1:42533 to respond...\n",
      "Warning: Capping object memory store to 20.0GB. To increase this further, specify `object_store_memory` when calling ray.init() or ray start.\n",
      "Starting the Plasma object store with 20.0 GB memory using /dev/shm.\n"
     ]
    },
    {
     "data": {
      "text/plain": [
       "{'node_ip_address': '10.138.0.2',\n",
       " 'object_store_addresses': ['/tmp/ray/session_2019-04-28_17-45-51_53791/sockets/plasma_store'],\n",
       " 'raylet_socket_names': ['/tmp/ray/session_2019-04-28_17-45-51_53791/sockets/raylet'],\n",
       " 'redis_address': '10.138.0.2:55754',\n",
       " 'webui_url': ''}"
      ]
     },
     "execution_count": 1,
     "metadata": {},
     "output_type": "execute_result"
    }
   ],
   "source": [
    "import os, sys, pickle\n",
    "import numpy as np\n",
    "sys.path.append(os.path.join(os.getcwd(), '..'))\n",
    "sys.path = list(set(sys.path))\n",
    "import matplotlib.pyplot as plt\n",
    "%matplotlib inline\n",
    "\n",
    "from results_path import DDPG_PATH, PPO_PATH\n",
    "\n",
    "from common.evaluate import make_vis_env, test_env\n",
    "\n",
    "from flow.multiagent_envs import MultiWaveAttenuationMergePOEnv\n",
    "from flow.scenarios import MergeScenario\n",
    "from flow.utils.registry import make_create_env\n",
    "from flow.utils.rllib import FlowParamsEncoder\n",
    "from ray.tune import run_experiments\n",
    "\n",
    "import gym, ray\n",
    "from ray.rllib.agents.ppo import PPOAgent, DEFAULT_CONFIG\n",
    "from ray.rllib.agents.ddpg import DDPGAgent, DEFAULT_CONFIG\n",
    "from ray.tune.registry import register_env\n",
    "from ray.tune.logger import pretty_print\n",
    "\n",
    "benchmark_name = 'multi_merge'\n",
    "exp_name = 'buff_obs'\n",
    "results_list = os.listdir('/headless/ray_results/' + exp_name)\n",
    "AGENT = 'PPO' # 'PPO' or 'DDPG' or 'HUMAN'\n",
    "checkpoint = '50'\n",
    "\n",
    "benchmark = __import__(\n",
    "    \"flow.benchmarks.%s\" % benchmark_name, fromlist=[\"flow_params\"])\n",
    "flow_params = benchmark.buffered_obs_flow_params\n",
    "horizon = flow_params['env'].horizon\n",
    "create_env, env_name = make_create_env(params=flow_params, version=0)\n",
    "\n",
    "# Register as rllib env\n",
    "register_env(env_name, create_env)\n",
    "\n",
    "ray.init(num_cpus=1, include_webui=False, ignore_reinit_error=True)"
   ]
  },
  {
   "cell_type": "code",
   "execution_count": 2,
   "metadata": {},
   "outputs": [
    {
     "name": "stderr",
     "output_type": "stream",
     "text": [
      " Starting SUMO on port 48071\n"
     ]
    }
   ],
   "source": [
    "render = False\n",
    "env = None\n",
    "if render:\n",
    "    env = make_vis_env(flow_params, MultiWaveAttenuationMergePOEnv, MergeScenario)\n",
    "else: \n",
    "    env = create_env()"
   ]
  },
  {
   "cell_type": "code",
   "execution_count": 3,
   "metadata": {},
   "outputs": [],
   "source": [
    "PPO_PATH = 'PPO_MultiWaveAttenuationMergePOEnvBufferedObs-v0_[eta1, eta2, eta3]:[1.0, 0.1, 0.3]_t_min:10.0_3_2019-04-28_09-33-16cr9f7t1m'"
   ]
  },
  {
   "cell_type": "code",
   "execution_count": 4,
   "metadata": {},
   "outputs": [],
   "source": [
    "PATH = ''\n",
    "if AGENT == 'PPO':\n",
    "    PATH = exp_name + '/' + PPO_PATH\n",
    "    \n",
    "if AGENT == 'DDPG':\n",
    "    PATH = exp_name + '/' + DDPG_PATH"
   ]
  },
  {
   "cell_type": "code",
   "execution_count": 5,
   "metadata": {},
   "outputs": [
    {
     "name": "stderr",
     "output_type": "stream",
     "text": [
      "Created LogSyncer for /headless/ray_results/PPO_MultiWaveAttenuationMergePOEnvBufferedObs-v0_2019-04-28_17-47-36is_jz6rb -> None\n",
      " Starting SUMO on port 53815\n",
      "2019-04-28 17:47:37,265\tINFO policy_evaluator.py:262 -- Creating policy evaluation worker 0 on CPU (please ignore any CUDA init errors)\n",
      "/opt/conda/envs/flow/lib/python3.5/site-packages/tensorflow/python/ops/gradients_impl.py:108: UserWarning: Converting sparse IndexedSlices to a dense Tensor of unknown shape. This may consume a large amount of memory.\n",
      "  \"Converting sparse IndexedSlices to a dense Tensor of unknown shape. \"\n",
      " Starting SUMO on port 53815\n",
      "2019-04-28 17:47:42,371\tINFO multi_gpu_optimizer.py:74 -- LocalMultiGPUOptimizer devices ['/cpu:0']\n",
      "/opt/conda/envs/flow/lib/python3.5/site-packages/tensorflow/python/ops/gradients_impl.py:108: UserWarning: Converting sparse IndexedSlices to a dense Tensor of unknown shape. This may consume a large amount of memory.\n",
      "  \"Converting sparse IndexedSlices to a dense Tensor of unknown shape. \"\n"
     ]
    }
   ],
   "source": [
    "if not AGENT == 'HUMAN':\n",
    "    config_path = '/headless/rl_project/ray_results/' + PATH + '/params.pkl'\n",
    "    checkpoint_path = '/headless/rl_project/ray_results/' + PATH + '/checkpoint_{}/checkpoint-{}'.format(checkpoint, checkpoint)\n",
    "\n",
    "    with open(config_path, mode='rb') as f:\n",
    "        config = pickle.load(f)\n",
    "\n",
    "    if AGENT == 'PPO':\n",
    "        agent = PPOAgent(config=config, env=env_name)\n",
    "    elif AGENT == 'DDPG':\n",
    "        agent = DDPGAgent(config=config, env=env_name)\n",
    "        \n",
    "    agent.restore(checkpoint_path)"
   ]
  },
  {
   "cell_type": "code",
   "execution_count": null,
   "metadata": {
    "scrolled": true
   },
   "outputs": [
    {
     "name": "stderr",
     "output_type": "stream",
     "text": [
      " Starting SUMO on port 53815\n"
     ]
    }
   ],
   "source": [
    "# calculate the space-time velocity map\n",
    "left_length = env.k.scenario.edge_length('left')\n",
    "car_length = 5.0\n",
    "scale = 10\n",
    "vel_lists = []\n",
    "vel_map_lists = []\n",
    "outflow_lists = []\n",
    "\n",
    "num_iter = 1 if render else 6\n",
    "for _ in range(num_iter):\n",
    "    state = env.reset()\n",
    "    vel = []\n",
    "    outflow = []\n",
    "    for i in range(env.env_params.horizon):\n",
    "        # record the mean velocity\n",
    "        v = np.mean(env.k.vehicle.get_speed(env.k.vehicle.get_ids()))\n",
    "        vel.append(v)\n",
    "\n",
    "        # record the velocity map\n",
    "        ids = env.k.vehicle.get_ids()\n",
    "        vel_map_ = np.zeros(int(left_length)*scale)\n",
    "        for id_ in ids:\n",
    "            pos_ = np.round(env.k.vehicle.get_position(id_), decimals=1)\n",
    "            vel_ = env.k.vehicle.get_speed(id_)\n",
    "            pos_bottom = max(0, int((pos_-car_length/2.0)*scale))\n",
    "            pos_top = min(int(left_length)*scale, int((pos_+car_length/2.0)*scale))\n",
    "            vel_map_[pos_bottom:pos_top] = vel_            \n",
    "\n",
    "        # step the simulation\n",
    "        rl_ids = env.k.vehicle.get_rl_ids()\n",
    "        actions = {}\n",
    "        if AGENT != 'HUMAN':\n",
    "            for id_ in rl_ids:\n",
    "                action = agent.compute_action(state[id_])\n",
    "                actions.update({id_: action})\n",
    "        state, r, _, _ = env.step(actions)\n",
    "        outflow.append(env.k.vehicle.get_outflow_rate(600)) # measured by one min\n",
    "\n",
    "        if i == 0:\n",
    "            vel_map_list = vel_map_\n",
    "        else:\n",
    "            vel_map_list = np.vstack((vel_map_list, vel_map_))\n",
    "\n",
    "    outflow_lists.append(outflow[-500:])\n",
    "    vel_lists.append(vel)\n",
    "    vel_map_list[vel_map_list==0.0] = np.nan\n",
    "    vel_map_lists.append(vel_map_list)"
   ]
  },
  {
   "cell_type": "code",
   "execution_count": null,
   "metadata": {},
   "outputs": [],
   "source": [
    "vel_fig, ax = plt.subplots(nrows=1, ncols=1)\n",
    "for i in range(num_iter):\n",
    "    ax.plot(vel_lists[i])\n",
    "title = AGENT + ' multi-agent mean velocity'\n",
    "title = title + ' \\n mean velocity {:3f}'.format(np.mean(vel_lists))\n",
    "title = title + ' \\n mean outflow rate {:3f}'.format(np.mean(outflow_lists))\n",
    "ax.set_ylabel('system level mean velocity (m/s)')\n",
    "ax.set_xlabel('step')\n",
    "vel_fig.suptitle(title)\n",
    "plt.subplots_adjust(top=0.8)"
   ]
  },
  {
   "cell_type": "code",
   "execution_count": null,
   "metadata": {},
   "outputs": [],
   "source": [
    "nrows = 1 if render else 2\n",
    "ncols = 1 if render else 3\n",
    "space_fig, axes = plt.subplots(nrows=nrows, ncols=ncols, figsize=(10, 6))\n",
    "space_fig.tight_layout()\n",
    "\n",
    "for i in range(num_iter):\n",
    "    # plt.subplot(2, 3, i+1)\n",
    "    x = np.arange(int(env.env_params.horizon))\n",
    "    y = np.arange(0, int(left_length), step=0.1)\n",
    "    xx, yy = np.meshgrid(x, y)\n",
    "    try:\n",
    "        im = axes[i%2, i%3].pcolormesh(xx, yy, vel_map_lists[i].T)\n",
    "        if i % 3 == 0:\n",
    "            axes[i%2, i%3].set_ylabel('Position (m)')\n",
    "        if int(i / 3.0) > 0:\n",
    "            axes[int(i/3), int(i/3)].set_xlabel('step')\n",
    "    except:\n",
    "        im = axes.pcolormesh(xx, yy, vel_map_lists[i].T)\n",
    "        if i % 3 == 0:\n",
    "            axes.set_ylabel('Position (m)')\n",
    "        if int(i / 3.0) > 0:\n",
    "            axes.set_xlabel('step')\n",
    "        \n",
    "try:\n",
    "    clb = space_fig.colorbar(im, ax=axes.ravel().tolist(), shrink=0.95)\n",
    "except:\n",
    "    clb = space_fig.colorbar(im, ax=axes, shrink=0.95)\n",
    "    \n",
    "clb.set_clim(0, 30)\n",
    "clb.set_label('Velocity (m/s)')\n",
    "title = AGENT + ' Space-Time Diagram of 600 meter merge road'\n",
    "space_fig.suptitle(title)   \n",
    "plt.subplots_adjust(top=0.9, right=0.8)"
   ]
  },
  {
   "cell_type": "code",
   "execution_count": 24,
   "metadata": {},
   "outputs": [],
   "source": [
    "if not render:\n",
    "    filename = PATH[PATH.find('/') + 1:].replace(' ', '_') + '.png'\n",
    "    vel_dir = '../result/MultiMerge/' + AGENT + '/' + exp_name + '/mean_velocity/'\n",
    "    space_dir = '../result/MultiMerge/' + AGENT + '/' + exp_name + '/space_time_diagram/'\n",
    "    os.makedirs(vel_dir, exist_ok=True)\n",
    "    os.makedirs(space_dir, exist_ok=True)\n",
    "\n",
    "    vel_fig.savefig(vel_dir + filename)\n",
    "    space_fig.savefig(space_dir + filename)"
   ]
  }
 ],
 "metadata": {
  "kernelspec": {
   "display_name": "Python 3",
   "language": "python",
   "name": "python3"
  },
  "language_info": {
   "codemirror_mode": {
    "name": "ipython",
    "version": 3
   },
   "file_extension": ".py",
   "mimetype": "text/x-python",
   "name": "python",
   "nbconvert_exporter": "python",
   "pygments_lexer": "ipython3",
   "version": "3.5.2"
  },
  "varInspector": {
   "cols": {
    "lenName": "50",
    "lenType": "50",
    "lenVar": "50"
   },
   "kernels_config": {
    "python": {
     "delete_cmd_postfix": "",
     "delete_cmd_prefix": "del ",
     "library": "var_list.py",
     "varRefreshCmd": "print(var_dic_list())"
    },
    "r": {
     "delete_cmd_postfix": ") ",
     "delete_cmd_prefix": "rm(",
     "library": "var_list.r",
     "varRefreshCmd": "cat(var_dic_list()) "
    }
   },
   "types_to_exclude": [
    "module",
    "function",
    "builtin_function_or_method",
    "instance",
    "_Feature"
   ],
   "window_display": false
  },
  "widgets": {
   "state": {},
   "version": "1.1.2"
  }
 },
 "nbformat": 4,
 "nbformat_minor": 2
}
