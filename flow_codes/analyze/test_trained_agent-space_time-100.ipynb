{
 "cells": [
  {
   "cell_type": "code",
   "execution_count": 1,
   "metadata": {},
   "outputs": [
    {
     "name": "stderr",
     "output_type": "stream",
     "text": [
      "Process STDOUT and STDERR is being redirected to /tmp/ray/session_2019-05-01_16-27-16_1167/logs.\n",
      "Waiting for redis server at 127.0.0.1:27393 to respond...\n",
      "Waiting for redis server at 127.0.0.1:20886 to respond...\n",
      "Starting the Plasma object store with 13.355121049 GB memory using /dev/shm.\n"
     ]
    },
    {
     "data": {
      "text/plain": [
       "{'node_ip_address': '169.237.32.118',\n",
       " 'object_store_addresses': ['/tmp/ray/session_2019-05-01_16-27-16_1167/sockets/plasma_store'],\n",
       " 'raylet_socket_names': ['/tmp/ray/session_2019-05-01_16-27-16_1167/sockets/raylet'],\n",
       " 'redis_address': '169.237.32.118:27393',\n",
       " 'webui_url': ''}"
      ]
     },
     "execution_count": 1,
     "metadata": {},
     "output_type": "execute_result"
    }
   ],
   "source": [
    "import os, sys, pickle\n",
    "import numpy as np\n",
    "from tqdm import tqdm_notebook as tqdm\n",
    "sys.path.append(os.path.join(os.getcwd(), '..'))\n",
    "sys.path = list(set(sys.path))\n",
    "import matplotlib.pyplot as plt\n",
    "%matplotlib inline\n",
    "\n",
    "from results_path import DDPG_PATH, PPO_PATH\n",
    "\n",
    "from common.evaluate import make_vis_env, test_env\n",
    "\n",
    "from flow.multiagent_envs import MultiWaveAttenuationMergePOEnv\n",
    "from flow.scenarios import MergeScenario\n",
    "from flow.utils.registry import make_create_env\n",
    "from flow.utils.rllib import FlowParamsEncoder\n",
    "from flow.core.params import InFlows\n",
    "from ray.tune import run_experiments\n",
    "\n",
    "import gym, ray\n",
    "from ray.rllib.agents.ppo import PPOAgent, DEFAULT_CONFIG\n",
    "from ray.rllib.agents.ddpg import DDPGAgent, DEFAULT_CONFIG\n",
    "from ray.tune.registry import register_env\n",
    "from ray.tune.logger import pretty_print\n",
    "\n",
    "benchmark_name = 'multi_merge'\n",
    "exp_name = 'random_env'\n",
    "results_list = os.listdir('/headless/ray_results/' + exp_name)\n",
    "AGENT = 'HUMAN' # 'PPO' or 'DDPG' or 'HUMAN'\n",
    "checkpoint = '200'\n",
    "\n",
    "benchmark = __import__(\n",
    "    \"flow.benchmarks.%s\" % benchmark_name, fromlist=[\"flow_params\"])\n",
    "flow_params = benchmark.buffered_obs_flow_params\n",
    "\n",
    "ray.init(num_cpus=1, include_webui=False, ignore_reinit_error=True)"
   ]
  },
  {
   "cell_type": "code",
   "execution_count": 2,
   "metadata": {},
   "outputs": [],
   "source": [
    "horizon = flow_params['env'].horizon\n",
    "create_env, env_name = make_create_env(params=flow_params, version=0)\n",
    "\n",
    "# Register as rllib env\n",
    "register_env(env_name, create_env)"
   ]
  },
  {
   "cell_type": "code",
   "execution_count": 3,
   "metadata": {},
   "outputs": [
    {
     "name": "stderr",
     "output_type": "stream",
     "text": [
      " Starting SUMO on port 52992\n"
     ]
    }
   ],
   "source": [
    "render = False\n",
    "env = None\n",
    "if render:\n",
    "    env = make_vis_env(flow_params, MultiWaveAttenuationMergePOEnv, MergeScenario)\n",
    "else: \n",
    "    env = create_env()"
   ]
  },
  {
   "cell_type": "code",
   "execution_count": 4,
   "metadata": {
    "scrolled": true
   },
   "outputs": [
    {
     "name": "stderr",
     "output_type": "stream",
     "text": [
      " Starting SUMO on port 52992\n",
      " Starting SUMO on port 52992\n",
      " Starting SUMO on port 52992\n",
      " Starting SUMO on port 52992\n",
      " Starting SUMO on port 52992\n",
      " Starting SUMO on port 52992\n",
      " Starting SUMO on port 52992\n",
      " Starting SUMO on port 52992\n",
      " Starting SUMO on port 52992\n",
      " Starting SUMO on port 52992\n",
      " Starting SUMO on port 52992\n",
      " Starting SUMO on port 52992\n",
      " Starting SUMO on port 52992\n",
      " Starting SUMO on port 52992\n",
      " Starting SUMO on port 52992\n",
      " Starting SUMO on port 52992\n",
      " Starting SUMO on port 52992\n",
      " Starting SUMO on port 52992\n",
      " Starting SUMO on port 52992\n",
      " Starting SUMO on port 52992\n",
      " Starting SUMO on port 52992\n",
      " Starting SUMO on port 52992\n",
      " Starting SUMO on port 52992\n",
      " Starting SUMO on port 52992\n",
      " Starting SUMO on port 52992\n",
      " Starting SUMO on port 52992\n",
      " Starting SUMO on port 52992\n",
      " Starting SUMO on port 52992\n",
      " Starting SUMO on port 52992\n",
      " Starting SUMO on port 52992\n",
      " Starting SUMO on port 52992\n",
      " Starting SUMO on port 52992\n",
      " Starting SUMO on port 52992\n",
      " Starting SUMO on port 52992\n",
      " Starting SUMO on port 52992\n",
      " Starting SUMO on port 52992\n",
      " Starting SUMO on port 52992\n",
      " Starting SUMO on port 52992\n",
      " Starting SUMO on port 52992\n",
      " Starting SUMO on port 52992\n",
      " Starting SUMO on port 52992\n",
      " Starting SUMO on port 52992\n",
      " Starting SUMO on port 52992\n",
      " Starting SUMO on port 52992\n",
      " Starting SUMO on port 52992\n",
      " Starting SUMO on port 52992\n",
      " Starting SUMO on port 52992\n",
      " Starting SUMO on port 52992\n",
      " Starting SUMO on port 52992\n",
      " Starting SUMO on port 52992\n",
      " Starting SUMO on port 52992\n",
      " Starting SUMO on port 52992\n",
      " Starting SUMO on port 52992\n",
      " Starting SUMO on port 52992\n",
      " Starting SUMO on port 52992\n",
      " Starting SUMO on port 52992\n",
      " Starting SUMO on port 52992\n",
      " Starting SUMO on port 52992\n",
      " Starting SUMO on port 52992\n",
      " Starting SUMO on port 52992\n",
      " Starting SUMO on port 52992\n",
      " Starting SUMO on port 52992\n",
      " Starting SUMO on port 52992\n",
      " Starting SUMO on port 52992\n",
      " Starting SUMO on port 52992\n",
      " Starting SUMO on port 52992\n",
      " Starting SUMO on port 52992\n",
      " Starting SUMO on port 52992\n",
      " Starting SUMO on port 52992\n",
      " Starting SUMO on port 52992\n",
      " Starting SUMO on port 52992\n",
      " Starting SUMO on port 52992\n",
      " Starting SUMO on port 52992\n",
      " Starting SUMO on port 52992\n",
      " Starting SUMO on port 52992\n",
      " Starting SUMO on port 52992\n",
      " Starting SUMO on port 52992\n",
      " Starting SUMO on port 52992\n",
      " Starting SUMO on port 52992\n",
      " Starting SUMO on port 52992\n",
      " Starting SUMO on port 52992\n",
      " Starting SUMO on port 52992\n",
      " Starting SUMO on port 52992\n",
      " Starting SUMO on port 52992\n",
      " Starting SUMO on port 52992\n",
      " Starting SUMO on port 52992\n",
      " Starting SUMO on port 52992\n",
      " Starting SUMO on port 52992\n",
      " Starting SUMO on port 52992\n",
      " Starting SUMO on port 52992\n",
      " Starting SUMO on port 52992\n",
      " Starting SUMO on port 52992\n",
      " Starting SUMO on port 52992\n",
      " Starting SUMO on port 52992\n",
      " Starting SUMO on port 52992\n",
      " Starting SUMO on port 52992\n",
      " Starting SUMO on port 52992\n",
      " Starting SUMO on port 52992\n",
      " Starting SUMO on port 52992\n",
      " Starting SUMO on port 52992\n"
     ]
    },
    {
     "name": "stdout",
     "output_type": "stream",
     "text": [
      "\n"
     ]
    }
   ],
   "source": [
    "# calculate the space-time velocity map\n",
    "left_length = env.k.scenario.edge_length('left')\n",
    "car_length = 5.0\n",
    "scale = 10\n",
    "vel_lists = []\n",
    "vel_map_lists = []\n",
    "outflow_lists = []\n",
    "\n",
    "num_iter = 1 if render else 6\n",
    "for _ in tqdm(range(100)):\n",
    "    state = env.reset()\n",
    "    vel = []\n",
    "    outflow = []\n",
    "    for i in tqdm(range(env.env_params.horizon)):\n",
    "        # record the mean velocity\n",
    "        v = np.mean(env.k.vehicle.get_speed(env.k.vehicle.get_ids()))\n",
    "        vel.append(v)\n",
    "\n",
    "        # record the velocity map\n",
    "        ids = env.k.vehicle.get_ids()\n",
    "        vel_map_ = np.zeros(int(left_length)*scale)\n",
    "        for id_ in ids:\n",
    "            pos_ = np.round(env.k.vehicle.get_position(id_), decimals=1)\n",
    "            vel_ = env.k.vehicle.get_speed(id_)\n",
    "            pos_bottom = max(0, int((pos_-car_length/2.0)*scale))\n",
    "            pos_top = min(int(left_length)*scale, int((pos_+car_length/2.0)*scale))\n",
    "            vel_map_[pos_bottom:pos_top] = vel_            \n",
    "\n",
    "        # step the simulation\n",
    "        rl_ids = env.k.vehicle.get_rl_ids()\n",
    "        actions = {}\n",
    "        if AGENT != 'HUMAN':\n",
    "            for id_ in rl_ids:\n",
    "                action = agent.compute_action(state[id_])\n",
    "                actions.update({id_: action})\n",
    "        state, r, _, _ = env.step(actions)\n",
    "        outflow.append(env.k.vehicle.get_outflow_rate(600)) # measured by one min\n",
    "\n",
    "        if i == 0:\n",
    "            vel_map_list = vel_map_\n",
    "        else:\n",
    "            vel_map_list = np.vstack((vel_map_list, vel_map_))\n",
    "\n",
    "    outflow_lists.append(outflow[-500:])\n",
    "    vel_lists.append(vel)\n",
    "    vel_map_list[vel_map_list==0.0] = np.nan\n",
    "    vel_map_lists.append(vel_map_list)"
   ]
  },
  {
   "cell_type": "code",
   "execution_count": 5,
   "metadata": {},
   "outputs": [],
   "source": [
    "vel_lists = np.array(vel_lists)\n",
    "vel_mean_lists = np.mean(vel_lists, axis=0)"
   ]
  },
  {
   "cell_type": "code",
   "execution_count": 6,
   "metadata": {},
   "outputs": [
    {
     "data": {
      "image/png": "[encoded data removed]",
      "text/plain": [
       "<Figure size 432x288 with 1 Axes>"
      ]
     },
     "metadata": {},
     "output_type": "display_data"
    }
   ],
   "source": [
    "vel_fig, ax = plt.subplots(nrows=1, ncols=1)\n",
    "ax.plot(vel_mean_lists)\n",
    "title = AGENT + ' multi-agent mean velocity 100 trials'\n",
    "title = title + ' \\n trials mean velocity {:3f}'.format(np.mean(vel_lists))\n",
    "title = title + ' \\n trials mean outflow rate {:3f}'.format(np.mean(outflow_lists))\n",
    "ax.set_ylim((0, 25))\n",
    "ax.set_ylabel('system level mean velocity (m/s)')\n",
    "ax.set_xlabel('step')\n",
    "vel_fig.suptitle(title)\n",
    "plt.subplots_adjust(top=0.8)"
   ]
  },
  {
   "cell_type": "code",
   "execution_count": 7,
   "metadata": {},
   "outputs": [],
   "source": [
    "if not render:\n",
    "    if AGENT == 'HUMAN':\n",
    "        filename = 'HUMAN_100.png'\n",
    "        vel_dir = '../result/MultiMerge/' + AGENT + '/mean_velocity/'\n",
    "        space_dir = '../result/MultiMerge/' + AGENT + '/space_time_diagram/'\n",
    "    os.makedirs(vel_dir, exist_ok=True)\n",
    "\n",
    "    vel_fig.savefig(vel_dir + filename)"
   ]
  },
  {
   "cell_type": "code",
   "execution_count": 8,
   "metadata": {},
   "outputs": [],
   "source": [
    "np.save('human_100.npy', vel_mean_lists)"
   ]
  },
  {
   "cell_type": "code",
   "execution_count": 9,
   "metadata": {},
   "outputs": [],
   "source": [
    "np.save('human_100_outflow.npy', outflow_lists)"
   ]
  }
 ],
 "metadata": {
  "kernelspec": {
   "display_name": "Python 3",
   "language": "python",
   "name": "python3"
  },
  "language_info": {
   "codemirror_mode": {
    "name": "ipython",
    "version": 3
   },
   "file_extension": ".py",
   "mimetype": "text/x-python",
   "name": "python",
   "nbconvert_exporter": "python",
   "pygments_lexer": "ipython3",
   "version": "3.5.2"
  },
  "varInspector": {
   "cols": {
    "lenName": "50",
    "lenType": "50",
    "lenVar": "50"
   },
   "kernels_config": {
    "python": {
     "delete_cmd_postfix": "",
     "delete_cmd_prefix": "del ",
     "library": "var_list.py",
     "varRefreshCmd": "print(var_dic_list())"
    },
    "r": {
     "delete_cmd_postfix": ") ",
     "delete_cmd_prefix": "rm(",
     "library": "var_list.r",
     "varRefreshCmd": "cat(var_dic_list()) "
    }
   },
   "types_to_exclude": [
    "module",
    "function",
    "builtin_function_or_method",
    "instance",
    "_Feature"
   ],
   "window_display": false
  },
  "widgets": {
   "state": {
    "00f753e81d414ed09ca5f31322f7848d": {
     "views": []
    },
    "0132d943cb944967bbdaebb252601227": {
     "views": []
    },
    "030d7af35d78471e8b1a75f43531c8d7": {
     "views": [
      {
       "cell_index": 3
      }
     ]
    },
    "03593c198b26483e966193e0475191b7": {
     "views": [
      {
       "cell_index": 3
      }
     ]
    },
    "03601da9cd9540b1a7ded1760304d3ba": {
     "views": [
      {
       "cell_index": 3
      }
     ]
    },
    "044e2692803e4e81b7bce00ab217612a": {
     "views": []
    },
    "05adf845e0214c4283518202ad039f1c": {
     "views": [
      {
       "cell_index": 3
      }
     ]
    },
    "05cdd5485b8544d7b8f84739d38212a1": {
     "views": []
    },
    "0600d5620d5a469ba8e79050b4e302e8": {
     "views": []
    },
    "065eb846092d409baac7c6b594fdeafa": {
     "views": []
    },
    "0681e4013ffe41ca8c64d37ca776c0a0": {
     "views": []
    },
    "068c722c520544bea30dea29b760cfbe": {
     "views": []
    },
    "068f2f295db44fe98114deebd7913e74": {
     "views": []
    },
    "06ad024856854bdca816d9d127b71d77": {
     "views": []
    },
    "06d1ed95293f4395ada567e989e913a1": {
     "views": []
    },
    "06deebd41b56454ab8a5f752b341b9b4": {
     "views": []
    },
    "081908bc2320490fbc8e6b3e63e6f433": {
     "views": []
    },
    "08bbc109a49c464ab95e4d7e6b94b050": {
     "views": []
    },
    "08dd5378391a4c6c8fd839ae3d9fbf44": {
     "views": []
    },
    "094399dc44084a899be0c5720f666a28": {
     "views": []
    },
    "0970f5a60eca44a78a475426125b2890": {
     "views": [
      {
       "cell_index": 3
      }
     ]
    },
    "09b7cb6881534de09a3b63818024799a": {
     "views": []
    },
    "09d0afc67f9e49869a412514f62609f4": {
     "views": []
    },
    "09f4661769214b8e91b4227638f1223c": {
     "views": []
    },
    "0a0f550121874ffaac31a482992ba1a7": {
     "views": []
    },
    "0d02d55f834c4d7ebc6bcadfee5cce2b": {
     "views": []
    },
    "0d1f667e8e014f5ca21f0fdb37f151e6": {
     "views": [
      {
       "cell_index": 3
      }
     ]
    },
    "0d8811ebfd534ecda82b9361daef94f0": {
     "views": []
    },
    "0d8cbaaa26cc4040b3a9214c02579f9d": {
     "views": []
    },
    "0e21290a0f344df1ab7f2cb51da8f4e2": {
     "views": [
      {
       "cell_index": 3
      }
     ]
    },
    "0e55fe2b2d1b447e9e7be204de3788c2": {
     "views": [
      {
       "cell_index": 3
      }
     ]
    },
    "0e5770ed1ca24146bbca4f5903411cae": {
     "views": []
    },
    "0e62c33a36f64328a92ee9af3ecbdd9e": {
     "views": []
    },
    "0f48403eefcf440ab8d63357b71baacc": {
     "views": []
    },
    "0fcbb0d955f34749bafd102089a545a2": {
     "views": []
    },
    "0ff1381d80a347439355091bb94104ad": {
     "views": []
    },
    "1083ecbd3e494a4c97c1082246980ad5": {
     "views": []
    },
    "10969703b48f4cd89fddfbd3dcd0fcf2": {
     "views": []
    },
    "11878b6aaa244c398832869c18d09068": {
     "views": []
    },
    "11c8d9c5d2b54cca8f933b445b989532": {
     "views": []
    },
    "11de68d6d3b0466cb35f720fd6f1c5e6": {
     "views": []
    },
    "1267f1693f5c481da0cf75b0ee5f0b09": {
     "views": [
      {
       "cell_index": 3
      }
     ]
    },
    "126e83903dcc4300b29b08137334ed94": {
     "views": []
    },
    "1285eb8060ae47be941678796f0e6f97": {
     "views": []
    },
    "12eda919e2f34ad092de8ac867998263": {
     "views": []
    },
    "13f3488f01f646139276f413d151394e": {
     "views": []
    },
    "1454c844e50844bb894812ef8544d79f": {
     "views": [
      {
       "cell_index": 3
      }
     ]
    },
    "148e8ef2af2c400484587dc2633f725b": {
     "views": []
    },
    "15a019e71212457d8b92f60ef44f8217": {
     "views": [
      {
       "cell_index": 3
      }
     ]
    },
    "166ac1ed991b4ee388f95f2fde5e3b00": {
     "views": []
    },
    "1670a35d3eb34a4fb82a4ae96c1b9e82": {
     "views": []
    },
    "16b7d6fc3ec44516a0265b2df6ee1811": {
     "views": []
    },
    "17cbde1313184c65b8230042610a659b": {
     "views": [
      {
       "cell_index": 3
      }
     ]
    },
    "185ebc6e9dde4b8fb021be79b5e6f6b4": {
     "views": []
    },
    "18cb9a70c38d457d999b0cf708a5dd77": {
     "views": []
    },
    "18f959e531b14b289e038bb38391dfe7": {
     "views": []
    },
    "19002ad69f744f57b8c77376cf92e425": {
     "views": []
    },
    "190235ba4ffd4c6d87380fd0ad36e82c": {
     "views": []
    },
    "1918a06646cb43ea9e1afc7076ef80a9": {
     "views": []
    },
    "192ee15e13804626aa5877ffec9ffbab": {
     "views": []
    },
    "19a99de5f17e4b71ac62f777428aac13": {
     "views": [
      {
       "cell_index": 3
      }
     ]
    },
    "1a991b5b04f14c91819098b8bb82f718": {
     "views": []
    },
    "1ae40b788eb24a7c81cd8cab413e1576": {
     "views": []
    },
    "1ae466d02f594e81bc0ff25273f2fe00": {
     "views": []
    },
    "1c7480703d064a6f94fa4cdd8840f10d": {
     "views": []
    },
    "1c94ce60d9e84859835cb3c3ab88f846": {
     "views": []
    },
    "1cd3d69cb5cc46edb270c22418670e9b": {
     "views": []
    },
    "1cd789630e8d4f0ba9346991230a9d86": {
     "views": [
      {
       "cell_index": 3
      }
     ]
    },
    "1ce44a15947c44a79e76b65e7e96722c": {
     "views": []
    },
    "1ceb4eb880af4f7f9a70eca0a826f13d": {
     "views": []
    },
    "1d2423b15b8e4d8fa34a45d92ac5614f": {
     "views": []
    },
    "1d5a5dc538174e2b9967563111f259f8": {
     "views": []
    },
    "1d822d84c5174d909e94bbe062f1771b": {
     "views": [
      {
       "cell_index": 3
      }
     ]
    },
    "1d856ce1c9f04273b3205d7254e0d0f7": {
     "views": []
    },
    "1dd8d7106f914619b52c2bec61e41508": {
     "views": []
    },
    "1dfe2654d6ce4b56af2af816b4091464": {
     "views": []
    },
    "1e19b22c49fb4a33a30c1b46ef9a6986": {
     "views": []
    },
    "1e26bd0535f2459ba981e46ae86d1165": {
     "views": []
    },
    "1e3f9591a2034301bdabccd13eb64fb8": {
     "views": []
    },
    "1f35e8fc8c9145ccafc1324f2cdbcf09": {
     "views": []
    },
    "1fcd6622b36947feae7012643d1c031e": {
     "views": []
    },
    "217879b5aa404118a1566c3e252cee94": {
     "views": []
    },
    "21bd61685a1d4855abab20cadb36aa02": {
     "views": []
    },
    "21ff88e717f742f798bed7418064a8a9": {
     "views": []
    },
    "2272fe500dd64361a178f2cdbf9acc2f": {
     "views": []
    },
    "23f74220ba9045f8b983755fef39e7a9": {
     "views": []
    },
    "240e252fd5f0404699f119baf0aa746f": {
     "views": [
      {
       "cell_index": 3
      }
     ]
    },
    "243993c9162942c6bf18baf5abc5d854": {
     "views": []
    },
    "2472f72b2e234547958e92420c5e8d0e": {
     "views": [
      {
       "cell_index": 3
      }
     ]
    },
    "248ededebb9d449e8faa9b2f704baeaf": {
     "views": []
    },
    "24ccc1f5c8fe40bc832eafc37d35f50d": {
     "views": []
    },
    "267474d9d2ea45378da541ffe36e8158": {
     "views": []
    },
    "26dfc91a7d9d42848c39af6cac43acbd": {
     "views": []
    },
    "27042e6213eb49f09bce97026b6848f9": {
     "views": []
    },
    "27ca09877cae45019fd85a9d3d0d1540": {
     "views": [
      {
       "cell_index": 3
      }
     ]
    },
    "27f997c854e74b018f7045e02e2e618f": {
     "views": [
      {
       "cell_index": 3
      }
     ]
    },
    "285593544f2d49c8903b90bd26f45c91": {
     "views": []
    },
    "289863b86a474bceb7533334e67071ef": {
     "views": []
    },
    "294847c277914c569c1ff4bff3d3d033": {
     "views": []
    },
    "29aa9698a9c2454d9d2eec7e57f82472": {
     "views": []
    },
    "2a1a01e833be446d849af6cee51c6de4": {
     "views": []
    },
    "2a2c4484f3404d6fb909bfc77a88a572": {
     "views": [
      {
       "cell_index": 3
      }
     ]
    },
    "2a41b197c85b43799fd00cb5108c9e73": {
     "views": []
    },
    "2b218c2e618042beb5d87183f6cf387c": {
     "views": []
    },
    "2b28014143d34ef5baf7e356cad062c8": {
     "views": []
    },
    "2b4debc96ca44eb89faf1cf3508efc08": {
     "views": []
    },
    "2b5f440982c941b4bd9337fbe8a6c259": {
     "views": [
      {
       "cell_index": 3
      }
     ]
    },
    "2b648da69a40495d91f41f6608a80eed": {
     "views": [
      {
       "cell_index": 3
      }
     ]
    },
    "2c28008121244f1999882559c27412bc": {
     "views": []
    },
    "2c4dfb23e4824b2ca49cbbf82c8b2bf6": {
     "views": []
    },
    "2ea6a8daf9bf4fa7b305110e7652bb19": {
     "views": []
    },
    "2ebb57bbd89d4f5d85fc811511df3138": {
     "views": [
      {
       "cell_index": 3
      }
     ]
    },
    "2ec3268d5251449c9d15bb3c12d2bc32": {
     "views": []
    },
    "2f132eea2dcf470388d0acec5eb4197a": {
     "views": []
    },
    "2f370a2a59b9429ca31eaf1f79271dcb": {
     "views": []
    },
    "2f4c878bb0e04ee3b956e63e7e8597dd": {
     "views": [
      {
       "cell_index": 3
      }
     ]
    },
    "2fc0f9e9c58e47dbbcfb3c335bf6943c": {
     "views": []
    },
    "301c9c731194428580dd0c7febc82b91": {
     "views": []
    },
    "30aff9c653a441349cd6320c787bb835": {
     "views": []
    },
    "31b87ce995ff47858be8d094aef81f5b": {
     "views": []
    },
    "3214b70a80054e488b250c810a1360c1": {
     "views": []
    },
    "328904c1d5f84132a64bc8cbed128ca3": {
     "views": []
    },
    "33c70cf0f20340018cabef577a32d624": {
     "views": [
      {
       "cell_index": 3
      }
     ]
    },
    "34ce9cf17b8b4a2e85799591de1e465c": {
     "views": []
    },
    "34cee8b5bf6848e58a7a6ae021cdc9cc": {
     "views": []
    },
    "34d4f22ff9de4ab894fbbe22790c2d50": {
     "views": []
    },
    "353fac0344f24885a707dd25098af43a": {
     "views": []
    },
    "3579d58e5a9c4612a687c069b48af9e1": {
     "views": []
    },
    "35ec6dbd8a9942ff988e96208c12437d": {
     "views": []
    },
    "36c0bf59d7eb43dc8c084d00626a6900": {
     "views": []
    },
    "36d5cbc386e047239fe14cc1989dac73": {
     "views": [
      {
       "cell_index": 3
      }
     ]
    },
    "36e478b5689a4483aab599bdee9d5ecf": {
     "views": []
    },
    "37bf3aae5a6d4179acc78500ee806712": {
     "views": []
    },
    "3807d4aa223444d9b6c4ef16966e5cb4": {
     "views": []
    },
    "381b67254316498fb37ca3cd7aeb5996": {
     "views": []
    },
    "38844677fb3f4345bc0425463c4721a0": {
     "views": []
    },
    "38efebe51aee433e9a729e6f198895e3": {
     "views": []
    },
    "395f5f8841874dac8e03b7de67dfa644": {
     "views": []
    },
    "397a4256a36e43d0be1005ee169ac253": {
     "views": []
    },
    "39ec0c2afca94c24a618b4505badfc84": {
     "views": []
    },
    "3a29bb1b0d6041ec9eef7eaae8b943e9": {
     "views": []
    },
    "3a481cd225cf446c912f5d8a4c0cf2df": {
     "views": []
    },
    "3a4d02f42bac42258404f32c8b97ca18": {
     "views": []
    },
    "3ba3cd643a6249c8b6015f7514fa0ff8": {
     "views": []
    },
    "3c73612e96f84f2898ad92db908a72b0": {
     "views": []
    },
    "3cf32433f91a46308420792b977cf6cc": {
     "views": []
    },
    "3d23fc63fa0e4ae08db0c0d9158a3c6b": {
     "views": []
    },
    "3d2a9c896840475aa4b1fd75f2c900ed": {
     "views": []
    },
    "3d90db1e68164ddb8a94867f1c61455b": {
     "views": []
    },
    "3e6bcde51c9a499cb3ca346b0cb21838": {
     "views": []
    },
    "3e99ca9fa9b34c9a9d613f8141e80344": {
     "views": []
    },
    "3ee2de21deab40c88e34d2995909c2f0": {
     "views": []
    },
    "3f5a72baed924b50a9139ec32b4e8180": {
     "views": []
    },
    "3f6dff007dbe4ddeba44bbcb2f125509": {
     "views": [
      {
       "cell_index": 3
      }
     ]
    },
    "409bc65d200a4d2cba95c2a5cce6f2d4": {
     "views": []
    },
    "40ab1394cb3b44e1a372a920706369ca": {
     "views": []
    },
    "415fecd5927448b5aaeba37e36268c24": {
     "views": []
    },
    "420ea06ab61042d7a6bd7a608f755d44": {
     "views": []
    },
    "42286a28f32040b386c9f46bf6b01d3d": {
     "views": [
      {
       "cell_index": 3
      }
     ]
    },
    "4233f5dc92da4d2c9dea4b9fca05bf6b": {
     "views": []
    },
    "437090772eef4596a9044609d4a1dc8c": {
     "views": []
    },
    "44215464a63d4b4f9c7ac69748f65dd7": {
     "views": [
      {
       "cell_index": 3
      }
     ]
    },
    "450e035108e54ecebbbd136ad0de9450": {
     "views": [
      {
       "cell_index": 3
      }
     ]
    },
    "455d7bf97bb14ed783d9e417805804f8": {
     "views": []
    },
    "457aea4c7cf54cacb6d6275bf767df9a": {
     "views": []
    },
    "45be23ee2abe47a1ba8e1fc96a06cae2": {
     "views": []
    },
    "45efd7168ff84f95b75f1f9673ce97d2": {
     "views": [
      {
       "cell_index": 3
      }
     ]
    },
    "4669ccfed5cb46199bd35b608d391da8": {
     "views": []
    },
    "46b3c97349ff432183477dc39777d743": {
     "views": []
    },
    "46d6f6ca198e43fe943d49c0df23ce81": {
     "views": []
    },
    "47c799a00a53444fba81310b26026b93": {
     "views": []
    },
    "48eb51aa82c34cd0a69a5329540cfea3": {
     "views": []
    },
    "491b8395d1e64de8840bbba29ccb9a46": {
     "views": []
    },
    "49a7681830474a998ac5174ac0668d08": {
     "views": []
    },
    "49fc100a88784f13a41f8c52524384a8": {
     "views": []
    },
    "4a40895b8d444263b36263678b52f4a4": {
     "views": []
    },
    "4a7355f7c2944d23be91a03b1c5711ce": {
     "views": []
    },
    "4b10d003134948d0a215c2835b3b82ff": {
     "views": []
    },
    "4b4b719c774142779eff331f34f187e0": {
     "views": []
    },
    "4b5a556d515d424ca65ab2e56ffbefb4": {
     "views": [
      {
       "cell_index": 3
      }
     ]
    },
    "4b9c71c8603a4cc59335b07645bcdb83": {
     "views": []
    },
    "4b9de2d4573a432ba58a6622dbd9e910": {
     "views": []
    },
    "4b9e459c487d458a86542d84a00af920": {
     "views": []
    },
    "4bd09ee2878d4fa0be852ca7481da071": {
     "views": []
    },
    "4bdc42a5700141f4b6df5d19445298d4": {
     "views": []
    },
    "4bf448c1cac544b68fe21be844a9fa8c": {
     "views": []
    },
    "4ccfb2eda4db4acd8c499d4df08a8d3c": {
     "views": []
    },
    "4d536ee293c444e8984268b75b8d78ff": {
     "views": []
    },
    "4db44ccaf05b4fe697ad3b38c0368efa": {
     "views": []
    },
    "4de9efae96654c028e7dde8caf416978": {
     "views": []
    },
    "4e1eb78150834b758672dcc995cdc7af": {
     "views": []
    },
    "4ffb33c9674446b1a0427a6bc567843b": {
     "views": []
    },
    "50060148790d47cfaecbda208eafab3c": {
     "views": [
      {
       "cell_index": 3
      }
     ]
    },
    "50af02c70acb484980557f59eff7a545": {
     "views": []
    },
    "51569b6b19c34c7dad7181e6b98e5fef": {
     "views": []
    },
    "51b5f772a5d74512bcf5292e051b4e8d": {
     "views": []
    },
    "51d1c829f6654e5f8c97d293bc6d7c50": {
     "views": []
    },
    "52d88045dbf14b8c86dbf7a3be2a7e28": {
     "views": []
    },
    "53a601b4f33e4e43800810f61f5e25ad": {
     "views": []
    },
    "541a42add7b94bd7a6a6f415d978822e": {
     "views": []
    },
    "54474007e6f3453a84293203f65c57b4": {
     "views": [
      {
       "cell_index": 3
      }
     ]
    },
    "54b9e22e211c4e1ebd8e2e4d9b5a4481": {
     "views": []
    },
    "54c9cbd8779d432ba6cb6ebebf3d6119": {
     "views": []
    },
    "552449c3ba2c430e8883be285249fedf": {
     "views": []
    },
    "5623d2cedc894e8caf1e3557cb98fd22": {
     "views": []
    },
    "56712759c92c40b8bc0baac17a514f5b": {
     "views": []
    },
    "568a0281c7014b8b907fa53cc3973979": {
     "views": []
    },
    "56c50463dc0c4c78afa637c9fc145d1a": {
     "views": []
    },
    "56ca2de66e174f9e9e03272dae8ee19e": {
     "views": []
    },
    "5707d6f78c4d4319a159ae06397d734a": {
     "views": []
    },
    "574de0f0e29c403692db8ca5117a0318": {
     "views": []
    },
    "57974d816e2a4b758e0d592ac704073a": {
     "views": []
    },
    "58a8a27f05d3422ab0fbfa027865bf2d": {
     "views": []
    },
    "58b3318f45e24b30b10c87e295e64979": {
     "views": []
    },
    "58b7567b7b1547c0bb7fe1113e87dbf0": {
     "views": []
    },
    "593971c885824adaacf4a2acac7e2485": {
     "views": []
    },
    "59d303d7216f4576aa15f3b79fd848f4": {
     "views": []
    },
    "59dc7681136c4348acb9604cf0a9311d": {
     "views": []
    },
    "5a90684c22614bdf973dd7b1916c303c": {
     "views": []
    },
    "5b9611c4e39347d992e0b5c32d7497c6": {
     "views": [
      {
       "cell_index": 3
      }
     ]
    },
    "5c2ee8d17f1644a3ad3efc9631b84d3b": {
     "views": []
    },
    "5c4a523bf35d4e009cba6b53b9a4855a": {
     "views": []
    },
    "5cfe3a9114c44926a0d8561c98ee02f4": {
     "views": []
    },
    "5d6d7aecb17f49e8b04f9d03c65ddb94": {
     "views": [
      {
       "cell_index": 3
      }
     ]
    },
    "5d931e870731449c935a8ec8b95e4c58": {
     "views": []
    },
    "5da1d76d1bec44bdbce5dc7a44e8f3e6": {
     "views": []
    },
    "5ee270efeb03461bba25b455aaad0e74": {
     "views": []
    },
    "600467be1bd74623a198b3c069632089": {
     "views": []
    },
    "6015e6eb39d3491fba1d106ecae4bf40": {
     "views": []
    },
    "602a63fc10d8434bae07a0e954020e12": {
     "views": []
    },
    "603cfcac9a84469ab4e48d8f12329020": {
     "views": []
    },
    "60977543030240739eaab84f1b1b7a0a": {
     "views": []
    },
    "60a8b0cf12c94fa5a2f908cefbd4d27f": {
     "views": []
    },
    "60e9f10941f7459093e6063d103762c7": {
     "views": []
    },
    "6210dc2980c048ddb45edbbe395c3643": {
     "views": []
    },
    "628481a376594c06a39a024cd8abc295": {
     "views": []
    },
    "6292d47616744cc4af6db278b73ec6ea": {
     "views": []
    },
    "62941d3c6f7a4e8789d0edb2646d359b": {
     "views": []
    },
    "629aca78550d4ff4b2d37df2144b68df": {
     "views": []
    },
    "62b2defff5ac4551a2717a237dcd5dd0": {
     "views": [
      {
       "cell_index": 3
      }
     ]
    },
    "634cbbc053b04a8e84516a875cd59507": {
     "views": []
    },
    "635321c8a630431cb18d06d8b819b796": {
     "views": [
      {
       "cell_index": 3
      }
     ]
    },
    "637c352bc2ae4459a6e152e391fd8741": {
     "views": []
    },
    "640eacb8b5cc47eab0040ebb8a332432": {
     "views": []
    },
    "64c2c894597f4cc595526469d4066a79": {
     "views": []
    },
    "64c621040789415a99f4c98282cc3ab9": {
     "views": []
    },
    "65835bf917c24e24adbdbda55a976063": {
     "views": []
    },
    "65c6d9b76a024062b696113fa157bedf": {
     "views": [
      {
       "cell_index": 3
      }
     ]
    },
    "6603903d14894d0ab89e0210b44dc81b": {
     "views": [
      {
       "cell_index": 3
      }
     ]
    },
    "664e0788fb0c4724aa1d8fa439c66c85": {
     "views": []
    },
    "66daf877e2974753a0a32a67fedc9df6": {
     "views": []
    },
    "6778539a785540a9b640019d97afa073": {
     "views": []
    },
    "67a0144f8ea742e3877d99327d0a68fa": {
     "views": []
    },
    "68b20966d9044d1896a4c5141b95a1bc": {
     "views": []
    },
    "68c418168d88434f964b0b777fa5ba8c": {
     "views": []
    },
    "696566c872f54a3088da9eb76243db68": {
     "views": []
    },
    "698d2fd768ef4343973db03e39e16dca": {
     "views": []
    },
    "69f0b9fd5ccd423c892bbc29cea61f2f": {
     "views": []
    },
    "69fd862d3124407bb31605938de4065e": {
     "views": [
      {
       "cell_index": 3
      }
     ]
    },
    "6a3c42ea3adf4eb197f4ce7575b01c61": {
     "views": []
    },
    "6a809c7fea2c457b926cd696dd45cf6b": {
     "views": []
    },
    "6adc1e4b6d034e30ad9fed8b5ba69f3e": {
     "views": []
    },
    "6b1086d1de4344c5bdaacfc64aabfe09": {
     "views": []
    },
    "6bdc7997c4fa4ea194baf08d76f4becd": {
     "views": []
    },
    "6c130c1c153340a28374e8c09f9c8f2f": {
     "views": [
      {
       "cell_index": 3
      }
     ]
    },
    "6c2d49eda8224ed686dbfc59bd0f33f9": {
     "views": []
    },
    "6c8921a891254e7595b3aea9f09503bf": {
     "views": []
    },
    "6d30776394bf46f1998002bef57c9547": {
     "views": []
    },
    "6d88012559a345a0a79f8b9696c61fae": {
     "views": [
      {
       "cell_index": 3
      }
     ]
    },
    "6dbf31d6d0cb4d7c8d396db6281061af": {
     "views": []
    },
    "6e0ca10d41ee40408b731bf4b79ef872": {
     "views": []
    },
    "6eb1990530384e90ba9b2c05f35668ab": {
     "views": []
    },
    "6f824046ea4f448b8d7e618488c5f9fc": {
     "views": []
    },
    "6fc8b3e09a464f38b7836af1150f611c": {
     "views": []
    },
    "6ff58bad055449a9ad16bb0e596562b6": {
     "views": []
    },
    "70dcb72d1175405b8411e8e13d72b9a5": {
     "views": []
    },
    "71129217fa43452f97648b42c80928e1": {
     "views": [
      {
       "cell_index": 3
      }
     ]
    },
    "714e7e9a293e49d48f7d704d477899a4": {
     "views": []
    },
    "71e991d0afc14f0f843b20aecb91a634": {
     "views": []
    },
    "72587cfb77544f11b04113a9a83c410e": {
     "views": []
    },
    "73057e0894fa4059833e185abc334141": {
     "views": []
    },
    "735a276b7e7f4af2bc32f1dd01af6e39": {
     "views": []
    },
    "764ee54a33954c7690cb6052ffffa19e": {
     "views": []
    },
    "77bb3c93ad72462395320f9c6be2022e": {
     "views": []
    },
    "78320ecf837645d697723dd88b6ed738": {
     "views": []
    },
    "7925acbd53a54ae7a99c440508638dfc": {
     "views": []
    },
    "796cd3dbb53144e88404cd5070ae98b5": {
     "views": []
    },
    "7a6e2eeb2c76462fb30eb7617e5d60ba": {
     "views": []
    },
    "7a798233ee9d42338e06b0caaa5ce138": {
     "views": [
      {
       "cell_index": 3
      }
     ]
    },
    "7afb35f3a9f84f2a9d51918febb04e95": {
     "views": []
    },
    "7b04d12b3d34499ea49fb9b54db52166": {
     "views": []
    },
    "7b53a28519e4442596ff802a9b2e5bb7": {
     "views": []
    },
    "7ba6980301d84fbc8dc7db18850ddcb1": {
     "views": []
    },
    "7bcf5c95d2654a09a67c87df4e014909": {
     "views": []
    },
    "7c82a48d106f460693bbe5325edbe075": {
     "views": [
      {
       "cell_index": 3
      }
     ]
    },
    "7cc41d7b00604b80bda5c48706ff9517": {
     "views": []
    },
    "7d26769947ae4976ba3f26b4b8d32efe": {
     "views": []
    },
    "7d2ec07d3e984898b8c7a6fbb2307406": {
     "views": []
    },
    "7dd4060ca9cf463ca1f4e8b2930081ef": {
     "views": [
      {
       "cell_index": 3
      }
     ]
    },
    "7dfe0de21515417b8dc5ad7eb5a6e51b": {
     "views": []
    },
    "7e2184fec07e43d384c0830432349677": {
     "views": []
    },
    "7e4b243117eb4f088ddf546bf7335a65": {
     "views": []
    },
    "7e55312c889246af96a3b608d37e5de0": {
     "views": []
    },
    "7e5c1c1480c543098caa7caf1b42beae": {
     "views": [
      {
       "cell_index": 3
      }
     ]
    },
    "7f87f26db1334c799b3678072f7ff36c": {
     "views": []
    },
    "803d10b10b4f47119bc1eccd2b4965cc": {
     "views": []
    },
    "807775c207b84bca94119b4edefa2a2c": {
     "views": []
    },
    "809a42f65cd94fc88afc53c407f09508": {
     "views": []
    },
    "80fd542d56ae444399fe8c0abd9f9702": {
     "views": []
    },
    "8295b287b0af4c68bce039a2725df312": {
     "views": []
    },
    "829aba95a06f46bfa438ac7a3ea29dc7": {
     "views": []
    },
    "82ce2d3f44bb4fe4a17f88a6dec0a03e": {
     "views": []
    },
    "830911329e6f4893aed0c8f2557f4d15": {
     "views": []
    },
    "8341c29384de4cf2a448cb4afd4a6d29": {
     "views": []
    },
    "836e5ccfab754fcbb258a3bb8500a853": {
     "views": []
    },
    "839a4e9cc511459ebc4416fa51ee2472": {
     "views": []
    },
    "83a52a5e9b404444899b1f4558e1adde": {
     "views": [
      {
       "cell_index": 3
      }
     ]
    },
    "83dd6837bc7148b6853060651f576d60": {
     "views": []
    },
    "84554cdabb14433999d9a8de4ab9b925": {
     "views": []
    },
    "8470a102f8bc4a34a79c044b577b6ed3": {
     "views": [
      {
       "cell_index": 3
      }
     ]
    },
    "84ada5810b144cafb5228211f50a8b1f": {
     "views": []
    },
    "84b8d629ed304bc48172a8b90a1f139e": {
     "views": []
    },
    "855f4b666c3b4e5cb2af4b978928f1b4": {
     "views": []
    },
    "85c8e06dfd284120a0b3118b92ce496d": {
     "views": []
    },
    "85cfee386a3a44a19bdbceb935da7b56": {
     "views": []
    },
    "86615da4d454467788728474eb53278f": {
     "views": []
    },
    "86e3f24cf26d4e2daf800b9e711875e9": {
     "views": []
    },
    "87305b5e9a92498381fba0b9a2ba847c": {
     "views": []
    },
    "87db4037ea0b4de5bc14a78d3ff2975b": {
     "views": []
    },
    "885e6dcf175343ff912724097101af3e": {
     "views": []
    },
    "894df58e029240b899bf2457f066fbd3": {
     "views": []
    },
    "896a1c309dde45178d2a87d9071fb266": {
     "views": [
      {
       "cell_index": 3
      }
     ]
    },
    "8aae433853514aa199ee954bcb80dbef": {
     "views": [
      {
       "cell_index": 3
      }
     ]
    },
    "8b2cb3263f1f41bb9d62ad8565cf178a": {
     "views": []
    },
    "8b2d8d64d0a64380843f2820513baca2": {
     "views": []
    },
    "8b3f18dec6b8428d849558828a3df2db": {
     "views": []
    },
    "8d1c1458431a48a7974d44f5589a5549": {
     "views": []
    },
    "8d3fe8b2189244b284117fc15c4704e9": {
     "views": []
    },
    "8d6f20192b64485c86f436ce2f70eab9": {
     "views": []
    },
    "8d9de5c301f8418dbf79986aef054b2a": {
     "views": []
    },
    "8dfe3292c48c435196c50a295e53ec7d": {
     "views": [
      {
       "cell_index": 3
      }
     ]
    },
    "8e3c3c55e3c745eda75f0438a63f469b": {
     "views": []
    },
    "8e70b2f3d9fb4443aa66f4ea538a898c": {
     "views": []
    },
    "8f071403ff8f413e91624a90076c0055": {
     "views": []
    },
    "8f475d65dfc44045bc506943511ef99c": {
     "views": []
    },
    "90c0454a127b4f71872c0ffee17d676f": {
     "views": []
    },
    "90e76a50d0614e4f993b7c08f996631a": {
     "views": []
    },
    "9148e377ca1c42ffb0637f31037de29f": {
     "views": []
    },
    "924f4ab0573c4dd7bced1e68fdf0b619": {
     "views": []
    },
    "92693af39b7f44e2a77789b358fe9bc1": {
     "views": []
    },
    "92d4a3ee35c3402cb67341fde1ca069f": {
     "views": []
    },
    "92fb3dfca2bf4ff9ac37b1e29aac41bf": {
     "views": [
      {
       "cell_index": 3
      }
     ]
    },
    "930ec5d486da402c9742bc50a035dc4c": {
     "views": []
    },
    "943b806a09ab4ebda39f89c1b7eafad1": {
     "views": [
      {
       "cell_index": 3
      }
     ]
    },
    "945716d836f84c48826e1bd556d93e2f": {
     "views": []
    },
    "9472b1e62abf4910af793f920448d130": {
     "views": []
    },
    "950b17cba8ba42b18c766bef3eb3aab9": {
     "views": [
      {
       "cell_index": 3
      }
     ]
    },
    "9532b5bdd14049f18fc11528ccb8000b": {
     "views": [
      {
       "cell_index": 3
      }
     ]
    },
    "96267aa10f0b4714a4d7f9487bdd201d": {
     "views": []
    },
    "96353e183cb14d3299a59b61e4d39dbb": {
     "views": []
    },
    "963d82f5b7934f789a84cf2475324794": {
     "views": []
    },
    "9650ad2900454a28868a5d129d0f4a1d": {
     "views": [
      {
       "cell_index": 3
      }
     ]
    },
    "969b981ed18445e0875868c54865b4d5": {
     "views": [
      {
       "cell_index": 3
      }
     ]
    },
    "97114b7fe4de47eb82b8151eb59be8bd": {
     "views": []
    },
    "97f3ac7438944f9b96f8515c60e6af02": {
     "views": []
    },
    "983baecac2ea4d6e881d99751b1bd436": {
     "views": [
      {
       "cell_index": 3
      }
     ]
    },
    "987711926916403791296742482cc4c7": {
     "views": []
    },
    "98cc6e29e82c40b6b0e11654f92f50aa": {
     "views": [
      {
       "cell_index": 3
      }
     ]
    },
    "993fb0c02a1945d2b42fac432da2bc4b": {
     "views": []
    },
    "999ffd1b3b7f4b1388678b3dfee28a81": {
     "views": []
    },
    "9a6df583c29844f997450d13bebbfd39": {
     "views": []
    },
    "9b6f6c0c4d2e45f1b8a4fa25ca92fad7": {
     "views": []
    },
    "9bbb9f940fbb41a892a2e6610c3d4ede": {
     "views": []
    },
    "9c554b63c6f84bf7af3ea996b21e6b23": {
     "views": [
      {
       "cell_index": 3
      }
     ]
    },
    "9cc3b5d9b6b74041b81537b4320d8029": {
     "views": [
      {
       "cell_index": 3
      }
     ]
    },
    "9cd3e7d8431543538e1f6948b586cc8c": {
     "views": []
    },
    "9cd5d2a13a00444d9a4e72c3a54307c5": {
     "views": []
    },
    "9d9f2612c8144477a2634327c719d76f": {
     "views": []
    },
    "9e82c1bcacca448e84984d600221435b": {
     "views": []
    },
    "9efc12aa6e1f49c8ac21fb2ff831b99e": {
     "views": []
    },
    "9f66d71ac3414e8ba68dad73231f91f4": {
     "views": []
    },
    "9f8c176b723c4694883d1ea219d6ed34": {
     "views": []
    },
    "a0cc360bae804c148393e834115f2467": {
     "views": []
    },
    "a19d053ccda44933aee8853aec595712": {
     "views": []
    },
    "a24ea3e1b65c48fa8d045b70e50620d0": {
     "views": []
    },
    "a2a6c57e5f384318b911bcd0507dd186": {
     "views": []
    },
    "a2b6d55950544c6d97f9ede0cdc722f8": {
     "views": []
    },
    "a3a162c3d3b8462aba4889d746d15c05": {
     "views": []
    },
    "a3b454ab6dae43e184e1a0ca1b3be607": {
     "views": []
    },
    "a3c5032b1d764b95adddcc743be1404c": {
     "views": []
    },
    "a41bb6272d554a04bed97046191f353f": {
     "views": []
    },
    "a43c0c5b3e89484fbb4dd440f8e0b0ba": {
     "views": [
      {
       "cell_index": 3
      }
     ]
    },
    "a4456591e2fd47feae7e0836852e98cb": {
     "views": []
    },
    "a4e5016db9af40f4931bc2f9ac743a66": {
     "views": []
    },
    "a4f41d10087a417790ab153589c76447": {
     "views": [
      {
       "cell_index": 3
      }
     ]
    },
    "a4f947d1342f47d38661c93fc1ba9fab": {
     "views": []
    },
    "a50aa746e88b4952b210770b087992fb": {
     "views": [
      {
       "cell_index": 3
      }
     ]
    },
    "a5d727044a454dd48728bd67e37382f3": {
     "views": []
    },
    "a6b5177de27b4b4e99669c25e9f89521": {
     "views": []
    },
    "a6cbcf1fdcad4536871f3b9562251baa": {
     "views": []
    },
    "a70a40651b184a2186dd194ef2928d4a": {
     "views": []
    },
    "a7d2602749b14d53b430f7436ff125db": {
     "views": []
    },
    "a810230dd2014728893a74eb1af3eab6": {
     "views": [
      {
       "cell_index": 3
      }
     ]
    },
    "a8c61e609b5f49e88fd82944e0a08525": {
     "views": []
    },
    "a91e6f32b44b4bffa570d13af2ff6fad": {
     "views": []
    },
    "a931a52832b448239d3225a21faf2837": {
     "views": []
    },
    "a9fe77d73cea47c9be122b466d9bde09": {
     "views": []
    },
    "aa46ccfafac1494f98ccd3b387b38432": {
     "views": []
    },
    "aa592cfa107444b58f7fcd57fc579975": {
     "views": [
      {
       "cell_index": 3
      }
     ]
    },
    "aa828e8cb54e40bbb5a53192cbd0900f": {
     "views": [
      {
       "cell_index": 3
      }
     ]
    },
    "ab67f86f064242eea72a4e594426d88f": {
     "views": [
      {
       "cell_index": 3
      }
     ]
    },
    "ab74d78eb87c42eb91ec7cffbe81eb4c": {
     "views": [
      {
       "cell_index": 3
      }
     ]
    },
    "ab923902727e48b7aa6e2e241ebc0c08": {
     "views": []
    },
    "aba341dde100439bb6667a94564d6cd7": {
     "views": []
    },
    "ac173c3def514b0dbe213b25d00b9cf0": {
     "views": []
    },
    "acc4c8724fbe4428b5a7864966c61405": {
     "views": []
    },
    "acc606d23eb546068af506df2f0a3927": {
     "views": []
    },
    "ae75e4b621d44a9fb51fbca99721f820": {
     "views": []
    },
    "b1c058ec107f4004a23a59b86675e969": {
     "views": []
    },
    "b2f1cf63171b4fdeb53e8489b2cc64b3": {
     "views": []
    },
    "b3697a105f314e84b8985ea0cac0b656": {
     "views": []
    },
    "b37461c988e845b08b7534b7f0f28dbe": {
     "views": [
      {
       "cell_index": 3
      }
     ]
    },
    "b4e67786830f4e7fae66e89588c6fe70": {
     "views": []
    },
    "b54ea17840c7445c8a74f2e3c1a3f330": {
     "views": []
    },
    "b562779a2ec04118bf5fdcba537bd829": {
     "views": []
    },
    "b613fb4463914c608d4ed8a72086b62d": {
     "views": []
    },
    "b6c5c8cf138a440aabb105ef46789a2f": {
     "views": []
    },
    "b708aba5d71448b5a89a0ffe6db622d6": {
     "views": []
    },
    "b72ff675d54b4c4482013c9f248a544f": {
     "views": []
    },
    "b73fc4550e814fce94e94c7b8471cb23": {
     "views": [
      {
       "cell_index": 3
      }
     ]
    },
    "b7fea3585d8c4071b5d5d74b393303b1": {
     "views": []
    },
    "b805290c0b2a432fb0ec5e9de6c9efa6": {
     "views": []
    },
    "b83537d4af864a049e3439d807e9c1ae": {
     "views": []
    },
    "b8ac8794264d49d580543231b906eb9a": {
     "views": []
    },
    "b8b78b3a9f154438a87c8f32b6944bf2": {
     "views": []
    },
    "b909bcc7419448b1865199716ea912b0": {
     "views": []
    },
    "b92b1549f89a4aae9bc432bd76612345": {
     "views": [
      {
       "cell_index": 3
      }
     ]
    },
    "b99145c7abee4046a8d180c2af3aa103": {
     "views": []
    },
    "ba70fd566fab4d69b2a78e668b7ccda0": {
     "views": []
    },
    "baa9fcc9d2bc4d34a96123780e4cdfc3": {
     "views": []
    },
    "babf1af103c84d5c9657cfcba2e509b4": {
     "views": []
    },
    "bac1f71b94b84a11945128977ca754d0": {
     "views": []
    },
    "bb01563316134aa387d33d2e48876a7d": {
     "views": []
    },
    "bb876f259ebf4d58ab3fb7b17ac5b6b4": {
     "views": []
    },
    "bbeb6d87ca5241c698c6669b68dc3159": {
     "views": []
    },
    "bc067a5de3804996bceadd91573ff78e": {
     "views": []
    },
    "bc1ed57fd26141a08d1732f96b61eb5a": {
     "views": []
    },
    "bcb143b7f178483797630ee6c1b5ac9b": {
     "views": []
    },
    "bcc537eb8ad1418cbc13ad76da319003": {
     "views": []
    },
    "bcd94e348d464b9888ab07d16051fe70": {
     "views": []
    },
    "bcf702068c3f41db9140b8a1d7bca8aa": {
     "views": []
    },
    "bdc6ba28933b418a857b8d1ebbae4b75": {
     "views": [
      {
       "cell_index": 3
      }
     ]
    },
    "be9fb8b49ebc439397b57595f5d58fb2": {
     "views": []
    },
    "bffdc7f29e674158baf22cb0e1faaeee": {
     "views": []
    },
    "c0226ff00d0941edb54597066039fb10": {
     "views": []
    },
    "c080ae15e95b4458ab20031a7a68213e": {
     "views": []
    },
    "c0a4ac2534994193958140688cc1361b": {
     "views": []
    },
    "c0b85067e9fb4694ae65b9a56e8b58cf": {
     "views": []
    },
    "c11b49ca1812489498a5f9935b8344b4": {
     "views": []
    },
    "c29224cc2ce44137ba15988b723988db": {
     "views": []
    },
    "c3242a166bfd42a38cb46ca386f774f6": {
     "views": []
    },
    "c326c25fd95e403989eef926babafce6": {
     "views": []
    },
    "c3b25d082a1644bdb7e827872687b6f0": {
     "views": []
    },
    "c3cd793d74224f19854c77fe0ff84477": {
     "views": []
    },
    "c4cc85292e6641ab82eaf2da970d4725": {
     "views": []
    },
    "c4de9a26d8684909adee018b78650071": {
     "views": []
    },
    "c506390ee20e4399b204f93139b842d9": {
     "views": []
    },
    "c58f110b3a6b4a3daeeba51b759f0b2b": {
     "views": []
    },
    "c6746aa5868548c09d0d2c65e54f912a": {
     "views": []
    },
    "c72f13a2cea24603859d5596a800363b": {
     "views": []
    },
    "c8419065c2244ca9b254b1da5a103579": {
     "views": [
      {
       "cell_index": 3
      }
     ]
    },
    "c8455f5032124fe6bbbebcdbac7c9c40": {
     "views": []
    },
    "c866b39ba0aa4485b4cd79438c49209b": {
     "views": []
    },
    "c8b4f97a07674068af437947b25e81c5": {
     "views": []
    },
    "c8f926af1d9b473a99a372322d3c8b3c": {
     "views": []
    },
    "c917d0664f82409fbd5b51e21de14ae6": {
     "views": []
    },
    "c991b943eb8449a8a6e95440dd1a2f83": {
     "views": []
    },
    "c9e90964e8cc4edca8ded7efda905db7": {
     "views": []
    },
    "ca04e7d4ecff49deb7ec852d30a7b152": {
     "views": []
    },
    "ca643894ffa34ec99ed75394fd71080d": {
     "views": []
    },
    "ca99c59c330c4d51ae169d4afad0ca76": {
     "views": []
    },
    "cb01faf00e9149038df972c6fe48bdab": {
     "views": []
    },
    "cbcf32aaeebf4c0f867542e5013ba41d": {
     "views": []
    },
    "cc1c861c5e014f7ebccc45b3ba749603": {
     "views": [
      {
       "cell_index": 3
      }
     ]
    },
    "ccca7605927c4c33ba54577d8b234b33": {
     "views": []
    },
    "cdbde0daa7e44c62aef1aef7b7de5c9d": {
     "views": []
    },
    "cea61eb2c364404daeba3152be44203e": {
     "views": []
    },
    "cefbd49cf37c427abb409c6fb0124345": {
     "views": [
      {
       "cell_index": 3
      }
     ]
    },
    "d1ff90ffc3e244e2bdb8ebefcac9913e": {
     "views": []
    },
    "d258b0fa87d94e7b9e5738e93e3bd1be": {
     "views": [
      {
       "cell_index": 3
      }
     ]
    },
    "d285b41835274f90b70ee01d4a2aebcc": {
     "views": []
    },
    "d2a4dc05d3ec4b8e9e75ba88044771b4": {
     "views": [
      {
       "cell_index": 3
      }
     ]
    },
    "d2fd8df1eb4f4f179dff0fbf4506114c": {
     "views": []
    },
    "d366fc65af5548e4b9e4ed4454b6dd1e": {
     "views": []
    },
    "d3aea3f67faf4a9889d4d88e77cb9e89": {
     "views": []
    },
    "d3c3509d5b6345eb87fcb06e56da5b83": {
     "views": []
    },
    "d4bdd52b0d3f47d18d1fd5e740450852": {
     "views": []
    },
    "d4c6fded7d074244911a54079a334d85": {
     "views": []
    },
    "d4f8a467def047db9247188dd1aca639": {
     "views": []
    },
    "d50a5871876144a2b5b7f67f955d8ae7": {
     "views": []
    },
    "d5362227ef0a4dd69f2880df2db19458": {
     "views": []
    },
    "d5809334a26c41e68c73c3611da1191c": {
     "views": [
      {
       "cell_index": 3
      }
     ]
    },
    "d5bcbb097f8b49948b426b2d535ab2d2": {
     "views": []
    },
    "d618964d2bef41de926fb0a6ebeb6f56": {
     "views": []
    },
    "d7296abc23a84d35b08a343eae240b40": {
     "views": []
    },
    "d7733a21aff8421183f64a12f75bf03b": {
     "views": []
    },
    "d7adcebc657f47828f237fd937abc2a1": {
     "views": []
    },
    "d8306dfe6a95463da0fe367f527bb844": {
     "views": []
    },
    "d89ce98f6428489dbeb0786edc69cf16": {
     "views": []
    },
    "d9f8f1c9a8794c78957361c65d06f30f": {
     "views": []
    },
    "da85299fcfbd4d8c845ed53c08fa8b07": {
     "views": []
    },
    "db230df0d27741c3b64e56f6db1827f7": {
     "views": []
    },
    "db641c880a3b4d2b8c18cd6a0d44e1ac": {
     "views": []
    },
    "dbec1b8b0f8c48b8aa6099fe64cacc4f": {
     "views": []
    },
    "dc1337f003f74f7db9a9ce857f965ff1": {
     "views": []
    },
    "dc3353851f9549c78785b751ddd4ee66": {
     "views": [
      {
       "cell_index": 3
      }
     ]
    },
    "dc60d8d311fb45b7999cee2237d00e31": {
     "views": []
    },
    "dcd2e9e5c0dc4348a0d2c3f6cabdd625": {
     "views": []
    },
    "dcf7bc36a5994ba9abd4f466e74d97ab": {
     "views": [
      {
       "cell_index": 3
      }
     ]
    },
    "de1c12be2c174004a582e7561ad53d65": {
     "views": [
      {
       "cell_index": 3
      }
     ]
    },
    "de81f24928a646e999a65e3a3744f827": {
     "views": []
    },
    "de84a862d73445c8bc653eddfb5a36aa": {
     "views": []
    },
    "dec139bcea574163b3e9af20be2067de": {
     "views": []
    },
    "dede40cf910e4fdeb41a992dc9a3bc20": {
     "views": []
    },
    "e02fe5443e954a67805ef6eb641fbbdd": {
     "views": []
    },
    "e09f517408f7496aa80646d49a444bb9": {
     "views": []
    },
    "e0f83ea3c4084eee8e95154053353023": {
     "views": []
    },
    "e1347da54f1a44bc9f4301d31ef618be": {
     "views": []
    },
    "e16dfff7064c4d8c8974e30a020ea92c": {
     "views": []
    },
    "e1e966119285475283d00e54db6465d2": {
     "views": []
    },
    "e2bbfaf5b99e40398fef16bdf96dc03f": {
     "views": []
    },
    "e3d62b63ac25400e8fc670280ec6ec39": {
     "views": [
      {
       "cell_index": 3
      }
     ]
    },
    "e40b09091bc2485987f087418c7a8ef9": {
     "views": []
    },
    "e4dab44ba412420892eee0cea939ce7c": {
     "views": []
    },
    "e4f6e8bcba9a469c861f766b4f0c81f9": {
     "views": []
    },
    "e5239444228f4d4e94a80703ebb42120": {
     "views": []
    },
    "e5ba316110f84ca385787a46c8d3f9fd": {
     "views": []
    },
    "e60cd5dfd8b84286b9d8f77c61fa5e8a": {
     "views": []
    },
    "e675f042c7e646d0bb92960e9dbde4fc": {
     "views": [
      {
       "cell_index": 3
      }
     ]
    },
    "e6c0d41804f54aa49908c946bb2ef082": {
     "views": [
      {
       "cell_index": 3
      }
     ]
    },
    "e75b6779a3c04685a98993f0a4737b09": {
     "views": []
    },
    "e926cd7779c84954a91e1ba38c3eb686": {
     "views": []
    },
    "e976974c08e5402d82b6082f0e5ef689": {
     "views": []
    },
    "e99a15fa336f420abcaf7fe3031c0f8b": {
     "views": []
    },
    "ea9fd17b4994417b80563dc6041cd9f5": {
     "views": []
    },
    "eaca606949bc4c1392b98c8470fc05e2": {
     "views": []
    },
    "eae5dbb90f70456886d05bade22e3330": {
     "views": []
    },
    "eb4adf4d496d482e91fd8082e5704a9b": {
     "views": []
    },
    "eb6ccf6015bf44df899ee6e5922daf68": {
     "views": [
      {
       "cell_index": 3
      }
     ]
    },
    "ec40a878f8094a4f9cc4364b293d3b1c": {
     "views": []
    },
    "ec7a634b258e42ee8a8ae2faff66d4e6": {
     "views": []
    },
    "ecfb0f1eb78c482fb25e894ab05581d7": {
     "views": []
    },
    "ed3d9138bbe2420696abe4240eb4e968": {
     "views": []
    },
    "ed697a0522c149ba8c5b577cbbe21cb7": {
     "views": []
    },
    "ed9f6f597a234e549be2696fa5825721": {
     "views": [
      {
       "cell_index": 3
      }
     ]
    },
    "eda82c8714a74c2cb47bedcdac072ef7": {
     "views": []
    },
    "edc7ab0547f04a17b80f12ec137e60c8": {
     "views": []
    },
    "ee671b6188e94c9980dec6571cb69d9c": {
     "views": []
    },
    "efa79a29f4dc4669ae015431738574c0": {
     "views": [
      {
       "cell_index": 3
      }
     ]
    },
    "efafe4aee6fa4511a5848e9e79a84f87": {
     "views": []
    },
    "efd3cc948e0347f0b9de5c8032726dda": {
     "views": []
    },
    "f0133fcbab6a4456b09781923a6c6309": {
     "views": []
    },
    "f072d6a285924e86a809db7835a0ae63": {
     "views": []
    },
    "f0affa17cc32491cb562ce6a99dc2584": {
     "views": [
      {
       "cell_index": 3
      }
     ]
    },
    "f0e1cf48cd7b451c8124b32e607326b3": {
     "views": []
    },
    "f14f235f72f74c4da4f97603104557f6": {
     "views": []
    },
    "f1c839b777794635a732ab021d44fb77": {
     "views": []
    },
    "f268912f6a5a4ac0a101d8a8b0349a7e": {
     "views": [
      {
       "cell_index": 3
      }
     ]
    },
    "f268d5ad284045bc99d85414c7f9d1bf": {
     "views": []
    },
    "f3997aacd1a24f98a3acb0cd587b4e56": {
     "views": []
    },
    "f40b45ce88ef486b81c977c104be3715": {
     "views": []
    },
    "f40cde6c405d41fd914a8fba07a183d3": {
     "views": []
    },
    "f51c6a0d192a4950bd60449b07a9bdf4": {
     "views": []
    },
    "f537f5835bf64925bb5ad161749ddad5": {
     "views": []
    },
    "f571eaf778ad42bca1af6c7b306900e7": {
     "views": []
    },
    "f57d1dd619124bfe9a9fea9b05365ece": {
     "views": [
      {
       "cell_index": 3
      }
     ]
    },
    "f583fe04b22d4b33acf46be0c25b5f03": {
     "views": []
    },
    "f606b8e898ff495283802cee6be1b698": {
     "views": [
      {
       "cell_index": 3
      }
     ]
    },
    "f624b4b9931a450b955f52fe348a71f0": {
     "views": []
    },
    "f729982ef29b41518b14a25f842be622": {
     "views": [
      {
       "cell_index": 3
      }
     ]
    },
    "f76e3e0a77ee47a9ada4422b9ec9ebda": {
     "views": [
      {
       "cell_index": 3
      }
     ]
    },
    "f7a1b36e2bb245d396d8fc31b3727929": {
     "views": []
    },
    "f7a5712dc425453e98a2178d76ec2be0": {
     "views": []
    },
    "f85d47db533d47378e1e2e59ad20da37": {
     "views": []
    },
    "f8d8e9d87cb644afb2d5c79c20d14fec": {
     "views": [
      {
       "cell_index": 3
      }
     ]
    },
    "f94bcc0528314af98ca8c32662942fed": {
     "views": []
    },
    "f9d10d4c215e4b35a47c09f32927e576": {
     "views": [
      {
       "cell_index": 3
      }
     ]
    },
    "fa02e1e6c02f471c83180e1e9bc26503": {
     "views": []
    },
    "fa7a338905584f2e90df06c6ff98e648": {
     "views": []
    },
    "faaebd178e03421e9c456f764ef17fa5": {
     "views": []
    },
    "fac07465dd374c4facd582811276defb": {
     "views": []
    },
    "fb54e9fcbe534d298c897ff2390b4920": {
     "views": []
    },
    "fb9f9a21dfce4258937da9898db083ff": {
     "views": []
    },
    "fc12fe1f01ef41d7a21a9b5571e0c05e": {
     "views": []
    },
    "fc9cd65873d24b3b9ba4e3bbb29d811c": {
     "views": []
    },
    "fcd1344fe1ea4cf4ab70a38baa6805d0": {
     "views": [
      {
       "cell_index": 3
      }
     ]
    },
    "fcfbfbca35f84caea42f0e6fadee2184": {
     "views": [
      {
       "cell_index": 3
      }
     ]
    },
    "fd3097c392a3424cb35341a7c0879abf": {
     "views": []
    },
    "fd8c933f8f3a49efbd8d69d735bcd0e6": {
     "views": []
    },
    "fe592dac11db4b668c8a590f123bc54b": {
     "views": []
    },
    "fec2e584ef3841169f1125c9d964473b": {
     "views": []
    },
    "fed2cb86f8fb48de83fa6385bf7b8a14": {
     "views": []
    },
    "ff495966029d4d5db4bda20335b740bf": {
     "views": []
    },
    "ff9ab12fb9fb4f9fb99e1c1ea7d04a25": {
     "views": [
      {
       "cell_index": 3
      }
     ]
    },
    "ffa695dd1d98410280a52f43c388938c": {
     "views": []
    },
    "ffb080cd3c5c459fa7a25a9f35447073": {
     "views": []
    }
   },
   "version": "1.1.2"
  }
 },
 "nbformat": 4,
 "nbformat_minor": 2
}
