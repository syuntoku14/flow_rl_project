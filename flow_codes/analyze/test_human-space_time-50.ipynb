{
 "cells": [
  {
   "cell_type": "code",
   "execution_count": 1,
   "metadata": {},
   "outputs": [
    {
     "name": "stderr",
     "output_type": "stream",
     "text": [
      "Process STDOUT and STDERR is being redirected to /tmp/ray/session_2019-05-23_20-39-59_53860/logs.\n",
      "Waiting for redis server at 127.0.0.1:32108 to respond...\n",
      "Waiting for redis server at 127.0.0.1:10515 to respond...\n",
      "Warning: Capping object memory store to 20.0GB. To increase this further, specify `object_store_memory` when calling ray.init() or ray start.\n",
      "Starting the Plasma object store with 20.0 GB memory using /dev/shm.\n"
     ]
    },
    {
     "data": {
      "text/plain": [
       "{'node_ip_address': '10.138.0.2',\n",
       " 'object_store_addresses': ['/tmp/ray/session_2019-05-23_20-39-59_53860/sockets/plasma_store'],\n",
       " 'raylet_socket_names': ['/tmp/ray/session_2019-05-23_20-39-59_53860/sockets/raylet'],\n",
       " 'redis_address': '10.138.0.2:32108',\n",
       " 'webui_url': ''}"
      ]
     },
     "execution_count": 1,
     "metadata": {},
     "output_type": "execute_result"
    }
   ],
   "source": [
    "import os, sys, pickle\n",
    "import numpy as np\n",
    "import matplotlib.pyplot as plt\n",
    "%matplotlib inline\n",
    "\n",
    "from flow.utils.registry import make_create_env\n",
    "from flow.utils.rllib import FlowParamsEncoder, get_flow_params\n",
    "\n",
    "import gym, ray\n",
    "from ray.rllib.agents.ppo import PPOAgent, DEFAULT_CONFIG\n",
    "from ray.rllib.agents.ddpg import DDPGAgent, DEFAULT_CONFIG\n",
    "from ray.tune.registry import register_env\n",
    "from ray.tune.logger import pretty_print\n",
    "\n",
    "benchmark_name = 'multi_merge'\n",
    "exp_name = 'fixed_bugs'\n",
    "results_list = os.listdir('/headless/ray_results/' + exp_name)\n",
    "AGENT = 'HUMAN' # 'PPO' or 'DDPG' or 'HUMAN'\n",
    "num_cpus = 60\n",
    "num_trials = 50\n",
    "\n",
    "benchmark = __import__(\n",
    "    \"flow.benchmarks.%s\" % benchmark_name, fromlist=[\"flow_params\"])\n",
    "flow_params = benchmark.buffered_obs_flow_params\n",
    "\n",
    "ray.init(num_cpus=num_cpus, include_webui=False, ignore_reinit_error=True)"
   ]
  },
  {
   "cell_type": "code",
   "execution_count": 2,
   "metadata": {},
   "outputs": [
    {
     "name": "stderr",
     "output_type": "stream",
     "text": [
      " Starting SUMO on port 49739\n"
     ]
    }
   ],
   "source": [
    "horizon = flow_params['env'].horizon\n",
    "create_env, env_name = make_create_env(params=flow_params, version=0)\n",
    "env = create_env()"
   ]
  },
  {
   "cell_type": "code",
   "execution_count": 5,
   "metadata": {
    "scrolled": true
   },
   "outputs": [],
   "source": [
    "@ray.remote\n",
    "def evaluate(create_env, AGENT, config=None, env_name=None, checkpoint_path=None):\n",
    "    agent = None\n",
    "    if AGENT == 'PPO':\n",
    "        agent = PPOAgent(config=config, env=env_name)\n",
    "        agent.restore(checkpoint_path)\n",
    "        \n",
    "    env = create_env()\n",
    "    \n",
    "    left_length = env.k.scenario.edge_length('left')\n",
    "    car_length = 5.0\n",
    "    scale = 10\n",
    "    \n",
    "    # test until horizon\n",
    "    state = env.reset()\n",
    "    vel = []\n",
    "    outflow = []\n",
    "    for i in range(env.env_params.horizon):\n",
    "        # record the mean velocity\n",
    "        v = np.mean(env.k.vehicle.get_speed(env.k.vehicle.get_ids()))\n",
    "        vel.append(v)\n",
    "\n",
    "        # record the velocity map\n",
    "        ids = env.k.vehicle.get_ids()\n",
    "        vel_map_ = np.zeros(int(left_length)*scale)\n",
    "        for id_ in ids:\n",
    "            pos_ = np.round(env.k.vehicle.get_position(id_), decimals=1)\n",
    "            vel_ = env.k.vehicle.get_speed(id_)\n",
    "            pos_bottom = max(0, int((pos_-car_length/2.0)*scale))\n",
    "            pos_top = min(int(left_length)*scale, int((pos_+car_length/2.0)*scale))\n",
    "            if env.k.vehicle.get_edge(id_) == 'left':\n",
    "                vel_map_[pos_bottom:pos_top] = vel_            \n",
    "\n",
    "        # step the simulation\n",
    "        rl_ids = env.k.vehicle.get_rl_ids()\n",
    "        actions = {}\n",
    "        if AGENT != 'HUMAN':\n",
    "            for id_ in rl_ids:\n",
    "                action = agent.compute_action(state[id_])\n",
    "                actions.update({id_: action})\n",
    "        state, r, _, _ = env.step(actions)\n",
    "        outflow.append(env.k.vehicle.get_outflow_rate(100)) # measured by one min\n",
    "\n",
    "        if i == 0:\n",
    "            vel_map_list = vel_map_\n",
    "        else:\n",
    "            vel_map_list = np.vstack((vel_map_list, vel_map_))\n",
    "\n",
    "    outflow = outflow[-500:]\n",
    "    vel_map_list[vel_map_list==0.0] = np.nan\n",
    "\n",
    "    return vel, outflow, vel_map_list"
   ]
  },
  {
   "cell_type": "code",
   "execution_count": 6,
   "metadata": {},
   "outputs": [
    {
     "name": "stdout",
     "output_type": "stream",
     "text": [
      "CPU times: user 536 ms, sys: 14 ms, total: 550 ms\n",
      "Wall time: 55.7 s\n"
     ]
    }
   ],
   "source": [
    "%%time\n",
    "results = ray.get([evaluate.remote(create_env, AGENT) for _ in range(num_trials)])"
   ]
  },
  {
   "cell_type": "code",
   "execution_count": 7,
   "metadata": {},
   "outputs": [
    {
     "name": "stderr",
     "output_type": "stream",
     "text": [
      "/opt/conda/envs/flow/lib/python3.5/site-packages/ipykernel_launcher.py:11: RuntimeWarning: Mean of empty slice\n",
      "  # This is added back by InteractiveShellApp.init_path()\n"
     ]
    }
   ],
   "source": [
    "vel_list = []\n",
    "outflow_list = []\n",
    "vel_map_lists = []\n",
    "for vel, outflow, vel_map_list in results:\n",
    "    vel_list.append(vel)\n",
    "    outflow_list.append(outflow)\n",
    "    vel_map_lists.append(vel_map_list)\n",
    "    \n",
    "vel_mean = np.mean(vel_list, axis=0)\n",
    "outflow_mean = np.mean(outflow_list, axis=0)\n",
    "vel_map_mean = np.nanmean(vel_map_lists, axis=0)"
   ]
  },
  {
   "cell_type": "code",
   "execution_count": 9,
   "metadata": {},
   "outputs": [
    {
     "data": {
      "image/png": "[encoded data removed]",
      "text/plain": [
       "<Figure size 432x288 with 1 Axes>"
      ]
     },
     "metadata": {},
     "output_type": "display_data"
    }
   ],
   "source": [
    "vel_fig, ax = plt.subplots(nrows=1, ncols=1)\n",
    "ax.plot(vel_mean)\n",
    "title = AGENT + ' multi-agent mean velocity '+str(num_trials)+' trials'\n",
    "title = title + ' \\n trials mean velocity {:3f}'.format(np.mean(vel_mean))\n",
    "title = title + ' \\n trials mean outflow rate {:3f}'.format(np.mean(outflow_mean))\n",
    "ax.set_ylim((0, 25))\n",
    "ax.set_ylabel('system level mean velocity (m/s)')\n",
    "ax.set_xlabel('step')\n",
    "vel_fig.suptitle(title)\n",
    "plt.subplots_adjust(top=0.8)"
   ]
  },
  {
   "cell_type": "code",
   "execution_count": 11,
   "metadata": {},
   "outputs": [],
   "source": [
    "result_path = \"/headless/rl_project/flow_codes/result/\"\n",
    "\n",
    "if AGENT == 'HUMAN':\n",
    "    filename = 'HUMAN_'+str(num_trials)+'.png'\n",
    "    vel_dir = result_path + 'MultiMerge/' + AGENT + '/mean_velocity/'\n",
    "    space_dir = result_path + 'MultiMerge/' + AGENT + '/space_time_diagram/'\n",
    "os.makedirs(vel_dir, exist_ok=True)\n",
    "\n",
    "vel_fig.savefig(vel_dir + filename)"
   ]
  },
  {
   "cell_type": "code",
   "execution_count": 12,
   "metadata": {},
   "outputs": [],
   "source": [
    "data_path = \"/headless/rl_project/flow_codes/data/\"\n",
    "\n",
    "np.save(data_path + 'human_'+str(num_trials)+'_vel.npy', vel_mean)\n",
    "np.save(data_path + 'human_'+str(num_trials)+'_outflow.npy', outflow_mean)\n",
    "np.save(data_path + 'human_'+str(num_trials)+'_vel_map.npy', vel_map_mean)"
   ]
  }
 ],
 "metadata": {
  "kernelspec": {
   "display_name": "Python 3",
   "language": "python",
   "name": "python3"
  },
  "language_info": {
   "codemirror_mode": {
    "name": "ipython",
    "version": 3
   },
   "file_extension": ".py",
   "mimetype": "text/x-python",
   "name": "python",
   "nbconvert_exporter": "python",
   "pygments_lexer": "ipython3",
   "version": "3.5.2"
  },
  "varInspector": {
   "cols": {
    "lenName": "50",
    "lenType": "50",
    "lenVar": "50"
   },
   "kernels_config": {
    "python": {
     "delete_cmd_postfix": "",
     "delete_cmd_prefix": "del ",
     "library": "var_list.py",
     "varRefreshCmd": "print(var_dic_list())"
    },
    "r": {
     "delete_cmd_postfix": ") ",
     "delete_cmd_prefix": "rm(",
     "library": "var_list.r",
     "varRefreshCmd": "cat(var_dic_list()) "
    }
   },
   "types_to_exclude": [
    "module",
    "function",
    "builtin_function_or_method",
    "instance",
    "_Feature"
   ],
   "window_display": false
  },
  "widgets": {
   "state": {},
   "version": "1.1.2"
  }
 },
 "nbformat": 4,
 "nbformat_minor": 2
}
