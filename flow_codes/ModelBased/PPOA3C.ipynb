{
 "cells": [
  {
   "cell_type": "code",
   "execution_count": 1,
   "metadata": {},
   "outputs": [],
   "source": [
    "from ray.rllib.agents.a3c.a2c import A2CTrainer, A2C_DEFAULT_CONFIG\n",
    "from ray.rllib.agents.a3c.a3c_torch_policy_graph import A3CTorchPolicyGraph\n",
    "from ray.tune.registry import register_env\n",
    "from ray.rllib.evaluation.sample_batch import DEFAULT_POLICY_ID\n",
    "from ray import tune\n",
    "import ray, json\n",
    "from copy import deepcopy\n",
    "\n",
    "from flow.multiagent_envs import MultiWaveAttenuationPOEnv\n",
    "from flow.utils.registry import make_create_env\n",
    "from flow.utils.rllib import FlowParamsEncoder, get_flow_params"
   ]
  },
  {
   "cell_type": "code",
   "execution_count": 2,
   "metadata": {},
   "outputs": [],
   "source": [
    "num_cpus = 3\n",
    "num_rollouts = 3\n",
    "horizon = 750\n",
    "gae_lambda = 0.97\n",
    "step_size = 5e-4\n",
    "num_iter = 10\n",
    "benchmark_name = \"multi_merge\"\n",
    "exp_name = \"test_ir\""
   ]
  },
  {
   "cell_type": "code",
   "execution_count": 3,
   "metadata": {},
   "outputs": [
    {
     "data": {
      "text/plain": [
       "{'node_ip_address': '169.237.32.118',\n",
       " 'object_store_address': '/tmp/ray/session_2019-05-25_19-52-15_9233/sockets/plasma_store',\n",
       " 'raylet_socket_name': '/tmp/ray/session_2019-05-25_19-52-15_9233/sockets/raylet',\n",
       " 'redis_address': '169.237.32.118:61149',\n",
       " 'webui_url': None}"
      ]
     },
     "execution_count": 3,
     "metadata": {},
     "output_type": "execute_result"
    }
   ],
   "source": [
    "ray.init(num_cpus=num_cpus, logging_level=40, ignore_reinit_error=True)"
   ]
  },
  {
   "cell_type": "code",
   "execution_count": 4,
   "metadata": {},
   "outputs": [],
   "source": [
    "config = deepcopy(A2C_DEFAULT_CONFIG)\n",
    "config[\"use_pytorch\"] = True\n",
    "\n",
    "benchmark = __import__(\n",
    "            \"flow.benchmarks.%s\" % benchmark_name, fromlist=[\"flow_params\"])\n",
    "flow_params = benchmark.buffered_obs_flow_params\n",
    "\n",
    "# save the flow params for replay\n",
    "flow_json = json.dumps(\n",
    "    flow_params, cls=FlowParamsEncoder, sort_keys=True, indent=4)\n",
    "config['env_config']['flow_params'] = flow_json\n",
    "create_env, env_name = make_create_env(params=flow_params, version=0)\n",
    "register_env(env_name, create_env)\n",
    "env = create_env()\n",
    "default_policy = (A3CTorchPolicyGraph, env.observation_space, env.action_space, {})\n",
    "policy_graph = {DEFAULT_POLICY_ID: default_policy}\n",
    "config[\"multiagent\"] = {\n",
    "        'policy_graphs': policy_graph,\n",
    "        'policy_mapping_fn': tune.function(lambda agent_id: DEFAULT_POLICY_ID)\n",
    "    }"
   ]
  },
  {
   "cell_type": "code",
   "execution_count": 5,
   "metadata": {},
   "outputs": [
    {
     "name": "stderr",
     "output_type": "stream",
     "text": [
      "2019-05-25 19:50:11,005\tINFO policy_evaluator.py:728 -- Built policy map: {'default_policy': <ray.rllib.agents.a3c.a3c_torch_policy_graph.A3CTorchPolicyGraph object at 0x7fdbb84c4710>}\n",
      "2019-05-25 19:50:11,010\tINFO policy_evaluator.py:729 -- Built preprocessor map: {'default_policy': <ray.rllib.models.preprocessors.NoPreprocessor object at 0x7fdbb8f8ff28>}\n",
      "2019-05-25 19:50:11,013\tINFO policy_evaluator.py:343 -- Built filter map: {'default_policy': <ray.rllib.utils.filter.NoFilter object at 0x7fdbb8f9a358>}\n"
     ]
    }
   ],
   "source": [
    "agent = A2CTrainer(config, env_name)"
   ]
  },
  {
   "cell_type": "code",
   "execution_count": 6,
   "metadata": {},
   "outputs": [
    {
     "name": "stdout",
     "output_type": "stream",
     "text": [
      "\u001b[2m\u001b[36m(pid=9134)\u001b[0m Loading configuration... done.\n",
      "\u001b[2m\u001b[36m(pid=9134)\u001b[0m Success.\n",
      "\u001b[2m\u001b[36m(pid=9134)\u001b[0m Loading configuration... done.\n",
      "\u001b[2m\u001b[36m(pid=9136)\u001b[0m Loading configuration... done.\n",
      "\u001b[2m\u001b[36m(pid=9136)\u001b[0m Success.\n",
      "\u001b[2m\u001b[36m(pid=9136)\u001b[0m Loading configuration... done.\n",
      "\u001b[2m\u001b[36m(pid=9134)\u001b[0m Loading configuration... done.\n",
      "\u001b[2m\u001b[36m(pid=9134)\u001b[0m Success.\n",
      "\u001b[2m\u001b[36m(pid=9134)\u001b[0m Loading configuration... done.\n",
      "\u001b[2m\u001b[36m(pid=9136)\u001b[0m 2019-05-25 19:50:22,443\tINFO policy_evaluator.py:437 -- Generating sample batch of size 20\n",
      "\u001b[2m\u001b[36m(pid=9136)\u001b[0m Loading configuration... done.\n",
      "\u001b[2m\u001b[36m(pid=9136)\u001b[0m Success.\n",
      "\u001b[2m\u001b[36m(pid=9136)\u001b[0m Loading configuration... done.\n",
      "\u001b[2m\u001b[36m(pid=9136)\u001b[0m 2019-05-25 19:50:24,003\tINFO sampler.py:308 -- Raw obs from env: { 0: { 'flow_1.0': np.ndarray((12,), dtype=float32, min=0.0, max=1.0, mean=0.508),\n",
      "\u001b[2m\u001b[36m(pid=9136)\u001b[0m        'flow_1.1': np.ndarray((12,), dtype=float32, min=0.016, max=0.839, mean=0.193)}}\n",
      "\u001b[2m\u001b[36m(pid=9136)\u001b[0m 2019-05-25 19:50:24,004\tINFO sampler.py:309 -- Info return from env: {0: {'flow_1.0': {}, 'flow_1.1': {}}}\n",
      "\u001b[2m\u001b[36m(pid=9136)\u001b[0m 2019-05-25 19:50:24,004\tINFO sampler.py:407 -- Preprocessed obs: np.ndarray((12,), dtype=float32, min=0.016, max=0.839, mean=0.193)\n",
      "\u001b[2m\u001b[36m(pid=9136)\u001b[0m 2019-05-25 19:50:24,004\tINFO sampler.py:411 -- Filtered obs: np.ndarray((12,), dtype=float32, min=0.016, max=0.839, mean=0.193)\n",
      "\u001b[2m\u001b[36m(pid=9136)\u001b[0m 2019-05-25 19:50:24,006\tINFO sampler.py:525 -- Inputs to compute_actions():\n",
      "\u001b[2m\u001b[36m(pid=9136)\u001b[0m \n",
      "\u001b[2m\u001b[36m(pid=9136)\u001b[0m { 'default_policy': [ { 'data': { 'agent_id': 'flow_1.1',\n",
      "\u001b[2m\u001b[36m(pid=9136)\u001b[0m                                   'env_id': 0,\n",
      "\u001b[2m\u001b[36m(pid=9136)\u001b[0m                                   'info': {},\n",
      "\u001b[2m\u001b[36m(pid=9136)\u001b[0m                                   'obs': np.ndarray((12,), dtype=float32, min=0.016, max=0.839, mean=0.193),\n",
      "\u001b[2m\u001b[36m(pid=9136)\u001b[0m                                   'prev_action': np.ndarray((1,), dtype=float32, min=0.0, max=0.0, mean=0.0),\n",
      "\u001b[2m\u001b[36m(pid=9136)\u001b[0m                                   'prev_reward': 0.0,\n",
      "\u001b[2m\u001b[36m(pid=9136)\u001b[0m                                   'rnn_state': []},\n",
      "\u001b[2m\u001b[36m(pid=9136)\u001b[0m                         'type': 'PolicyEvalData'},\n",
      "\u001b[2m\u001b[36m(pid=9136)\u001b[0m                       { 'data': { 'agent_id': 'flow_1.0',\n",
      "\u001b[2m\u001b[36m(pid=9136)\u001b[0m                                   'env_id': 0,\n",
      "\u001b[2m\u001b[36m(pid=9136)\u001b[0m                                   'info': {},\n",
      "\u001b[2m\u001b[36m(pid=9136)\u001b[0m                                   'obs': np.ndarray((12,), dtype=float32, min=0.0, max=1.0, mean=0.508),\n",
      "\u001b[2m\u001b[36m(pid=9136)\u001b[0m                                   'prev_action': np.ndarray((1,), dtype=float32, min=0.0, max=0.0, mean=0.0),\n",
      "\u001b[2m\u001b[36m(pid=9136)\u001b[0m                                   'prev_reward': 0.0,\n",
      "\u001b[2m\u001b[36m(pid=9136)\u001b[0m                                   'rnn_state': []},\n",
      "\u001b[2m\u001b[36m(pid=9136)\u001b[0m                         'type': 'PolicyEvalData'}]}\n",
      "\u001b[2m\u001b[36m(pid=9136)\u001b[0m \n",
      "\u001b[2m\u001b[36m(pid=9136)\u001b[0m 2019-05-25 19:50:24,022\tINFO sampler.py:552 -- Outputs of compute_actions():\n",
      "\u001b[2m\u001b[36m(pid=9136)\u001b[0m \n",
      "\u001b[2m\u001b[36m(pid=9136)\u001b[0m { 'default_policy': ( np.ndarray((2, 1), dtype=float32, min=-0.352, max=0.594, mean=0.121),\n",
      "\u001b[2m\u001b[36m(pid=9136)\u001b[0m                       [],\n",
      "\u001b[2m\u001b[36m(pid=9136)\u001b[0m                       { 'vf_preds': np.ndarray((2,), dtype=float32, min=-0.09, max=0.121, mean=0.016)})}\n",
      "\u001b[2m\u001b[36m(pid=9136)\u001b[0m \n",
      "\u001b[2m\u001b[36m(pid=9136)\u001b[0m 2019-05-25 19:50:24,520\tINFO sample_batch_builder.py:161 -- Trajectory fragment after postprocess_trajectory():\n",
      "\u001b[2m\u001b[36m(pid=9136)\u001b[0m \n",
      "\u001b[2m\u001b[36m(pid=9136)\u001b[0m { 'flow_1.0': { 'data': { 'actions': np.ndarray((20, 1), dtype=float32, min=-2.486, max=1.563, mean=-0.071),\n",
      "\u001b[2m\u001b[36m(pid=9136)\u001b[0m                           'advantages': np.ndarray((20,), dtype=float32, min=-5.612, max=-0.292, mean=-3.096),\n",
      "\u001b[2m\u001b[36m(pid=9136)\u001b[0m                           'agent_index': np.ndarray((20,), dtype=int64, min=1.0, max=1.0, mean=1.0),\n",
      "\u001b[2m\u001b[36m(pid=9136)\u001b[0m                           'dones': np.ndarray((20,), dtype=bool, min=0.0, max=0.0, mean=0.0),\n",
      "\u001b[2m\u001b[36m(pid=9136)\u001b[0m                           'eps_id': np.ndarray((20,), dtype=int64, min=120875377.0, max=120875377.0, mean=120875377.0),\n",
      "\u001b[2m\u001b[36m(pid=9136)\u001b[0m                           'infos': np.ndarray((20,), dtype=object, head={'mean_vel': 18.57710320265973, 'cost2': 0.0, 'cost1': 0.6585099526248288, 'outflow': 445.5445544554455}),\n",
      "\u001b[2m\u001b[36m(pid=9136)\u001b[0m                           'new_obs': np.ndarray((20, 12), dtype=float32, min=-0.044, max=1.0, mean=0.516),\n",
      "\u001b[2m\u001b[36m(pid=9136)\u001b[0m                           'obs': np.ndarray((20, 12), dtype=float32, min=-0.023, max=1.0, mean=0.512),\n",
      "\u001b[2m\u001b[36m(pid=9136)\u001b[0m                           'prev_actions': np.ndarray((20, 1), dtype=float32, min=-1.958, max=1.563, mean=0.054),\n",
      "\u001b[2m\u001b[36m(pid=9136)\u001b[0m                           'prev_rewards': np.ndarray((20,), dtype=float32, min=-0.319, max=0.0, mean=-0.282),\n",
      "\u001b[2m\u001b[36m(pid=9136)\u001b[0m                           'rewards': np.ndarray((20,), dtype=float32, min=-0.319, max=-0.282, mean=-0.296),\n",
      "\u001b[2m\u001b[36m(pid=9136)\u001b[0m                           't': np.ndarray((20,), dtype=int64, min=0.0, max=19.0, mean=9.5),\n",
      "\u001b[2m\u001b[36m(pid=9136)\u001b[0m                           'unroll_id': np.ndarray((20,), dtype=int64, min=0.0, max=0.0, mean=0.0),\n",
      "\u001b[2m\u001b[36m(pid=9136)\u001b[0m                           'value_targets': np.ndarray((20,), dtype=float32, min=-5.701, max=-0.638, mean=-3.203),\n",
      "\u001b[2m\u001b[36m(pid=9136)\u001b[0m                           'vf_preds': np.ndarray((20,), dtype=float32, min=-0.346, max=-0.073, mean=-0.107)},\n",
      "\u001b[2m\u001b[36m(pid=9136)\u001b[0m                 'type': 'SampleBatch'},\n",
      "\u001b[2m\u001b[36m(pid=9136)\u001b[0m   'flow_1.1': { 'data': { 'actions': np.ndarray((20, 1), dtype=float32, min=-2.234, max=2.625, mean=0.014),\n",
      "\u001b[2m\u001b[36m(pid=9136)\u001b[0m                           'advantages': np.ndarray((20,), dtype=float32, min=-5.78, max=-0.293, mean=-3.274),\n",
      "\u001b[2m\u001b[36m(pid=9136)\u001b[0m                           'agent_index': np.ndarray((20,), dtype=int64, min=0.0, max=0.0, mean=0.0),\n",
      "\u001b[2m\u001b[36m(pid=9136)\u001b[0m                           'dones': np.ndarray((20,), dtype=bool, min=0.0, max=0.0, mean=0.0),\n",
      "\u001b[2m\u001b[36m(pid=9136)\u001b[0m                           'eps_id': np.ndarray((20,), dtype=int64, min=120875377.0, max=120875377.0, mean=120875377.0),\n",
      "\u001b[2m\u001b[36m(pid=9136)\u001b[0m                           'infos': np.ndarray((20,), dtype=object, head={'mean_vel': 18.57710320265973, 'cost2': 0.0, 'cost1': 0.6585099526248288, 'outflow': 445.5445544554455}),\n",
      "\u001b[2m\u001b[36m(pid=9136)\u001b[0m                           'new_obs': np.ndarray((20, 12), dtype=float32, min=-0.044, max=1.0, mean=0.199),\n",
      "\u001b[2m\u001b[36m(pid=9136)\u001b[0m                           'obs': np.ndarray((20, 12), dtype=float32, min=-0.023, max=1.0, mean=0.195),\n",
      "\u001b[2m\u001b[36m(pid=9136)\u001b[0m                           'prev_actions': np.ndarray((20, 1), dtype=float32, min=-1.083, max=2.625, mean=0.125),\n",
      "\u001b[2m\u001b[36m(pid=9136)\u001b[0m                           'prev_rewards': np.ndarray((20,), dtype=float32, min=-0.319, max=0.0, mean=-0.282),\n",
      "\u001b[2m\u001b[36m(pid=9136)\u001b[0m                           'rewards': np.ndarray((20,), dtype=float32, min=-0.319, max=-0.282, mean=-0.296),\n",
      "\u001b[2m\u001b[36m(pid=9136)\u001b[0m                           't': np.ndarray((20,), dtype=int64, min=0.0, max=19.0, mean=9.5),\n",
      "\u001b[2m\u001b[36m(pid=9136)\u001b[0m                           'unroll_id': np.ndarray((20,), dtype=int64, min=0.0, max=0.0, mean=0.0),\n",
      "\u001b[2m\u001b[36m(pid=9136)\u001b[0m                           'value_targets': np.ndarray((20,), dtype=float32, min=-5.659, max=-0.587, mean=-3.157),\n",
      "\u001b[2m\u001b[36m(pid=9136)\u001b[0m                           'vf_preds': np.ndarray((20,), dtype=float32, min=-0.294, max=0.19, mean=0.117)},\n",
      "\u001b[2m\u001b[36m(pid=9136)\u001b[0m                 'type': 'SampleBatch'},\n",
      "\u001b[2m\u001b[36m(pid=9136)\u001b[0m   'flow_1.2': { 'data': { 'actions': np.ndarray((5, 1), dtype=float32, min=-1.217, max=1.061, mean=0.021),\n",
      "\u001b[2m\u001b[36m(pid=9136)\u001b[0m                           'advantages': np.ndarray((5,), dtype=float32, min=-1.427, max=-0.284, mean=-0.855),\n",
      "\u001b[2m\u001b[36m(pid=9136)\u001b[0m                           'agent_index': np.ndarray((5,), dtype=int64, min=2.0, max=2.0, mean=2.0),\n",
      "\u001b[2m\u001b[36m(pid=9136)\u001b[0m                           'dones': np.ndarray((5,), dtype=bool, min=0.0, max=0.0, mean=0.0),\n",
      "\u001b[2m\u001b[36m(pid=9136)\u001b[0m                           'eps_id': np.ndarray((5,), dtype=int64, min=120875377.0, max=120875377.0, mean=120875377.0),\n",
      "\u001b[2m\u001b[36m(pid=9136)\u001b[0m                           'infos': np.ndarray((5,), dtype=object, head={'mean_vel': 18.964304352450203, 'cost2': 0.0, 'cost1': 0.6830976015853442, 'outflow': 465.5172413793103}),\n",
      "\u001b[2m\u001b[36m(pid=9136)\u001b[0m                           'new_obs': np.ndarray((5, 12), dtype=float32, min=-0.039, max=1.0, mean=0.297),\n",
      "\u001b[2m\u001b[36m(pid=9136)\u001b[0m                           'obs': np.ndarray((5, 12), dtype=float32, min=-0.013, max=1.0, mean=0.298),\n",
      "\u001b[2m\u001b[36m(pid=9136)\u001b[0m                           'prev_actions': np.ndarray((5, 1), dtype=float32, min=-1.217, max=1.061, mean=0.088),\n",
      "\u001b[2m\u001b[36m(pid=9136)\u001b[0m                           'prev_rewards': np.ndarray((5,), dtype=float32, min=-0.299, max=-0.283, mean=-0.289),\n",
      "\u001b[2m\u001b[36m(pid=9136)\u001b[0m                           'rewards': np.ndarray((5,), dtype=float32, min=-0.294, max=-0.282, mean=-0.286),\n",
      "\u001b[2m\u001b[36m(pid=9136)\u001b[0m                           't': np.ndarray((5,), dtype=int64, min=15.0, max=19.0, mean=17.0),\n",
      "\u001b[2m\u001b[36m(pid=9136)\u001b[0m                           'unroll_id': np.ndarray((5,), dtype=int64, min=0.0, max=0.0, mean=0.0),\n",
      "\u001b[2m\u001b[36m(pid=9136)\u001b[0m                           'value_targets': np.ndarray((5,), dtype=float32, min=-0.925, max=0.215, mean=-0.354),\n",
      "\u001b[2m\u001b[36m(pid=9136)\u001b[0m                           'vf_preds': np.ndarray((5,), dtype=float32, min=0.5, max=0.502, mean=0.501)},\n",
      "\u001b[2m\u001b[36m(pid=9136)\u001b[0m                 'type': 'SampleBatch'}}\n",
      "\u001b[2m\u001b[36m(pid=9136)\u001b[0m \n",
      "\u001b[2m\u001b[36m(pid=9136)\u001b[0m 2019-05-25 19:50:24,522\tINFO policy_evaluator.py:474 -- Completed sample batch:\n",
      "\u001b[2m\u001b[36m(pid=9136)\u001b[0m \n",
      "\u001b[2m\u001b[36m(pid=9136)\u001b[0m { 'data': { 'actions': np.ndarray((45, 1), dtype=float32, min=-2.486, max=2.625, mean=-0.023),\n",
      "\u001b[2m\u001b[36m(pid=9136)\u001b[0m             'advantages': np.ndarray((45,), dtype=float32, min=-5.78, max=-0.284, mean=-2.926),\n",
      "\u001b[2m\u001b[36m(pid=9136)\u001b[0m             'agent_index': np.ndarray((45,), dtype=int64, min=0.0, max=2.0, mean=0.667),\n",
      "\u001b[2m\u001b[36m(pid=9136)\u001b[0m             'dones': np.ndarray((45,), dtype=bool, min=0.0, max=0.0, mean=0.0),\n",
      "\u001b[2m\u001b[36m(pid=9136)\u001b[0m             'eps_id': np.ndarray((45,), dtype=int64, min=120875377.0, max=120875377.0, mean=120875377.0),\n",
      "\u001b[2m\u001b[36m(pid=9136)\u001b[0m             'infos': np.ndarray((45,), dtype=object, head={'mean_vel': 18.57710320265973, 'cost2': 0.0, 'cost1': 0.6585099526248288, 'outflow': 445.5445544554455}),\n",
      "\u001b[2m\u001b[36m(pid=9136)\u001b[0m             'new_obs': np.ndarray((45, 12), dtype=float32, min=-0.044, max=1.0, mean=0.351),\n",
      "\u001b[2m\u001b[36m(pid=9136)\u001b[0m             'obs': np.ndarray((45, 12), dtype=float32, min=-0.023, max=1.0, mean=0.347),\n",
      "\u001b[2m\u001b[36m(pid=9136)\u001b[0m             'prev_actions': np.ndarray((45, 1), dtype=float32, min=-1.958, max=2.625, mean=0.089),\n",
      "\u001b[2m\u001b[36m(pid=9136)\u001b[0m             'prev_rewards': np.ndarray((45,), dtype=float32, min=-0.319, max=0.0, mean=-0.283),\n",
      "\u001b[2m\u001b[36m(pid=9136)\u001b[0m             'rewards': np.ndarray((45,), dtype=float32, min=-0.319, max=-0.282, mean=-0.295),\n",
      "\u001b[2m\u001b[36m(pid=9136)\u001b[0m             't': np.ndarray((45,), dtype=int64, min=0.0, max=19.0, mean=10.333),\n",
      "\u001b[2m\u001b[36m(pid=9136)\u001b[0m             'unroll_id': np.ndarray((45,), dtype=int64, min=0.0, max=0.0, mean=0.0),\n",
      "\u001b[2m\u001b[36m(pid=9136)\u001b[0m             'value_targets': np.ndarray((45,), dtype=float32, min=-5.701, max=0.215, mean=-2.866),\n",
      "\u001b[2m\u001b[36m(pid=9136)\u001b[0m             'vf_preds': np.ndarray((45,), dtype=float32, min=-0.346, max=0.502, mean=0.06)},\n",
      "\u001b[2m\u001b[36m(pid=9136)\u001b[0m   'type': 'SampleBatch'}\n",
      "\u001b[2m\u001b[36m(pid=9136)\u001b[0m \n"
     ]
    },
    {
     "name": "stderr",
     "output_type": "stream",
     "text": [
      "2019-05-25 19:50:26,233\tINFO policy_evaluator.py:564 -- Training on concatenated sample batches:\n",
      "\n",
      "{ 'data': { 'actions': np.ndarray((260, 1), dtype=float32, min=-2.662, max=2.625, mean=-0.05),\n",
      "            'advantages': np.ndarray((260,), dtype=float32, min=-7.812, max=0.081, mean=-3.402),\n",
      "            'agent_index': np.ndarray((260,), dtype=int64, min=0.0, max=2.0, mean=1.023),\n",
      "            'dones': np.ndarray((260,), dtype=bool, min=0.0, max=1.0, mean=0.008),\n",
      "            'eps_id': np.ndarray((260,), dtype=int64, min=120875377.0, max=1053936329.0, mean=583817157.031),\n",
      "            'infos': np.ndarray((260,), dtype=object, head={'cost2': 0.0, 'cost1': 0.6585099526248288, 'outflow': 445.5445544554455, 'mean_vel': 18.57710320265973}),\n",
      "            'new_obs': np.ndarray((260, 12), dtype=float32, min=-0.07, max=1.0, mean=0.357),\n",
      "            'obs': np.ndarray((260, 12), dtype=float32, min=-0.07, max=1.0, mean=0.355),\n",
      "            'prev_actions': np.ndarray((260, 1), dtype=float32, min=-2.662, max=2.625, mean=-0.055),\n",
      "            'prev_rewards': np.ndarray((260,), dtype=float32, min=-0.469, max=0.0, mean=-0.337),\n",
      "            'rewards': np.ndarray((260,), dtype=float32, min=-0.473, max=-0.282, mean=-0.344),\n",
      "            't': np.ndarray((260,), dtype=int64, min=0.0, max=59.0, mean=28.735),\n",
      "            'unroll_id': np.ndarray((260,), dtype=int64, min=0.0, max=2.0, mean=0.962),\n",
      "            'value_targets': np.ndarray((260,), dtype=float32, min=-7.942, max=0.215, mean=-3.442),\n",
      "            'vf_preds': np.ndarray((260,), dtype=float32, min=-0.377, max=0.503, mean=-0.039)},\n",
      "  'type': 'SampleBatch'}\n",
      "\n",
      "2019-05-25 19:50:26,388\tINFO policy_evaluator.py:586 -- Training output:\n",
      "\n",
      "{ 'learner_stats': { 'grad_gnorm': 413.9788674639231,\n",
      "                     'policy_entropy': 1.420404076576233,\n",
      "                     'policy_loss': -1214.93701171875,\n",
      "                     'vf_loss': 15.524774551391602}}\n",
      "\n",
      "/opt/conda/envs/flow-latest/lib/python3.5/site-packages/numpy/core/fromnumeric.py:3118: RuntimeWarning: Mean of empty slice.\n",
      "  out=out, **kwargs)\n",
      "/opt/conda/envs/flow-latest/lib/python3.5/site-packages/numpy/core/_methods.py:85: RuntimeWarning: invalid value encountered in double_scalars\n",
      "  ret = ret.dtype.type(ret / rcount)\n"
     ]
    },
    {
     "data": {
      "text/plain": [
       "{'config': {'batch_mode': 'truncate_episodes',\n",
       "  'callbacks': {'on_episode_end': None,\n",
       "   'on_episode_start': None,\n",
       "   'on_episode_step': None,\n",
       "   'on_postprocess_traj': None,\n",
       "   'on_sample_end': None,\n",
       "   'on_train_result': None},\n",
       "  'clip_actions': True,\n",
       "  'clip_rewards': None,\n",
       "  'collect_metrics_timeout': 180,\n",
       "  'compress_observations': False,\n",
       "  'custom_resources_per_worker': {},\n",
       "  'entropy_coeff': 0.01,\n",
       "  'env': 'MultiWaveAttenuationMergePOEnvBufferedObs-v0',\n",
       "  'env_config': {'flow_params': '{\\n    \"env\": {\\n        \"additional_params\": {\\n            \"FLOW_RATE\": 2000,\\n            \"FLOW_RATE_MERGE\": 100,\\n            \"RL_PENETRATION\": 0.1,\\n            \"buf_length\": 1,\\n            \"eta1\": 1.0,\\n            \"eta2\": 0.2,\\n            \"eta3\": 0.1,\\n            \"max_accel\": 3,\\n            \"max_decel\": 3,\\n            \"reward_scale\": 1.0,\\n            \"t_min\": 1.0,\\n            \"target_velocity\": 25\\n        },\\n        \"evaluate\": false,\\n        \"horizon\": 750,\\n        \"sims_per_step\": 2,\\n        \"warmup_steps\": 100\\n    },\\n    \"env_name\": \"MultiWaveAttenuationMergePOEnvBufferedObs\",\\n    \"exp_tag\": \"multi_merge\",\\n    \"initial\": {\\n        \"additional_params\": {},\\n        \"bunching\": 0,\\n        \"edges_distribution\": \"all\",\\n        \"lanes_distribution\": Infinity,\\n        \"min_gap\": 0,\\n        \"perturbation\": 0.0,\\n        \"shuffle\": false,\\n        \"spacing\": \"uniform\",\\n        \"x0\": 0\\n    },\\n    \"net\": {\\n        \"additional_params\": {\\n            \"highway_lanes\": 1,\\n            \"merge_lanes\": 1,\\n            \"merge_length\": 100,\\n            \"post_merge_length\": 100,\\n            \"pre_merge_length\": 600,\\n            \"speed_limit\": 30\\n        },\\n        \"inflows\": {\\n            \"_InFlows__flows\": [\\n                {\\n                    \"begin\": 1,\\n                    \"departLane\": \"free\",\\n                    \"departSpeed\": 10,\\n                    \"edge\": \"inflow_highway\",\\n                    \"end\": 2000000.0,\\n                    \"name\": \"flow_0\",\\n                    \"vehsPerHour\": 1800.0,\\n                    \"vtype\": \"human\"\\n                },\\n                {\\n                    \"begin\": 1,\\n                    \"departLane\": \"free\",\\n                    \"departSpeed\": 10,\\n                    \"edge\": \"inflow_highway\",\\n                    \"end\": 2000000.0,\\n                    \"name\": \"flow_1\",\\n                    \"vehsPerHour\": 200.0,\\n                    \"vtype\": \"rl\"\\n                },\\n                {\\n                    \"begin\": 1,\\n                    \"departLane\": \"free\",\\n                    \"departSpeed\": 7.5,\\n                    \"edge\": \"inflow_merge\",\\n                    \"end\": 2000000.0,\\n                    \"name\": \"flow_2\",\\n                    \"vehsPerHour\": 100,\\n                    \"vtype\": \"human\"\\n                }\\n            ],\\n            \"num_flows\": 3\\n        },\\n        \"netfile\": null,\\n        \"no_internal_links\": false,\\n        \"osm_path\": null\\n    },\\n    \"scenario\": \"MergeScenario\",\\n    \"sim\": {\\n        \"emission_path\": null,\\n        \"lateral_resolution\": null,\\n        \"no_step_log\": true,\\n        \"num_clients\": 1,\\n        \"overtake_right\": false,\\n        \"port\": null,\\n        \"print_warnings\": true,\\n        \"pxpm\": 2,\\n        \"render\": false,\\n        \"restart_instance\": true,\\n        \"save_render\": false,\\n        \"seed\": null,\\n        \"show_radius\": false,\\n        \"sight_radius\": 25,\\n        \"sim_step\": 0.2,\\n        \"teleport_time\": -1\\n    },\\n    \"simulator\": \"traci\",\\n    \"veh\": [\\n        {\\n            \"acceleration_controller\": [\\n                \"SimCarFollowingController\",\\n                {}\\n            ],\\n            \"car_following_params\": {\\n                \"controller_params\": {\\n                    \"accel\": 1.0,\\n                    \"carFollowModel\": \"IDM\",\\n                    \"decel\": 1.5,\\n                    \"impatience\": 0.5,\\n                    \"maxSpeed\": 30,\\n                    \"minGap\": 2.5,\\n                    \"sigma\": 0.5,\\n                    \"speedDev\": 0.1,\\n                    \"speedFactor\": 1.0,\\n                    \"tau\": 1.0\\n                },\\n                \"speed_mode\": 1\\n            },\\n            \"initial_speed\": 0,\\n            \"lane_change_controller\": [\\n                \"SimLaneChangeController\",\\n                {}\\n            ],\\n            \"lane_change_params\": {\\n                \"controller_params\": {\\n                    \"laneChangeModel\": \"LC2013\",\\n                    \"lcCooperative\": \"1.0\",\\n                    \"lcKeepRight\": \"1.0\",\\n                    \"lcSpeedGain\": \"1.0\",\\n                    \"lcStrategic\": \"1.0\"\\n                },\\n                \"lane_change_mode\": 512\\n            },\\n            \"num_vehicles\": 5,\\n            \"routing_controller\": null,\\n            \"veh_id\": \"human\"\\n        },\\n        {\\n            \"acceleration_controller\": [\\n                \"RLController\",\\n                {}\\n            ],\\n            \"car_following_params\": {\\n                \"controller_params\": {\\n                    \"accel\": 1.0,\\n                    \"carFollowModel\": \"IDM\",\\n                    \"decel\": 1.5,\\n                    \"impatience\": 0.5,\\n                    \"maxSpeed\": 30,\\n                    \"minGap\": 2.5,\\n                    \"sigma\": 0.5,\\n                    \"speedDev\": 0.1,\\n                    \"speedFactor\": 1.0,\\n                    \"tau\": 1.0\\n                },\\n                \"speed_mode\": 1\\n            },\\n            \"initial_speed\": 0,\\n            \"lane_change_controller\": [\\n                \"SimLaneChangeController\",\\n                {}\\n            ],\\n            \"lane_change_params\": {\\n                \"controller_params\": {\\n                    \"laneChangeModel\": \"LC2013\",\\n                    \"lcCooperative\": \"1.0\",\\n                    \"lcKeepRight\": \"1.0\",\\n                    \"lcSpeedGain\": \"1.0\",\\n                    \"lcStrategic\": \"1.0\"\\n                },\\n                \"lane_change_mode\": 512\\n            },\\n            \"num_vehicles\": 0,\\n            \"routing_controller\": null,\\n            \"veh_id\": \"rl\"\\n        }\\n    ]\\n}'},\n",
       "  'gamma': 0.99,\n",
       "  'grad_clip': 40.0,\n",
       "  'horizon': None,\n",
       "  'ignore_worker_failures': False,\n",
       "  'input': 'sampler',\n",
       "  'input_evaluation': ['is', 'wis'],\n",
       "  'lambda': 1.0,\n",
       "  'local_evaluator_tf_session_args': {'inter_op_parallelism_threads': 8,\n",
       "   'intra_op_parallelism_threads': 8},\n",
       "  'log_level': 'INFO',\n",
       "  'lr': 0.0001,\n",
       "  'lr_schedule': None,\n",
       "  'metrics_smoothing_episodes': 100,\n",
       "  'min_iter_time_s': 10,\n",
       "  'model': {'conv_activation': 'relu',\n",
       "   'conv_filters': None,\n",
       "   'custom_model': None,\n",
       "   'custom_options': {},\n",
       "   'custom_preprocessor': None,\n",
       "   'dim': 84,\n",
       "   'fcnet_activation': 'tanh',\n",
       "   'fcnet_hiddens': [256, 256],\n",
       "   'framestack': True,\n",
       "   'free_log_std': False,\n",
       "   'grayscale': False,\n",
       "   'lstm_cell_size': 256,\n",
       "   'lstm_use_prev_action_reward': False,\n",
       "   'max_seq_len': 20,\n",
       "   'squash_to_range': False,\n",
       "   'use_lstm': False,\n",
       "   'zero_mean': True},\n",
       "  'monitor': False,\n",
       "  'multiagent': {'policies_to_train': None,\n",
       "   'policy_graphs': {'default_policy': (ray.rllib.agents.a3c.a3c_torch_policy_graph.A3CTorchPolicyGraph,\n",
       "     Box(12,),\n",
       "     Box(1,),\n",
       "     {})},\n",
       "   'policy_mapping_fn': tune.function(<function <lambda> at 0x7fdc3c9a5ae8>)},\n",
       "  'num_cpus_for_driver': 1,\n",
       "  'num_cpus_per_worker': 1,\n",
       "  'num_envs_per_worker': 1,\n",
       "  'num_gpus': 0,\n",
       "  'num_gpus_per_worker': 0,\n",
       "  'num_workers': 2,\n",
       "  'observation_filter': 'NoFilter',\n",
       "  'optimizer': {},\n",
       "  'output': None,\n",
       "  'output_compress_columns': ['obs', 'new_obs'],\n",
       "  'output_max_file_size': 67108864,\n",
       "  'postprocess_inputs': False,\n",
       "  'preprocessor_pref': 'deepmind',\n",
       "  'remote_env_batch_wait_ms': 0,\n",
       "  'remote_worker_envs': False,\n",
       "  'sample_async': False,\n",
       "  'sample_batch_size': 20,\n",
       "  'shuffle_buffer_size': 0,\n",
       "  'soft_horizon': False,\n",
       "  'synchronize_filters': True,\n",
       "  'tf_session_args': {'allow_soft_placement': True,\n",
       "   'device_count': {'CPU': 1},\n",
       "   'gpu_options': {'allow_growth': True},\n",
       "   'inter_op_parallelism_threads': 2,\n",
       "   'intra_op_parallelism_threads': 2,\n",
       "   'log_device_placement': False},\n",
       "  'train_batch_size': 200,\n",
       "  'use_pytorch': True,\n",
       "  'vf_loss_coeff': 0.5},\n",
       " 'custom_metrics': {},\n",
       " 'date': '2019-05-25_19-50-26',\n",
       " 'done': False,\n",
       " 'episode_len_mean': nan,\n",
       " 'episode_reward_max': nan,\n",
       " 'episode_reward_mean': nan,\n",
       " 'episode_reward_min': nan,\n",
       " 'episodes_this_iter': 0,\n",
       " 'episodes_total': 0,\n",
       " 'experiment_id': 'be74886f702e4507931f1759646d98e4',\n",
       " 'hostname': 'kronos',\n",
       " 'info': {'grad_time_ms': 158.057,\n",
       "  'learner': {'grad_gnorm': 413.9788674639231,\n",
       "   'policy_entropy': 1.420404076576233,\n",
       "   'policy_loss': -1214.93701171875,\n",
       "   'vf_loss': 15.524774551391602},\n",
       "  'num_steps_sampled': 260,\n",
       "  'num_steps_trained': 260,\n",
       "  'opt_peak_throughput': 1644.976,\n",
       "  'opt_samples': 260.0,\n",
       "  'sample_peak_throughput': 24.072,\n",
       "  'sample_time_ms': 10801.036,\n",
       "  'update_time_ms': 2.94},\n",
       " 'iterations_since_restore': 1,\n",
       " 'node_ip': '169.237.32.118',\n",
       " 'num_healthy_workers': 2,\n",
       " 'num_metric_batches_dropped': 0,\n",
       " 'off_policy_estimator': {},\n",
       " 'pid': 9097,\n",
       " 'policy_reward_mean': {},\n",
       " 'sampler_perf': {},\n",
       " 'time_since_restore': 10.978700160980225,\n",
       " 'time_this_iter_s': 10.978700160980225,\n",
       " 'time_total_s': 10.978700160980225,\n",
       " 'timestamp': 1558813826,\n",
       " 'timesteps_since_restore': 260,\n",
       " 'timesteps_this_iter': 260,\n",
       " 'timesteps_total': 260,\n",
       " 'training_iteration': 1}"
      ]
     },
     "execution_count": 6,
     "metadata": {},
     "output_type": "execute_result"
    }
   ],
   "source": [
    "agent.train()"
   ]
  },
  {
   "cell_type": "code",
   "execution_count": 5,
   "metadata": {},
   "outputs": [
    {
     "data": {
      "text/plain": [
       "{'flow_1.0': array([0.87369645, 0.03827296, 0.05081967, 0.05117471, 0.05344194,\n",
       "        0.12477846, 1.        , 1.        , 1.        , 1.        ,\n",
       "        1.        , 0.        ], dtype=float32),\n",
       " 'flow_1.1': array([0.55678636, 0.03979726, 0.02676601, 0.03755222, 0.02405487,\n",
       "        0.53835654, 0.87369645, 0.03827296, 0.05081967, 0.05117471,\n",
       "        0.05344194, 0.12477846], dtype=float32)}"
      ]
     },
     "execution_count": 5,
     "metadata": {},
     "output_type": "execute_result"
    }
   ],
   "source": [
    "env.reset()"
   ]
  },
  {
   "cell_type": "code",
   "execution_count": 6,
   "metadata": {},
   "outputs": [
    {
     "data": {
      "text/plain": [
       "({'flow_1.0': array([0.8768942 , 0.03911753, 0.05128663, 0.05162269, 0.05406003,\n",
       "         0.11426529, 1.        , 1.        , 1.        , 1.        ,\n",
       "         1.        , 0.        ], dtype=float32),\n",
       "  'flow_1.1': array([0.56502277, 0.03925874, 0.02723876, 0.0368665 , 0.02449937,\n",
       "         0.5316009 , 0.8768942 , 0.03911753, 0.05128663, 0.05162269,\n",
       "         0.05406003, 0.11426529], dtype=float32)},\n",
       " {'flow_1.0': -0.326915748365307, 'flow_1.1': -0.326915748365307},\n",
       " {'__all__': False, 'flow_1.0': False, 'flow_1.1': False},\n",
       " {'flow_1.0': {'cost1': 0.6508070239119207,\n",
       "   'cost2': 0.0,\n",
       "   'mean_vel': 18.551605749902766,\n",
       "   'outflow': 445.5445544554455},\n",
       "  'flow_1.1': {'cost1': 0.6508070239119207,\n",
       "   'cost2': 0.0,\n",
       "   'mean_vel': 18.551605749902766,\n",
       "   'outflow': 445.5445544554455}})"
      ]
     },
     "execution_count": 6,
     "metadata": {},
     "output_type": "execute_result"
    }
   ],
   "source": [
    "env.step({})"
   ]
  }
 ],
 "metadata": {
  "kernelspec": {
   "display_name": "Python 3",
   "language": "python",
   "name": "python3"
  },
  "language_info": {
   "codemirror_mode": {
    "name": "ipython",
    "version": 3
   },
   "file_extension": ".py",
   "mimetype": "text/x-python",
   "name": "python",
   "nbconvert_exporter": "python",
   "pygments_lexer": "ipython3",
   "version": "3.5.2"
  },
  "varInspector": {
   "cols": {
    "lenName": "50",
    "lenType": "50",
    "lenVar": "50"
   },
   "kernels_config": {
    "python": {
     "delete_cmd_postfix": "",
     "delete_cmd_prefix": "del ",
     "library": "var_list.py",
     "varRefreshCmd": "print(var_dic_list())"
    },
    "r": {
     "delete_cmd_postfix": ") ",
     "delete_cmd_prefix": "rm(",
     "library": "var_list.r",
     "varRefreshCmd": "cat(var_dic_list()) "
    }
   },
   "types_to_exclude": [
    "module",
    "function",
    "builtin_function_or_method",
    "instance",
    "_Feature"
   ],
   "window_display": false
  },
  "widgets": {
   "state": {},
   "version": "1.1.2"
  }
 },
 "nbformat": 4,
 "nbformat_minor": 2
}
