{
 "cells": [
  {
   "cell_type": "code",
   "execution_count": 1,
   "metadata": {},
   "outputs": [],
   "source": [
    "from flow.core.params import SumoParams, EnvParams, \\\n",
    "    NetParams, InitialConfig, InFlows\n",
    "from flow.core.vehicles import Vehicles\n",
    "from flow.core.experiment import SumoExperiment\n",
    "from flow.scenarios.merge.gen import MergeGenerator\n",
    "from flow.scenarios.merge.scenario import MergeScenario, \\\n",
    "    ADDITIONAL_NET_PARAMS\n",
    "from flow.controllers import IDMController\n",
    "from flow.envs.merge import WaveAttenuationMergePOEnv, ADDITIONAL_ENV_PARAMS\n",
    "\n",
    "# inflow rate at the highway\n",
    "FLOW_RATE = 2000"
   ]
  },
  {
   "cell_type": "code",
   "execution_count": 2,
   "metadata": {},
   "outputs": [],
   "source": [
    "import torch\n",
    "import torch.nn as nn\n",
    "import torch.optim as optim\n",
    "import torch.nn.functional as F\n",
    "import torchvision.transforms as T"
   ]
  },
  {
   "cell_type": "code",
   "execution_count": 3,
   "metadata": {},
   "outputs": [
    {
     "data": {
      "text/plain": [
       "False"
      ]
     },
     "execution_count": 3,
     "metadata": {},
     "output_type": "execute_result"
    }
   ],
   "source": [
    "torch.cuda.is_available()"
   ]
  },
  {
   "cell_type": "markdown",
   "metadata": {},
   "source": [
    "# Initialize the Environment"
   ]
  },
  {
   "cell_type": "code",
   "execution_count": 3,
   "metadata": {},
   "outputs": [],
   "source": [
    "sumo_params = SumoParams(\n",
    "    sumo_binary=\"sumo-gui\",\n",
    "    emission_path=\"./data/\",\n",
    "    sim_step=0.2,\n",
    "    restart_instance=True)\n",
    "\n",
    "vehicles = Vehicles()\n",
    "vehicles.add(\n",
    "    veh_id=\"human\",\n",
    "    acceleration_controller=(IDMController, {\n",
    "        \"noise\": 0.2\n",
    "    }),\n",
    "    speed_mode=\"no_collide\",\n",
    "    num_vehicles=5)\n",
    "\n",
    "env_params = EnvParams(\n",
    "    additional_params=ADDITIONAL_ENV_PARAMS,\n",
    "    sims_per_step=5,\n",
    "    warmup_steps=0)\n",
    "\n",
    "inflow = InFlows()\n",
    "inflow.add(\n",
    "    veh_type=\"human\",\n",
    "    edge=\"inflow_highway\",\n",
    "    vehs_per_hour=FLOW_RATE,\n",
    "    departLane=\"free\",\n",
    "    departSpeed=10)\n",
    "inflow.add(\n",
    "    veh_type=\"human\",\n",
    "    edge=\"inflow_merge\",\n",
    "    vehs_per_hour=100,\n",
    "    departLane=\"free\",\n",
    "    departSpeed=7.5)\n",
    "\n",
    "additional_net_params = ADDITIONAL_NET_PARAMS.copy()\n",
    "additional_net_params[\"merge_lanes\"] = 1\n",
    "additional_net_params[\"highway_lanes\"] = 1\n",
    "additional_net_params[\"pre_merge_length\"] = 500\n",
    "net_params = NetParams(\n",
    "    in_flows=inflow,\n",
    "    no_internal_links=False,\n",
    "    additional_params=additional_net_params)\n",
    "\n",
    "initial_config = InitialConfig(spacing=\"uniform\", perturbation=5.0)\n",
    "\n",
    "scenario = MergeScenario(\n",
    "    name=\"merge-baseline\",\n",
    "    generator_class=MergeGenerator,\n",
    "    vehicles=vehicles,\n",
    "    net_params=net_params,\n",
    "    initial_config=initial_config)\n",
    "\n",
    "env = WaveAttenuationMergePOEnv(env_params, sumo_params, scenario)"
   ]
  },
  {
   "cell_type": "markdown",
   "metadata": {},
   "source": [
    "# States, Actions, Rewards, Terminates\n",
    "\n",
    "* States: The observation consists of the speeds and bumper-to-bumper headways of the vehicles immediately preceding and following autonomous vehicle, as well as the ego speed of the autonomous vehicles. In order to maintain a fixed observation size, when the number of AVs in the network is less than \"num_rl\", the extra entries are filled in with zeros. Conversely, if the number of autonomous vehicles is greater than \"num_rl\", the observations from the additional vehicles are not included in the state space.\n",
    "\n",
    "* Actions: The action space consists of a vector of bounded accelerations for each autonomous vehicle $i$. In order to ensure safety, these actions are bounded by failsafes provided by the simulator at every time step.  In order to account for variability in the number of autonomous vehicles, if n_AV < \"num_rl\" the additional actions provided by the agent are not assigned to any vehicle. Moreover, if n_AV > \"num_rl\", the additional vehicles are not provided with actions from the learning agent, and instead act as human-driven vehicles as well. \n",
    "\n",
    "* Rewards: The reward function encourages proximity of the system-level velocity to a desired velocity, while slightly penalizing small time headways among autonomous vehicles.\n",
    "\n",
    "* Termination: A rollout is terminated if the time horizon is reached or if two vehicles collide into one another."
   ]
  },
  {
   "cell_type": "code",
   "execution_count": 73,
   "metadata": {},
   "outputs": [],
   "source": [
    "state = env.reset()"
   ]
  },
  {
   "cell_type": "code",
   "execution_count": 128,
   "metadata": {},
   "outputs": [
    {
     "data": {
      "text/plain": [
       "(array([0, 0, 0, 0, 0, 0, 0, 0, 0, 0, 0, 0, 0, 0, 0, 0, 0, 0, 0, 0, 0, 0,\n",
       "        0, 0, 0]), 0.633883095776256, False, {})"
      ]
     },
     "execution_count": 128,
     "metadata": {},
     "output_type": "execute_result"
    }
   ],
   "source": [
    "env.step(0)"
   ]
  },
  {
   "cell_type": "code",
   "execution_count": 72,
   "metadata": {},
   "outputs": [],
   "source": [
    "env.close()"
   ]
  }
 ],
 "metadata": {
  "kernelspec": {
   "display_name": "Python 3",
   "language": "python",
   "name": "python3"
  },
  "language_info": {
   "codemirror_mode": {
    "name": "ipython",
    "version": 3
   },
   "file_extension": ".py",
   "mimetype": "text/x-python",
   "name": "python",
   "nbconvert_exporter": "python",
   "pygments_lexer": "ipython3",
   "version": "3.6.5"
  }
 },
 "nbformat": 4,
 "nbformat_minor": 2
}
